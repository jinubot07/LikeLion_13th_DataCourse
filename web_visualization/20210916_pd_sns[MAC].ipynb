{
 "cells": [
  {
   "cell_type": "markdown",
   "id": "d6e5ed3b",
   "metadata": {},
   "source": [
    "# "
   ]
  },
  {
   "cell_type": "markdown",
   "id": "8efae527",
   "metadata": {},
   "source": [
    "# 판다스를  활용한 데이터 이해"
   ]
  },
  {
   "cell_type": "markdown",
   "id": "d7bc91f4",
   "metadata": {},
   "source": [
    "### 01 파이썬 기본 다지기"
   ]
  },
  {
   "cell_type": "code",
   "execution_count": 2,
   "id": "c683ff32",
   "metadata": {},
   "outputs": [
    {
     "name": "stdout",
     "output_type": "stream",
     "text": [
      "banana\n",
      "apple\n",
      "candy\n"
     ]
    }
   ],
   "source": [
    "myfood = ['banana','apple','candy']\n",
    "print(myfood[0])\n",
    "print(myfood[1])\n",
    "print(myfood[2])"
   ]
  },
  {
   "cell_type": "code",
   "execution_count": 3,
   "id": "830349cd",
   "metadata": {},
   "outputs": [
    {
     "name": "stdout",
     "output_type": "stream",
     "text": [
      "banana\n",
      "apple\n",
      "candy\n"
     ]
    }
   ],
   "source": [
    "for item in myfood:\n",
    "    print(item)"
   ]
  },
  {
   "cell_type": "markdown",
   "id": "dbd28bfc",
   "metadata": {},
   "source": [
    "### 02 딕셔너리(Dictionary)"
   ]
  },
  {
   "cell_type": "code",
   "execution_count": 5,
   "id": "8ce1ee2c",
   "metadata": {},
   "outputs": [],
   "source": [
    "# 리스트, 튜플 < 딕셔너리, 시리즈 < 데이터프레임\n",
    "dict1 = {'one':'하나','two':'둘','three':'셋'}     \n",
    "dict2 = {1:'하나',2:'둘',3:'셋'}                   # key값을 숫자로 명명할 수 있다.\n",
    "dict3 = {'col1':[1,2,3], 'col2':['a','b','c']}"
   ]
  },
  {
   "cell_type": "code",
   "execution_count": 6,
   "id": "1aaa7c29",
   "metadata": {},
   "outputs": [
    {
     "name": "stdout",
     "output_type": "stream",
     "text": [
      "{'one': '하나', 'two': '둘', 'three': '셋'}\n",
      "{1: '하나', 2: '둘', 3: '셋'}\n",
      "{'col1': [1, 2, 3], 'col2': ['a', 'b', 'c']}\n"
     ]
    }
   ],
   "source": [
    "print(dict1)\n",
    "print(dict2)\n",
    "print(dict3)"
   ]
  },
  {
   "cell_type": "markdown",
   "id": "fd1ea973",
   "metadata": {},
   "source": [
    "### 03 판다스 모듈 불러오기"
   ]
  },
  {
   "cell_type": "code",
   "execution_count": 15,
   "id": "29740496",
   "metadata": {},
   "outputs": [],
   "source": [
    "import pandas as pd\n",
    "from pandas import Series, DataFrame  # Series 사용시 굳이 pd.을 붙이지 않으려면 라이브러리에서 특정 모듈만 불러오면 된다."
   ]
  },
  {
   "cell_type": "code",
   "execution_count": 17,
   "id": "28ff3277",
   "metadata": {},
   "outputs": [],
   "source": [
    "import matplotlib as mpl\n",
    "import matplotlib.pyplot as plt"
   ]
  },
  {
   "cell_type": "code",
   "execution_count": 18,
   "id": "feeb2027",
   "metadata": {},
   "outputs": [
    {
     "name": "stdout",
     "output_type": "stream",
     "text": [
      "pandas 버전 확인 :  1.2.4\n",
      "matplotlib 버전 확인 :  3.3.4\n"
     ]
    }
   ],
   "source": [
    "print(\"pandas 버전 확인 : \", pd.__version__)\n",
    "print(\"matplotlib 버전 확인 : \", mpl.__version__)"
   ]
  },
  {
   "cell_type": "code",
   "execution_count": 25,
   "id": "8aebb619",
   "metadata": {},
   "outputs": [
    {
     "name": "stdout",
     "output_type": "stream",
     "text": [
      "자료형: <class 'pandas.core.series.Series'>\n",
      "0     1000\n",
      "1    14000\n",
      "2     3000\n",
      "3    30000\n",
      "4    10000\n",
      "dtype: int64\n"
     ]
    }
   ],
   "source": [
    "score = Series([1000,14000,3000,30000,10000])\n",
    "print('자료형:',type(score))\n",
    "print(score)"
   ]
  },
  {
   "cell_type": "code",
   "execution_count": 31,
   "id": "5133aea8",
   "metadata": {},
   "outputs": [
    {
     "name": "stdout",
     "output_type": "stream",
     "text": [
      "RangeIndex(start=0, stop=5, step=1)\n",
      "[0, 1, 2, 3, 4]\n",
      "[ 1000 14000  3000 30000 10000]\n",
      "\n",
      "<class 'pandas.core.indexes.range.RangeIndex'>\n",
      "<class 'numpy.ndarray'>\n"
     ]
    }
   ],
   "source": [
    "print(score.index)\n",
    "print(list(score.index))\n",
    "print(score.values)       # 자료형이 list 처럼 보이지만, 자료형은 numpy 이다.\n",
    "\n",
    "print()\n",
    "\n",
    "print(type(score.index))\n",
    "print(type(score.values))"
   ]
  },
  {
   "cell_type": "code",
   "execution_count": 32,
   "id": "00db7b4d",
   "metadata": {},
   "outputs": [
    {
     "name": "stdout",
     "output_type": "stream",
     "text": [
      "2019-05-01     1000\n",
      "2019-05-02    14000\n",
      "2019-05-03     3000\n",
      "dtype: int64\n"
     ]
    }
   ],
   "source": [
    "score = Series([1000,14000,3000],\n",
    "               index = ['2019-05-01','2019-05-02','2019-05-03'])\n",
    "print(score)"
   ]
  },
  {
   "cell_type": "markdown",
   "id": "e82534a8",
   "metadata": {},
   "source": [
    "#### 실습 1-1) Series 만들기"
   ]
  },
  {
   "cell_type": "code",
   "execution_count": 43,
   "id": "46c1afe5",
   "metadata": {},
   "outputs": [
    {
     "name": "stdout",
     "output_type": "stream",
     "text": [
      "0     53380\n",
      "1    218142\n",
      "2     56091\n",
      "3     74200\n",
      "4    543533\n",
      "dtype: int64\n"
     ]
    }
   ],
   "source": [
    "bank = Series([53380,218142,56091,74200,543533])\n",
    "                \n",
    "print(bank)"
   ]
  },
  {
   "cell_type": "markdown",
   "id": "389fd551",
   "metadata": {},
   "source": [
    "#### 실습 1-2) index 넣기"
   ]
  },
  {
   "cell_type": "code",
   "execution_count": 44,
   "id": "4f84868d",
   "metadata": {},
   "outputs": [
    {
     "name": "stdout",
     "output_type": "stream",
     "text": [
      "09_1st     53380\n",
      "09_2nd    218142\n",
      "09_3rd     56091\n",
      "09_4th     74200\n",
      "09_5th    543533\n",
      "dtype: int64\n"
     ]
    }
   ],
   "source": [
    "bank_idx = Series([53380,218142,56091,74200,543533],\n",
    "              index = ['09_1st','09_2nd','09_3rd','09_4th','09_5th'])\n",
    "print(bank_idx)"
   ]
  },
  {
   "cell_type": "code",
   "execution_count": 45,
   "id": "00f2f58e",
   "metadata": {},
   "outputs": [
    {
     "name": "stdout",
     "output_type": "stream",
     "text": [
      "2019-05-01\n",
      "2019-05-02\n",
      "2019-05-03\n"
     ]
    }
   ],
   "source": [
    "for idx in score.index:\n",
    "    print(idx)"
   ]
  },
  {
   "cell_type": "code",
   "execution_count": 46,
   "id": "7d22c707",
   "metadata": {},
   "outputs": [
    {
     "name": "stdout",
     "output_type": "stream",
     "text": [
      "1000\n",
      "14000\n",
      "3000\n"
     ]
    }
   ],
   "source": [
    "for value in score.values:\n",
    "    print(value)"
   ]
  },
  {
   "cell_type": "markdown",
   "id": "e20116c2",
   "metadata": {},
   "source": [
    "#### 실습 1-2+) index 범위지정"
   ]
  },
  {
   "cell_type": "code",
   "execution_count": 51,
   "id": "004c95c0",
   "metadata": {},
   "outputs": [],
   "source": [
    "import pandas as pd"
   ]
  },
  {
   "cell_type": "code",
   "execution_count": 54,
   "id": "600b5d58",
   "metadata": {},
   "outputs": [
    {
     "data": {
      "text/plain": [
       "2020-01-01    a\n",
       "2020-01-02    b\n",
       "2020-01-03    c\n",
       "dtype: object"
      ]
     },
     "execution_count": 54,
     "metadata": {},
     "output_type": "execute_result"
    }
   ],
   "source": [
    "# 100개의 index를 지정해줄 때\n",
    "idx = pd.date_range(start='2020-01-01', end='2020-01-03').tolist()\n",
    "auto_idx = Series( ['a', 'b', 'c'], \n",
    "                   index=idx)\n",
    "auto_idx"
   ]
  },
  {
   "cell_type": "markdown",
   "id": "d993c0c6",
   "metadata": {},
   "source": [
    "#### 실습 1-3) 두 팀의 점수 합산해보기"
   ]
  },
  {
   "cell_type": "code",
   "execution_count": 49,
   "id": "6add7fec",
   "metadata": {},
   "outputs": [],
   "source": [
    "from pandas import Series"
   ]
  },
  {
   "cell_type": "code",
   "execution_count": 67,
   "id": "aef0880a",
   "metadata": {},
   "outputs": [],
   "source": [
    "gildong = Series([1500,3000,2500],\n",
    "                index = ['2019-05-01','2019-05-02','2019-05-03'])\n",
    "dooly = Series([3000,3000,2000],\n",
    "             index = ['2019-05-01','2019-05-03','2019-05-02'])"
   ]
  },
  {
   "cell_type": "code",
   "execution_count": 68,
   "id": "0b4bcda9",
   "metadata": {},
   "outputs": [
    {
     "data": {
      "text/plain": [
       "2019-05-01    4500\n",
       "2019-05-02    5000\n",
       "2019-05-03    5500\n",
       "dtype: int64"
      ]
     },
     "execution_count": 68,
     "metadata": {},
     "output_type": "execute_result"
    }
   ],
   "source": [
    "gildong + dooly\n",
    "# 서로 같은 index의 value끼리 계산한다."
   ]
  },
  {
   "cell_type": "markdown",
   "id": "1b75e449",
   "metadata": {},
   "source": [
    "#### 실습 1-4) 데이터는 1~90, 인덱스는 3개월치 날짜로 지정 "
   ]
  },
  {
   "cell_type": "code",
   "execution_count": 70,
   "id": "15702201",
   "metadata": {},
   "outputs": [
    {
     "name": "stdout",
     "output_type": "stream",
     "text": [
      "2020-01-01     1\n",
      "2020-01-02     2\n",
      "2020-01-03     3\n",
      "2020-01-04     4\n",
      "2020-01-05     5\n",
      "              ..\n",
      "2020-03-26    86\n",
      "2020-03-27    87\n",
      "2020-03-28    88\n",
      "2020-03-29    89\n",
      "2020-03-30    90\n",
      "Length: 90, dtype: int64\n"
     ]
    }
   ],
   "source": [
    "value = list(range(1,91))\n",
    "idx = pd.date_range(start='2020-01-01', end='2020-03-30').tolist()\n",
    "\n",
    "three_month_90 = Series( value, \n",
    "                        index=idx)\n",
    "\n",
    "print(three_month_90)"
   ]
  },
  {
   "cell_type": "markdown",
   "id": "2181fc7a",
   "metadata": {},
   "source": [
    "# "
   ]
  },
  {
   "cell_type": "markdown",
   "id": "9b5181be",
   "metadata": {},
   "source": [
    "# "
   ]
  },
  {
   "cell_type": "markdown",
   "id": "dc65e36a",
   "metadata": {},
   "source": [
    "# 데이터 프레임(DataFrame)의 이해"
   ]
  },
  {
   "cell_type": "markdown",
   "id": "2f51abec",
   "metadata": {},
   "source": [
    "* Pandas의 기본 자료형\n",
    "* Seaborn 데이터 (load_dataset() )\n",
    "  * seaborn에 들어가는 기본적인 데이터 자료형 pandas\n",
    "* plotly에서도 pandas호환"
   ]
  },
  {
   "cell_type": "markdown",
   "id": "cbb4737e",
   "metadata": {},
   "source": [
    "### 01 DataFrame 생성하기\n",
    "* Dictionary -> DataFrame\n",
    "* Series     -> DataFrame\n",
    "* index 옵션 추가하기"
   ]
  },
  {
   "cell_type": "code",
   "execution_count": 72,
   "id": "f22f0439",
   "metadata": {},
   "outputs": [],
   "source": [
    "from pandas import DataFrame"
   ]
  },
  {
   "cell_type": "code",
   "execution_count": 80,
   "id": "77d84152",
   "metadata": {},
   "outputs": [
    {
     "data": {
      "text/html": [
       "<div>\n",
       "<style scoped>\n",
       "    .dataframe tbody tr th:only-of-type {\n",
       "        vertical-align: middle;\n",
       "    }\n",
       "\n",
       "    .dataframe tbody tr th {\n",
       "        vertical-align: top;\n",
       "    }\n",
       "\n",
       "    .dataframe thead th {\n",
       "        text-align: right;\n",
       "    }\n",
       "</style>\n",
       "<table border=\"1\" class=\"dataframe\">\n",
       "  <thead>\n",
       "    <tr style=\"text-align: right;\">\n",
       "      <th></th>\n",
       "      <th>col1</th>\n",
       "      <th>col2</th>\n",
       "      <th>col3</th>\n",
       "    </tr>\n",
       "  </thead>\n",
       "  <tbody>\n",
       "    <tr>\n",
       "      <th>0</th>\n",
       "      <td>1</td>\n",
       "      <td>10</td>\n",
       "      <td>A</td>\n",
       "    </tr>\n",
       "    <tr>\n",
       "      <th>1</th>\n",
       "      <td>2</td>\n",
       "      <td>20</td>\n",
       "      <td>B</td>\n",
       "    </tr>\n",
       "    <tr>\n",
       "      <th>2</th>\n",
       "      <td>3</td>\n",
       "      <td>30</td>\n",
       "      <td>C</td>\n",
       "    </tr>\n",
       "    <tr>\n",
       "      <th>3</th>\n",
       "      <td>4</td>\n",
       "      <td>40</td>\n",
       "      <td>D</td>\n",
       "    </tr>\n",
       "  </tbody>\n",
       "</table>\n",
       "</div>"
      ],
      "text/plain": [
       "   col1  col2 col3\n",
       "0     1    10    A\n",
       "1     2    20    B\n",
       "2     3    30    C\n",
       "3     4    40    D"
      ]
     },
     "execution_count": 80,
     "metadata": {},
     "output_type": "execute_result"
    }
   ],
   "source": [
    "# <데이트 프레임 형태의 자료 가져오는 방법>\n",
    "# 방법1. 데이터 프레임 형태의 파일 가져오기\n",
    "# 방법2. 딕셔너리로 만들고 이후 데이터 프레임으로 변환하기\n",
    "dat = {'col1': [1,2,3,4],\n",
    "       'col2': [10,20,30,40],\n",
    "       'col3': ['A','B','C','D']}\n",
    "\n",
    "dat_df = DataFrame(dat)\n",
    "dat_df"
   ]
  },
  {
   "cell_type": "markdown",
   "id": "7861ea26",
   "metadata": {},
   "source": [
    "#### 실습 1-5) 나만의 데이터 프레임 만들기"
   ]
  },
  {
   "cell_type": "code",
   "execution_count": 94,
   "id": "63bc76c4",
   "metadata": {},
   "outputs": [
    {
     "data": {
      "text/html": [
       "<div>\n",
       "<style scoped>\n",
       "    .dataframe tbody tr th:only-of-type {\n",
       "        vertical-align: middle;\n",
       "    }\n",
       "\n",
       "    .dataframe tbody tr th {\n",
       "        vertical-align: top;\n",
       "    }\n",
       "\n",
       "    .dataframe thead th {\n",
       "        text-align: right;\n",
       "    }\n",
       "</style>\n",
       "<table border=\"1\" class=\"dataframe\">\n",
       "  <thead>\n",
       "    <tr style=\"text-align: right;\">\n",
       "      <th></th>\n",
       "      <th>movie</th>\n",
       "      <th>song</th>\n",
       "      <th>place</th>\n",
       "    </tr>\n",
       "  </thead>\n",
       "  <tbody>\n",
       "    <tr>\n",
       "      <th>1st</th>\n",
       "      <td>Mamma Mia</td>\n",
       "      <td>너의 의미</td>\n",
       "      <td>한강</td>\n",
       "    </tr>\n",
       "    <tr>\n",
       "      <th>2nd</th>\n",
       "      <td>해어화</td>\n",
       "      <td>섬(Queen of Diamonds)</td>\n",
       "      <td>CHICAGO</td>\n",
       "    </tr>\n",
       "    <tr>\n",
       "      <th>3rd</th>\n",
       "      <td>A Star is Born</td>\n",
       "      <td>Back to Black</td>\n",
       "      <td>NewYork</td>\n",
       "    </tr>\n",
       "    <tr>\n",
       "      <th>4th</th>\n",
       "      <td>None</td>\n",
       "      <td>사람이 사랑하면 안돼요</td>\n",
       "      <td>강릉</td>\n",
       "    </tr>\n",
       "  </tbody>\n",
       "</table>\n",
       "</div>"
      ],
      "text/plain": [
       "              movie                  song    place\n",
       "1st       Mamma Mia                 너의 의미       한강\n",
       "2nd             해어화  섬(Queen of Diamonds)  CHICAGO\n",
       "3rd  A Star is Born         Back to Black  NewYork\n",
       "4th            None          사람이 사랑하면 안돼요       강릉"
      ]
     },
     "execution_count": 94,
     "metadata": {},
     "output_type": "execute_result"
    }
   ],
   "source": [
    "fav_dict = {'movie' : ['Mamma Mia','해어화','A Star is Born', None],\n",
    "       'song'  : ['너의 의미', '섬(Queen of Diamonds)', 'Back to Black','사람이 사랑하면 안돼요'],\n",
    "       'place' : ['한강','CHICAGO','NewYork','강릉']}\n",
    "\n",
    "fav_df = DataFrame(fav_dict,index=['1st','2nd','3rd','4th'])\n",
    "fav_df"
   ]
  },
  {
   "cell_type": "code",
   "execution_count": 95,
   "id": "cf1b6bc8",
   "metadata": {},
   "outputs": [
    {
     "data": {
      "text/html": [
       "<div>\n",
       "<style scoped>\n",
       "    .dataframe tbody tr th:only-of-type {\n",
       "        vertical-align: middle;\n",
       "    }\n",
       "\n",
       "    .dataframe tbody tr th {\n",
       "        vertical-align: top;\n",
       "    }\n",
       "\n",
       "    .dataframe thead th {\n",
       "        text-align: right;\n",
       "    }\n",
       "</style>\n",
       "<table border=\"1\" class=\"dataframe\">\n",
       "  <thead>\n",
       "    <tr style=\"text-align: right;\">\n",
       "      <th></th>\n",
       "      <th>moveie</th>\n",
       "      <th>song</th>\n",
       "      <th>place</th>\n",
       "    </tr>\n",
       "  </thead>\n",
       "  <tbody>\n",
       "    <tr>\n",
       "      <th>0</th>\n",
       "      <td>Mamma Mia</td>\n",
       "      <td>너의 의미</td>\n",
       "      <td>한강</td>\n",
       "    </tr>\n",
       "    <tr>\n",
       "      <th>1</th>\n",
       "      <td>해어화</td>\n",
       "      <td>섬(Queen of Diamonds)</td>\n",
       "      <td>CHICAGO</td>\n",
       "    </tr>\n",
       "    <tr>\n",
       "      <th>2</th>\n",
       "      <td>A Star is Born</td>\n",
       "      <td>Back to Black</td>\n",
       "      <td>NewYork</td>\n",
       "    </tr>\n",
       "    <tr>\n",
       "      <th>3</th>\n",
       "      <td>NaN</td>\n",
       "      <td>사람이 사랑하면 안돼요</td>\n",
       "      <td>강릉</td>\n",
       "    </tr>\n",
       "  </tbody>\n",
       "</table>\n",
       "</div>"
      ],
      "text/plain": [
       "           moveie                  song    place\n",
       "0       Mamma Mia                 너의 의미       한강\n",
       "1             해어화  섬(Queen of Diamonds)  CHICAGO\n",
       "2  A Star is Born         Back to Black  NewYork\n",
       "3             NaN          사람이 사랑하면 안돼요       강릉"
      ]
     },
     "execution_count": 95,
     "metadata": {},
     "output_type": "execute_result"
    }
   ],
   "source": [
    "# 공백을 일괄적으로 채우기 위해선 딕셔너리가 아니라 Series 를 사용한다.\n",
    "\n",
    "fav_movie = pd.Series(['Mamma Mia','해어화','A Star is Born'])\n",
    "fav_song = pd.Series(['너의 의미', '섬(Queen of Diamonds)', 'Back to Black','사람이 사랑하면 안돼요'])\n",
    "fav_place =pd.Series(['한강','CHICAGO','NewYork','강릉'])\n",
    "\n",
    "fav_series ={'moveie': fav_movie, 'song':fav_song, 'place':fav_place}\n",
    "fav_se_df = pd.DataFrame(fav_series)\n",
    "fav_se_df"
   ]
  },
  {
   "cell_type": "markdown",
   "id": "fe1d9783",
   "metadata": {},
   "source": [
    "#### 실습 1-6)"
   ]
  },
  {
   "cell_type": "code",
   "execution_count": 100,
   "id": "41ba16e5",
   "metadata": {},
   "outputs": [
    {
     "data": {
      "text/html": [
       "<div>\n",
       "<style scoped>\n",
       "    .dataframe tbody tr th:only-of-type {\n",
       "        vertical-align: middle;\n",
       "    }\n",
       "\n",
       "    .dataframe tbody tr th {\n",
       "        vertical-align: top;\n",
       "    }\n",
       "\n",
       "    .dataframe thead th {\n",
       "        text-align: right;\n",
       "    }\n",
       "</style>\n",
       "<table border=\"1\" class=\"dataframe\">\n",
       "  <thead>\n",
       "    <tr style=\"text-align: right;\">\n",
       "      <th></th>\n",
       "      <th>toto</th>\n",
       "      <th>apple</th>\n",
       "      <th>gildong</th>\n",
       "      <th>catanddog</th>\n",
       "    </tr>\n",
       "  </thead>\n",
       "  <tbody>\n",
       "    <tr>\n",
       "      <th>0</th>\n",
       "      <td>1500</td>\n",
       "      <td>4000</td>\n",
       "      <td>2000</td>\n",
       "      <td>7000</td>\n",
       "    </tr>\n",
       "    <tr>\n",
       "      <th>1</th>\n",
       "      <td>3000</td>\n",
       "      <td>5000</td>\n",
       "      <td>2500</td>\n",
       "      <td>5000</td>\n",
       "    </tr>\n",
       "    <tr>\n",
       "      <th>2</th>\n",
       "      <td>5000</td>\n",
       "      <td>6000</td>\n",
       "      <td>3000</td>\n",
       "      <td>3000</td>\n",
       "    </tr>\n",
       "    <tr>\n",
       "      <th>3</th>\n",
       "      <td>7000</td>\n",
       "      <td>5500</td>\n",
       "      <td>4000</td>\n",
       "      <td>5000</td>\n",
       "    </tr>\n",
       "    <tr>\n",
       "      <th>4</th>\n",
       "      <td>5500</td>\n",
       "      <td>4500</td>\n",
       "      <td>3000</td>\n",
       "      <td>4000</td>\n",
       "    </tr>\n",
       "  </tbody>\n",
       "</table>\n",
       "</div>"
      ],
      "text/plain": [
       "   toto  apple  gildong  catanddog\n",
       "0  1500   4000     2000       7000\n",
       "1  3000   5000     2500       5000\n",
       "2  5000   6000     3000       3000\n",
       "3  7000   5500     4000       5000\n",
       "4  5500   4500     3000       4000"
      ]
     },
     "execution_count": 100,
     "metadata": {},
     "output_type": "execute_result"
    }
   ],
   "source": [
    "from pandas import DataFrame\n",
    "\n",
    "team_score = { \"toto\":[1500,3000,5000,7000,5500],\n",
    "               \"apple\":[4000,5000,6000,5500,4500],\n",
    "               \"gildong\":[2000,2500,3000,4000,3000],\n",
    "               \"catanddog\":[7000,5000,3000,5000,4000]}\n",
    "\n",
    "team_df = DataFrame(team_score)\n",
    "team_df"
   ]
  },
  {
   "cell_type": "markdown",
   "id": "95e4049b",
   "metadata": {},
   "source": [
    "### 02 DataFrame에서 정보 크롭하기\n",
    "* DATAFRAME[ ]        : 전체 행과 특정 열 추출\n",
    "* DATAFRAME.loc[ ]    : index명으로 특정 행,열 추출\n",
    "* DATAFRAME.iloc[ ]   : index위치로 특정 해,열 추출 (주의 : [1:4]는 1,2,3만 해당)"
   ]
  },
  {
   "cell_type": "markdown",
   "id": "1b7d129d",
   "metadata": {},
   "source": [
    "#### 실습 2-1) DATAFRAME[ ] : 전체 행과 특정 열 추출 \n",
    "* 행 : 생략\n",
    "* 행 : 전체선택명령어 사용 불가능 -> : (X)\n",
    "* 열 : indexing 허용 -> ['col1','col2','col3'] (O)\n",
    "* 열 : slicing 불가능 -> col1 : col3 (X)"
   ]
  },
  {
   "cell_type": "code",
   "execution_count": 195,
   "id": "741e3979",
   "metadata": {},
   "outputs": [
    {
     "data": {
      "text/html": [
       "<div>\n",
       "<style scoped>\n",
       "    .dataframe tbody tr th:only-of-type {\n",
       "        vertical-align: middle;\n",
       "    }\n",
       "\n",
       "    .dataframe tbody tr th {\n",
       "        vertical-align: top;\n",
       "    }\n",
       "\n",
       "    .dataframe thead th {\n",
       "        text-align: right;\n",
       "    }\n",
       "</style>\n",
       "<table border=\"1\" class=\"dataframe\">\n",
       "  <thead>\n",
       "    <tr style=\"text-align: right;\">\n",
       "      <th></th>\n",
       "      <th>toto</th>\n",
       "      <th>gildong</th>\n",
       "    </tr>\n",
       "  </thead>\n",
       "  <tbody>\n",
       "    <tr>\n",
       "      <th>0</th>\n",
       "      <td>1500</td>\n",
       "      <td>2000</td>\n",
       "    </tr>\n",
       "    <tr>\n",
       "      <th>1</th>\n",
       "      <td>3000</td>\n",
       "      <td>2500</td>\n",
       "    </tr>\n",
       "    <tr>\n",
       "      <th>2</th>\n",
       "      <td>5000</td>\n",
       "      <td>3000</td>\n",
       "    </tr>\n",
       "    <tr>\n",
       "      <th>3</th>\n",
       "      <td>7000</td>\n",
       "      <td>4000</td>\n",
       "    </tr>\n",
       "    <tr>\n",
       "      <th>4</th>\n",
       "      <td>5500</td>\n",
       "      <td>3000</td>\n",
       "    </tr>\n",
       "  </tbody>\n",
       "</table>\n",
       "</div>"
      ],
      "text/plain": [
       "   toto  gildong\n",
       "0  1500     2000\n",
       "1  3000     2500\n",
       "2  5000     3000\n",
       "3  7000     4000\n",
       "4  5500     3000"
      ]
     },
     "execution_count": 195,
     "metadata": {},
     "output_type": "execute_result"
    }
   ],
   "source": [
    "# 전체 행을 출력하는 것이기 때문에, 행 정보는 쓰지 않는다.\n",
    "# 열 선택시, 지정선택(indexing [,]) 만 허용\n",
    "team_df[ ['toto','gildong'] ]"
   ]
  },
  {
   "cell_type": "code",
   "execution_count": 172,
   "id": "0020ee34",
   "metadata": {},
   "outputs": [
    {
     "ename": "TypeError",
     "evalue": "cannot do slice indexing on RangeIndex with these indexers [toto] of type str",
     "output_type": "error",
     "traceback": [
      "\u001b[0;31m---------------------------------------------------------------------------\u001b[0m",
      "\u001b[0;31mTypeError\u001b[0m                                 Traceback (most recent call last)",
      "\u001b[0;32m<ipython-input-172-2f668617c041>\u001b[0m in \u001b[0;36m<module>\u001b[0;34m\u001b[0m\n\u001b[1;32m      1\u001b[0m \u001b[0;31m# 열 선택시, 범위선택(slicing :) 불가능\u001b[0m\u001b[0;34m\u001b[0m\u001b[0;34m\u001b[0m\u001b[0;34m\u001b[0m\u001b[0m\n\u001b[0;32m----> 2\u001b[0;31m \u001b[0mteam_df\u001b[0m\u001b[0;34m[\u001b[0m\u001b[0;34m'toto'\u001b[0m\u001b[0;34m:\u001b[0m\u001b[0;34m'gildong'\u001b[0m\u001b[0;34m]\u001b[0m\u001b[0;34m\u001b[0m\u001b[0;34m\u001b[0m\u001b[0m\n\u001b[0m",
      "\u001b[0;32m~/opt/anaconda3/lib/python3.8/site-packages/pandas/core/frame.py\u001b[0m in \u001b[0;36m__getitem__\u001b[0;34m(self, key)\u001b[0m\n\u001b[1;32m   2997\u001b[0m \u001b[0;34m\u001b[0m\u001b[0m\n\u001b[1;32m   2998\u001b[0m         \u001b[0;31m# Do we have a slicer (on rows)?\u001b[0m\u001b[0;34m\u001b[0m\u001b[0;34m\u001b[0m\u001b[0;34m\u001b[0m\u001b[0m\n\u001b[0;32m-> 2999\u001b[0;31m         \u001b[0mindexer\u001b[0m \u001b[0;34m=\u001b[0m \u001b[0mconvert_to_index_sliceable\u001b[0m\u001b[0;34m(\u001b[0m\u001b[0mself\u001b[0m\u001b[0;34m,\u001b[0m \u001b[0mkey\u001b[0m\u001b[0;34m)\u001b[0m\u001b[0;34m\u001b[0m\u001b[0;34m\u001b[0m\u001b[0m\n\u001b[0m\u001b[1;32m   3000\u001b[0m         \u001b[0;32mif\u001b[0m \u001b[0mindexer\u001b[0m \u001b[0;32mis\u001b[0m \u001b[0;32mnot\u001b[0m \u001b[0;32mNone\u001b[0m\u001b[0;34m:\u001b[0m\u001b[0;34m\u001b[0m\u001b[0;34m\u001b[0m\u001b[0m\n\u001b[1;32m   3001\u001b[0m             \u001b[0;32mif\u001b[0m \u001b[0misinstance\u001b[0m\u001b[0;34m(\u001b[0m\u001b[0mindexer\u001b[0m\u001b[0;34m,\u001b[0m \u001b[0mnp\u001b[0m\u001b[0;34m.\u001b[0m\u001b[0mndarray\u001b[0m\u001b[0;34m)\u001b[0m\u001b[0;34m:\u001b[0m\u001b[0;34m\u001b[0m\u001b[0;34m\u001b[0m\u001b[0m\n",
      "\u001b[0;32m~/opt/anaconda3/lib/python3.8/site-packages/pandas/core/indexing.py\u001b[0m in \u001b[0;36mconvert_to_index_sliceable\u001b[0;34m(obj, key)\u001b[0m\n\u001b[1;32m   2208\u001b[0m     \u001b[0midx\u001b[0m \u001b[0;34m=\u001b[0m \u001b[0mobj\u001b[0m\u001b[0;34m.\u001b[0m\u001b[0mindex\u001b[0m\u001b[0;34m\u001b[0m\u001b[0;34m\u001b[0m\u001b[0m\n\u001b[1;32m   2209\u001b[0m     \u001b[0;32mif\u001b[0m \u001b[0misinstance\u001b[0m\u001b[0;34m(\u001b[0m\u001b[0mkey\u001b[0m\u001b[0;34m,\u001b[0m \u001b[0mslice\u001b[0m\u001b[0;34m)\u001b[0m\u001b[0;34m:\u001b[0m\u001b[0;34m\u001b[0m\u001b[0;34m\u001b[0m\u001b[0m\n\u001b[0;32m-> 2210\u001b[0;31m         \u001b[0;32mreturn\u001b[0m \u001b[0midx\u001b[0m\u001b[0;34m.\u001b[0m\u001b[0m_convert_slice_indexer\u001b[0m\u001b[0;34m(\u001b[0m\u001b[0mkey\u001b[0m\u001b[0;34m,\u001b[0m \u001b[0mkind\u001b[0m\u001b[0;34m=\u001b[0m\u001b[0;34m\"getitem\"\u001b[0m\u001b[0;34m)\u001b[0m\u001b[0;34m\u001b[0m\u001b[0;34m\u001b[0m\u001b[0m\n\u001b[0m\u001b[1;32m   2211\u001b[0m \u001b[0;34m\u001b[0m\u001b[0m\n\u001b[1;32m   2212\u001b[0m     \u001b[0;32melif\u001b[0m \u001b[0misinstance\u001b[0m\u001b[0;34m(\u001b[0m\u001b[0mkey\u001b[0m\u001b[0;34m,\u001b[0m \u001b[0mstr\u001b[0m\u001b[0;34m)\u001b[0m\u001b[0;34m:\u001b[0m\u001b[0;34m\u001b[0m\u001b[0;34m\u001b[0m\u001b[0m\n",
      "\u001b[0;32m~/opt/anaconda3/lib/python3.8/site-packages/pandas/core/indexes/base.py\u001b[0m in \u001b[0;36m_convert_slice_indexer\u001b[0;34m(self, key, kind)\u001b[0m\n\u001b[1;32m   3354\u001b[0m             \"\"\"\n\u001b[1;32m   3355\u001b[0m             \u001b[0;32mif\u001b[0m \u001b[0mself\u001b[0m\u001b[0;34m.\u001b[0m\u001b[0mis_integer\u001b[0m\u001b[0;34m(\u001b[0m\u001b[0;34m)\u001b[0m \u001b[0;32mor\u001b[0m \u001b[0mis_index_slice\u001b[0m\u001b[0;34m:\u001b[0m\u001b[0;34m\u001b[0m\u001b[0;34m\u001b[0m\u001b[0m\n\u001b[0;32m-> 3356\u001b[0;31m                 \u001b[0mself\u001b[0m\u001b[0;34m.\u001b[0m\u001b[0m_validate_indexer\u001b[0m\u001b[0;34m(\u001b[0m\u001b[0;34m\"slice\"\u001b[0m\u001b[0;34m,\u001b[0m \u001b[0mkey\u001b[0m\u001b[0;34m.\u001b[0m\u001b[0mstart\u001b[0m\u001b[0;34m,\u001b[0m \u001b[0;34m\"getitem\"\u001b[0m\u001b[0;34m)\u001b[0m\u001b[0;34m\u001b[0m\u001b[0;34m\u001b[0m\u001b[0m\n\u001b[0m\u001b[1;32m   3357\u001b[0m                 \u001b[0mself\u001b[0m\u001b[0;34m.\u001b[0m\u001b[0m_validate_indexer\u001b[0m\u001b[0;34m(\u001b[0m\u001b[0;34m\"slice\"\u001b[0m\u001b[0;34m,\u001b[0m \u001b[0mkey\u001b[0m\u001b[0;34m.\u001b[0m\u001b[0mstop\u001b[0m\u001b[0;34m,\u001b[0m \u001b[0;34m\"getitem\"\u001b[0m\u001b[0;34m)\u001b[0m\u001b[0;34m\u001b[0m\u001b[0;34m\u001b[0m\u001b[0m\n\u001b[1;32m   3358\u001b[0m                 \u001b[0mself\u001b[0m\u001b[0;34m.\u001b[0m\u001b[0m_validate_indexer\u001b[0m\u001b[0;34m(\u001b[0m\u001b[0;34m\"slice\"\u001b[0m\u001b[0;34m,\u001b[0m \u001b[0mkey\u001b[0m\u001b[0;34m.\u001b[0m\u001b[0mstep\u001b[0m\u001b[0;34m,\u001b[0m \u001b[0;34m\"getitem\"\u001b[0m\u001b[0;34m)\u001b[0m\u001b[0;34m\u001b[0m\u001b[0;34m\u001b[0m\u001b[0m\n",
      "\u001b[0;32m~/opt/anaconda3/lib/python3.8/site-packages/pandas/core/indexes/base.py\u001b[0m in \u001b[0;36m_validate_indexer\u001b[0;34m(self, form, key, kind)\u001b[0m\n\u001b[1;32m   5307\u001b[0m             \u001b[0;32mpass\u001b[0m\u001b[0;34m\u001b[0m\u001b[0;34m\u001b[0m\u001b[0m\n\u001b[1;32m   5308\u001b[0m         \u001b[0;32melse\u001b[0m\u001b[0;34m:\u001b[0m\u001b[0;34m\u001b[0m\u001b[0;34m\u001b[0m\u001b[0m\n\u001b[0;32m-> 5309\u001b[0;31m             \u001b[0;32mraise\u001b[0m \u001b[0mself\u001b[0m\u001b[0;34m.\u001b[0m\u001b[0m_invalid_indexer\u001b[0m\u001b[0;34m(\u001b[0m\u001b[0mform\u001b[0m\u001b[0;34m,\u001b[0m \u001b[0mkey\u001b[0m\u001b[0;34m)\u001b[0m\u001b[0;34m\u001b[0m\u001b[0;34m\u001b[0m\u001b[0m\n\u001b[0m\u001b[1;32m   5310\u001b[0m \u001b[0;34m\u001b[0m\u001b[0m\n\u001b[1;32m   5311\u001b[0m     \u001b[0;32mdef\u001b[0m \u001b[0m_maybe_cast_slice_bound\u001b[0m\u001b[0;34m(\u001b[0m\u001b[0mself\u001b[0m\u001b[0;34m,\u001b[0m \u001b[0mlabel\u001b[0m\u001b[0;34m,\u001b[0m \u001b[0mside\u001b[0m\u001b[0;34m:\u001b[0m \u001b[0mstr_t\u001b[0m\u001b[0;34m,\u001b[0m \u001b[0mkind\u001b[0m\u001b[0;34m)\u001b[0m\u001b[0;34m:\u001b[0m\u001b[0;34m\u001b[0m\u001b[0;34m\u001b[0m\u001b[0m\n",
      "\u001b[0;31mTypeError\u001b[0m: cannot do slice indexing on RangeIndex with these indexers [toto] of type str"
     ]
    }
   ],
   "source": [
    "# 열 선택시, 범위선택(slicing :) 불가능\n",
    "team_df['toto':'gildong']"
   ]
  },
  {
   "cell_type": "markdown",
   "id": "018749fa",
   "metadata": {},
   "source": [
    "#### 실습 2-2) DATAFRAME.loc[ ]    : index명 사용\n",
    "\n",
    "* 행 : (주의)index 명이 1 부터 시작하면 첫번째 인덱스는 0 이 아닌 1\n",
    "\n",
    "* entire\n",
    "  * :\n",
    "* 선택지정 / indexing\n",
    "  * [ 'A' , 'C' ] ------- 대괄호 있음\n",
    "  * 대괄호를 사용하지 않으면, 자료형 Series 형태로 가져온다.\n",
    "* 범위지정 / slicing\n",
    "  * 'A' : 'C' ---------- 대괄호 없음"
   ]
  },
  {
   "cell_type": "code",
   "execution_count": 179,
   "id": "7abf3604",
   "metadata": {},
   "outputs": [
    {
     "data": {
      "text/html": [
       "<div>\n",
       "<style scoped>\n",
       "    .dataframe tbody tr th:only-of-type {\n",
       "        vertical-align: middle;\n",
       "    }\n",
       "\n",
       "    .dataframe tbody tr th {\n",
       "        vertical-align: top;\n",
       "    }\n",
       "\n",
       "    .dataframe thead th {\n",
       "        text-align: right;\n",
       "    }\n",
       "</style>\n",
       "<table border=\"1\" class=\"dataframe\">\n",
       "  <thead>\n",
       "    <tr style=\"text-align: right;\">\n",
       "      <th></th>\n",
       "      <th>toto</th>\n",
       "      <th>apple</th>\n",
       "      <th>gildong</th>\n",
       "    </tr>\n",
       "  </thead>\n",
       "  <tbody>\n",
       "    <tr>\n",
       "      <th>0</th>\n",
       "      <td>1500</td>\n",
       "      <td>4000</td>\n",
       "      <td>2000</td>\n",
       "    </tr>\n",
       "    <tr>\n",
       "      <th>1</th>\n",
       "      <td>3000</td>\n",
       "      <td>5000</td>\n",
       "      <td>2500</td>\n",
       "    </tr>\n",
       "    <tr>\n",
       "      <th>2</th>\n",
       "      <td>5000</td>\n",
       "      <td>6000</td>\n",
       "      <td>3000</td>\n",
       "    </tr>\n",
       "    <tr>\n",
       "      <th>3</th>\n",
       "      <td>7000</td>\n",
       "      <td>5500</td>\n",
       "      <td>4000</td>\n",
       "    </tr>\n",
       "    <tr>\n",
       "      <th>4</th>\n",
       "      <td>5500</td>\n",
       "      <td>4500</td>\n",
       "      <td>3000</td>\n",
       "    </tr>\n",
       "  </tbody>\n",
       "</table>\n",
       "</div>"
      ],
      "text/plain": [
       "   toto  apple  gildong\n",
       "0  1500   4000     2000\n",
       "1  3000   5000     2500\n",
       "2  5000   6000     3000\n",
       "3  7000   5500     4000\n",
       "4  5500   4500     3000"
      ]
     },
     "execution_count": 179,
     "metadata": {},
     "output_type": "execute_result"
    }
   ],
   "source": [
    "# 전체 행 선택( : )\n",
    "team_df.loc[:,'toto':'gildong']"
   ]
  },
  {
   "cell_type": "code",
   "execution_count": 181,
   "id": "275672fc",
   "metadata": {},
   "outputs": [
    {
     "data": {
      "text/html": [
       "<div>\n",
       "<style scoped>\n",
       "    .dataframe tbody tr th:only-of-type {\n",
       "        vertical-align: middle;\n",
       "    }\n",
       "\n",
       "    .dataframe tbody tr th {\n",
       "        vertical-align: top;\n",
       "    }\n",
       "\n",
       "    .dataframe thead th {\n",
       "        text-align: right;\n",
       "    }\n",
       "</style>\n",
       "<table border=\"1\" class=\"dataframe\">\n",
       "  <thead>\n",
       "    <tr style=\"text-align: right;\">\n",
       "      <th></th>\n",
       "      <th>toto</th>\n",
       "      <th>apple</th>\n",
       "      <th>gildong</th>\n",
       "      <th>catanddog</th>\n",
       "    </tr>\n",
       "  </thead>\n",
       "  <tbody>\n",
       "    <tr>\n",
       "      <th>1</th>\n",
       "      <td>3000</td>\n",
       "      <td>5000</td>\n",
       "      <td>2500</td>\n",
       "      <td>5000</td>\n",
       "    </tr>\n",
       "    <tr>\n",
       "      <th>2</th>\n",
       "      <td>5000</td>\n",
       "      <td>6000</td>\n",
       "      <td>3000</td>\n",
       "      <td>3000</td>\n",
       "    </tr>\n",
       "    <tr>\n",
       "      <th>3</th>\n",
       "      <td>7000</td>\n",
       "      <td>5500</td>\n",
       "      <td>4000</td>\n",
       "      <td>5000</td>\n",
       "    </tr>\n",
       "  </tbody>\n",
       "</table>\n",
       "</div>"
      ],
      "text/plain": [
       "   toto  apple  gildong  catanddog\n",
       "1  3000   5000     2500       5000\n",
       "2  5000   6000     3000       3000\n",
       "3  7000   5500     4000       5000"
      ]
     },
     "execution_count": 181,
     "metadata": {},
     "output_type": "execute_result"
    }
   ],
   "source": [
    "# 전체 열 선택 ( : )\n",
    "team_df.loc[1:3,:]"
   ]
  },
  {
   "cell_type": "code",
   "execution_count": 182,
   "id": "f7768d5c",
   "metadata": {},
   "outputs": [
    {
     "data": {
      "text/html": [
       "<div>\n",
       "<style scoped>\n",
       "    .dataframe tbody tr th:only-of-type {\n",
       "        vertical-align: middle;\n",
       "    }\n",
       "\n",
       "    .dataframe tbody tr th {\n",
       "        vertical-align: top;\n",
       "    }\n",
       "\n",
       "    .dataframe thead th {\n",
       "        text-align: right;\n",
       "    }\n",
       "</style>\n",
       "<table border=\"1\" class=\"dataframe\">\n",
       "  <thead>\n",
       "    <tr style=\"text-align: right;\">\n",
       "      <th></th>\n",
       "      <th>toto</th>\n",
       "      <th>gildong</th>\n",
       "    </tr>\n",
       "  </thead>\n",
       "  <tbody>\n",
       "    <tr>\n",
       "      <th>0</th>\n",
       "      <td>1500</td>\n",
       "      <td>2000</td>\n",
       "    </tr>\n",
       "    <tr>\n",
       "      <th>2</th>\n",
       "      <td>5000</td>\n",
       "      <td>3000</td>\n",
       "    </tr>\n",
       "    <tr>\n",
       "      <th>4</th>\n",
       "      <td>5500</td>\n",
       "      <td>3000</td>\n",
       "    </tr>\n",
       "  </tbody>\n",
       "</table>\n",
       "</div>"
      ],
      "text/plain": [
       "   toto  gildong\n",
       "0  1500     2000\n",
       "2  5000     3000\n",
       "4  5500     3000"
      ]
     },
     "execution_count": 182,
     "metadata": {},
     "output_type": "execute_result"
    }
   ],
   "source": [
    "# 지정선택 / indexing\n",
    "team_df.loc[[0,2,4],['toto','gildong']]"
   ]
  },
  {
   "cell_type": "code",
   "execution_count": 207,
   "id": "36546f06",
   "metadata": {},
   "outputs": [
    {
     "data": {
      "text/html": [
       "<div>\n",
       "<style scoped>\n",
       "    .dataframe tbody tr th:only-of-type {\n",
       "        vertical-align: middle;\n",
       "    }\n",
       "\n",
       "    .dataframe tbody tr th {\n",
       "        vertical-align: top;\n",
       "    }\n",
       "\n",
       "    .dataframe thead th {\n",
       "        text-align: right;\n",
       "    }\n",
       "</style>\n",
       "<table border=\"1\" class=\"dataframe\">\n",
       "  <thead>\n",
       "    <tr style=\"text-align: right;\">\n",
       "      <th></th>\n",
       "      <th>gildong</th>\n",
       "    </tr>\n",
       "  </thead>\n",
       "  <tbody>\n",
       "    <tr>\n",
       "      <th>0</th>\n",
       "      <td>2000</td>\n",
       "    </tr>\n",
       "    <tr>\n",
       "      <th>1</th>\n",
       "      <td>2500</td>\n",
       "    </tr>\n",
       "    <tr>\n",
       "      <th>2</th>\n",
       "      <td>3000</td>\n",
       "    </tr>\n",
       "    <tr>\n",
       "      <th>3</th>\n",
       "      <td>4000</td>\n",
       "    </tr>\n",
       "    <tr>\n",
       "      <th>4</th>\n",
       "      <td>3000</td>\n",
       "    </tr>\n",
       "  </tbody>\n",
       "</table>\n",
       "</div>"
      ],
      "text/plain": [
       "   gildong\n",
       "0     2000\n",
       "1     2500\n",
       "2     3000\n",
       "3     4000\n",
       "4     3000"
      ]
     },
     "execution_count": 207,
     "metadata": {},
     "output_type": "execute_result"
    }
   ],
   "source": [
    "# 하나 지정선택(indexing)시 대괄호를 사용하는 경우\n",
    "# DataFrame형태로 가져오기\n",
    "team_df.loc[:,['gildong']]     "
   ]
  },
  {
   "cell_type": "code",
   "execution_count": 208,
   "id": "6028da44",
   "metadata": {},
   "outputs": [
    {
     "data": {
      "text/plain": [
       "0    2000\n",
       "1    2500\n",
       "2    3000\n",
       "3    4000\n",
       "4    3000\n",
       "Name: gildong, dtype: int64"
      ]
     },
     "execution_count": 208,
     "metadata": {},
     "output_type": "execute_result"
    }
   ],
   "source": [
    "# 하나 지정선택(indexing)시 대괄호를 사용하지 않는 경우\n",
    "# series형태로 가져오기\n",
    "team_df.loc[:,'gildong']"
   ]
  },
  {
   "cell_type": "code",
   "execution_count": 209,
   "id": "cb16eba5",
   "metadata": {},
   "outputs": [
    {
     "data": {
      "text/html": [
       "<div>\n",
       "<style scoped>\n",
       "    .dataframe tbody tr th:only-of-type {\n",
       "        vertical-align: middle;\n",
       "    }\n",
       "\n",
       "    .dataframe tbody tr th {\n",
       "        vertical-align: top;\n",
       "    }\n",
       "\n",
       "    .dataframe thead th {\n",
       "        text-align: right;\n",
       "    }\n",
       "</style>\n",
       "<table border=\"1\" class=\"dataframe\">\n",
       "  <thead>\n",
       "    <tr style=\"text-align: right;\">\n",
       "      <th></th>\n",
       "      <th>toto</th>\n",
       "      <th>apple</th>\n",
       "      <th>gildong</th>\n",
       "    </tr>\n",
       "  </thead>\n",
       "  <tbody>\n",
       "    <tr>\n",
       "      <th>1</th>\n",
       "      <td>3000</td>\n",
       "      <td>5000</td>\n",
       "      <td>2500</td>\n",
       "    </tr>\n",
       "    <tr>\n",
       "      <th>2</th>\n",
       "      <td>5000</td>\n",
       "      <td>6000</td>\n",
       "      <td>3000</td>\n",
       "    </tr>\n",
       "    <tr>\n",
       "      <th>3</th>\n",
       "      <td>7000</td>\n",
       "      <td>5500</td>\n",
       "      <td>4000</td>\n",
       "    </tr>\n",
       "  </tbody>\n",
       "</table>\n",
       "</div>"
      ],
      "text/plain": [
       "   toto  apple  gildong\n",
       "1  3000   5000     2500\n",
       "2  5000   6000     3000\n",
       "3  7000   5500     4000"
      ]
     },
     "execution_count": 209,
     "metadata": {},
     "output_type": "execute_result"
    }
   ],
   "source": [
    "# 범위선택 / slicing\n",
    "team_df.loc[1:3,'toto':'gildong']\n",
    "# row 값 1:3 -> 1,2,3 출력"
   ]
  },
  {
   "cell_type": "code",
   "execution_count": 210,
   "id": "d2744e94",
   "metadata": {},
   "outputs": [
    {
     "data": {
      "text/html": [
       "<div>\n",
       "<style scoped>\n",
       "    .dataframe tbody tr th:only-of-type {\n",
       "        vertical-align: middle;\n",
       "    }\n",
       "\n",
       "    .dataframe tbody tr th {\n",
       "        vertical-align: top;\n",
       "    }\n",
       "\n",
       "    .dataframe thead th {\n",
       "        text-align: right;\n",
       "    }\n",
       "</style>\n",
       "<table border=\"1\" class=\"dataframe\">\n",
       "  <thead>\n",
       "    <tr style=\"text-align: right;\">\n",
       "      <th></th>\n",
       "      <th>apple</th>\n",
       "      <th>gildong</th>\n",
       "      <th>catanddog</th>\n",
       "    </tr>\n",
       "  </thead>\n",
       "  <tbody>\n",
       "    <tr>\n",
       "      <th>0</th>\n",
       "      <td>4000</td>\n",
       "      <td>2000</td>\n",
       "      <td>7000</td>\n",
       "    </tr>\n",
       "    <tr>\n",
       "      <th>1</th>\n",
       "      <td>5000</td>\n",
       "      <td>2500</td>\n",
       "      <td>5000</td>\n",
       "    </tr>\n",
       "    <tr>\n",
       "      <th>4</th>\n",
       "      <td>4500</td>\n",
       "      <td>3000</td>\n",
       "      <td>4000</td>\n",
       "    </tr>\n",
       "  </tbody>\n",
       "</table>\n",
       "</div>"
      ],
      "text/plain": [
       "   apple  gildong  catanddog\n",
       "0   4000     2000       7000\n",
       "1   5000     2500       5000\n",
       "4   4500     3000       4000"
      ]
     },
     "execution_count": 210,
     "metadata": {},
     "output_type": "execute_result"
    }
   ],
   "source": [
    "# 지정선택(indexing) + 범위선택(slicing)\n",
    "team_df.loc[[0,1,4],'apple':'catanddog']     # dataframe형태로 가져오기"
   ]
  },
  {
   "cell_type": "code",
   "execution_count": 211,
   "id": "e5e31aed",
   "metadata": {},
   "outputs": [
    {
     "data": {
      "text/html": [
       "<div>\n",
       "<style scoped>\n",
       "    .dataframe tbody tr th:only-of-type {\n",
       "        vertical-align: middle;\n",
       "    }\n",
       "\n",
       "    .dataframe tbody tr th {\n",
       "        vertical-align: top;\n",
       "    }\n",
       "\n",
       "    .dataframe thead th {\n",
       "        text-align: right;\n",
       "    }\n",
       "</style>\n",
       "<table border=\"1\" class=\"dataframe\">\n",
       "  <thead>\n",
       "    <tr style=\"text-align: right;\">\n",
       "      <th></th>\n",
       "      <th>apple</th>\n",
       "      <th>catanddog</th>\n",
       "    </tr>\n",
       "  </thead>\n",
       "  <tbody>\n",
       "    <tr>\n",
       "      <th>2</th>\n",
       "      <td>6000</td>\n",
       "      <td>3000</td>\n",
       "    </tr>\n",
       "    <tr>\n",
       "      <th>3</th>\n",
       "      <td>5500</td>\n",
       "      <td>5000</td>\n",
       "    </tr>\n",
       "    <tr>\n",
       "      <th>4</th>\n",
       "      <td>4500</td>\n",
       "      <td>4000</td>\n",
       "    </tr>\n",
       "  </tbody>\n",
       "</table>\n",
       "</div>"
      ],
      "text/plain": [
       "   apple  catanddog\n",
       "2   6000       3000\n",
       "3   5500       5000\n",
       "4   4500       4000"
      ]
     },
     "execution_count": 211,
     "metadata": {},
     "output_type": "execute_result"
    }
   ],
   "source": [
    "# 범위선택(slicing) + 지정선택(indexing)\n",
    "team_df.loc[2:4, ['apple','catanddog']]"
   ]
  },
  {
   "cell_type": "markdown",
   "id": "f0d9227a",
   "metadata": {},
   "source": [
    "#### 실습 2-3) DATAFRAME.iloc[ ] : index 위치 사용 (주의 : [1:4]는 1,2,3만 해당)\n",
    "* 모든 인덱스는 0 부터 시작\n",
    "* entire\n",
    "  * :\n",
    "* 선택지정 / indexing\n",
    "  * [ 1 , 3 ] ------- 대괄호 있음\n",
    "  * 대괄호를 사용하지 않으면, 자료형 Series 형태로 가져온다.\n",
    "\n",
    "* 범위지정 / slicing\n",
    "  * 1 : 3 ---------- 대괄호 없음\n",
    "  * (주의!) 1:3의 경우 파이썬 문법에 따라 3은 제외\n",
    "  * (응용1) 0:5:2 -> 0, 2, 4\n",
    "  * (응용2) 5:0:-2 -> 5, 3, 1\n",
    "  * (응용3) -1: -> 뒤에서부터 "
   ]
  },
  {
   "cell_type": "code",
   "execution_count": 212,
   "id": "cdb67c6f",
   "metadata": {},
   "outputs": [
    {
     "data": {
      "text/html": [
       "<div>\n",
       "<style scoped>\n",
       "    .dataframe tbody tr th:only-of-type {\n",
       "        vertical-align: middle;\n",
       "    }\n",
       "\n",
       "    .dataframe tbody tr th {\n",
       "        vertical-align: top;\n",
       "    }\n",
       "\n",
       "    .dataframe thead th {\n",
       "        text-align: right;\n",
       "    }\n",
       "</style>\n",
       "<table border=\"1\" class=\"dataframe\">\n",
       "  <thead>\n",
       "    <tr style=\"text-align: right;\">\n",
       "      <th></th>\n",
       "      <th>toto</th>\n",
       "      <th>apple</th>\n",
       "      <th>gildong</th>\n",
       "      <th>catanddog</th>\n",
       "    </tr>\n",
       "  </thead>\n",
       "  <tbody>\n",
       "    <tr>\n",
       "      <th>0</th>\n",
       "      <td>1500</td>\n",
       "      <td>4000</td>\n",
       "      <td>2000</td>\n",
       "      <td>7000</td>\n",
       "    </tr>\n",
       "    <tr>\n",
       "      <th>1</th>\n",
       "      <td>3000</td>\n",
       "      <td>5000</td>\n",
       "      <td>2500</td>\n",
       "      <td>5000</td>\n",
       "    </tr>\n",
       "    <tr>\n",
       "      <th>2</th>\n",
       "      <td>5000</td>\n",
       "      <td>6000</td>\n",
       "      <td>3000</td>\n",
       "      <td>3000</td>\n",
       "    </tr>\n",
       "    <tr>\n",
       "      <th>3</th>\n",
       "      <td>7000</td>\n",
       "      <td>5500</td>\n",
       "      <td>4000</td>\n",
       "      <td>5000</td>\n",
       "    </tr>\n",
       "    <tr>\n",
       "      <th>4</th>\n",
       "      <td>5500</td>\n",
       "      <td>4500</td>\n",
       "      <td>3000</td>\n",
       "      <td>4000</td>\n",
       "    </tr>\n",
       "  </tbody>\n",
       "</table>\n",
       "</div>"
      ],
      "text/plain": [
       "   toto  apple  gildong  catanddog\n",
       "0  1500   4000     2000       7000\n",
       "1  3000   5000     2500       5000\n",
       "2  5000   6000     3000       3000\n",
       "3  7000   5500     4000       5000\n",
       "4  5500   4500     3000       4000"
      ]
     },
     "execution_count": 212,
     "metadata": {},
     "output_type": "execute_result"
    }
   ],
   "source": [
    "# 전체 선택\n",
    "team_df.iloc[:,:]"
   ]
  },
  {
   "cell_type": "code",
   "execution_count": 204,
   "id": "0d165a91",
   "metadata": {},
   "outputs": [
    {
     "data": {
      "text/html": [
       "<div>\n",
       "<style scoped>\n",
       "    .dataframe tbody tr th:only-of-type {\n",
       "        vertical-align: middle;\n",
       "    }\n",
       "\n",
       "    .dataframe tbody tr th {\n",
       "        vertical-align: top;\n",
       "    }\n",
       "\n",
       "    .dataframe thead th {\n",
       "        text-align: right;\n",
       "    }\n",
       "</style>\n",
       "<table border=\"1\" class=\"dataframe\">\n",
       "  <thead>\n",
       "    <tr style=\"text-align: right;\">\n",
       "      <th></th>\n",
       "      <th>toto</th>\n",
       "      <th>apple</th>\n",
       "      <th>gildong</th>\n",
       "      <th>catanddog</th>\n",
       "    </tr>\n",
       "  </thead>\n",
       "  <tbody>\n",
       "    <tr>\n",
       "      <th>0</th>\n",
       "      <td>1500</td>\n",
       "      <td>4000</td>\n",
       "      <td>2000</td>\n",
       "      <td>7000</td>\n",
       "    </tr>\n",
       "  </tbody>\n",
       "</table>\n",
       "</div>"
      ],
      "text/plain": [
       "   toto  apple  gildong  catanddog\n",
       "0  1500   4000     2000       7000"
      ]
     },
     "execution_count": 204,
     "metadata": {},
     "output_type": "execute_result"
    }
   ],
   "source": [
    "# 지정선택 / indexing\n",
    "team_df.iloc[[0],:]"
   ]
  },
  {
   "cell_type": "code",
   "execution_count": 213,
   "id": "411f73b1",
   "metadata": {},
   "outputs": [
    {
     "data": {
      "text/plain": [
       "toto         1500\n",
       "apple        4000\n",
       "gildong      2000\n",
       "catanddog    7000\n",
       "Name: 0, dtype: int64"
      ]
     },
     "execution_count": 213,
     "metadata": {},
     "output_type": "execute_result"
    }
   ],
   "source": [
    "# 지정선택 / indexing\n",
    "# 하나 지정선택(indexing)시 대괄호를 사용하지 않으면, 자료형 Series 형태로 가져온다.\n",
    "team_df.iloc[0,:]"
   ]
  },
  {
   "cell_type": "code",
   "execution_count": 217,
   "id": "1d0077a2",
   "metadata": {},
   "outputs": [
    {
     "data": {
      "text/html": [
       "<div>\n",
       "<style scoped>\n",
       "    .dataframe tbody tr th:only-of-type {\n",
       "        vertical-align: middle;\n",
       "    }\n",
       "\n",
       "    .dataframe tbody tr th {\n",
       "        vertical-align: top;\n",
       "    }\n",
       "\n",
       "    .dataframe thead th {\n",
       "        text-align: right;\n",
       "    }\n",
       "</style>\n",
       "<table border=\"1\" class=\"dataframe\">\n",
       "  <thead>\n",
       "    <tr style=\"text-align: right;\">\n",
       "      <th></th>\n",
       "      <th>toto</th>\n",
       "      <th>apple</th>\n",
       "      <th>gildong</th>\n",
       "      <th>catanddog</th>\n",
       "    </tr>\n",
       "  </thead>\n",
       "  <tbody>\n",
       "    <tr>\n",
       "      <th>2</th>\n",
       "      <td>5000</td>\n",
       "      <td>6000</td>\n",
       "      <td>3000</td>\n",
       "      <td>3000</td>\n",
       "    </tr>\n",
       "    <tr>\n",
       "      <th>4</th>\n",
       "      <td>5500</td>\n",
       "      <td>4500</td>\n",
       "      <td>3000</td>\n",
       "      <td>4000</td>\n",
       "    </tr>\n",
       "  </tbody>\n",
       "</table>\n",
       "</div>"
      ],
      "text/plain": [
       "   toto  apple  gildong  catanddog\n",
       "2  5000   6000     3000       3000\n",
       "4  5500   4500     3000       4000"
      ]
     },
     "execution_count": 217,
     "metadata": {},
     "output_type": "execute_result"
    }
   ],
   "source": [
    "# 지정선택 / indexing\n",
    "team_df.iloc[ [2,4],: ]"
   ]
  },
  {
   "cell_type": "code",
   "execution_count": 218,
   "id": "b4777aa2",
   "metadata": {},
   "outputs": [
    {
     "data": {
      "text/html": [
       "<div>\n",
       "<style scoped>\n",
       "    .dataframe tbody tr th:only-of-type {\n",
       "        vertical-align: middle;\n",
       "    }\n",
       "\n",
       "    .dataframe tbody tr th {\n",
       "        vertical-align: top;\n",
       "    }\n",
       "\n",
       "    .dataframe thead th {\n",
       "        text-align: right;\n",
       "    }\n",
       "</style>\n",
       "<table border=\"1\" class=\"dataframe\">\n",
       "  <thead>\n",
       "    <tr style=\"text-align: right;\">\n",
       "      <th></th>\n",
       "      <th>toto</th>\n",
       "      <th>apple</th>\n",
       "      <th>gildong</th>\n",
       "      <th>catanddog</th>\n",
       "    </tr>\n",
       "  </thead>\n",
       "  <tbody>\n",
       "    <tr>\n",
       "      <th>2</th>\n",
       "      <td>5000</td>\n",
       "      <td>6000</td>\n",
       "      <td>3000</td>\n",
       "      <td>3000</td>\n",
       "    </tr>\n",
       "    <tr>\n",
       "      <th>3</th>\n",
       "      <td>7000</td>\n",
       "      <td>5500</td>\n",
       "      <td>4000</td>\n",
       "      <td>5000</td>\n",
       "    </tr>\n",
       "  </tbody>\n",
       "</table>\n",
       "</div>"
      ],
      "text/plain": [
       "   toto  apple  gildong  catanddog\n",
       "2  5000   6000     3000       3000\n",
       "3  7000   5500     4000       5000"
      ]
     },
     "execution_count": 218,
     "metadata": {},
     "output_type": "execute_result"
    }
   ],
   "source": [
    "# 범위선택 / slicing\n",
    "team_df.iloc[ 2:4 , : ]   # 4-1= 3 까지"
   ]
  },
  {
   "cell_type": "code",
   "execution_count": 221,
   "id": "f13fc7fa",
   "metadata": {},
   "outputs": [
    {
     "data": {
      "text/html": [
       "<div>\n",
       "<style scoped>\n",
       "    .dataframe tbody tr th:only-of-type {\n",
       "        vertical-align: middle;\n",
       "    }\n",
       "\n",
       "    .dataframe tbody tr th {\n",
       "        vertical-align: top;\n",
       "    }\n",
       "\n",
       "    .dataframe thead th {\n",
       "        text-align: right;\n",
       "    }\n",
       "</style>\n",
       "<table border=\"1\" class=\"dataframe\">\n",
       "  <thead>\n",
       "    <tr style=\"text-align: right;\">\n",
       "      <th></th>\n",
       "      <th>apple</th>\n",
       "      <th>gildong</th>\n",
       "      <th>catanddog</th>\n",
       "    </tr>\n",
       "  </thead>\n",
       "  <tbody>\n",
       "    <tr>\n",
       "      <th>1</th>\n",
       "      <td>5000</td>\n",
       "      <td>2500</td>\n",
       "      <td>5000</td>\n",
       "    </tr>\n",
       "    <tr>\n",
       "      <th>4</th>\n",
       "      <td>4500</td>\n",
       "      <td>3000</td>\n",
       "      <td>4000</td>\n",
       "    </tr>\n",
       "  </tbody>\n",
       "</table>\n",
       "</div>"
      ],
      "text/plain": [
       "   apple  gildong  catanddog\n",
       "1   5000     2500       5000\n",
       "4   4500     3000       4000"
      ]
     },
     "execution_count": 221,
     "metadata": {},
     "output_type": "execute_result"
    }
   ],
   "source": [
    "# 선택지정(indexing)+ 범위선택(slicing)\n",
    "team_df.iloc[[1,4],1:4]"
   ]
  },
  {
   "cell_type": "markdown",
   "id": "25706005",
   "metadata": {},
   "source": [
    "#### 실습 2-4) loc,iloc이용하여 열에 접근"
   ]
  },
  {
   "cell_type": "code",
   "execution_count": 222,
   "id": "acd08b0d",
   "metadata": {},
   "outputs": [
    {
     "data": {
      "text/html": [
       "<div>\n",
       "<style scoped>\n",
       "    .dataframe tbody tr th:only-of-type {\n",
       "        vertical-align: middle;\n",
       "    }\n",
       "\n",
       "    .dataframe tbody tr th {\n",
       "        vertical-align: top;\n",
       "    }\n",
       "\n",
       "    .dataframe thead th {\n",
       "        text-align: right;\n",
       "    }\n",
       "</style>\n",
       "<table border=\"1\" class=\"dataframe\">\n",
       "  <thead>\n",
       "    <tr style=\"text-align: right;\">\n",
       "      <th></th>\n",
       "      <th>toto</th>\n",
       "      <th>apple</th>\n",
       "      <th>gildong</th>\n",
       "      <th>catanddog</th>\n",
       "    </tr>\n",
       "  </thead>\n",
       "  <tbody>\n",
       "    <tr>\n",
       "      <th>2019-05-01</th>\n",
       "      <td>1500</td>\n",
       "      <td>4000</td>\n",
       "      <td>2000</td>\n",
       "      <td>7000</td>\n",
       "    </tr>\n",
       "    <tr>\n",
       "      <th>2019-05-02</th>\n",
       "      <td>3000</td>\n",
       "      <td>5000</td>\n",
       "      <td>2500</td>\n",
       "      <td>5000</td>\n",
       "    </tr>\n",
       "    <tr>\n",
       "      <th>2019-05-03</th>\n",
       "      <td>5000</td>\n",
       "      <td>6000</td>\n",
       "      <td>3000</td>\n",
       "      <td>3000</td>\n",
       "    </tr>\n",
       "    <tr>\n",
       "      <th>2019-05-04</th>\n",
       "      <td>7000</td>\n",
       "      <td>5500</td>\n",
       "      <td>4000</td>\n",
       "      <td>5000</td>\n",
       "    </tr>\n",
       "    <tr>\n",
       "      <th>2019-05-05</th>\n",
       "      <td>5500</td>\n",
       "      <td>4500</td>\n",
       "      <td>3000</td>\n",
       "      <td>4000</td>\n",
       "    </tr>\n",
       "  </tbody>\n",
       "</table>\n",
       "</div>"
      ],
      "text/plain": [
       "            toto  apple  gildong  catanddog\n",
       "2019-05-01  1500   4000     2000       7000\n",
       "2019-05-02  3000   5000     2500       5000\n",
       "2019-05-03  5000   6000     3000       3000\n",
       "2019-05-04  7000   5500     4000       5000\n",
       "2019-05-05  5500   4500     3000       4000"
      ]
     },
     "execution_count": 222,
     "metadata": {},
     "output_type": "execute_result"
    }
   ],
   "source": [
    "idx_date = pd.date_range(start=\"2019-05-01\",end=\"2019-05-05\").tolist()\n",
    "team_df.index = idx_date\n",
    "team_df"
   ]
  },
  {
   "cell_type": "code",
   "execution_count": 228,
   "id": "1978bdfb",
   "metadata": {},
   "outputs": [
    {
     "name": "stdout",
     "output_type": "stream",
     "text": [
      "toto         3000\n",
      "apple        5000\n",
      "gildong      2500\n",
      "catanddog    5000\n",
      "Name: 2019-05-02 00:00:00, dtype: int64\n",
      "-----------\n",
      "            toto  apple  gildong  catanddog\n",
      "2019-05-02  3000   5000     2500       5000\n",
      "2019-05-03  5000   6000     3000       3000\n",
      "-----------\n",
      "            toto  apple  gildong  catanddog\n",
      "2019-05-02  3000   5000     2500       5000\n",
      "2019-05-03  5000   6000     3000       3000\n",
      "2019-05-04  7000   5500     4000       5000\n",
      "2019-05-05  5500   4500     3000       4000\n"
     ]
    }
   ],
   "source": [
    "print(team_df.loc[ '2019-05-02' ] ) # 19-05-02 일\n",
    "print(\"-----------\")\n",
    "print(team_df.loc[ ['2019-05-02', '2019-05-03'] ]) # 5월 2일, 3일 \n",
    "print(\"-----------\")\n",
    "print(team_df.loc[ '2019-05-02': ])  # 5월 2일 이후 전체 데이터 가져오기"
   ]
  },
  {
   "cell_type": "code",
   "execution_count": 229,
   "id": "926885aa",
   "metadata": {},
   "outputs": [
    {
     "name": "stdout",
     "output_type": "stream",
     "text": [
      "컬러명 :  Index(['toto', 'apple', 'gildong', 'catanddog'], dtype='object')\n",
      "            toto\n",
      "2019-05-01  1500\n",
      "2019-05-02  3000\n",
      "2019-05-03  5000\n",
      "2019-05-04  7000\n",
      "2019-05-05  5500\n",
      "-----\n",
      "            toto  gildong\n",
      "2019-05-01  1500     2000\n",
      "2019-05-02  3000     2500\n",
      "2019-05-03  5000     3000\n",
      "2019-05-04  7000     4000\n",
      "2019-05-05  5500     3000\n",
      "-----\n",
      "            toto  apple  gildong  catanddog\n",
      "2019-05-01  1500   4000     2000       7000\n",
      "2019-05-02  3000   5000     2500       5000\n",
      "2019-05-03  5000   6000     3000       3000\n",
      "2019-05-04  7000   5500     4000       5000\n",
      "2019-05-05  5500   4500     3000       4000\n"
     ]
    }
   ],
   "source": [
    "print('컬러명 : ',team_df.columns)\n",
    "print(team_df.loc[:, ['toto']])   # 전체행, toto팀 \n",
    "print(\"-----\")\n",
    "print(team_df.loc[:, ['toto', 'gildong'] ])   # 전체행, toto, gildong팀\n",
    "print(\"-----\")\n",
    "print(team_df.loc[:, 'toto': ])   # 전체행, toto 부터 끝까지"
   ]
  },
  {
   "cell_type": "code",
   "execution_count": 234,
   "id": "d18ad0f8",
   "metadata": {},
   "outputs": [
    {
     "name": "stdout",
     "output_type": "stream",
     "text": [
      "1번째 행\n",
      " toto         1500\n",
      "apple        4000\n",
      "gildong      2000\n",
      "catanddog    7000\n",
      "Name: 2019-05-01 00:00:00, dtype: int64\n",
      "------\n",
      "1번째,2번째 행\n",
      "             toto  apple  gildong  catanddog\n",
      "2019-05-01  1500   4000     2000       7000\n",
      "2019-05-02  3000   5000     2500       5000\n",
      "------\n",
      "1번째~3번째 행\n",
      "             toto  apple  gildong  catanddog\n",
      "2019-05-01  1500   4000     2000       7000\n",
      "2019-05-02  3000   5000     2500       5000\n",
      "2019-05-03  5000   6000     3000       3000\n",
      "------\n",
      "1번째~3번째 행\n",
      "             toto  apple  gildong  catanddog\n",
      "2019-05-01  1500   4000     2000       7000\n",
      "2019-05-02  3000   5000     2500       5000\n",
      "2019-05-03  5000   6000     3000       3000\n"
     ]
    }
   ],
   "source": [
    "print('1번째 행\\n',team_df.iloc[0])      # 첫번째 행 접근\n",
    "print(\"------\")\n",
    "print('1번째,2번째 행\\n',team_df.iloc[ [0,1] ])  # 첫번째 두번째 행 접근\n",
    "print(\"------\")\n",
    "print('1번째~3번째 행\\n',team_df.iloc[ 0:3:1] )  # 첫번째부터 세번째 행 접근\n",
    "print(\"------\")\n",
    "range_num = list(range(0,3,1))\n",
    "print('1번째~3번째 행\\n',team_df.iloc[ range_num ] )  # 첫번째부터 세번째 행 접근 "
   ]
  },
  {
   "cell_type": "markdown",
   "id": "a5756bd9",
   "metadata": {},
   "source": [
    "### 03 일반 통계 - 합, 평균, 표준편차"
   ]
  },
  {
   "cell_type": "code",
   "execution_count": 235,
   "id": "92a4413e",
   "metadata": {},
   "outputs": [
    {
     "data": {
      "text/html": [
       "<div>\n",
       "<style scoped>\n",
       "    .dataframe tbody tr th:only-of-type {\n",
       "        vertical-align: middle;\n",
       "    }\n",
       "\n",
       "    .dataframe tbody tr th {\n",
       "        vertical-align: top;\n",
       "    }\n",
       "\n",
       "    .dataframe thead th {\n",
       "        text-align: right;\n",
       "    }\n",
       "</style>\n",
       "<table border=\"1\" class=\"dataframe\">\n",
       "  <thead>\n",
       "    <tr style=\"text-align: right;\">\n",
       "      <th></th>\n",
       "      <th>toto</th>\n",
       "      <th>apple</th>\n",
       "      <th>gildong</th>\n",
       "      <th>catanddog</th>\n",
       "    </tr>\n",
       "  </thead>\n",
       "  <tbody>\n",
       "    <tr>\n",
       "      <th>2019-05-01</th>\n",
       "      <td>1500</td>\n",
       "      <td>4000</td>\n",
       "      <td>2000</td>\n",
       "      <td>7000</td>\n",
       "    </tr>\n",
       "    <tr>\n",
       "      <th>2019-05-02</th>\n",
       "      <td>3000</td>\n",
       "      <td>5000</td>\n",
       "      <td>2500</td>\n",
       "      <td>5000</td>\n",
       "    </tr>\n",
       "    <tr>\n",
       "      <th>2019-05-03</th>\n",
       "      <td>5000</td>\n",
       "      <td>6000</td>\n",
       "      <td>3000</td>\n",
       "      <td>3000</td>\n",
       "    </tr>\n",
       "    <tr>\n",
       "      <th>2019-05-04</th>\n",
       "      <td>7000</td>\n",
       "      <td>5500</td>\n",
       "      <td>4000</td>\n",
       "      <td>5000</td>\n",
       "    </tr>\n",
       "    <tr>\n",
       "      <th>2019-05-05</th>\n",
       "      <td>5500</td>\n",
       "      <td>4500</td>\n",
       "      <td>3000</td>\n",
       "      <td>4000</td>\n",
       "    </tr>\n",
       "  </tbody>\n",
       "</table>\n",
       "</div>"
      ],
      "text/plain": [
       "            toto  apple  gildong  catanddog\n",
       "2019-05-01  1500   4000     2000       7000\n",
       "2019-05-02  3000   5000     2500       5000\n",
       "2019-05-03  5000   6000     3000       3000\n",
       "2019-05-04  7000   5500     4000       5000\n",
       "2019-05-05  5500   4500     3000       4000"
      ]
     },
     "execution_count": 235,
     "metadata": {},
     "output_type": "execute_result"
    }
   ],
   "source": [
    "team_df"
   ]
  },
  {
   "cell_type": "code",
   "execution_count": 240,
   "id": "f7fae3f0",
   "metadata": {},
   "outputs": [
    {
     "data": {
      "text/plain": [
       "toto         22000\n",
       "apple        25000\n",
       "gildong      14500\n",
       "catanddog    24000\n",
       "dtype: int64"
      ]
     },
     "execution_count": 240,
     "metadata": {},
     "output_type": "execute_result"
    }
   ],
   "source": [
    "team_df.sum(axis=0)  #axis=0: index별 합"
   ]
  },
  {
   "cell_type": "code",
   "execution_count": 242,
   "id": "b4a905c5",
   "metadata": {},
   "outputs": [
    {
     "data": {
      "text/plain": [
       "2019-05-01    14500\n",
       "2019-05-02    15500\n",
       "2019-05-03    17000\n",
       "2019-05-04    21500\n",
       "2019-05-05    17000\n",
       "dtype: int64"
      ]
     },
     "execution_count": 242,
     "metadata": {},
     "output_type": "execute_result"
    }
   ],
   "source": [
    "team_df.sum(axis=1)  #axis=1: colum별 합"
   ]
  },
  {
   "cell_type": "markdown",
   "id": "52c1047d",
   "metadata": {},
   "source": [
    "#### 실습 3-1) 통계량 구하기"
   ]
  },
  {
   "cell_type": "code",
   "execution_count": 250,
   "id": "2f3f5044",
   "metadata": {},
   "outputs": [
    {
     "name": "stdout",
     "output_type": "stream",
     "text": [
      "<Max>\n",
      " toto         7000\n",
      "apple        6000\n",
      "gildong      4000\n",
      "catanddog    7000\n",
      "dtype: int64\n",
      "\n",
      "<Min>\n",
      " toto         1500\n",
      "apple        4000\n",
      "gildong      2000\n",
      "catanddog    3000\n",
      "dtype: int64\n",
      "\n",
      "<Mean>\n",
      " toto         4400.0\n",
      "apple        5000.0\n",
      "gildong      2900.0\n",
      "catanddog    4800.0\n",
      "dtype: float64\n",
      "\n",
      "<Std Dev>\n",
      " toto         2162.174831\n",
      "apple         790.569415\n",
      "gildong       741.619849\n",
      "catanddog    1483.239697\n",
      "dtype: float64\n",
      "\n",
      "<Var>\n",
      " toto         4675000.0\n",
      "apple         625000.0\n",
      "gildong       550000.0\n",
      "catanddog    2200000.0\n",
      "dtype: float64\n",
      "\n",
      "<중앙값>\n",
      " toto         5000.0\n",
      "apple        5000.0\n",
      "gildong      3000.0\n",
      "catanddog    5000.0\n",
      "dtype: float64\n"
     ]
    }
   ],
   "source": [
    "print( '<Max>\\n',team_df.max(), end='\\n\\n' )\n",
    "print( '<Min>\\n',team_df.min(), end='\\n\\n' )\n",
    "print( '<Mean>\\n',team_df.mean(), end='\\n\\n' )\n",
    "print( '<Std Dev>\\n',team_df.std(), end='\\n\\n' )\n",
    "print( '<Var>\\n',team_df.var(), end='\\n\\n' )\n",
    "print( '<중앙값>\\n',team_df.median())"
   ]
  },
  {
   "cell_type": "code",
   "execution_count": 251,
   "id": "2a49aa63",
   "metadata": {},
   "outputs": [
    {
     "data": {
      "text/plain": [
       "22000"
      ]
     },
     "execution_count": 251,
     "metadata": {},
     "output_type": "execute_result"
    }
   ],
   "source": [
    "team_df['toto'].sum()"
   ]
  },
  {
   "cell_type": "code",
   "execution_count": 258,
   "id": "177df941",
   "metadata": {},
   "outputs": [
    {
     "data": {
      "text/plain": [
       "toto       22000\n",
       "gildong    14500\n",
       "dtype: int64"
      ]
     },
     "execution_count": 258,
     "metadata": {},
     "output_type": "execute_result"
    }
   ],
   "source": [
    "team_df[['toto','gildong']].sum()"
   ]
  },
  {
   "cell_type": "code",
   "execution_count": 253,
   "id": "30d29411",
   "metadata": {},
   "outputs": [
    {
     "data": {
      "text/plain": [
       "toto         5\n",
       "apple        5\n",
       "gildong      5\n",
       "catanddog    5\n",
       "dtype: int64"
      ]
     },
     "execution_count": 253,
     "metadata": {},
     "output_type": "execute_result"
    }
   ],
   "source": [
    "team_df.count()"
   ]
  },
  {
   "cell_type": "code",
   "execution_count": 255,
   "id": "937fe917",
   "metadata": {},
   "outputs": [
    {
     "data": {
      "text/plain": [
       "Index(['toto', 'apple', 'gildong', 'catanddog'], dtype='object')"
      ]
     },
     "execution_count": 255,
     "metadata": {},
     "output_type": "execute_result"
    }
   ],
   "source": [
    "team_df.count().index"
   ]
  },
  {
   "cell_type": "code",
   "execution_count": 256,
   "id": "faa80645",
   "metadata": {},
   "outputs": [
    {
     "data": {
      "text/plain": [
       "array([5, 5, 5, 5])"
      ]
     },
     "execution_count": 256,
     "metadata": {},
     "output_type": "execute_result"
    }
   ],
   "source": [
    "team_df.count().values"
   ]
  },
  {
   "cell_type": "code",
   "execution_count": 257,
   "id": "ee73021e",
   "metadata": {},
   "outputs": [],
   "source": [
    "import seaborn as sns"
   ]
  },
  {
   "cell_type": "code",
   "execution_count": 259,
   "id": "3dd998b1",
   "metadata": {},
   "outputs": [
    {
     "ename": "NameError",
     "evalue": "name 'team' is not defined",
     "output_type": "error",
     "traceback": [
      "\u001b[0;31m---------------------------------------------------------------------------\u001b[0m",
      "\u001b[0;31mNameError\u001b[0m                                 Traceback (most recent call last)",
      "\u001b[0;32m<ipython-input-259-ab8db04569e9>\u001b[0m in \u001b[0;36m<module>\u001b[0;34m\u001b[0m\n\u001b[0;32m----> 1\u001b[0;31m \u001b[0msns\u001b[0m\u001b[0;34m.\u001b[0m\u001b[0mheatmap\u001b[0m\u001b[0;34m(\u001b[0m\u001b[0mteam\u001b[0m\u001b[0;34m)\u001b[0m\u001b[0;34m\u001b[0m\u001b[0;34m\u001b[0m\u001b[0m\n\u001b[0m",
      "\u001b[0;31mNameError\u001b[0m: name 'team' is not defined"
     ]
    }
   ],
   "source": [
    "sns.heatmap(team)"
   ]
  },
  {
   "cell_type": "markdown",
   "id": "b6d76815",
   "metadata": {},
   "source": [
    "#### 실습 3-2) apple과 catanddog의 sum(),mean(),std()"
   ]
  },
  {
   "cell_type": "code",
   "execution_count": 267,
   "id": "ede77291",
   "metadata": {},
   "outputs": [
    {
     "name": "stdout",
     "output_type": "stream",
     "text": [
      "<합>\n",
      " apple        25000\n",
      "catanddog    24000\n",
      "dtype: int64\n",
      "\n",
      "<평균>\n",
      " apple        5000.0\n",
      "catanddog    4800.0\n",
      "dtype: float64\n",
      "\n",
      "<표준편차>\n",
      " apple         790.569415\n",
      "catanddog    1483.239697\n",
      "dtype: float64\n"
     ]
    }
   ],
   "source": [
    "print('<합>\\n',team_df[['apple','catanddog']].sum())\n",
    "print('\\n<평균>\\n',team_df[['apple','catanddog']].mean())\n",
    "print('\\n<표준편차>\\n',team_df[['apple','catanddog']].std())\n"
   ]
  },
  {
   "cell_type": "markdown",
   "id": "e0da84d9",
   "metadata": {},
   "source": [
    "#### 실습 3-3) team_df의 sum()을 구하고 기존의 team_df에 추가해 보자."
   ]
  },
  {
   "cell_type": "code",
   "execution_count": 345,
   "id": "2d74503e",
   "metadata": {},
   "outputs": [
    {
     "name": "stdout",
     "output_type": "stream",
     "text": [
      "2019-05-01    14500\n",
      "2019-05-02    15500\n",
      "2019-05-03    17000\n",
      "2019-05-04    21500\n",
      "2019-05-05    17000\n",
      "dtype: int64\n",
      "            toto  apple  gildong  catanddog    sum\n",
      "2019-05-01  1500   4000     2000       7000  14500\n",
      "2019-05-02  3000   5000     2500       5000  15500\n",
      "2019-05-03  5000   6000     3000       3000  17000\n",
      "2019-05-04  7000   5500     4000       5000  21500\n",
      "2019-05-05  5500   4500     3000       4000  17000\n"
     ]
    }
   ],
   "source": [
    "sum = team_df[['toto','apple','gildong','catanddog']].sum(axis=1)\n",
    "team_df['sum'] = sum\n",
    "print(sum)\n",
    "print(team_df)"
   ]
  },
  {
   "cell_type": "code",
   "execution_count": 347,
   "id": "602c96c0",
   "metadata": {},
   "outputs": [
    {
     "data": {
      "text/html": [
       "<div>\n",
       "<style scoped>\n",
       "    .dataframe tbody tr th:only-of-type {\n",
       "        vertical-align: middle;\n",
       "    }\n",
       "\n",
       "    .dataframe tbody tr th {\n",
       "        vertical-align: top;\n",
       "    }\n",
       "\n",
       "    .dataframe thead th {\n",
       "        text-align: right;\n",
       "    }\n",
       "</style>\n",
       "<table border=\"1\" class=\"dataframe\">\n",
       "  <thead>\n",
       "    <tr style=\"text-align: right;\">\n",
       "      <th></th>\n",
       "      <th>toto</th>\n",
       "      <th>apple</th>\n",
       "      <th>gildong</th>\n",
       "      <th>catanddog</th>\n",
       "      <th>sum</th>\n",
       "      <th>rowsum</th>\n",
       "    </tr>\n",
       "  </thead>\n",
       "  <tbody>\n",
       "    <tr>\n",
       "      <th>2019-05-01</th>\n",
       "      <td>1500</td>\n",
       "      <td>4000</td>\n",
       "      <td>2000</td>\n",
       "      <td>7000</td>\n",
       "      <td>14500</td>\n",
       "      <td>14500</td>\n",
       "    </tr>\n",
       "    <tr>\n",
       "      <th>2019-05-02</th>\n",
       "      <td>3000</td>\n",
       "      <td>5000</td>\n",
       "      <td>2500</td>\n",
       "      <td>5000</td>\n",
       "      <td>15500</td>\n",
       "      <td>15500</td>\n",
       "    </tr>\n",
       "    <tr>\n",
       "      <th>2019-05-03</th>\n",
       "      <td>5000</td>\n",
       "      <td>6000</td>\n",
       "      <td>3000</td>\n",
       "      <td>3000</td>\n",
       "      <td>17000</td>\n",
       "      <td>17000</td>\n",
       "    </tr>\n",
       "    <tr>\n",
       "      <th>2019-05-04</th>\n",
       "      <td>7000</td>\n",
       "      <td>5500</td>\n",
       "      <td>4000</td>\n",
       "      <td>5000</td>\n",
       "      <td>21500</td>\n",
       "      <td>21500</td>\n",
       "    </tr>\n",
       "    <tr>\n",
       "      <th>2019-05-05</th>\n",
       "      <td>5500</td>\n",
       "      <td>4500</td>\n",
       "      <td>3000</td>\n",
       "      <td>4000</td>\n",
       "      <td>17000</td>\n",
       "      <td>17000</td>\n",
       "    </tr>\n",
       "  </tbody>\n",
       "</table>\n",
       "</div>"
      ],
      "text/plain": [
       "            toto  apple  gildong  catanddog    sum  rowsum\n",
       "2019-05-01  1500   4000     2000       7000  14500   14500\n",
       "2019-05-02  3000   5000     2500       5000  15500   15500\n",
       "2019-05-03  5000   6000     3000       3000  17000   17000\n",
       "2019-05-04  7000   5500     4000       5000  21500   21500\n",
       "2019-05-05  5500   4500     3000       4000  17000   17000"
      ]
     },
     "execution_count": 347,
     "metadata": {},
     "output_type": "execute_result"
    }
   ],
   "source": [
    "team_df['rowsum'] = team_df.loc[:,'toto':'catanddog'].sum(axis=1)\n",
    "#del team_df['rowsum']\n",
    "team_df"
   ]
  },
  {
   "cell_type": "code",
   "execution_count": 349,
   "id": "dc16e648",
   "metadata": {},
   "outputs": [
    {
     "data": {
      "text/html": [
       "<div>\n",
       "<style scoped>\n",
       "    .dataframe tbody tr th:only-of-type {\n",
       "        vertical-align: middle;\n",
       "    }\n",
       "\n",
       "    .dataframe tbody tr th {\n",
       "        vertical-align: top;\n",
       "    }\n",
       "\n",
       "    .dataframe thead th {\n",
       "        text-align: right;\n",
       "    }\n",
       "</style>\n",
       "<table border=\"1\" class=\"dataframe\">\n",
       "  <thead>\n",
       "    <tr style=\"text-align: right;\">\n",
       "      <th></th>\n",
       "      <th>toto</th>\n",
       "      <th>apple</th>\n",
       "      <th>gildong</th>\n",
       "      <th>catanddog</th>\n",
       "      <th>sum</th>\n",
       "      <th>rowsum</th>\n",
       "    </tr>\n",
       "  </thead>\n",
       "  <tbody>\n",
       "    <tr>\n",
       "      <th>2019-05-01</th>\n",
       "      <td>1500</td>\n",
       "      <td>4000</td>\n",
       "      <td>2000</td>\n",
       "      <td>7000</td>\n",
       "      <td>14500</td>\n",
       "      <td>14500</td>\n",
       "    </tr>\n",
       "    <tr>\n",
       "      <th>2019-05-02</th>\n",
       "      <td>3000</td>\n",
       "      <td>5000</td>\n",
       "      <td>2500</td>\n",
       "      <td>5000</td>\n",
       "      <td>15500</td>\n",
       "      <td>15500</td>\n",
       "    </tr>\n",
       "    <tr>\n",
       "      <th>2019-05-03</th>\n",
       "      <td>5000</td>\n",
       "      <td>6000</td>\n",
       "      <td>3000</td>\n",
       "      <td>3000</td>\n",
       "      <td>17000</td>\n",
       "      <td>17000</td>\n",
       "    </tr>\n",
       "    <tr>\n",
       "      <th>2019-05-04</th>\n",
       "      <td>7000</td>\n",
       "      <td>5500</td>\n",
       "      <td>4000</td>\n",
       "      <td>5000</td>\n",
       "      <td>21500</td>\n",
       "      <td>21500</td>\n",
       "    </tr>\n",
       "    <tr>\n",
       "      <th>2019-05-05</th>\n",
       "      <td>5500</td>\n",
       "      <td>4500</td>\n",
       "      <td>3000</td>\n",
       "      <td>4000</td>\n",
       "      <td>17000</td>\n",
       "      <td>17000</td>\n",
       "    </tr>\n",
       "  </tbody>\n",
       "</table>\n",
       "</div>"
      ],
      "text/plain": [
       "            toto  apple  gildong  catanddog    sum  rowsum\n",
       "2019-05-01  1500   4000     2000       7000  14500   14500\n",
       "2019-05-02  3000   5000     2500       5000  15500   15500\n",
       "2019-05-03  5000   6000     3000       3000  17000   17000\n",
       "2019-05-04  7000   5500     4000       5000  21500   21500\n",
       "2019-05-05  5500   4500     3000       4000  17000   17000"
      ]
     },
     "execution_count": 349,
     "metadata": {},
     "output_type": "execute_result"
    }
   ],
   "source": [
    "team_df"
   ]
  },
  {
   "cell_type": "code",
   "execution_count": 350,
   "id": "a57840f5",
   "metadata": {},
   "outputs": [
    {
     "data": {
      "text/html": [
       "<div>\n",
       "<style scoped>\n",
       "    .dataframe tbody tr th:only-of-type {\n",
       "        vertical-align: middle;\n",
       "    }\n",
       "\n",
       "    .dataframe tbody tr th {\n",
       "        vertical-align: top;\n",
       "    }\n",
       "\n",
       "    .dataframe thead th {\n",
       "        text-align: right;\n",
       "    }\n",
       "</style>\n",
       "<table border=\"1\" class=\"dataframe\">\n",
       "  <thead>\n",
       "    <tr style=\"text-align: right;\">\n",
       "      <th></th>\n",
       "      <th>toto</th>\n",
       "      <th>apple</th>\n",
       "      <th>gildong</th>\n",
       "      <th>catanddog</th>\n",
       "      <th>sum</th>\n",
       "      <th>rowsum</th>\n",
       "    </tr>\n",
       "  </thead>\n",
       "  <tbody>\n",
       "    <tr>\n",
       "      <th>2019-05-01</th>\n",
       "      <td>1500</td>\n",
       "      <td>4000</td>\n",
       "      <td>2000</td>\n",
       "      <td>7000</td>\n",
       "      <td>14500</td>\n",
       "      <td>14500</td>\n",
       "    </tr>\n",
       "    <tr>\n",
       "      <th>2019-05-02</th>\n",
       "      <td>4500</td>\n",
       "      <td>9000</td>\n",
       "      <td>4500</td>\n",
       "      <td>12000</td>\n",
       "      <td>30000</td>\n",
       "      <td>30000</td>\n",
       "    </tr>\n",
       "    <tr>\n",
       "      <th>2019-05-03</th>\n",
       "      <td>9500</td>\n",
       "      <td>15000</td>\n",
       "      <td>7500</td>\n",
       "      <td>15000</td>\n",
       "      <td>47000</td>\n",
       "      <td>47000</td>\n",
       "    </tr>\n",
       "    <tr>\n",
       "      <th>2019-05-04</th>\n",
       "      <td>16500</td>\n",
       "      <td>20500</td>\n",
       "      <td>11500</td>\n",
       "      <td>20000</td>\n",
       "      <td>68500</td>\n",
       "      <td>68500</td>\n",
       "    </tr>\n",
       "    <tr>\n",
       "      <th>2019-05-05</th>\n",
       "      <td>22000</td>\n",
       "      <td>25000</td>\n",
       "      <td>14500</td>\n",
       "      <td>24000</td>\n",
       "      <td>85500</td>\n",
       "      <td>85500</td>\n",
       "    </tr>\n",
       "  </tbody>\n",
       "</table>\n",
       "</div>"
      ],
      "text/plain": [
       "             toto  apple  gildong  catanddog    sum  rowsum\n",
       "2019-05-01   1500   4000     2000       7000  14500   14500\n",
       "2019-05-02   4500   9000     4500      12000  30000   30000\n",
       "2019-05-03   9500  15000     7500      15000  47000   47000\n",
       "2019-05-04  16500  20500    11500      20000  68500   68500\n",
       "2019-05-05  22000  25000    14500      24000  85500   85500"
      ]
     },
     "execution_count": 350,
     "metadata": {},
     "output_type": "execute_result"
    }
   ],
   "source": [
    "team_df.cumsum() # index가 증가할 수록(index = 날짜, 날이 지날수록) 값이 누적돼서 출력"
   ]
  },
  {
   "cell_type": "markdown",
   "id": "1f0b21d5",
   "metadata": {},
   "source": [
    "#### 실습 3-4) Titanic 예제\n",
    "* 행 선택, 열 선택, 통계 값 구하기(sum(), mean(), count() ) 그리고 이에 대한 통계량을 추가해보기"
   ]
  },
  {
   "cell_type": "code",
   "execution_count": 324,
   "id": "15bd3905",
   "metadata": {},
   "outputs": [
    {
     "data": {
      "text/html": [
       "<div>\n",
       "<style scoped>\n",
       "    .dataframe tbody tr th:only-of-type {\n",
       "        vertical-align: middle;\n",
       "    }\n",
       "\n",
       "    .dataframe tbody tr th {\n",
       "        vertical-align: top;\n",
       "    }\n",
       "\n",
       "    .dataframe thead th {\n",
       "        text-align: right;\n",
       "    }\n",
       "</style>\n",
       "<table border=\"1\" class=\"dataframe\">\n",
       "  <thead>\n",
       "    <tr style=\"text-align: right;\">\n",
       "      <th></th>\n",
       "      <th>survived</th>\n",
       "      <th>pclass</th>\n",
       "      <th>sex</th>\n",
       "      <th>age</th>\n",
       "      <th>sibsp</th>\n",
       "      <th>parch</th>\n",
       "      <th>fare</th>\n",
       "      <th>embarked</th>\n",
       "      <th>class</th>\n",
       "      <th>who</th>\n",
       "      <th>adult_male</th>\n",
       "      <th>deck</th>\n",
       "      <th>embark_town</th>\n",
       "      <th>alive</th>\n",
       "      <th>alone</th>\n",
       "    </tr>\n",
       "  </thead>\n",
       "  <tbody>\n",
       "    <tr>\n",
       "      <th>0</th>\n",
       "      <td>0</td>\n",
       "      <td>3</td>\n",
       "      <td>male</td>\n",
       "      <td>22.0</td>\n",
       "      <td>1</td>\n",
       "      <td>0</td>\n",
       "      <td>7.2500</td>\n",
       "      <td>S</td>\n",
       "      <td>Third</td>\n",
       "      <td>man</td>\n",
       "      <td>True</td>\n",
       "      <td>NaN</td>\n",
       "      <td>Southampton</td>\n",
       "      <td>no</td>\n",
       "      <td>False</td>\n",
       "    </tr>\n",
       "    <tr>\n",
       "      <th>1</th>\n",
       "      <td>1</td>\n",
       "      <td>1</td>\n",
       "      <td>female</td>\n",
       "      <td>38.0</td>\n",
       "      <td>1</td>\n",
       "      <td>0</td>\n",
       "      <td>71.2833</td>\n",
       "      <td>C</td>\n",
       "      <td>First</td>\n",
       "      <td>woman</td>\n",
       "      <td>False</td>\n",
       "      <td>C</td>\n",
       "      <td>Cherbourg</td>\n",
       "      <td>yes</td>\n",
       "      <td>False</td>\n",
       "    </tr>\n",
       "    <tr>\n",
       "      <th>2</th>\n",
       "      <td>1</td>\n",
       "      <td>3</td>\n",
       "      <td>female</td>\n",
       "      <td>26.0</td>\n",
       "      <td>0</td>\n",
       "      <td>0</td>\n",
       "      <td>7.9250</td>\n",
       "      <td>S</td>\n",
       "      <td>Third</td>\n",
       "      <td>woman</td>\n",
       "      <td>False</td>\n",
       "      <td>NaN</td>\n",
       "      <td>Southampton</td>\n",
       "      <td>yes</td>\n",
       "      <td>True</td>\n",
       "    </tr>\n",
       "    <tr>\n",
       "      <th>3</th>\n",
       "      <td>1</td>\n",
       "      <td>1</td>\n",
       "      <td>female</td>\n",
       "      <td>35.0</td>\n",
       "      <td>1</td>\n",
       "      <td>0</td>\n",
       "      <td>53.1000</td>\n",
       "      <td>S</td>\n",
       "      <td>First</td>\n",
       "      <td>woman</td>\n",
       "      <td>False</td>\n",
       "      <td>C</td>\n",
       "      <td>Southampton</td>\n",
       "      <td>yes</td>\n",
       "      <td>False</td>\n",
       "    </tr>\n",
       "    <tr>\n",
       "      <th>4</th>\n",
       "      <td>0</td>\n",
       "      <td>3</td>\n",
       "      <td>male</td>\n",
       "      <td>35.0</td>\n",
       "      <td>0</td>\n",
       "      <td>0</td>\n",
       "      <td>8.0500</td>\n",
       "      <td>S</td>\n",
       "      <td>Third</td>\n",
       "      <td>man</td>\n",
       "      <td>True</td>\n",
       "      <td>NaN</td>\n",
       "      <td>Southampton</td>\n",
       "      <td>no</td>\n",
       "      <td>True</td>\n",
       "    </tr>\n",
       "    <tr>\n",
       "      <th>...</th>\n",
       "      <td>...</td>\n",
       "      <td>...</td>\n",
       "      <td>...</td>\n",
       "      <td>...</td>\n",
       "      <td>...</td>\n",
       "      <td>...</td>\n",
       "      <td>...</td>\n",
       "      <td>...</td>\n",
       "      <td>...</td>\n",
       "      <td>...</td>\n",
       "      <td>...</td>\n",
       "      <td>...</td>\n",
       "      <td>...</td>\n",
       "      <td>...</td>\n",
       "      <td>...</td>\n",
       "    </tr>\n",
       "    <tr>\n",
       "      <th>886</th>\n",
       "      <td>0</td>\n",
       "      <td>2</td>\n",
       "      <td>male</td>\n",
       "      <td>27.0</td>\n",
       "      <td>0</td>\n",
       "      <td>0</td>\n",
       "      <td>13.0000</td>\n",
       "      <td>S</td>\n",
       "      <td>Second</td>\n",
       "      <td>man</td>\n",
       "      <td>True</td>\n",
       "      <td>NaN</td>\n",
       "      <td>Southampton</td>\n",
       "      <td>no</td>\n",
       "      <td>True</td>\n",
       "    </tr>\n",
       "    <tr>\n",
       "      <th>887</th>\n",
       "      <td>1</td>\n",
       "      <td>1</td>\n",
       "      <td>female</td>\n",
       "      <td>19.0</td>\n",
       "      <td>0</td>\n",
       "      <td>0</td>\n",
       "      <td>30.0000</td>\n",
       "      <td>S</td>\n",
       "      <td>First</td>\n",
       "      <td>woman</td>\n",
       "      <td>False</td>\n",
       "      <td>B</td>\n",
       "      <td>Southampton</td>\n",
       "      <td>yes</td>\n",
       "      <td>True</td>\n",
       "    </tr>\n",
       "    <tr>\n",
       "      <th>888</th>\n",
       "      <td>0</td>\n",
       "      <td>3</td>\n",
       "      <td>female</td>\n",
       "      <td>NaN</td>\n",
       "      <td>1</td>\n",
       "      <td>2</td>\n",
       "      <td>23.4500</td>\n",
       "      <td>S</td>\n",
       "      <td>Third</td>\n",
       "      <td>woman</td>\n",
       "      <td>False</td>\n",
       "      <td>NaN</td>\n",
       "      <td>Southampton</td>\n",
       "      <td>no</td>\n",
       "      <td>False</td>\n",
       "    </tr>\n",
       "    <tr>\n",
       "      <th>889</th>\n",
       "      <td>1</td>\n",
       "      <td>1</td>\n",
       "      <td>male</td>\n",
       "      <td>26.0</td>\n",
       "      <td>0</td>\n",
       "      <td>0</td>\n",
       "      <td>30.0000</td>\n",
       "      <td>C</td>\n",
       "      <td>First</td>\n",
       "      <td>man</td>\n",
       "      <td>True</td>\n",
       "      <td>C</td>\n",
       "      <td>Cherbourg</td>\n",
       "      <td>yes</td>\n",
       "      <td>True</td>\n",
       "    </tr>\n",
       "    <tr>\n",
       "      <th>890</th>\n",
       "      <td>0</td>\n",
       "      <td>3</td>\n",
       "      <td>male</td>\n",
       "      <td>32.0</td>\n",
       "      <td>0</td>\n",
       "      <td>0</td>\n",
       "      <td>7.7500</td>\n",
       "      <td>Q</td>\n",
       "      <td>Third</td>\n",
       "      <td>man</td>\n",
       "      <td>True</td>\n",
       "      <td>NaN</td>\n",
       "      <td>Queenstown</td>\n",
       "      <td>no</td>\n",
       "      <td>True</td>\n",
       "    </tr>\n",
       "  </tbody>\n",
       "</table>\n",
       "<p>891 rows × 15 columns</p>\n",
       "</div>"
      ],
      "text/plain": [
       "     survived  pclass     sex   age  sibsp  parch     fare embarked   class  \\\n",
       "0           0       3    male  22.0      1      0   7.2500        S   Third   \n",
       "1           1       1  female  38.0      1      0  71.2833        C   First   \n",
       "2           1       3  female  26.0      0      0   7.9250        S   Third   \n",
       "3           1       1  female  35.0      1      0  53.1000        S   First   \n",
       "4           0       3    male  35.0      0      0   8.0500        S   Third   \n",
       "..        ...     ...     ...   ...    ...    ...      ...      ...     ...   \n",
       "886         0       2    male  27.0      0      0  13.0000        S  Second   \n",
       "887         1       1  female  19.0      0      0  30.0000        S   First   \n",
       "888         0       3  female   NaN      1      2  23.4500        S   Third   \n",
       "889         1       1    male  26.0      0      0  30.0000        C   First   \n",
       "890         0       3    male  32.0      0      0   7.7500        Q   Third   \n",
       "\n",
       "       who  adult_male deck  embark_town alive  alone  \n",
       "0      man        True  NaN  Southampton    no  False  \n",
       "1    woman       False    C    Cherbourg   yes  False  \n",
       "2    woman       False  NaN  Southampton   yes   True  \n",
       "3    woman       False    C  Southampton   yes  False  \n",
       "4      man        True  NaN  Southampton    no   True  \n",
       "..     ...         ...  ...          ...   ...    ...  \n",
       "886    man        True  NaN  Southampton    no   True  \n",
       "887  woman       False    B  Southampton   yes   True  \n",
       "888  woman       False  NaN  Southampton    no  False  \n",
       "889    man        True    C    Cherbourg   yes   True  \n",
       "890    man        True  NaN   Queenstown    no   True  \n",
       "\n",
       "[891 rows x 15 columns]"
      ]
     },
     "execution_count": 324,
     "metadata": {},
     "output_type": "execute_result"
    }
   ],
   "source": [
    "import seaborn as sns\n",
    "t = sns.load_dataset(\"titanic\")\n",
    "t"
   ]
  },
  {
   "cell_type": "code",
   "execution_count": 356,
   "id": "0a194b52",
   "metadata": {},
   "outputs": [
    {
     "data": {
      "text/html": [
       "<div>\n",
       "<style scoped>\n",
       "    .dataframe tbody tr th:only-of-type {\n",
       "        vertical-align: middle;\n",
       "    }\n",
       "\n",
       "    .dataframe tbody tr th {\n",
       "        vertical-align: top;\n",
       "    }\n",
       "\n",
       "    .dataframe thead th {\n",
       "        text-align: right;\n",
       "    }\n",
       "</style>\n",
       "<table border=\"1\" class=\"dataframe\">\n",
       "  <thead>\n",
       "    <tr style=\"text-align: right;\">\n",
       "      <th></th>\n",
       "      <th>survived</th>\n",
       "      <th>sex</th>\n",
       "      <th>age</th>\n",
       "      <th>fare</th>\n",
       "      <th>class</th>\n",
       "    </tr>\n",
       "  </thead>\n",
       "  <tbody>\n",
       "    <tr>\n",
       "      <th>10</th>\n",
       "      <td>1</td>\n",
       "      <td>female</td>\n",
       "      <td>4.0</td>\n",
       "      <td>16.7000</td>\n",
       "      <td>Third</td>\n",
       "    </tr>\n",
       "    <tr>\n",
       "      <th>11</th>\n",
       "      <td>1</td>\n",
       "      <td>female</td>\n",
       "      <td>58.0</td>\n",
       "      <td>26.5500</td>\n",
       "      <td>First</td>\n",
       "    </tr>\n",
       "    <tr>\n",
       "      <th>12</th>\n",
       "      <td>0</td>\n",
       "      <td>male</td>\n",
       "      <td>20.0</td>\n",
       "      <td>8.0500</td>\n",
       "      <td>Third</td>\n",
       "    </tr>\n",
       "    <tr>\n",
       "      <th>13</th>\n",
       "      <td>0</td>\n",
       "      <td>male</td>\n",
       "      <td>39.0</td>\n",
       "      <td>31.2750</td>\n",
       "      <td>Third</td>\n",
       "    </tr>\n",
       "    <tr>\n",
       "      <th>14</th>\n",
       "      <td>0</td>\n",
       "      <td>female</td>\n",
       "      <td>14.0</td>\n",
       "      <td>7.8542</td>\n",
       "      <td>Third</td>\n",
       "    </tr>\n",
       "    <tr>\n",
       "      <th>15</th>\n",
       "      <td>1</td>\n",
       "      <td>female</td>\n",
       "      <td>55.0</td>\n",
       "      <td>16.0000</td>\n",
       "      <td>Second</td>\n",
       "    </tr>\n",
       "    <tr>\n",
       "      <th>16</th>\n",
       "      <td>0</td>\n",
       "      <td>male</td>\n",
       "      <td>2.0</td>\n",
       "      <td>29.1250</td>\n",
       "      <td>Third</td>\n",
       "    </tr>\n",
       "    <tr>\n",
       "      <th>17</th>\n",
       "      <td>1</td>\n",
       "      <td>male</td>\n",
       "      <td>NaN</td>\n",
       "      <td>13.0000</td>\n",
       "      <td>Second</td>\n",
       "    </tr>\n",
       "    <tr>\n",
       "      <th>18</th>\n",
       "      <td>0</td>\n",
       "      <td>female</td>\n",
       "      <td>31.0</td>\n",
       "      <td>18.0000</td>\n",
       "      <td>Third</td>\n",
       "    </tr>\n",
       "    <tr>\n",
       "      <th>19</th>\n",
       "      <td>1</td>\n",
       "      <td>female</td>\n",
       "      <td>NaN</td>\n",
       "      <td>7.2250</td>\n",
       "      <td>Third</td>\n",
       "    </tr>\n",
       "    <tr>\n",
       "      <th>20</th>\n",
       "      <td>0</td>\n",
       "      <td>male</td>\n",
       "      <td>35.0</td>\n",
       "      <td>26.0000</td>\n",
       "      <td>Second</td>\n",
       "    </tr>\n",
       "  </tbody>\n",
       "</table>\n",
       "</div>"
      ],
      "text/plain": [
       "    survived     sex   age     fare   class\n",
       "10         1  female   4.0  16.7000   Third\n",
       "11         1  female  58.0  26.5500   First\n",
       "12         0    male  20.0   8.0500   Third\n",
       "13         0    male  39.0  31.2750   Third\n",
       "14         0  female  14.0   7.8542   Third\n",
       "15         1  female  55.0  16.0000  Second\n",
       "16         0    male   2.0  29.1250   Third\n",
       "17         1    male   NaN  13.0000  Second\n",
       "18         0  female  31.0  18.0000   Third\n",
       "19         1  female   NaN   7.2250   Third\n",
       "20         0    male  35.0  26.0000  Second"
      ]
     },
     "execution_count": 356,
     "metadata": {},
     "output_type": "execute_result"
    }
   ],
   "source": [
    "t_ten = t.loc[10:20,['survived','sex','age','fare','class']]\n",
    "t_ten"
   ]
  },
  {
   "cell_type": "code",
   "execution_count": 361,
   "id": "81a2d6fd",
   "metadata": {},
   "outputs": [
    {
     "name": "stdout",
     "output_type": "stream",
     "text": [
      "<평균값>\n",
      " survived     0.454545\n",
      "age         28.666667\n",
      "fare        18.161745\n",
      "dtype: float64\n",
      "\n",
      "<최댓값>\n",
      " survived         1\n",
      "sex           male\n",
      "age           58.0\n",
      "fare        31.275\n",
      "dtype: object\n",
      "\n",
      "<최솟값>\n",
      " survived         0\n",
      "sex         female\n",
      "age            2.0\n",
      "fare         7.225\n",
      "dtype: object\n",
      "\n",
      "<합계>\n",
      " survived                                                    5\n",
      "sex         femalefemalemalemalefemalefemalemalemalefemale...\n",
      "age                                                     258.0\n",
      "fare                                                 199.7792\n",
      "dtype: object\n"
     ]
    }
   ],
   "source": [
    "print(\"<평균값>\\n\",t_ten.mean())\n",
    "print(\"\\n<최댓값>\\n\",t_ten.max())\n",
    "print(\"\\n<최솟값>\\n\",t_ten.min())\n",
    "print(\"\\n<합계>\\n\",t_ten.sum(axis=0)) # 생존자 인원수 확인용"
   ]
  }
 ],
 "metadata": {
  "kernelspec": {
   "display_name": "Python 3",
   "language": "python",
   "name": "python3"
  },
  "language_info": {
   "codemirror_mode": {
    "name": "ipython",
    "version": 3
   },
   "file_extension": ".py",
   "mimetype": "text/x-python",
   "name": "python",
   "nbconvert_exporter": "python",
   "pygments_lexer": "ipython3",
   "version": "3.8.8"
  }
 },
 "nbformat": 4,
 "nbformat_minor": 5
}
