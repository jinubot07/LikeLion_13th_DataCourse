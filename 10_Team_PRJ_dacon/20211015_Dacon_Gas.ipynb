{
  "nbformat": 4,
  "nbformat_minor": 0,
  "metadata": {
    "colab": {
      "name": "20211015_Dacon_Gas.ipynb",
      "provenance": []
    },
    "kernelspec": {
      "name": "python3",
      "display_name": "Python 3"
    },
    "language_info": {
      "name": "python"
    }
  },
  "cells": [
    {
      "cell_type": "code",
      "metadata": {
        "id": "WbD4cSvTNp-H"
      },
      "source": [
        "#  ref : https://dacon.io/competitions/official/235830/codeshare/3485?page=1&dtype=recent"
      ],
      "execution_count": 16,
      "outputs": []
    },
    {
      "cell_type": "code",
      "metadata": {
        "id": "G6rFcZiANv9_"
      },
      "source": [
        "import pandas as pd\n",
        "import numpy as np\n",
        "import matplotlib.pyplot as plt\n",
        "import lightgbm as lgb"
      ],
      "execution_count": 1,
      "outputs": []
    },
    {
      "cell_type": "code",
      "metadata": {
        "id": "di4gkzkVNzs2"
      },
      "source": [
        "total = pd.read_csv('./data_set/한국가스공사_시간별 공급량_20181231.csv', encoding='cp949')"
      ],
      "execution_count": 3,
      "outputs": []
    },
    {
      "cell_type": "code",
      "metadata": {
        "colab": {
          "base_uri": "https://localhost:8080/",
          "height": 204
        },
        "id": "Ol-y00BqN1XH",
        "outputId": "93118f3d-073b-4d35-ce76-ec97570dc095"
      },
      "source": [
        "total.head()"
      ],
      "execution_count": 4,
      "outputs": [
        {
          "output_type": "execute_result",
          "data": {
            "text/html": [
              "<div>\n",
              "<style scoped>\n",
              "    .dataframe tbody tr th:only-of-type {\n",
              "        vertical-align: middle;\n",
              "    }\n",
              "\n",
              "    .dataframe tbody tr th {\n",
              "        vertical-align: top;\n",
              "    }\n",
              "\n",
              "    .dataframe thead th {\n",
              "        text-align: right;\n",
              "    }\n",
              "</style>\n",
              "<table border=\"1\" class=\"dataframe\">\n",
              "  <thead>\n",
              "    <tr style=\"text-align: right;\">\n",
              "      <th></th>\n",
              "      <th>연월일</th>\n",
              "      <th>시간</th>\n",
              "      <th>구분</th>\n",
              "      <th>공급량</th>\n",
              "    </tr>\n",
              "  </thead>\n",
              "  <tbody>\n",
              "    <tr>\n",
              "      <th>0</th>\n",
              "      <td>2013-01-01</td>\n",
              "      <td>1</td>\n",
              "      <td>A</td>\n",
              "      <td>2497.129</td>\n",
              "    </tr>\n",
              "    <tr>\n",
              "      <th>1</th>\n",
              "      <td>2013-01-01</td>\n",
              "      <td>2</td>\n",
              "      <td>A</td>\n",
              "      <td>2363.265</td>\n",
              "    </tr>\n",
              "    <tr>\n",
              "      <th>2</th>\n",
              "      <td>2013-01-01</td>\n",
              "      <td>3</td>\n",
              "      <td>A</td>\n",
              "      <td>2258.505</td>\n",
              "    </tr>\n",
              "    <tr>\n",
              "      <th>3</th>\n",
              "      <td>2013-01-01</td>\n",
              "      <td>4</td>\n",
              "      <td>A</td>\n",
              "      <td>2243.969</td>\n",
              "    </tr>\n",
              "    <tr>\n",
              "      <th>4</th>\n",
              "      <td>2013-01-01</td>\n",
              "      <td>5</td>\n",
              "      <td>A</td>\n",
              "      <td>2344.105</td>\n",
              "    </tr>\n",
              "  </tbody>\n",
              "</table>\n",
              "</div>"
            ],
            "text/plain": [
              "          연월일  시간 구분       공급량\n",
              "0  2013-01-01   1  A  2497.129\n",
              "1  2013-01-01   2  A  2363.265\n",
              "2  2013-01-01   3  A  2258.505\n",
              "3  2013-01-01   4  A  2243.969\n",
              "4  2013-01-01   5  A  2344.105"
            ]
          },
          "metadata": {},
          "execution_count": 4
        }
      ]
    },
    {
      "cell_type": "code",
      "metadata": {
        "colab": {
          "base_uri": "https://localhost:8080/"
        },
        "id": "0IGEk4W0ORV3",
        "outputId": "6b6b0985-10a7-43d3-f53b-d930ceb17885"
      },
      "source": [
        "# mac 은 터미널 환경에서 ! 빼고 타입\n",
        "# window 는 아나코다 프롬프트에서 !빼고 타입\n",
        "!pip install lightgbm"
      ],
      "execution_count": 5,
      "outputs": [
        {
          "output_type": "stream",
          "name": "stdout",
          "text": [
            "Requirement already satisfied: lightgbm in /usr/local/lib/python3.7/dist-packages (2.2.3)\n",
            "Requirement already satisfied: numpy in /usr/local/lib/python3.7/dist-packages (from lightgbm) (1.19.5)\n",
            "Requirement already satisfied: scikit-learn in /usr/local/lib/python3.7/dist-packages (from lightgbm) (0.22.2.post1)\n",
            "Requirement already satisfied: scipy in /usr/local/lib/python3.7/dist-packages (from lightgbm) (1.4.1)\n",
            "Requirement already satisfied: joblib>=0.11 in /usr/local/lib/python3.7/dist-packages (from scikit-learn->lightgbm) (1.0.1)\n"
          ]
        }
      ]
    },
    {
      "cell_type": "code",
      "metadata": {
        "colab": {
          "base_uri": "https://localhost:8080/"
        },
        "id": "Zme-t9EsOXpF",
        "outputId": "cffb178d-53b1-43cf-a095-6abee19e3047"
      },
      "source": [
        "total['구분'].unique()"
      ],
      "execution_count": 6,
      "outputs": [
        {
          "output_type": "execute_result",
          "data": {
            "text/plain": [
              "array(['A', 'B', 'C', 'D', 'E', 'G', 'H'], dtype=object)"
            ]
          },
          "metadata": {},
          "execution_count": 6
        }
      ]
    },
    {
      "cell_type": "code",
      "metadata": {
        "id": "akGUBF69PHnt"
      },
      "source": [
        "d_map = {}\n",
        "for i, d in enumerate(total['구분'].unique()):\n",
        "    d_map[d] = i\n",
        "total['구분'] = total['구분'].map(d_map)"
      ],
      "execution_count": 7,
      "outputs": []
    },
    {
      "cell_type": "code",
      "metadata": {
        "id": "YsT6I60cPHlp"
      },
      "source": [
        "total['연월일'] = pd.to_datetime(total['연월일'])"
      ],
      "execution_count": 8,
      "outputs": []
    },
    {
      "cell_type": "code",
      "metadata": {
        "id": "SxkaaSNsPHjT"
      },
      "source": [
        "total['year'] = total['연월일'].dt.year\n",
        "total['month'] = total['연월일'].dt.month\n",
        "total['day'] = total['연월일'].dt.day\n",
        "total['weekday'] = total['연월일'].dt.weekday"
      ],
      "execution_count": 9,
      "outputs": []
    },
    {
      "cell_type": "code",
      "metadata": {
        "id": "U5HGiKAwPHhA"
      },
      "source": [
        "train_years = [2013,2014,2015,2016,2017]\n",
        "val_years = [2018]"
      ],
      "execution_count": 10,
      "outputs": []
    },
    {
      "cell_type": "code",
      "metadata": {
        "id": "qFTUtMX2Vena"
      },
      "source": [
        "train = total[total['year'].isin(train_years)]\n",
        "val = total[total['year'].isin(val_years)]"
      ],
      "execution_count": 11,
      "outputs": []
    },
    {
      "cell_type": "code",
      "metadata": {
        "id": "eVKMa_X4Vela"
      },
      "source": [
        "features = ['구분', 'month', 'day', 'weekday', '시간']\n",
        "train_x = train[features]\n",
        "train_y = train['공급량']\n",
        "\n",
        "val_x = val[features]\n",
        "val_y = val['공급량']"
      ],
      "execution_count": 12,
      "outputs": []
    },
    {
      "cell_type": "code",
      "metadata": {
        "colab": {
          "base_uri": "https://localhost:8080/"
        },
        "id": "VipJOFGPVefu",
        "outputId": "9556e3bf-2eb5-4581-faa2-c0a60ee1a258"
      },
      "source": [
        "d_train = lgb.Dataset(train_x, train_y)\n",
        "d_val = lgb.Dataset(val_x, val_y)\n",
        "\n",
        "params = {\n",
        "    'objective': 'regression',\n",
        "    'metric':'mae',\n",
        "    'seed':42\n",
        "}\n",
        "\n",
        "model = lgb.train(params, d_train, 500, d_val, verbose_eval=20, early_stopping_rounds=10)"
      ],
      "execution_count": 13,
      "outputs": [
        {
          "output_type": "stream",
          "name": "stdout",
          "text": [
            "Training until validation scores don't improve for 10 rounds.\n",
            "[20]\tvalid_0's l1: 244.857\n",
            "[40]\tvalid_0's l1: 174.855\n",
            "[60]\tvalid_0's l1: 158.739\n",
            "[80]\tvalid_0's l1: 153.323\n",
            "[100]\tvalid_0's l1: 150.948\n",
            "[120]\tvalid_0's l1: 150.463\n",
            "Early stopping, best iteration is:\n",
            "[112]\tvalid_0's l1: 150.297\n"
          ]
        }
      ]
    },
    {
      "cell_type": "code",
      "metadata": {
        "id": "-h78VjFoVedW"
      },
      "source": [
        "test = pd.read_csv('data_set/test.csv')\n",
        "submission = pd.read_csv('data_set/sample_submission.csv')"
      ],
      "execution_count": 15,
      "outputs": []
    },
    {
      "cell_type": "code",
      "metadata": {
        "colab": {
          "base_uri": "https://localhost:8080/",
          "height": 204
        },
        "id": "7d5o9BhnPHeK",
        "outputId": "a05aebee-0324-46b8-d8f5-98cae78c208c"
      },
      "source": [
        "test.head()"
      ],
      "execution_count": 16,
      "outputs": [
        {
          "output_type": "execute_result",
          "data": {
            "text/html": [
              "<div>\n",
              "<style scoped>\n",
              "    .dataframe tbody tr th:only-of-type {\n",
              "        vertical-align: middle;\n",
              "    }\n",
              "\n",
              "    .dataframe tbody tr th {\n",
              "        vertical-align: top;\n",
              "    }\n",
              "\n",
              "    .dataframe thead th {\n",
              "        text-align: right;\n",
              "    }\n",
              "</style>\n",
              "<table border=\"1\" class=\"dataframe\">\n",
              "  <thead>\n",
              "    <tr style=\"text-align: right;\">\n",
              "      <th></th>\n",
              "      <th>일자|시간|구분</th>\n",
              "    </tr>\n",
              "  </thead>\n",
              "  <tbody>\n",
              "    <tr>\n",
              "      <th>0</th>\n",
              "      <td>2019-01-01 01 A</td>\n",
              "    </tr>\n",
              "    <tr>\n",
              "      <th>1</th>\n",
              "      <td>2019-01-01 02 A</td>\n",
              "    </tr>\n",
              "    <tr>\n",
              "      <th>2</th>\n",
              "      <td>2019-01-01 03 A</td>\n",
              "    </tr>\n",
              "    <tr>\n",
              "      <th>3</th>\n",
              "      <td>2019-01-01 04 A</td>\n",
              "    </tr>\n",
              "    <tr>\n",
              "      <th>4</th>\n",
              "      <td>2019-01-01 05 A</td>\n",
              "    </tr>\n",
              "  </tbody>\n",
              "</table>\n",
              "</div>"
            ],
            "text/plain": [
              "          일자|시간|구분\n",
              "0  2019-01-01 01 A\n",
              "1  2019-01-01 02 A\n",
              "2  2019-01-01 03 A\n",
              "3  2019-01-01 04 A\n",
              "4  2019-01-01 05 A"
            ]
          },
          "metadata": {},
          "execution_count": 16
        }
      ]
    },
    {
      "cell_type": "code",
      "metadata": {
        "colab": {
          "base_uri": "https://localhost:8080/",
          "height": 204
        },
        "id": "4AGloLDhWHIV",
        "outputId": "44396091-e940-4180-edb1-82b02bb99449"
      },
      "source": [
        "submission.head()"
      ],
      "execution_count": 17,
      "outputs": [
        {
          "output_type": "execute_result",
          "data": {
            "text/html": [
              "<div>\n",
              "<style scoped>\n",
              "    .dataframe tbody tr th:only-of-type {\n",
              "        vertical-align: middle;\n",
              "    }\n",
              "\n",
              "    .dataframe tbody tr th {\n",
              "        vertical-align: top;\n",
              "    }\n",
              "\n",
              "    .dataframe thead th {\n",
              "        text-align: right;\n",
              "    }\n",
              "</style>\n",
              "<table border=\"1\" class=\"dataframe\">\n",
              "  <thead>\n",
              "    <tr style=\"text-align: right;\">\n",
              "      <th></th>\n",
              "      <th>일자|시간|구분</th>\n",
              "      <th>공급량</th>\n",
              "    </tr>\n",
              "  </thead>\n",
              "  <tbody>\n",
              "    <tr>\n",
              "      <th>0</th>\n",
              "      <td>2019-01-01 01 A</td>\n",
              "      <td>0</td>\n",
              "    </tr>\n",
              "    <tr>\n",
              "      <th>1</th>\n",
              "      <td>2019-01-01 02 A</td>\n",
              "      <td>0</td>\n",
              "    </tr>\n",
              "    <tr>\n",
              "      <th>2</th>\n",
              "      <td>2019-01-01 03 A</td>\n",
              "      <td>0</td>\n",
              "    </tr>\n",
              "    <tr>\n",
              "      <th>3</th>\n",
              "      <td>2019-01-01 04 A</td>\n",
              "      <td>0</td>\n",
              "    </tr>\n",
              "    <tr>\n",
              "      <th>4</th>\n",
              "      <td>2019-01-01 05 A</td>\n",
              "      <td>0</td>\n",
              "    </tr>\n",
              "  </tbody>\n",
              "</table>\n",
              "</div>"
            ],
            "text/plain": [
              "          일자|시간|구분  공급량\n",
              "0  2019-01-01 01 A    0\n",
              "1  2019-01-01 02 A    0\n",
              "2  2019-01-01 03 A    0\n",
              "3  2019-01-01 04 A    0\n",
              "4  2019-01-01 05 A    0"
            ]
          },
          "metadata": {},
          "execution_count": 17
        }
      ]
    },
    {
      "cell_type": "code",
      "metadata": {
        "id": "cSrMcSVcWHF5"
      },
      "source": [
        "test['일자'] = test['일자|시간|구분'].str.split(' ').str[0]\n",
        "test['시간'] = test['일자|시간|구분'].str.split(' ').str[1].astype(int)\n",
        "test['구분'] = test['일자|시간|구분'].str.split(' ').str[2]"
      ],
      "execution_count": 18,
      "outputs": []
    },
    {
      "cell_type": "code",
      "metadata": {
        "id": "1AkCjR_pWHDi"
      },
      "source": [
        "test['일자'] = pd.to_datetime(test['일자'])\n",
        "test['year'] = test['일자'].dt.year\n",
        "test['month'] = test['일자'].dt.month\n",
        "test['day'] = test['일자'].dt.day\n",
        "test['weekday'] = test['일자'].dt.weekday"
      ],
      "execution_count": 19,
      "outputs": []
    },
    {
      "cell_type": "code",
      "metadata": {
        "id": "tustal87WPhx"
      },
      "source": [
        "test['구분'] = test['구분'].map(d_map)"
      ],
      "execution_count": 20,
      "outputs": []
    },
    {
      "cell_type": "code",
      "metadata": {
        "id": "Fk8Ilw9_WTeJ"
      },
      "source": [
        "test_x = test[features]"
      ],
      "execution_count": 21,
      "outputs": []
    },
    {
      "cell_type": "code",
      "metadata": {
        "colab": {
          "base_uri": "https://localhost:8080/",
          "height": 419
        },
        "id": "iJ6enbjGWVUS",
        "outputId": "4b609d7a-b82f-4d5a-abe4-aa039f905b93"
      },
      "source": [
        "test_x"
      ],
      "execution_count": 22,
      "outputs": [
        {
          "output_type": "execute_result",
          "data": {
            "text/html": [
              "<div>\n",
              "<style scoped>\n",
              "    .dataframe tbody tr th:only-of-type {\n",
              "        vertical-align: middle;\n",
              "    }\n",
              "\n",
              "    .dataframe tbody tr th {\n",
              "        vertical-align: top;\n",
              "    }\n",
              "\n",
              "    .dataframe thead th {\n",
              "        text-align: right;\n",
              "    }\n",
              "</style>\n",
              "<table border=\"1\" class=\"dataframe\">\n",
              "  <thead>\n",
              "    <tr style=\"text-align: right;\">\n",
              "      <th></th>\n",
              "      <th>구분</th>\n",
              "      <th>month</th>\n",
              "      <th>day</th>\n",
              "      <th>weekday</th>\n",
              "      <th>시간</th>\n",
              "    </tr>\n",
              "  </thead>\n",
              "  <tbody>\n",
              "    <tr>\n",
              "      <th>0</th>\n",
              "      <td>0</td>\n",
              "      <td>1</td>\n",
              "      <td>1</td>\n",
              "      <td>1</td>\n",
              "      <td>1</td>\n",
              "    </tr>\n",
              "    <tr>\n",
              "      <th>1</th>\n",
              "      <td>0</td>\n",
              "      <td>1</td>\n",
              "      <td>1</td>\n",
              "      <td>1</td>\n",
              "      <td>2</td>\n",
              "    </tr>\n",
              "    <tr>\n",
              "      <th>2</th>\n",
              "      <td>0</td>\n",
              "      <td>1</td>\n",
              "      <td>1</td>\n",
              "      <td>1</td>\n",
              "      <td>3</td>\n",
              "    </tr>\n",
              "    <tr>\n",
              "      <th>3</th>\n",
              "      <td>0</td>\n",
              "      <td>1</td>\n",
              "      <td>1</td>\n",
              "      <td>1</td>\n",
              "      <td>4</td>\n",
              "    </tr>\n",
              "    <tr>\n",
              "      <th>4</th>\n",
              "      <td>0</td>\n",
              "      <td>1</td>\n",
              "      <td>1</td>\n",
              "      <td>1</td>\n",
              "      <td>5</td>\n",
              "    </tr>\n",
              "    <tr>\n",
              "      <th>...</th>\n",
              "      <td>...</td>\n",
              "      <td>...</td>\n",
              "      <td>...</td>\n",
              "      <td>...</td>\n",
              "      <td>...</td>\n",
              "    </tr>\n",
              "    <tr>\n",
              "      <th>15115</th>\n",
              "      <td>6</td>\n",
              "      <td>3</td>\n",
              "      <td>31</td>\n",
              "      <td>6</td>\n",
              "      <td>20</td>\n",
              "    </tr>\n",
              "    <tr>\n",
              "      <th>15116</th>\n",
              "      <td>6</td>\n",
              "      <td>3</td>\n",
              "      <td>31</td>\n",
              "      <td>6</td>\n",
              "      <td>21</td>\n",
              "    </tr>\n",
              "    <tr>\n",
              "      <th>15117</th>\n",
              "      <td>6</td>\n",
              "      <td>3</td>\n",
              "      <td>31</td>\n",
              "      <td>6</td>\n",
              "      <td>22</td>\n",
              "    </tr>\n",
              "    <tr>\n",
              "      <th>15118</th>\n",
              "      <td>6</td>\n",
              "      <td>3</td>\n",
              "      <td>31</td>\n",
              "      <td>6</td>\n",
              "      <td>23</td>\n",
              "    </tr>\n",
              "    <tr>\n",
              "      <th>15119</th>\n",
              "      <td>6</td>\n",
              "      <td>3</td>\n",
              "      <td>31</td>\n",
              "      <td>6</td>\n",
              "      <td>24</td>\n",
              "    </tr>\n",
              "  </tbody>\n",
              "</table>\n",
              "<p>15120 rows × 5 columns</p>\n",
              "</div>"
            ],
            "text/plain": [
              "       구분  month  day  weekday  시간\n",
              "0       0      1    1        1   1\n",
              "1       0      1    1        1   2\n",
              "2       0      1    1        1   3\n",
              "3       0      1    1        1   4\n",
              "4       0      1    1        1   5\n",
              "...    ..    ...  ...      ...  ..\n",
              "15115   6      3   31        6  20\n",
              "15116   6      3   31        6  21\n",
              "15117   6      3   31        6  22\n",
              "15118   6      3   31        6  23\n",
              "15119   6      3   31        6  24\n",
              "\n",
              "[15120 rows x 5 columns]"
            ]
          },
          "metadata": {},
          "execution_count": 22
        }
      ]
    },
    {
      "cell_type": "code",
      "metadata": {
        "id": "hLR3xckzWvbq"
      },
      "source": [
        "preds = model.predict(test_x)"
      ],
      "execution_count": 24,
      "outputs": []
    },
    {
      "cell_type": "code",
      "metadata": {
        "id": "GTQi5LKWWzSB"
      },
      "source": [
        "submission['공급량'] = preds"
      ],
      "execution_count": 25,
      "outputs": []
    },
    {
      "cell_type": "code",
      "metadata": {
        "id": "LwWcgsqRWzP4"
      },
      "source": [
        "submission.to_csv('baseline.csv', index=False)"
      ],
      "execution_count": 26,
      "outputs": []
    }
  ]
}