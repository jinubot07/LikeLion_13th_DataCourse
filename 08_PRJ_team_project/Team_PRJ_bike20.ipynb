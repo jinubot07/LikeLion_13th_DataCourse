{
 "cells": [
  {
   "cell_type": "markdown",
   "id": "5f67812b",
   "metadata": {
    "id": "5f67812b"
   },
   "source": [
    "# 팀 프로젝트 : 코로나 시국에 따른 서울 시민 소비문화 변화 추이"
   ]
  },
  {
   "cell_type": "code",
   "execution_count": 65,
   "id": "caf57c3e",
   "metadata": {
    "id": "caf57c3e"
   },
   "outputs": [],
   "source": [
    "import pandas as pd\n",
    "import seaborn as sns\n",
    "\n",
    "import matplotlib.pyplot as plt\n",
    "import matplotlib\n",
    "from matplotlib import font_manager, rc\n",
    "import platform\n",
    "\n",
    "import numpy as np\n",
    "import time"
   ]
  },
  {
   "cell_type": "code",
   "execution_count": 66,
   "id": "4293122e",
   "metadata": {
    "colab": {
     "base_uri": "https://localhost:8080/"
    },
    "id": "4293122e",
    "outputId": "40184c96-f799-4ec4-9e71-8b8b332b0acb"
   },
   "outputs": [],
   "source": [
    "path = \"C:/Windows/Fonts/malgun.ttf\"\n",
    "if platform.system() == \"Windows\":\n",
    "    \n",
    "    font_name = font_manager.FontProperties(fname=path).get_name()\n",
    "    rc('font', family=font_name)\n",
    "elif platform.system()==\"Darwin\":\n",
    "    rc('font', family='AppleGothic')\n",
    "else:\n",
    "    print(\"Unknown System\")\n",
    "    \n",
    "matplotlib.rcParams['axes.unicode_minus'] = False"
   ]
  },
  {
   "cell_type": "markdown",
   "id": "73361083",
   "metadata": {
    "id": "73361083"
   },
   "source": [
    "### 01) 이용건수 소계 데이터 셋 불러오기"
   ]
  },
  {
   "cell_type": "code",
   "execution_count": 3,
   "id": "d237b610",
   "metadata": {
    "colab": {
     "base_uri": "https://localhost:8080/",
     "height": 204
    },
    "id": "d237b610",
    "outputId": "d298b741-abfd-4d25-a8fb-873fcf66f038"
   },
   "outputs": [
    {
     "data": {
      "text/html": [
       "<div>\n",
       "<style scoped>\n",
       "    .dataframe tbody tr th:only-of-type {\n",
       "        vertical-align: middle;\n",
       "    }\n",
       "\n",
       "    .dataframe tbody tr th {\n",
       "        vertical-align: top;\n",
       "    }\n",
       "\n",
       "    .dataframe thead th {\n",
       "        text-align: right;\n",
       "    }\n",
       "</style>\n",
       "<table border=\"1\" class=\"dataframe\">\n",
       "  <thead>\n",
       "    <tr style=\"text-align: right;\">\n",
       "      <th></th>\n",
       "      <th>대여일자</th>\n",
       "      <th>여성</th>\n",
       "      <th>남성</th>\n",
       "      <th>미상</th>\n",
       "      <th>총 이용건수</th>\n",
       "      <th>AGE_001</th>\n",
       "      <th>AGE_002</th>\n",
       "      <th>AGE_003</th>\n",
       "      <th>AGE_004</th>\n",
       "      <th>AGE_005</th>\n",
       "      <th>AGE_006</th>\n",
       "      <th>AGE_007</th>\n",
       "      <th>AGE_008</th>\n",
       "      <th>AGE_009</th>\n",
       "    </tr>\n",
       "  </thead>\n",
       "  <tbody>\n",
       "    <tr>\n",
       "      <th>0</th>\n",
       "      <td>Jan-20</td>\n",
       "      <td>113769</td>\n",
       "      <td>258052</td>\n",
       "      <td>422341</td>\n",
       "      <td>794162</td>\n",
       "      <td>28787</td>\n",
       "      <td>326277</td>\n",
       "      <td>187520</td>\n",
       "      <td>127519</td>\n",
       "      <td>79939</td>\n",
       "      <td>23260</td>\n",
       "      <td>5060</td>\n",
       "      <td>15800</td>\n",
       "      <td>0</td>\n",
       "    </tr>\n",
       "    <tr>\n",
       "      <th>1</th>\n",
       "      <td>Feb-20</td>\n",
       "      <td>119053</td>\n",
       "      <td>249361</td>\n",
       "      <td>393860</td>\n",
       "      <td>762274</td>\n",
       "      <td>29083</td>\n",
       "      <td>317169</td>\n",
       "      <td>176534</td>\n",
       "      <td>121663</td>\n",
       "      <td>75398</td>\n",
       "      <td>21048</td>\n",
       "      <td>4586</td>\n",
       "      <td>16793</td>\n",
       "      <td>0</td>\n",
       "    </tr>\n",
       "    <tr>\n",
       "      <th>2</th>\n",
       "      <td>Mar-20</td>\n",
       "      <td>264416</td>\n",
       "      <td>392151</td>\n",
       "      <td>876968</td>\n",
       "      <td>1533535</td>\n",
       "      <td>76255</td>\n",
       "      <td>704244</td>\n",
       "      <td>333664</td>\n",
       "      <td>215159</td>\n",
       "      <td>122946</td>\n",
       "      <td>32372</td>\n",
       "      <td>6520</td>\n",
       "      <td>42375</td>\n",
       "      <td>0</td>\n",
       "    </tr>\n",
       "    <tr>\n",
       "      <th>3</th>\n",
       "      <td>Apr-20</td>\n",
       "      <td>356697</td>\n",
       "      <td>498752</td>\n",
       "      <td>1301941</td>\n",
       "      <td>2157390</td>\n",
       "      <td>119026</td>\n",
       "      <td>995677</td>\n",
       "      <td>485148</td>\n",
       "      <td>299685</td>\n",
       "      <td>161736</td>\n",
       "      <td>39643</td>\n",
       "      <td>7573</td>\n",
       "      <td>48902</td>\n",
       "      <td>0</td>\n",
       "    </tr>\n",
       "    <tr>\n",
       "      <th>4</th>\n",
       "      <td>May-20</td>\n",
       "      <td>373831</td>\n",
       "      <td>531646</td>\n",
       "      <td>1574853</td>\n",
       "      <td>2480330</td>\n",
       "      <td>136688</td>\n",
       "      <td>1164916</td>\n",
       "      <td>559575</td>\n",
       "      <td>335044</td>\n",
       "      <td>179794</td>\n",
       "      <td>44223</td>\n",
       "      <td>8235</td>\n",
       "      <td>51855</td>\n",
       "      <td>0</td>\n",
       "    </tr>\n",
       "  </tbody>\n",
       "</table>\n",
       "</div>"
      ],
      "text/plain": [
       "     대여일자      여성      남성       미상   총 이용건수  AGE_001  AGE_002  AGE_003  \\\n",
       "0  Jan-20  113769  258052   422341   794162    28787   326277   187520   \n",
       "1  Feb-20  119053  249361   393860   762274    29083   317169   176534   \n",
       "2  Mar-20  264416  392151   876968  1533535    76255   704244   333664   \n",
       "3  Apr-20  356697  498752  1301941  2157390   119026   995677   485148   \n",
       "4  May-20  373831  531646  1574853  2480330   136688  1164916   559575   \n",
       "\n",
       "   AGE_004  AGE_005  AGE_006  AGE_007  AGE_008  AGE_009  \n",
       "0   127519    79939    23260     5060    15800        0  \n",
       "1   121663    75398    21048     4586    16793        0  \n",
       "2   215159   122946    32372     6520    42375        0  \n",
       "3   299685   161736    39643     7573    48902        0  \n",
       "4   335044   179794    44223     8235    51855        0  "
      ]
     },
     "execution_count": 3,
     "metadata": {},
     "output_type": "execute_result"
    }
   ],
   "source": [
    "bike_sum = pd.read_csv('./data_set/공공자전거_이용건수_소계.csv')\n",
    "bike_sum.head()"
   ]
  },
  {
   "cell_type": "markdown",
   "id": "2bb3f337",
   "metadata": {
    "id": "2bb3f337"
   },
   "source": [
    "### 02) 월별 공공 자전거 총 이용 건수"
   ]
  },
  {
   "cell_type": "code",
   "execution_count": 4,
   "id": "d88bba39",
   "metadata": {
    "colab": {
     "base_uri": "https://localhost:8080/"
    },
    "id": "d88bba39",
    "outputId": "400d29ed-12ac-4742-f538-1c553e6ed70c"
   },
   "outputs": [
    {
     "data": {
      "text/plain": [
       "Index(['대여일자', '여성', '남성', '미상', '총 이용건수', 'AGE_001', 'AGE_002', 'AGE_003',\n",
       "       'AGE_004', 'AGE_005', 'AGE_006', 'AGE_007', 'AGE_008', 'AGE_009'],\n",
       "      dtype='object')"
      ]
     },
     "execution_count": 4,
     "metadata": {},
     "output_type": "execute_result"
    }
   ],
   "source": [
    "bike_sum.columns"
   ]
  },
  {
   "cell_type": "code",
   "execution_count": 5,
   "id": "e85caede",
   "metadata": {
    "colab": {
     "base_uri": "https://localhost:8080/",
     "height": 979
    },
    "id": "e85caede",
    "outputId": "c322b405-2dd0-4c70-8c0a-aaf30bd40b9c",
    "scrolled": true
   },
   "outputs": [
    {
     "data": {
      "text/plain": [
       "(array([ 0,  1,  2,  3,  4,  5,  6,  7,  8,  9, 10, 11, 12, 13, 14, 15, 16,\n",
       "        17]),\n",
       " [Text(0, 0, 'Jan-20'),\n",
       "  Text(1, 0, 'Feb-20'),\n",
       "  Text(2, 0, 'Mar-20'),\n",
       "  Text(3, 0, 'Apr-20'),\n",
       "  Text(4, 0, 'May-20'),\n",
       "  Text(5, 0, 'Jun-20'),\n",
       "  Text(6, 0, 'Jul-20'),\n",
       "  Text(7, 0, 'Aug-20'),\n",
       "  Text(8, 0, 'Sep-20'),\n",
       "  Text(9, 0, 'Oct-20'),\n",
       "  Text(10, 0, 'Nov-20'),\n",
       "  Text(11, 0, 'Dec-20'),\n",
       "  Text(12, 0, 'Jan-21'),\n",
       "  Text(13, 0, 'Feb-21'),\n",
       "  Text(14, 0, 'Mar-21'),\n",
       "  Text(15, 0, 'Apr-21'),\n",
       "  Text(16, 0, 'May-21'),\n",
       "  Text(17, 0, 'Jun-21')])"
      ]
     },
     "execution_count": 5,
     "metadata": {},
     "output_type": "execute_result"
    },
    {
     "data": {
      "image/png": "[encoded data removed]",
      "text/plain": [
       "<Figure size 432x288 with 1 Axes>"
      ]
     },
     "metadata": {
      "needs_background": "light"
     },
     "output_type": "display_data"
    }
   ],
   "source": [
    "sns.barplot(x='대여일자', y='총 이용건수', data=bike_sum)\n",
    "plt.xticks(rotation=45)"
   ]
  },
  {
   "cell_type": "markdown",
   "id": "aef73b61",
   "metadata": {
    "id": "aef73b61"
   },
   "source": [
    "##### 02) 소계 데이터셋으로 카운트플롯 사용하는 것은 잘못된 접근"
   ]
  },
  {
   "cell_type": "markdown",
   "id": "8c0881bf",
   "metadata": {
    "id": "8c0881bf"
   },
   "source": [
    "### 03) 월별 공공 자전거 남성 이용 건수 ( 선 그래프 )"
   ]
  },
  {
   "cell_type": "code",
   "execution_count": 6,
   "id": "1647747a",
   "metadata": {
    "colab": {
     "base_uri": "https://localhost:8080/",
     "height": 763
    },
    "id": "1647747a",
    "outputId": "dd4e9cc7-2f02-4e56-a294-40e1e876cda8"
   },
   "outputs": [
    {
     "data": {
      "text/plain": [
       "([0, 1, 2, 3, 4, 5, 6, 7, 8, 9, 10, 11, 12, 13, 14, 15, 16, 17],\n",
       " [Text(0, 0, ''),\n",
       "  Text(0, 0, ''),\n",
       "  Text(0, 0, ''),\n",
       "  Text(0, 0, ''),\n",
       "  Text(0, 0, ''),\n",
       "  Text(0, 0, ''),\n",
       "  Text(0, 0, ''),\n",
       "  Text(0, 0, ''),\n",
       "  Text(0, 0, ''),\n",
       "  Text(0, 0, ''),\n",
       "  Text(0, 0, ''),\n",
       "  Text(0, 0, ''),\n",
       "  Text(0, 0, ''),\n",
       "  Text(0, 0, ''),\n",
       "  Text(0, 0, ''),\n",
       "  Text(0, 0, ''),\n",
       "  Text(0, 0, ''),\n",
       "  Text(0, 0, '')])"
      ]
     },
     "execution_count": 6,
     "metadata": {},
     "output_type": "execute_result"
    },
    {
     "data": {
      "image/png": "[encoded data removed]",
      "text/plain": [
       "<Figure size 432x288 with 1 Axes>"
      ]
     },
     "metadata": {
      "needs_background": "light"
     },
     "output_type": "display_data"
    }
   ],
   "source": [
    "# 남성 이용객의 대여일자별 이용건수\n",
    "sns.lineplot(x='대여일자', y='남성', data=bike_sum)\n",
    "plt.xticks(rotation=45)"
   ]
  },
  {
   "cell_type": "markdown",
   "id": "fcbc196e",
   "metadata": {
    "id": "fcbc196e"
   },
   "source": [
    "### 03) 월별 공공 자전거 남성 이용 건수( 막대그래프 )"
   ]
  },
  {
   "cell_type": "code",
   "execution_count": 7,
   "id": "dca99570",
   "metadata": {
    "colab": {
     "base_uri": "https://localhost:8080/",
     "height": 763
    },
    "id": "dca99570",
    "outputId": "2866e20d-d36a-4beb-d4b0-99606fb1530c"
   },
   "outputs": [
    {
     "data": {
      "text/plain": [
       "(array([ 0,  1,  2,  3,  4,  5,  6,  7,  8,  9, 10, 11, 12, 13, 14, 15, 16,\n",
       "        17]),\n",
       " [Text(0, 0, 'Jan-20'),\n",
       "  Text(1, 0, 'Feb-20'),\n",
       "  Text(2, 0, 'Mar-20'),\n",
       "  Text(3, 0, 'Apr-20'),\n",
       "  Text(4, 0, 'May-20'),\n",
       "  Text(5, 0, 'Jun-20'),\n",
       "  Text(6, 0, 'Jul-20'),\n",
       "  Text(7, 0, 'Aug-20'),\n",
       "  Text(8, 0, 'Sep-20'),\n",
       "  Text(9, 0, 'Oct-20'),\n",
       "  Text(10, 0, 'Nov-20'),\n",
       "  Text(11, 0, 'Dec-20'),\n",
       "  Text(12, 0, 'Jan-21'),\n",
       "  Text(13, 0, 'Feb-21'),\n",
       "  Text(14, 0, 'Mar-21'),\n",
       "  Text(15, 0, 'Apr-21'),\n",
       "  Text(16, 0, 'May-21'),\n",
       "  Text(17, 0, 'Jun-21')])"
      ]
     },
     "execution_count": 7,
     "metadata": {},
     "output_type": "execute_result"
    },
    {
     "data": {
      "image/png": "[encoded data removed]",
      "text/plain": [
       "<Figure size 432x288 with 1 Axes>"
      ]
     },
     "metadata": {
      "needs_background": "light"
     },
     "output_type": "display_data"
    }
   ],
   "source": [
    "sns.barplot(x='대여일자', y='남성', data=bike_sum)\n",
    "plt.xticks(rotation=45)"
   ]
  },
  {
   "cell_type": "markdown",
   "id": "3cde8b98",
   "metadata": {
    "id": "3cde8b98"
   },
   "source": [
    "### 04 )데이터 셋 불러오기 : 2020년 공공자전거 이용정보"
   ]
  },
  {
   "cell_type": "code",
   "execution_count": 70,
   "id": "7c53f01f",
   "metadata": {
    "colab": {
     "base_uri": "https://localhost:8080/"
    },
    "id": "7c53f01f",
    "outputId": "ead8ef19-c7f5-4a3a-f5bb-51735adfc9fb"
   },
   "outputs": [
    {
     "data": {
      "text/plain": [
       "Index(['대여일자', '대여소번호', '대여소명', '대여구분코드', '성별', '연령대코드', '이용건수', '운동량', '탄소량',\n",
       "       '이동거리', '이용시간', '여성', '남성', '미상', '총 이용건수', 'AGE_001', 'AGE_002',\n",
       "       'AGE_003', 'AGE_004', 'AGE_005', 'AGE_006', 'AGE_007', 'AGE_008',\n",
       "       'AGE_009'],\n",
       "      dtype='object')"
      ]
     },
     "execution_count": 70,
     "metadata": {},
     "output_type": "execute_result"
    }
   ],
   "source": [
    "bike_2020 = pd.read_csv('./data_set/공공자전거 이용정보(2020년 전월).csv', encoding = 'cp949')\n",
    "bike_2020.columns"
   ]
  },
  {
   "cell_type": "markdown",
   "id": "74a61e9a",
   "metadata": {
    "id": "74a61e9a"
   },
   "source": [
    "### 05) 데이터 전처리 : 필요없는 컬럼 삭제"
   ]
  },
  {
   "cell_type": "code",
   "execution_count": 71,
   "id": "93645062",
   "metadata": {
    "colab": {
     "base_uri": "https://localhost:8080/",
     "height": 419
    },
    "id": "93645062",
    "outputId": "7aae8be9-f81c-41b2-9d10-a91a50669530"
   },
   "outputs": [
    {
     "data": {
      "text/html": [
       "<div>\n",
       "<style scoped>\n",
       "    .dataframe tbody tr th:only-of-type {\n",
       "        vertical-align: middle;\n",
       "    }\n",
       "\n",
       "    .dataframe tbody tr th {\n",
       "        vertical-align: top;\n",
       "    }\n",
       "\n",
       "    .dataframe thead th {\n",
       "        text-align: right;\n",
       "    }\n",
       "</style>\n",
       "<table border=\"1\" class=\"dataframe\">\n",
       "  <thead>\n",
       "    <tr style=\"text-align: right;\">\n",
       "      <th></th>\n",
       "      <th>대여일자</th>\n",
       "      <th>대여소번호</th>\n",
       "      <th>대여소명</th>\n",
       "      <th>대여구분코드</th>\n",
       "      <th>성별</th>\n",
       "      <th>연령대코드</th>\n",
       "      <th>이용건수</th>\n",
       "      <th>운동량</th>\n",
       "      <th>탄소량</th>\n",
       "      <th>이동거리</th>\n",
       "      <th>이용시간</th>\n",
       "    </tr>\n",
       "  </thead>\n",
       "  <tbody>\n",
       "    <tr>\n",
       "      <th>0</th>\n",
       "      <td>20-Jan</td>\n",
       "      <td>3</td>\n",
       "      <td>중랑센터</td>\n",
       "      <td>일일(회원)</td>\n",
       "      <td>M</td>\n",
       "      <td>AGE_003</td>\n",
       "      <td>3</td>\n",
       "      <td>61.82</td>\n",
       "      <td>0.52</td>\n",
       "      <td>2230.0</td>\n",
       "      <td>75</td>\n",
       "    </tr>\n",
       "    <tr>\n",
       "      <th>1</th>\n",
       "      <td>20-Jan</td>\n",
       "      <td>3</td>\n",
       "      <td>중랑센터</td>\n",
       "      <td>일일(회원)</td>\n",
       "      <td>M</td>\n",
       "      <td>AGE_004</td>\n",
       "      <td>1</td>\n",
       "      <td>39.62</td>\n",
       "      <td>0.28</td>\n",
       "      <td>1220.0</td>\n",
       "      <td>15</td>\n",
       "    </tr>\n",
       "    <tr>\n",
       "      <th>2</th>\n",
       "      <td>20-Jan</td>\n",
       "      <td>3</td>\n",
       "      <td>중랑센터</td>\n",
       "      <td>정기</td>\n",
       "      <td>M</td>\n",
       "      <td>AGE_005</td>\n",
       "      <td>3</td>\n",
       "      <td>430.85</td>\n",
       "      <td>4.01</td>\n",
       "      <td>17270.0</td>\n",
       "      <td>53</td>\n",
       "    </tr>\n",
       "    <tr>\n",
       "      <th>3</th>\n",
       "      <td>20-Jan</td>\n",
       "      <td>5</td>\n",
       "      <td>상암센터 정비실</td>\n",
       "      <td>일일(회원)</td>\n",
       "      <td>\\N</td>\n",
       "      <td>AGE_005</td>\n",
       "      <td>2</td>\n",
       "      <td>1.79</td>\n",
       "      <td>0.02</td>\n",
       "      <td>90.0</td>\n",
       "      <td>33</td>\n",
       "    </tr>\n",
       "    <tr>\n",
       "      <th>4</th>\n",
       "      <td>20-Jan</td>\n",
       "      <td>5</td>\n",
       "      <td>상암센터 정비실</td>\n",
       "      <td>정기</td>\n",
       "      <td>F</td>\n",
       "      <td>AGE_003</td>\n",
       "      <td>1</td>\n",
       "      <td>4501.96</td>\n",
       "      <td>45.47</td>\n",
       "      <td>196010.0</td>\n",
       "      <td>64</td>\n",
       "    </tr>\n",
       "    <tr>\n",
       "      <th>5</th>\n",
       "      <td>20-Jan</td>\n",
       "      <td>101</td>\n",
       "      <td>101. (구)합정동 주민센터</td>\n",
       "      <td>일일(비회원)</td>\n",
       "      <td>\\N</td>\n",
       "      <td>AGE_008</td>\n",
       "      <td>2</td>\n",
       "      <td>341.31</td>\n",
       "      <td>3.07</td>\n",
       "      <td>13260.0</td>\n",
       "      <td>121</td>\n",
       "    </tr>\n",
       "    <tr>\n",
       "      <th>6</th>\n",
       "      <td>20-Jan</td>\n",
       "      <td>101</td>\n",
       "      <td>101. (구)합정동 주민센터</td>\n",
       "      <td>일일(회원)</td>\n",
       "      <td>\\N</td>\n",
       "      <td>AGE_002</td>\n",
       "      <td>15</td>\n",
       "      <td>1084.68</td>\n",
       "      <td>9.74</td>\n",
       "      <td>41990.0</td>\n",
       "      <td>382</td>\n",
       "    </tr>\n",
       "  </tbody>\n",
       "</table>\n",
       "</div>"
      ],
      "text/plain": [
       "     대여일자  대여소번호              대여소명   대여구분코드  성별    연령대코드  이용건수      운동량  \\\n",
       "0  20-Jan      3              중랑센터   일일(회원)   M  AGE_003     3    61.82   \n",
       "1  20-Jan      3              중랑센터   일일(회원)   M  AGE_004     1    39.62   \n",
       "2  20-Jan      3              중랑센터       정기   M  AGE_005     3   430.85   \n",
       "3  20-Jan      5          상암센터 정비실   일일(회원)  \\N  AGE_005     2     1.79   \n",
       "4  20-Jan      5          상암센터 정비실       정기   F  AGE_003     1  4501.96   \n",
       "5  20-Jan    101  101. (구)합정동 주민센터  일일(비회원)  \\N  AGE_008     2   341.31   \n",
       "6  20-Jan    101  101. (구)합정동 주민센터   일일(회원)  \\N  AGE_002    15  1084.68   \n",
       "\n",
       "     탄소량      이동거리  이용시간  \n",
       "0   0.52    2230.0    75  \n",
       "1   0.28    1220.0    15  \n",
       "2   4.01   17270.0    53  \n",
       "3   0.02      90.0    33  \n",
       "4  45.47  196010.0    64  \n",
       "5   3.07   13260.0   121  \n",
       "6   9.74   41990.0   382  "
      ]
     },
     "execution_count": 71,
     "metadata": {},
     "output_type": "execute_result"
    }
   ],
   "source": [
    "bike_2020 = bike_2020.drop(['여성', '남성', '미상', '총 이용건수', 'AGE_001', 'AGE_002',\n",
    "       'AGE_003', 'AGE_004', 'AGE_005', 'AGE_006', 'AGE_007', 'AGE_008',\n",
    "       'AGE_009'],axis=1)\n",
    "bike_2020.head(7)"
   ]
  },
  {
   "cell_type": "markdown",
   "id": "c924fe0b",
   "metadata": {
    "id": "c924fe0b"
   },
   "source": [
    "### 06) 데이터 전처리 : 남녀 성별 컬럼의 결측치 처리 및 값 통일"
   ]
  },
  {
   "cell_type": "code",
   "execution_count": 10,
   "id": "7e862a4e",
   "metadata": {
    "colab": {
     "base_uri": "https://localhost:8080/"
    },
    "id": "7e862a4e",
    "outputId": "eba7d230-153d-4b33-8fbf-e5a7c2148253"
   },
   "outputs": [
    {
     "data": {
      "text/plain": [
       "0"
      ]
     },
     "execution_count": 10,
     "metadata": {},
     "output_type": "execute_result"
    }
   ],
   "source": [
    "# NULL 값이 있으면 'Unknwon'으로 채워준다.\n",
    "bike_2020['성별'] = bike_2020['성별'].fillna('Unknown')\n",
    "bike_2020['성별'].isnull().sum()"
   ]
  },
  {
   "cell_type": "code",
   "execution_count": 11,
   "id": "91e92185",
   "metadata": {
    "colab": {
     "base_uri": "https://localhost:8080/"
    },
    "id": "91e92185",
    "outputId": "5cdeaa64-c8f5-411a-950e-483b3659ed9e"
   },
   "outputs": [
    {
     "data": {
      "text/plain": [
       "\\N    472632\n",
       "M     251108\n",
       "F     225147\n",
       "Name: 성별, dtype: int64"
      ]
     },
     "execution_count": 11,
     "metadata": {},
     "output_type": "execute_result"
    }
   ],
   "source": [
    "# 컬럼의 각 요소값 별로 데이터 수 확인\n",
    "bike_2020['성별'].value_counts()"
   ]
  },
  {
   "cell_type": "code",
   "execution_count": 12,
   "id": "00f65e45",
   "metadata": {
    "colab": {
     "base_uri": "https://localhost:8080/"
    },
    "id": "00f65e45",
    "outputId": "cfd304ed-dfd1-44c4-fa82-4ecf92ecb4c6"
   },
   "outputs": [
    {
     "name": "stdout",
     "output_type": "stream",
     "text": [
      "통일 전 <성별>컬럼에 있는 유니크 값 :  ['M' '\\\\N' 'F']\n",
      "통일 후 <성별>컬럼에 있는 유니크 값 :  ['M' 'Unknown' 'F']\n"
     ]
    }
   ],
   "source": [
    "# M과 m을 m으로, F와 f를 f로, Nan와 \\\\N를 nan으로 통합\n",
    "print('통일 전 <성별>컬럼에 있는 유니크 값 : ', bike_2020['성별'].unique())\n",
    "bike_2020['성별'] = bike_2020['성별'].map({'m':'M','M':'M',   'f':'F','F':\"F\",   '\\\\N':'Unknown'})\n",
    "print('통일 후 <성별>컬럼에 있는 유니크 값 : ', bike_2020['성별'].unique())"
   ]
  },
  {
   "cell_type": "code",
   "execution_count": 13,
   "id": "c447d121",
   "metadata": {
    "id": "c447d121"
   },
   "outputs": [],
   "source": [
    "# 여자-0, 남자-1, 알수없음-2\n",
    "# bike_2020['성별'] =  bike_2020['성별'].map({'F':0,'0':0,     'M':1,'1':1,      'Unknwon' :2})\n",
    "# bike_2020['성별'].unique()"
   ]
  },
  {
   "cell_type": "code",
   "execution_count": 14,
   "id": "730710e8",
   "metadata": {
    "colab": {
     "base_uri": "https://localhost:8080/",
     "height": 419
    },
    "id": "730710e8",
    "outputId": "16ee26ec-8785-4e52-869a-af41aca48fbf"
   },
   "outputs": [
    {
     "data": {
      "text/html": [
       "<div>\n",
       "<style scoped>\n",
       "    .dataframe tbody tr th:only-of-type {\n",
       "        vertical-align: middle;\n",
       "    }\n",
       "\n",
       "    .dataframe tbody tr th {\n",
       "        vertical-align: top;\n",
       "    }\n",
       "\n",
       "    .dataframe thead th {\n",
       "        text-align: right;\n",
       "    }\n",
       "</style>\n",
       "<table border=\"1\" class=\"dataframe\">\n",
       "  <thead>\n",
       "    <tr style=\"text-align: right;\">\n",
       "      <th></th>\n",
       "      <th>대여일자</th>\n",
       "      <th>성별</th>\n",
       "      <th>연령대코드</th>\n",
       "      <th>이용건수</th>\n",
       "      <th>운동량</th>\n",
       "      <th>이동거리</th>\n",
       "      <th>이용시간</th>\n",
       "    </tr>\n",
       "  </thead>\n",
       "  <tbody>\n",
       "    <tr>\n",
       "      <th>0</th>\n",
       "      <td>20-Jan</td>\n",
       "      <td>M</td>\n",
       "      <td>AGE_003</td>\n",
       "      <td>3</td>\n",
       "      <td>61.82</td>\n",
       "      <td>2230.0</td>\n",
       "      <td>75</td>\n",
       "    </tr>\n",
       "    <tr>\n",
       "      <th>1</th>\n",
       "      <td>20-Jan</td>\n",
       "      <td>M</td>\n",
       "      <td>AGE_004</td>\n",
       "      <td>1</td>\n",
       "      <td>39.62</td>\n",
       "      <td>1220.0</td>\n",
       "      <td>15</td>\n",
       "    </tr>\n",
       "    <tr>\n",
       "      <th>2</th>\n",
       "      <td>20-Jan</td>\n",
       "      <td>M</td>\n",
       "      <td>AGE_005</td>\n",
       "      <td>3</td>\n",
       "      <td>430.85</td>\n",
       "      <td>17270.0</td>\n",
       "      <td>53</td>\n",
       "    </tr>\n",
       "    <tr>\n",
       "      <th>3</th>\n",
       "      <td>20-Jan</td>\n",
       "      <td>Unknown</td>\n",
       "      <td>AGE_005</td>\n",
       "      <td>2</td>\n",
       "      <td>1.79</td>\n",
       "      <td>90.0</td>\n",
       "      <td>33</td>\n",
       "    </tr>\n",
       "    <tr>\n",
       "      <th>4</th>\n",
       "      <td>20-Jan</td>\n",
       "      <td>F</td>\n",
       "      <td>AGE_003</td>\n",
       "      <td>1</td>\n",
       "      <td>4501.96</td>\n",
       "      <td>196010.0</td>\n",
       "      <td>64</td>\n",
       "    </tr>\n",
       "    <tr>\n",
       "      <th>...</th>\n",
       "      <td>...</td>\n",
       "      <td>...</td>\n",
       "      <td>...</td>\n",
       "      <td>...</td>\n",
       "      <td>...</td>\n",
       "      <td>...</td>\n",
       "      <td>...</td>\n",
       "    </tr>\n",
       "    <tr>\n",
       "      <th>948882</th>\n",
       "      <td>20-Dec</td>\n",
       "      <td>F</td>\n",
       "      <td>AGE_006</td>\n",
       "      <td>1</td>\n",
       "      <td>0.00</td>\n",
       "      <td>0.0</td>\n",
       "      <td>0</td>\n",
       "    </tr>\n",
       "    <tr>\n",
       "      <th>948883</th>\n",
       "      <td>20-Dec</td>\n",
       "      <td>M</td>\n",
       "      <td>AGE_003</td>\n",
       "      <td>2</td>\n",
       "      <td>0.00</td>\n",
       "      <td>0.0</td>\n",
       "      <td>76</td>\n",
       "    </tr>\n",
       "    <tr>\n",
       "      <th>948884</th>\n",
       "      <td>20-Dec</td>\n",
       "      <td>M</td>\n",
       "      <td>AGE_004</td>\n",
       "      <td>1</td>\n",
       "      <td>0.00</td>\n",
       "      <td>0.0</td>\n",
       "      <td>15</td>\n",
       "    </tr>\n",
       "    <tr>\n",
       "      <th>948885</th>\n",
       "      <td>20-Dec</td>\n",
       "      <td>Unknown</td>\n",
       "      <td>AGE_008</td>\n",
       "      <td>7</td>\n",
       "      <td>0.00</td>\n",
       "      <td>0.0</td>\n",
       "      <td>18</td>\n",
       "    </tr>\n",
       "    <tr>\n",
       "      <th>948886</th>\n",
       "      <td>20-Dec</td>\n",
       "      <td>M</td>\n",
       "      <td>AGE_004</td>\n",
       "      <td>3</td>\n",
       "      <td>0.00</td>\n",
       "      <td>0.0</td>\n",
       "      <td>15</td>\n",
       "    </tr>\n",
       "  </tbody>\n",
       "</table>\n",
       "<p>948887 rows × 7 columns</p>\n",
       "</div>"
      ],
      "text/plain": [
       "          대여일자       성별    연령대코드  이용건수      운동량      이동거리  이용시간\n",
       "0       20-Jan        M  AGE_003     3    61.82    2230.0    75\n",
       "1       20-Jan        M  AGE_004     1    39.62    1220.0    15\n",
       "2       20-Jan        M  AGE_005     3   430.85   17270.0    53\n",
       "3       20-Jan  Unknown  AGE_005     2     1.79      90.0    33\n",
       "4       20-Jan        F  AGE_003     1  4501.96  196010.0    64\n",
       "...        ...      ...      ...   ...      ...       ...   ...\n",
       "948882  20-Dec        F  AGE_006     1     0.00       0.0     0\n",
       "948883  20-Dec        M  AGE_003     2     0.00       0.0    76\n",
       "948884  20-Dec        M  AGE_004     1     0.00       0.0    15\n",
       "948885  20-Dec  Unknown  AGE_008     7     0.00       0.0    18\n",
       "948886  20-Dec        M  AGE_004     3     0.00       0.0    15\n",
       "\n",
       "[948887 rows x 7 columns]"
      ]
     },
     "execution_count": 14,
     "metadata": {},
     "output_type": "execute_result"
    }
   ],
   "source": [
    "# 확인\n",
    "bike_2020[['대여일자','성별','연령대코드','이용건수','운동량','이동거리','이용시간']]"
   ]
  },
  {
   "cell_type": "markdown",
   "id": "e754f084",
   "metadata": {
    "id": "e754f084"
   },
   "source": [
    "### 07) 월별 공공 자전거 총 이용건수 ( 데이터 셋: 2020년 )"
   ]
  },
  {
   "cell_type": "code",
   "execution_count": 80,
   "id": "3d585a50",
   "metadata": {
    "colab": {
     "base_uri": "https://localhost:8080/",
     "height": 588
    },
    "id": "3d585a50",
    "outputId": "88642260-27d3-412f-a92a-a97255e3e62f"
   },
   "outputs": [
    {
     "data": {
      "text/plain": [
       "(array([ 0,  1,  2,  3,  4,  5,  6,  7,  8,  9, 10, 11]),\n",
       " [Text(0, 0, '20-Jan'),\n",
       "  Text(1, 0, '20-Feb'),\n",
       "  Text(2, 0, '20-Mar'),\n",
       "  Text(3, 0, '20-Apr'),\n",
       "  Text(4, 0, '20-May'),\n",
       "  Text(5, 0, '20-Jun'),\n",
       "  Text(6, 0, '20-Jul'),\n",
       "  Text(7, 0, '20-Aug'),\n",
       "  Text(8, 0, '20-Sep'),\n",
       "  Text(9, 0, '20-Oct'),\n",
       "  Text(10, 0, '20-Nov'),\n",
       "  Text(11, 0, '20-Dec')])"
      ]
     },
     "execution_count": 80,
     "metadata": {},
     "output_type": "execute_result"
    },
    {
     "data": {
      "image/png": "[encoded data removed]",
      "text/plain": [
       "<Figure size 432x288 with 1 Axes>"
      ]
     },
     "metadata": {
      "needs_background": "light"
     },
     "output_type": "display_data"
    }
   ],
   "source": [
    "sns.countplot(x='대여일자', data=bike_2020).set_title('월별 공공 자전거 총 이용건수')\n",
    "plt.xticks(rotation=45)"
   ]
  },
  {
   "cell_type": "markdown",
   "id": "01b48794",
   "metadata": {},
   "source": [
    "### 07-2) 한 사람당 월별 평균 이용건수 ( 데이터 셋: 2020년 )"
   ]
  },
  {
   "cell_type": "code",
   "execution_count": 81,
   "id": "550798c3",
   "metadata": {},
   "outputs": [
    {
     "data": {
      "text/plain": [
       "([0, 1, 2, 3, 4, 5, 6, 7, 8, 9, 10, 11],\n",
       " [Text(0, 0, ''),\n",
       "  Text(0, 0, ''),\n",
       "  Text(0, 0, ''),\n",
       "  Text(0, 0, ''),\n",
       "  Text(0, 0, ''),\n",
       "  Text(0, 0, ''),\n",
       "  Text(0, 0, ''),\n",
       "  Text(0, 0, ''),\n",
       "  Text(0, 0, ''),\n",
       "  Text(0, 0, ''),\n",
       "  Text(0, 0, ''),\n",
       "  Text(0, 0, '')])"
      ]
     },
     "execution_count": 81,
     "metadata": {},
     "output_type": "execute_result"
    },
    {
     "data": {
      "image/png": "[encoded data removed]",
      "text/plain": [
       "<Figure size 432x288 with 1 Axes>"
      ]
     },
     "metadata": {
      "needs_background": "light"
     },
     "output_type": "display_data"
    }
   ],
   "source": [
    "sns.lineplot(x='대여일자', y ='이용건수', data=bike_2020).set(title='한 사람당 월별 평균 이용건수')\n",
    "plt.xticks(rotation=45)"
   ]
  },
  {
   "cell_type": "markdown",
   "id": "898ee8a4",
   "metadata": {
    "id": "898ee8a4"
   },
   "source": [
    "### 08-1) 성별 공공 자전거 총 이용건수 ( 데이터 셋: 2020년 )"
   ]
  },
  {
   "cell_type": "code",
   "execution_count": 82,
   "id": "d562ac58",
   "metadata": {
    "colab": {
     "base_uri": "https://localhost:8080/",
     "height": 423
    },
    "id": "d562ac58",
    "outputId": "024e59d2-8426-4de7-cd3d-ee8c552e8223"
   },
   "outputs": [
    {
     "data": {
      "text/plain": [
       "<AxesSubplot:xlabel='성별', ylabel='count'>"
      ]
     },
     "execution_count": 82,
     "metadata": {},
     "output_type": "execute_result"
    },
    {
     "data": {
      "image/png": "[encoded data removed]",
      "text/plain": [
       "<Figure size 432x288 with 1 Axes>"
      ]
     },
     "metadata": {
      "needs_background": "light"
     },
     "output_type": "display_data"
    }
   ],
   "source": [
    "# 성별 오름차순\n",
    "bike_2020=bike_2020.sort_values(by='성별', ascending=True)\n",
    "\n",
    "sns.countplot(x='성별',data=bike_2020)"
   ]
  },
  {
   "cell_type": "markdown",
   "id": "bb0beb74",
   "metadata": {
    "id": "bb0beb74"
   },
   "source": [
    "##### 08 결론) 성별을 알수없는 이용객이 2배이상 많아서 성별로 구분하는 것은 어려울 듯 하다."
   ]
  },
  {
   "cell_type": "markdown",
   "id": "26d0ad34",
   "metadata": {
    "id": "26d0ad34"
   },
   "source": [
    "### 08-2) 성별 공공 자전거 한 사람당 평균 이용건수 ( 데이터 셋: 2020년 )"
   ]
  },
  {
   "cell_type": "code",
   "execution_count": 83,
   "id": "c6809887",
   "metadata": {
    "colab": {
     "base_uri": "https://localhost:8080/",
     "height": 711
    },
    "id": "c6809887",
    "outputId": "68e30721-6dcf-435b-af25-0cab2029a59d"
   },
   "outputs": [
    {
     "data": {
      "text/plain": [
       "<AxesSubplot:xlabel='성별', ylabel='이용건수'>"
      ]
     },
     "execution_count": 83,
     "metadata": {},
     "output_type": "execute_result"
    },
    {
     "data": {
      "image/png": "[encoded data removed]",
      "text/plain": [
       "<Figure size 432x288 with 1 Axes>"
      ]
     },
     "metadata": {
      "needs_background": "light"
     },
     "output_type": "display_data"
    }
   ],
   "source": [
    "sns.barplot(x='성별', y='이용건수',data=bike_2020)"
   ]
  },
  {
   "cell_type": "markdown",
   "id": "041953d8",
   "metadata": {
    "id": "041953d8"
   },
   "source": [
    "### 09-1) 성별에 따른 월별 총 이용건수 ( 데이터 셋: 2020년 )"
   ]
  },
  {
   "cell_type": "code",
   "execution_count": 84,
   "id": "18e199b1",
   "metadata": {
    "colab": {
     "base_uri": "https://localhost:8080/",
     "height": 732
    },
    "id": "18e199b1",
    "outputId": "59200756-a55a-4e65-8884-f6bc32e0e452"
   },
   "outputs": [
    {
     "data": {
      "text/plain": [
       "(array([ 0,  1,  2,  3,  4,  5,  6,  7,  8,  9, 10, 11]),\n",
       " [Text(0, 0, '20-Jun'),\n",
       "  Text(1, 0, '20-Mar'),\n",
       "  Text(2, 0, '20-May'),\n",
       "  Text(3, 0, '20-Jul'),\n",
       "  Text(4, 0, '20-Oct'),\n",
       "  Text(5, 0, '20-Sep'),\n",
       "  Text(6, 0, '20-Apr'),\n",
       "  Text(7, 0, '20-Aug'),\n",
       "  Text(8, 0, '20-Dec'),\n",
       "  Text(9, 0, '20-Jan'),\n",
       "  Text(10, 0, '20-Nov'),\n",
       "  Text(11, 0, '20-Feb')])"
      ]
     },
     "execution_count": 84,
     "metadata": {},
     "output_type": "execute_result"
    },
    {
     "data": {
      "image/png": "[encoded data removed]",
      "text/plain": [
       "<Figure size 432x288 with 1 Axes>"
      ]
     },
     "metadata": {
      "needs_background": "light"
     },
     "output_type": "display_data"
    }
   ],
   "source": [
    "sns.countplot(x='대여일자', hue='성별',data=bike_2020)\n",
    "plt.xticks(rotation=45)"
   ]
  },
  {
   "cell_type": "markdown",
   "id": "e557d7f0",
   "metadata": {},
   "source": [
    "### 09-2) 성별에 따른 한 사람의 한달 평균 이용건수"
   ]
  },
  {
   "cell_type": "code",
   "execution_count": 85,
   "id": "06135e90",
   "metadata": {},
   "outputs": [
    {
     "data": {
      "text/plain": [
       "<AxesSubplot:xlabel='성별', ylabel='이용건수'>"
      ]
     },
     "execution_count": 85,
     "metadata": {},
     "output_type": "execute_result"
    },
    {
     "data": {
      "image/png": "[encoded data removed]",
      "text/plain": [
       "<Figure size 432x288 with 1 Axes>"
      ]
     },
     "metadata": {
      "needs_background": "light"
     },
     "output_type": "display_data"
    }
   ],
   "source": [
    "sns.barplot(x='성별', y='이용건수',data=bike_2020)"
   ]
  },
  {
   "cell_type": "markdown",
   "id": "36971623",
   "metadata": {},
   "source": [
    "#### 09) 자전거 이용자 중, 여성들은 한달에 20번정도, 남성들은 한달에 25번 정도 공공자전거를 이용한다."
   ]
  },
  {
   "cell_type": "markdown",
   "id": "9fce8be7",
   "metadata": {
    "id": "9fce8be7"
   },
   "source": [
    "### 10) 성별에 따른 한 사람 평균 이용시간 차이"
   ]
  },
  {
   "cell_type": "code",
   "execution_count": 86,
   "id": "c16bee82",
   "metadata": {
    "colab": {
     "base_uri": "https://localhost:8080/",
     "height": 711
    },
    "id": "c16bee82",
    "outputId": "7f1b7bce-f8ee-46b3-db0b-bcb9354a4c10"
   },
   "outputs": [
    {
     "data": {
      "text/plain": [
       "<AxesSubplot:xlabel='성별', ylabel='이용시간'>"
      ]
     },
     "execution_count": 86,
     "metadata": {},
     "output_type": "execute_result"
    },
    {
     "data": {
      "image/png": "[encoded data removed]",
      "text/plain": [
       "<Figure size 432x288 with 1 Axes>"
      ]
     },
     "metadata": {
      "needs_background": "light"
     },
     "output_type": "display_data"
    }
   ],
   "source": [
    "sns.barplot(x='성별', y='이용시간',data=bike_2020)"
   ]
  },
  {
   "cell_type": "markdown",
   "id": "e647f115",
   "metadata": {
    "id": "e647f115"
   },
   "source": [
    "##### 10 결론) 알수없는 성별의 케이스가 너무 많아서 부정확하다."
   ]
  },
  {
   "cell_type": "markdown",
   "id": "5554a9e1",
   "metadata": {
    "id": "5554a9e1"
   },
   "source": [
    "### 11-1) 성별에 따른 운동량 - 데이터 전처리\n",
    "  * 운동량 컬럼의 결측치 처리\n",
    "  * 운동량 컬럼의 모든 요소 값을 숫자형태로 mapping\n",
    "    * 그러나 map으로 지정하지 않은 자료는 모두 NaN으로 변하기 때문에\n",
    "    * .replace 로 대체\n",
    "  * 운동량 컬럼의 모든 요소 값을 숫자형태로 자료형변환"
   ]
  },
  {
   "cell_type": "code",
   "execution_count": 87,
   "id": "debab630",
   "metadata": {
    "colab": {
     "base_uri": "https://localhost:8080/"
    },
    "id": "debab630",
    "outputId": "f0c91cdb-39d9-43f4-c99c-3dc3227486f0"
   },
   "outputs": [
    {
     "name": "stdout",
     "output_type": "stream",
     "text": [
      "<class 'pandas.core.frame.DataFrame'>\n",
      "Int64Index: 948887 entries, 378739 to 663810\n",
      "Data columns (total 11 columns):\n",
      " #   Column  Non-Null Count   Dtype  \n",
      "---  ------  --------------   -----  \n",
      " 0   대여일자    948887 non-null  object \n",
      " 1   대여소번호   948887 non-null  int64  \n",
      " 2   대여소명    948887 non-null  object \n",
      " 3   대여구분코드  948887 non-null  object \n",
      " 4   성별      948887 non-null  object \n",
      " 5   연령대코드   948887 non-null  object \n",
      " 6   이용건수    948887 non-null  int64  \n",
      " 7   운동량     948887 non-null  float64\n",
      " 8   탄소량     948887 non-null  float64\n",
      " 9   이동거리    948887 non-null  float64\n",
      " 10  이용시간    948887 non-null  int64  \n",
      "dtypes: float64(3), int64(3), object(5)\n",
      "memory usage: 119.1+ MB\n"
     ]
    }
   ],
   "source": [
    "bike_2020.info()"
   ]
  },
  {
   "cell_type": "markdown",
   "id": "5f07182c",
   "metadata": {
    "id": "5f07182c"
   },
   "source": [
    "* 운동량의 non-null을 보아 null값이 없다는 걸 알 수 있다.\n",
    "* 즉, \\N은 NULL이 아니라 문자열로 들어가있다는 것을 알 수있다.\n",
    "* 또한, bike_2020['운동량'] = bike_2020['운동량'].fillna('0') 을 굳이 해 줄 필요가 없다.\n",
    "* 애초에 NULL값이 없으니까!"
   ]
  },
  {
   "cell_type": "code",
   "execution_count": 88,
   "id": "6f800223",
   "metadata": {
    "id": "6f800223",
    "outputId": "03f0ceef-f1b4-4419-fd34-9f6b87be9b69"
   },
   "outputs": [
    {
     "data": {
      "text/plain": [
       "array([   0.  ,  180.15,   24.71,  374.34,  280.05, 1844.79,  236.25,\n",
       "        183.78])"
      ]
     },
     "execution_count": 88,
     "metadata": {},
     "output_type": "execute_result"
    }
   ],
   "source": [
    "bike_2020['운동량'].tail(20).unique()"
   ]
  },
  {
   "cell_type": "markdown",
   "id": "9f50ba98",
   "metadata": {
    "id": "9f50ba98"
   },
   "source": [
    "* \\N로 표시된 값이 실제로 작은 따옴표로 '\\\\N'으로 표시되어있는 걸로 보아, NULL값이 아니라 문자열로 저장되어있음을 알 수 있다."
   ]
  },
  {
   "cell_type": "code",
   "execution_count": 89,
   "id": "4ec1b4d2",
   "metadata": {
    "id": "4ec1b4d2",
    "outputId": "b8593659-70b9-4d06-e7d6-0b5fd1c8fb5a"
   },
   "outputs": [
    {
     "data": {
      "text/plain": [
       "0.00        292258\n",
       "43.24          147\n",
       "46.33          138\n",
       "36.04          130\n",
       "21.62          126\n",
       "             ...  \n",
       "7100.33          1\n",
       "3719.26          1\n",
       "5341.37          1\n",
       "11046.11         1\n",
       "2440.07          1\n",
       "Name: 운동량, Length: 279971, dtype: int64"
      ]
     },
     "execution_count": 89,
     "metadata": {},
     "output_type": "execute_result"
    }
   ],
   "source": [
    "bike_2020['운동량'].value_counts()"
   ]
  },
  {
   "cell_type": "markdown",
   "id": "7e8d416d",
   "metadata": {
    "id": "7e8d416d"
   },
   "source": [
    "### map 이용시 주의 사항!!!!!!!!!\n",
    " * \\N이 있는 칸은 0으로 바꾸기 위해 dataframe_name['column_name']map({'\\\\N':0})을 사용하게 되면,\n",
    " * 해당 컬럼의 값이 '\\\\N'인 자료들은 모두 0 으로 바뀌지만,\n",
    " * map에 따로 정의하지 않았던 자료들이 모두 nan으로 바뀌는 부작용이 생긴다.\n",
    " * 즉, map을 통해 요소값을 바꿔주려면, 수정하고 싶지 않은 데이터에 대해서도 모두 정의해주어야한다.\n",
    " * ex) dataframe_name['column_name']map({'\\\\N':0, '0':'0', '43.21':'43.21','339.17':'339.17', '379.5':'379.5'})\n",
    " * 그래서 unique()값이 다양하면 다양할수록 map하는데 어려움이있다."
   ]
  },
  {
   "cell_type": "code",
   "execution_count": 90,
   "id": "f9c49f8d",
   "metadata": {},
   "outputs": [
    {
     "ename": "AttributeError",
     "evalue": "Can only use .str accessor with string values!",
     "output_type": "error",
     "traceback": [
      "\u001b[0;31m---------------------------------------------------------------------------\u001b[0m",
      "\u001b[0;31mAttributeError\u001b[0m                            Traceback (most recent call last)",
      "\u001b[0;32m<ipython-input-90-adb5f17ea7e6>\u001b[0m in \u001b[0;36m<module>\u001b[0;34m\u001b[0m\n\u001b[0;32m----> 1\u001b[0;31m \u001b[0mbike_2020\u001b[0m\u001b[0;34m[\u001b[0m\u001b[0;34m'운동량'\u001b[0m\u001b[0;34m]\u001b[0m \u001b[0;34m=\u001b[0m \u001b[0mbike_2020\u001b[0m\u001b[0;34m[\u001b[0m\u001b[0;34m'운동량'\u001b[0m\u001b[0;34m]\u001b[0m\u001b[0;34m.\u001b[0m\u001b[0mstr\u001b[0m\u001b[0;34m.\u001b[0m\u001b[0mreplace\u001b[0m\u001b[0;34m(\u001b[0m\u001b[0mpat\u001b[0m\u001b[0;34m=\u001b[0m\u001b[0;34mr'\\\\N'\u001b[0m\u001b[0;34m,\u001b[0m \u001b[0mrepl\u001b[0m\u001b[0;34m=\u001b[0m\u001b[0;34mr'0'\u001b[0m\u001b[0;34m,\u001b[0m \u001b[0mregex\u001b[0m\u001b[0;34m=\u001b[0m\u001b[0;32mTrue\u001b[0m\u001b[0;34m)\u001b[0m\u001b[0;34m\u001b[0m\u001b[0;34m\u001b[0m\u001b[0m\n\u001b[0m",
      "\u001b[0;32m~/opt/anaconda3/lib/python3.8/site-packages/pandas/core/generic.py\u001b[0m in \u001b[0;36m__getattr__\u001b[0;34m(self, name)\u001b[0m\n\u001b[1;32m   5459\u001b[0m             \u001b[0;32mor\u001b[0m \u001b[0mname\u001b[0m \u001b[0;32min\u001b[0m \u001b[0mself\u001b[0m\u001b[0;34m.\u001b[0m\u001b[0m_accessors\u001b[0m\u001b[0;34m\u001b[0m\u001b[0;34m\u001b[0m\u001b[0m\n\u001b[1;32m   5460\u001b[0m         ):\n\u001b[0;32m-> 5461\u001b[0;31m             \u001b[0;32mreturn\u001b[0m \u001b[0mobject\u001b[0m\u001b[0;34m.\u001b[0m\u001b[0m__getattribute__\u001b[0m\u001b[0;34m(\u001b[0m\u001b[0mself\u001b[0m\u001b[0;34m,\u001b[0m \u001b[0mname\u001b[0m\u001b[0;34m)\u001b[0m\u001b[0;34m\u001b[0m\u001b[0;34m\u001b[0m\u001b[0m\n\u001b[0m\u001b[1;32m   5462\u001b[0m         \u001b[0;32melse\u001b[0m\u001b[0;34m:\u001b[0m\u001b[0;34m\u001b[0m\u001b[0;34m\u001b[0m\u001b[0m\n\u001b[1;32m   5463\u001b[0m             \u001b[0;32mif\u001b[0m \u001b[0mself\u001b[0m\u001b[0;34m.\u001b[0m\u001b[0m_info_axis\u001b[0m\u001b[0;34m.\u001b[0m\u001b[0m_can_hold_identifiers_and_holds_name\u001b[0m\u001b[0;34m(\u001b[0m\u001b[0mname\u001b[0m\u001b[0;34m)\u001b[0m\u001b[0;34m:\u001b[0m\u001b[0;34m\u001b[0m\u001b[0;34m\u001b[0m\u001b[0m\n",
      "\u001b[0;32m~/opt/anaconda3/lib/python3.8/site-packages/pandas/core/accessor.py\u001b[0m in \u001b[0;36m__get__\u001b[0;34m(self, obj, cls)\u001b[0m\n\u001b[1;32m    178\u001b[0m             \u001b[0;31m# we're accessing the attribute of the class, i.e., Dataset.geo\u001b[0m\u001b[0;34m\u001b[0m\u001b[0;34m\u001b[0m\u001b[0;34m\u001b[0m\u001b[0m\n\u001b[1;32m    179\u001b[0m             \u001b[0;32mreturn\u001b[0m \u001b[0mself\u001b[0m\u001b[0;34m.\u001b[0m\u001b[0m_accessor\u001b[0m\u001b[0;34m\u001b[0m\u001b[0;34m\u001b[0m\u001b[0m\n\u001b[0;32m--> 180\u001b[0;31m         \u001b[0maccessor_obj\u001b[0m \u001b[0;34m=\u001b[0m \u001b[0mself\u001b[0m\u001b[0;34m.\u001b[0m\u001b[0m_accessor\u001b[0m\u001b[0;34m(\u001b[0m\u001b[0mobj\u001b[0m\u001b[0;34m)\u001b[0m\u001b[0;34m\u001b[0m\u001b[0;34m\u001b[0m\u001b[0m\n\u001b[0m\u001b[1;32m    181\u001b[0m         \u001b[0;31m# Replace the property with the accessor object. Inspired by:\u001b[0m\u001b[0;34m\u001b[0m\u001b[0;34m\u001b[0m\u001b[0;34m\u001b[0m\u001b[0m\n\u001b[1;32m    182\u001b[0m         \u001b[0;31m# https://www.pydanny.com/cached-property.html\u001b[0m\u001b[0;34m\u001b[0m\u001b[0;34m\u001b[0m\u001b[0;34m\u001b[0m\u001b[0m\n",
      "\u001b[0;32m~/opt/anaconda3/lib/python3.8/site-packages/pandas/core/strings/accessor.py\u001b[0m in \u001b[0;36m__init__\u001b[0;34m(self, data)\u001b[0m\n\u001b[1;32m    152\u001b[0m         \u001b[0;32mfrom\u001b[0m \u001b[0mpandas\u001b[0m\u001b[0;34m.\u001b[0m\u001b[0mcore\u001b[0m\u001b[0;34m.\u001b[0m\u001b[0marrays\u001b[0m\u001b[0;34m.\u001b[0m\u001b[0mstring_\u001b[0m \u001b[0;32mimport\u001b[0m \u001b[0mStringDtype\u001b[0m\u001b[0;34m\u001b[0m\u001b[0;34m\u001b[0m\u001b[0m\n\u001b[1;32m    153\u001b[0m \u001b[0;34m\u001b[0m\u001b[0m\n\u001b[0;32m--> 154\u001b[0;31m         \u001b[0mself\u001b[0m\u001b[0;34m.\u001b[0m\u001b[0m_inferred_dtype\u001b[0m \u001b[0;34m=\u001b[0m \u001b[0mself\u001b[0m\u001b[0;34m.\u001b[0m\u001b[0m_validate\u001b[0m\u001b[0;34m(\u001b[0m\u001b[0mdata\u001b[0m\u001b[0;34m)\u001b[0m\u001b[0;34m\u001b[0m\u001b[0;34m\u001b[0m\u001b[0m\n\u001b[0m\u001b[1;32m    155\u001b[0m         \u001b[0mself\u001b[0m\u001b[0;34m.\u001b[0m\u001b[0m_is_categorical\u001b[0m \u001b[0;34m=\u001b[0m \u001b[0mis_categorical_dtype\u001b[0m\u001b[0;34m(\u001b[0m\u001b[0mdata\u001b[0m\u001b[0;34m.\u001b[0m\u001b[0mdtype\u001b[0m\u001b[0;34m)\u001b[0m\u001b[0;34m\u001b[0m\u001b[0;34m\u001b[0m\u001b[0m\n\u001b[1;32m    156\u001b[0m         \u001b[0mself\u001b[0m\u001b[0;34m.\u001b[0m\u001b[0m_is_string\u001b[0m \u001b[0;34m=\u001b[0m \u001b[0misinstance\u001b[0m\u001b[0;34m(\u001b[0m\u001b[0mdata\u001b[0m\u001b[0;34m.\u001b[0m\u001b[0mdtype\u001b[0m\u001b[0;34m,\u001b[0m \u001b[0mStringDtype\u001b[0m\u001b[0;34m)\u001b[0m\u001b[0;34m\u001b[0m\u001b[0;34m\u001b[0m\u001b[0m\n",
      "\u001b[0;32m~/opt/anaconda3/lib/python3.8/site-packages/pandas/core/strings/accessor.py\u001b[0m in \u001b[0;36m_validate\u001b[0;34m(data)\u001b[0m\n\u001b[1;32m    215\u001b[0m \u001b[0;34m\u001b[0m\u001b[0m\n\u001b[1;32m    216\u001b[0m         \u001b[0;32mif\u001b[0m \u001b[0minferred_dtype\u001b[0m \u001b[0;32mnot\u001b[0m \u001b[0;32min\u001b[0m \u001b[0mallowed_types\u001b[0m\u001b[0;34m:\u001b[0m\u001b[0;34m\u001b[0m\u001b[0;34m\u001b[0m\u001b[0m\n\u001b[0;32m--> 217\u001b[0;31m             \u001b[0;32mraise\u001b[0m \u001b[0mAttributeError\u001b[0m\u001b[0;34m(\u001b[0m\u001b[0;34m\"Can only use .str accessor with string values!\"\u001b[0m\u001b[0;34m)\u001b[0m\u001b[0;34m\u001b[0m\u001b[0;34m\u001b[0m\u001b[0m\n\u001b[0m\u001b[1;32m    218\u001b[0m         \u001b[0;32mreturn\u001b[0m \u001b[0minferred_dtype\u001b[0m\u001b[0;34m\u001b[0m\u001b[0;34m\u001b[0m\u001b[0m\n\u001b[1;32m    219\u001b[0m \u001b[0;34m\u001b[0m\u001b[0m\n",
      "\u001b[0;31mAttributeError\u001b[0m: Can only use .str accessor with string values!"
     ]
    }
   ],
   "source": [
    "bike_2020['운동량'] = bike_2020['운동량'].str.replace(pat=r'\\\\N', repl=r'0', regex=True)"
   ]
  },
  {
   "cell_type": "code",
   "execution_count": 91,
   "id": "f93090f5",
   "metadata": {
    "id": "f93090f5",
    "outputId": "039c0834-3924-4c42-ab08-8f2e2462fb76"
   },
   "outputs": [
    {
     "data": {
      "text/html": [
       "<div>\n",
       "<style scoped>\n",
       "    .dataframe tbody tr th:only-of-type {\n",
       "        vertical-align: middle;\n",
       "    }\n",
       "\n",
       "    .dataframe tbody tr th {\n",
       "        vertical-align: top;\n",
       "    }\n",
       "\n",
       "    .dataframe thead th {\n",
       "        text-align: right;\n",
       "    }\n",
       "</style>\n",
       "<table border=\"1\" class=\"dataframe\">\n",
       "  <thead>\n",
       "    <tr style=\"text-align: right;\">\n",
       "      <th></th>\n",
       "      <th>대여일자</th>\n",
       "      <th>성별</th>\n",
       "      <th>연령대코드</th>\n",
       "      <th>이용건수</th>\n",
       "      <th>운동량</th>\n",
       "      <th>이동거리</th>\n",
       "      <th>이용시간</th>\n",
       "    </tr>\n",
       "  </thead>\n",
       "  <tbody>\n",
       "    <tr>\n",
       "      <th>378739</th>\n",
       "      <td>20-Jun</td>\n",
       "      <td>F</td>\n",
       "      <td>AGE_001</td>\n",
       "      <td>2</td>\n",
       "      <td>0.00</td>\n",
       "      <td>0.00</td>\n",
       "      <td>21</td>\n",
       "    </tr>\n",
       "    <tr>\n",
       "      <th>171435</th>\n",
       "      <td>20-Mar</td>\n",
       "      <td>F</td>\n",
       "      <td>AGE_005</td>\n",
       "      <td>1</td>\n",
       "      <td>69.11</td>\n",
       "      <td>2770.00</td>\n",
       "      <td>34</td>\n",
       "    </tr>\n",
       "    <tr>\n",
       "      <th>171436</th>\n",
       "      <td>20-Mar</td>\n",
       "      <td>F</td>\n",
       "      <td>AGE_006</td>\n",
       "      <td>1</td>\n",
       "      <td>322.42</td>\n",
       "      <td>13800.00</td>\n",
       "      <td>80</td>\n",
       "    </tr>\n",
       "    <tr>\n",
       "      <th>308615</th>\n",
       "      <td>20-May</td>\n",
       "      <td>F</td>\n",
       "      <td>AGE_001</td>\n",
       "      <td>5</td>\n",
       "      <td>94.28</td>\n",
       "      <td>3840.00</td>\n",
       "      <td>133</td>\n",
       "    </tr>\n",
       "    <tr>\n",
       "      <th>486129</th>\n",
       "      <td>20-Jul</td>\n",
       "      <td>F</td>\n",
       "      <td>AGE_002</td>\n",
       "      <td>321</td>\n",
       "      <td>16902.71</td>\n",
       "      <td>736255.15</td>\n",
       "      <td>8541</td>\n",
       "    </tr>\n",
       "    <tr>\n",
       "      <th>...</th>\n",
       "      <td>...</td>\n",
       "      <td>...</td>\n",
       "      <td>...</td>\n",
       "      <td>...</td>\n",
       "      <td>...</td>\n",
       "      <td>...</td>\n",
       "      <td>...</td>\n",
       "    </tr>\n",
       "    <tr>\n",
       "      <th>585714</th>\n",
       "      <td>20-Aug</td>\n",
       "      <td>\\N</td>\n",
       "      <td>AGE_007</td>\n",
       "      <td>30</td>\n",
       "      <td>0.00</td>\n",
       "      <td>0.00</td>\n",
       "      <td>858</td>\n",
       "    </tr>\n",
       "    <tr>\n",
       "      <th>585713</th>\n",
       "      <td>20-Aug</td>\n",
       "      <td>\\N</td>\n",
       "      <td>AGE_006</td>\n",
       "      <td>8</td>\n",
       "      <td>0.00</td>\n",
       "      <td>0.00</td>\n",
       "      <td>260</td>\n",
       "    </tr>\n",
       "    <tr>\n",
       "      <th>585712</th>\n",
       "      <td>20-Aug</td>\n",
       "      <td>\\N</td>\n",
       "      <td>AGE_005</td>\n",
       "      <td>45</td>\n",
       "      <td>0.00</td>\n",
       "      <td>0.00</td>\n",
       "      <td>1058</td>\n",
       "    </tr>\n",
       "    <tr>\n",
       "      <th>243339</th>\n",
       "      <td>20-Apr</td>\n",
       "      <td>\\N</td>\n",
       "      <td>AGE_004</td>\n",
       "      <td>4</td>\n",
       "      <td>236.25</td>\n",
       "      <td>8210.00</td>\n",
       "      <td>128</td>\n",
       "    </tr>\n",
       "    <tr>\n",
       "      <th>663810</th>\n",
       "      <td>20-Sep</td>\n",
       "      <td>\\N</td>\n",
       "      <td>AGE_002</td>\n",
       "      <td>8</td>\n",
       "      <td>183.78</td>\n",
       "      <td>8438.02</td>\n",
       "      <td>665</td>\n",
       "    </tr>\n",
       "  </tbody>\n",
       "</table>\n",
       "<p>948887 rows × 7 columns</p>\n",
       "</div>"
      ],
      "text/plain": [
       "          대여일자  성별    연령대코드  이용건수       운동량       이동거리  이용시간\n",
       "378739  20-Jun   F  AGE_001     2      0.00       0.00    21\n",
       "171435  20-Mar   F  AGE_005     1     69.11    2770.00    34\n",
       "171436  20-Mar   F  AGE_006     1    322.42   13800.00    80\n",
       "308615  20-May   F  AGE_001     5     94.28    3840.00   133\n",
       "486129  20-Jul   F  AGE_002   321  16902.71  736255.15  8541\n",
       "...        ...  ..      ...   ...       ...        ...   ...\n",
       "585714  20-Aug  \\N  AGE_007    30      0.00       0.00   858\n",
       "585713  20-Aug  \\N  AGE_006     8      0.00       0.00   260\n",
       "585712  20-Aug  \\N  AGE_005    45      0.00       0.00  1058\n",
       "243339  20-Apr  \\N  AGE_004     4    236.25    8210.00   128\n",
       "663810  20-Sep  \\N  AGE_002     8    183.78    8438.02   665\n",
       "\n",
       "[948887 rows x 7 columns]"
      ]
     },
     "execution_count": 91,
     "metadata": {},
     "output_type": "execute_result"
    }
   ],
   "source": [
    "# 운동량 컬럼에 \\N이 있는 칸은 0으로 바꾼다.\n",
    "# print('값 변환 전 :',bike_2020['운동량'].unique())\n",
    "# bike_2020['운동량'] = bike_2020['운동량'].map({'\\\\N':0, '0':0})\n",
    "\n",
    "# print('값 변환 후 :',bike_2020['운동량'].unique())\n",
    "bike_2020[['대여일자','성별','연령대코드','이용건수','운동량','이동거리','이용시간']]"
   ]
  },
  {
   "cell_type": "code",
   "execution_count": 92,
   "id": "37698b6d",
   "metadata": {
    "id": "37698b6d",
    "outputId": "6dcb4e6b-e991-47ee-d81b-f417c2d80e59"
   },
   "outputs": [
    {
     "name": "stdout",
     "output_type": "stream",
     "text": [
      "자료형 변환 전 : float64\n",
      "자료형 변환 후 : float64\n"
     ]
    }
   ],
   "source": [
    "print('자료형 변환 전 :', bike_2020['운동량'].dtypes)\n",
    "bike_2020['운동량'] = bike_2020['운동량'].astype('float64')\n",
    "print('자료형 변환 후 :',bike_2020['운동량'].dtypes)"
   ]
  },
  {
   "cell_type": "markdown",
   "id": "17cae011",
   "metadata": {
    "id": "17cae011"
   },
   "source": [
    "### 11-2) 성별에 따른 한 사람 평균 운동량 차이 - 그래프 시각화"
   ]
  },
  {
   "cell_type": "code",
   "execution_count": 93,
   "id": "ba31c425",
   "metadata": {
    "id": "ba31c425",
    "outputId": "a25c0edd-9ee4-4444-cbc4-492f68f95f18"
   },
   "outputs": [
    {
     "data": {
      "text/plain": [
       "<AxesSubplot:xlabel='성별', ylabel='운동량'>"
      ]
     },
     "execution_count": 93,
     "metadata": {},
     "output_type": "execute_result"
    },
    {
     "data": {
      "image/png": "[encoded data removed]",
      "text/plain": [
       "<Figure size 432x288 with 1 Axes>"
      ]
     },
     "metadata": {
      "needs_background": "light"
     },
     "output_type": "display_data"
    }
   ],
   "source": [
    "sns.barplot(x='성별', y='운동량',data=bike_2020)"
   ]
  },
  {
   "cell_type": "markdown",
   "id": "0b6aa411",
   "metadata": {
    "id": "0b6aa411"
   },
   "source": [
    "### 12) 성별에 따른 이용시간 대비 운동강도 : 운동량 / 이용시간\n",
    "  * bike_2020.loc[2,['운동량']]만 쓰면 Series형태로 인덱스값과 같이 추출 되기 때문에\n",
    "  * .values를 통해 숫자값만 추출해야한다."
   ]
  },
  {
   "cell_type": "code",
   "execution_count": 94,
   "id": "094f1368",
   "metadata": {
    "id": "094f1368",
    "outputId": "dc0ea44e-4687-4606-f2a2-675955b39145"
   },
   "outputs": [
    {
     "data": {
      "text/plain": [
       "array([ True])"
      ]
     },
     "execution_count": 94,
     "metadata": {},
     "output_type": "execute_result"
    }
   ],
   "source": [
    "bike_2020.loc[1,['이용시간']].values == 15"
   ]
  },
  {
   "cell_type": "code",
   "execution_count": 95,
   "id": "c9eb7062",
   "metadata": {
    "id": "c9eb7062",
    "outputId": "d73d6c46-2a8e-4c5d-880d-795e44f574cd"
   },
   "outputs": [
    {
     "ename": "ValueError",
     "evalue": "The truth value of an array with more than one element is ambiguous. Use a.any() or a.all()",
     "output_type": "error",
     "traceback": [
      "\u001b[0;31m---------------------------------------------------------------------------\u001b[0m",
      "\u001b[0;31mValueError\u001b[0m                                Traceback (most recent call last)",
      "\u001b[0;32m<ipython-input-95-a0f3bae1501f>\u001b[0m in \u001b[0;36m<module>\u001b[0;34m\u001b[0m\n\u001b[0;32m----> 1\u001b[0;31m \u001b[0;32mif\u001b[0m \u001b[0mbike_2020\u001b[0m\u001b[0;34m[\u001b[0m\u001b[0;34m'이용시간'\u001b[0m\u001b[0;34m]\u001b[0m\u001b[0;34m.\u001b[0m\u001b[0mvalues\u001b[0m \u001b[0;34m==\u001b[0m \u001b[0;36m0\u001b[0m\u001b[0;34m:\u001b[0m\u001b[0;34m\u001b[0m\u001b[0;34m\u001b[0m\u001b[0m\n\u001b[0m\u001b[1;32m      2\u001b[0m     \u001b[0mbike_2020\u001b[0m\u001b[0;34m[\u001b[0m\u001b[0;34m'운동강도'\u001b[0m\u001b[0;34m]\u001b[0m\u001b[0;34m.\u001b[0m\u001b[0mvalues\u001b[0m \u001b[0;34m=\u001b[0m \u001b[0;36m0\u001b[0m\u001b[0;34m\u001b[0m\u001b[0;34m\u001b[0m\u001b[0m\n\u001b[1;32m      3\u001b[0m \u001b[0;32melse\u001b[0m \u001b[0;34m:\u001b[0m\u001b[0;34m\u001b[0m\u001b[0;34m\u001b[0m\u001b[0m\n\u001b[1;32m      4\u001b[0m     \u001b[0mbike_2020\u001b[0m\u001b[0;34m[\u001b[0m\u001b[0;34m'운동강도'\u001b[0m\u001b[0;34m]\u001b[0m\u001b[0;34m.\u001b[0m\u001b[0mvalues\u001b[0m \u001b[0;34m=\u001b[0m \u001b[0mbike_2020\u001b[0m\u001b[0;34m[\u001b[0m\u001b[0;34m'운동량'\u001b[0m\u001b[0;34m]\u001b[0m\u001b[0;34m.\u001b[0m\u001b[0mvalues\u001b[0m\u001b[0;34m/\u001b[0m \u001b[0mbike_2020\u001b[0m\u001b[0;34m[\u001b[0m\u001b[0;34m'이용시간'\u001b[0m\u001b[0;34m]\u001b[0m\u001b[0;34m.\u001b[0m\u001b[0mvalues\u001b[0m\u001b[0;34m\u001b[0m\u001b[0;34m\u001b[0m\u001b[0m\n",
      "\u001b[0;31mValueError\u001b[0m: The truth value of an array with more than one element is ambiguous. Use a.any() or a.all()"
     ]
    }
   ],
   "source": [
    "if bike_2020['이용시간'].values == 0:\n",
    "    bike_2020['운동강도'].values = 0\n",
    "else :\n",
    "    bike_2020['운동강도'].values = bike_2020['운동량'].values/ bike_2020['이용시간'].values"
   ]
  },
  {
   "cell_type": "code",
   "execution_count": null,
   "id": "c1287726",
   "metadata": {
    "id": "c1287726",
    "outputId": "46bea9d7-1438-46e3-bee6-4c0b79892bad"
   },
   "outputs": [],
   "source": [
    "for i in range(948887):\n",
    "    if bike_2020.loc[i,['이용시간']].values == 0:\n",
    "        bike_2020.loc[i,['운동강도']].values = 0\n",
    "    else :\n",
    "        bike_2020.loc[i,['운동강도']].values = bike_2020.loc[i,['운동량']].values/ bike_2020.loc[i,['이용시간']].values"
   ]
  },
  {
   "cell_type": "code",
   "execution_count": null,
   "id": "5ddb6e45",
   "metadata": {
    "id": "5ddb6e45",
    "outputId": "16faaafd-c854-41d4-ffc2-645ae5ae503d"
   },
   "outputs": [
    {
     "name": "stderr",
     "output_type": "stream",
     "text": [
      "<ipython-input-326-3f99a598931f>:1: RuntimeWarning: divide by zero encountered in true_divide\n",
      "  sns.barplot(x='성별', y=bike_2020['운동량'].values/ bike_2020['이용시간'].values ,data=bike_2020)\n",
      "<ipython-input-326-3f99a598931f>:1: RuntimeWarning: invalid value encountered in true_divide\n",
      "  sns.barplot(x='성별', y=bike_2020['운동량'].values/ bike_2020['이용시간'].values ,data=bike_2020)\n",
      "/Users/works/opt/anaconda3/lib/python3.8/site-packages/numpy/lib/function_base.py:3961: RuntimeWarning: invalid value encountered in subtract\n",
      "  diff_b_a = subtract(b, a)\n"
     ]
    },
    {
     "data": {
      "text/plain": [
       "<AxesSubplot:xlabel='성별'>"
      ]
     },
     "execution_count": 326,
     "metadata": {},
     "output_type": "execute_result"
    },
    {
     "data": {
      "image/png": "[encoded data removed]",
      "text/plain": [
       "<Figure size 432x288 with 1 Axes>"
      ]
     },
     "metadata": {
      "needs_background": "light"
     },
     "output_type": "display_data"
    }
   ],
   "source": [
    "sns.barplot(x='성별', y=bike_2020['운동량'].values/ bike_2020['이용시간'].values ,data=bike_2020)"
   ]
  },
  {
   "cell_type": "markdown",
   "id": "e6a5abdd",
   "metadata": {
    "id": "e6a5abdd"
   },
   "source": [
    "### 13) 성별에 따른 한 사람 평균 이동거리\n"
   ]
  },
  {
   "cell_type": "code",
   "execution_count": null,
   "id": "ae0f7109",
   "metadata": {
    "colab": {
     "base_uri": "https://localhost:8080/",
     "height": 1000
    },
    "id": "ae0f7109",
    "outputId": "d0f2d90a-2685-49b6-9100-877821a1339c"
   },
   "outputs": [],
   "source": [
    "sns.barplot(x='성별', y='이동거리', data=bike_2020).set(title='성별에 따른 한 사람 평균 이동거리')"
   ]
  },
  {
   "cell_type": "markdown",
   "id": "9a814c28",
   "metadata": {
    "id": "9a814c28"
   },
   "source": [
    "### 14) 성별에 따른 주행속도 차이 : 이동거리 / 이용시간"
   ]
  },
  {
   "cell_type": "code",
   "execution_count": 33,
   "id": "892bcb04",
   "metadata": {
    "colab": {
     "base_uri": "https://localhost:8080/",
     "height": 190
    },
    "id": "892bcb04",
    "outputId": "39b47d5b-1f35-4ae0-da8c-4dc2b22fa0fd"
   },
   "outputs": [
    {
     "ename": "TypeError",
     "evalue": "unsupported operand type(s) for /: 'str' and 'str'",
     "output_type": "error",
     "traceback": [
      "\u001b[0;31m---------------------------------------------------------------------------\u001b[0m",
      "\u001b[0;31mTypeError\u001b[0m                                 Traceback (most recent call last)",
      "\u001b[0;32m<ipython-input-33-d6077f419a30>\u001b[0m in \u001b[0;36m<module>\u001b[0;34m\u001b[0m\n\u001b[0;32m----> 1\u001b[0;31m \u001b[0msns\u001b[0m\u001b[0;34m.\u001b[0m\u001b[0mbarplot\u001b[0m\u001b[0;34m(\u001b[0m\u001b[0mx\u001b[0m\u001b[0;34m=\u001b[0m\u001b[0;34m'성별'\u001b[0m\u001b[0;34m,\u001b[0m \u001b[0my\u001b[0m\u001b[0;34m=\u001b[0m\u001b[0;34m'이동거리'\u001b[0m\u001b[0;34m/\u001b[0m\u001b[0;34m'이용시간'\u001b[0m\u001b[0;34m,\u001b[0m \u001b[0mdata\u001b[0m\u001b[0;34m=\u001b[0m\u001b[0mbike_2020\u001b[0m\u001b[0;34m)\u001b[0m\u001b[0;34m.\u001b[0m\u001b[0mset\u001b[0m\u001b[0;34m(\u001b[0m\u001b[0mtitle\u001b[0m\u001b[0;34m=\u001b[0m\u001b[0;34m'성별에 따른 한 사람 평균 주행속도'\u001b[0m\u001b[0;34m)\u001b[0m\u001b[0;34m\u001b[0m\u001b[0;34m\u001b[0m\u001b[0m\n\u001b[0m\u001b[1;32m      2\u001b[0m \u001b[0mplt\u001b[0m\u001b[0;34m.\u001b[0m\u001b[0mxticks\u001b[0m\u001b[0;34m(\u001b[0m\u001b[0mrotation\u001b[0m\u001b[0;34m=\u001b[0m\u001b[0;36m30\u001b[0m\u001b[0;34m)\u001b[0m\u001b[0;34m\u001b[0m\u001b[0;34m\u001b[0m\u001b[0m\n",
      "\u001b[0;31mTypeError\u001b[0m: unsupported operand type(s) for /: 'str' and 'str'"
     ]
    }
   ],
   "source": [
    "sns.barplot(x='성별', y='이동거리'/'이용시간', data=bike_2020).set(title='성별에 따른 한 사람 평균 주행속도')\n",
    "plt.xticks(rotation=30)"
   ]
  },
  {
   "cell_type": "markdown",
   "id": "047a6b94",
   "metadata": {
    "id": "047a6b94"
   },
   "source": [
    "### 15-1) 나이대별 총 이용건수"
   ]
  },
  {
   "cell_type": "code",
   "execution_count": null,
   "id": "c20364c0",
   "metadata": {
    "colab": {
     "base_uri": "https://localhost:8080/",
     "height": 1000
    },
    "id": "c20364c0",
    "outputId": "21b15e24-1342-4dfb-f25e-e481816272d7"
   },
   "outputs": [],
   "source": [
    "sns.countplot(x='연령대코드',data=bike_2020).set(title='나이대별 총 이용건수')\n",
    "\n",
    "plt.xticks(rotation=30)"
   ]
  },
  {
   "cell_type": "markdown",
   "id": "46934bbd",
   "metadata": {
    "id": "46934bbd"
   },
   "source": [
    "### 15-2) AGE_03부터 시작함. 따라서 AGE_01부터 AGE_09까지 sort_values 한 후 시각화하면 x labels이 정렬될듯?"
   ]
  },
  {
   "cell_type": "code",
   "execution_count": null,
   "id": "3e43afcd",
   "metadata": {
    "colab": {
     "base_uri": "https://localhost:8080/",
     "height": 1000
    },
    "id": "3e43afcd",
    "outputId": "a931ddf6-a9fc-478e-f5e5-a50126445aa9"
   },
   "outputs": [],
   "source": [
    "bike_2020=bike_2020.sort_values(by='연령대코드', ascending=True)\n",
    "sns.countplot(x='연령대코드',data=bike_2020).set(title='나이대별 총 이용건수')\n",
    "plt.xticks(rotation=30)"
   ]
  },
  {
   "cell_type": "markdown",
   "id": "c2f6fcac",
   "metadata": {
    "id": "c2f6fcac"
   },
   "source": [
    "### 16) 나이에 따른 한 사람의 평균 이용시간"
   ]
  },
  {
   "cell_type": "code",
   "execution_count": 102,
   "id": "cb0b2c86",
   "metadata": {
    "colab": {
     "base_uri": "https://localhost:8080/",
     "height": 1000
    },
    "id": "cb0b2c86",
    "outputId": "c0515099-5ef7-437c-fcb4-125c5daae505"
   },
   "outputs": [
    {
     "data": {
      "text/plain": [
       "(array([0, 1, 2, 3, 4, 5, 6, 7]),\n",
       " [Text(0, 0, 'AGE_001'),\n",
       "  Text(1, 0, 'AGE_002'),\n",
       "  Text(2, 0, 'AGE_003'),\n",
       "  Text(3, 0, 'AGE_004'),\n",
       "  Text(4, 0, 'AGE_005'),\n",
       "  Text(5, 0, 'AGE_006'),\n",
       "  Text(6, 0, 'AGE_007'),\n",
       "  Text(7, 0, 'AGE_008')])"
      ]
     },
     "execution_count": 102,
     "metadata": {},
     "output_type": "execute_result"
    },
    {
     "data": {
      "image/png": "[encoded data removed]",
      "text/plain": [
       "<Figure size 432x288 with 1 Axes>"
      ]
     },
     "metadata": {
      "needs_background": "light"
     },
     "output_type": "display_data"
    }
   ],
   "source": [
    "# 연령대 오름차순 정렬\n",
    "bike_2020=bike_2020.sort_values(by='연령대코드', ascending=True)\n",
    "\n",
    "sns.barplot(x='연령대코드',y='이용시간',data=bike_2020).set(title='나이대별 한 사람의 평균 이용시간')\n",
    "plt.xticks(rotation=30)"
   ]
  },
  {
   "cell_type": "markdown",
   "id": "wQr-SIuy9qJO",
   "metadata": {
    "id": "wQr-SIuy9qJO"
   },
   "source": [
    "### 17) 나이대 별 성별 차이"
   ]
  },
  {
   "cell_type": "code",
   "execution_count": 97,
   "id": "2f164422",
   "metadata": {
    "colab": {
     "base_uri": "https://localhost:8080/",
     "height": 1000
    },
    "id": "2f164422",
    "outputId": "06d854eb-98e8-4afe-9a0e-48448e5a0bbf"
   },
   "outputs": [
    {
     "data": {
      "text/plain": [
       "(array([0, 1, 2, 3, 4, 5, 6, 7]),\n",
       " [Text(0, 0, 'AGE_001'),\n",
       "  Text(1, 0, 'AGE_002'),\n",
       "  Text(2, 0, 'AGE_003'),\n",
       "  Text(3, 0, 'AGE_004'),\n",
       "  Text(4, 0, 'AGE_005'),\n",
       "  Text(5, 0, 'AGE_006'),\n",
       "  Text(6, 0, 'AGE_007'),\n",
       "  Text(7, 0, 'AGE_008')])"
      ]
     },
     "execution_count": 97,
     "metadata": {},
     "output_type": "execute_result"
    },
    {
     "data": {
      "image/png": "[encoded data removed]",
      "text/plain": [
       "<Figure size 432x288 with 1 Axes>"
      ]
     },
     "metadata": {
      "needs_background": "light"
     },
     "output_type": "display_data"
    }
   ],
   "source": [
    "sns.countplot(x='연령대코드', hue = '성별',data=bike_2020).set(title='나이대별로 남녀 총 이용건수 차이')\n",
    "plt.xticks(rotation=30)"
   ]
  },
  {
   "cell_type": "markdown",
   "id": "8be81541",
   "metadata": {},
   "source": [
    "### 18) 나이대 별 한 사람의 한달 평균 이용건수"
   ]
  },
  {
   "cell_type": "code",
   "execution_count": 98,
   "id": "f36a6ae1",
   "metadata": {},
   "outputs": [
    {
     "data": {
      "text/plain": [
       "(array([0, 1, 2, 3, 4, 5, 6, 7]),\n",
       " [Text(0, 0, 'AGE_001'),\n",
       "  Text(1, 0, 'AGE_002'),\n",
       "  Text(2, 0, 'AGE_003'),\n",
       "  Text(3, 0, 'AGE_004'),\n",
       "  Text(4, 0, 'AGE_005'),\n",
       "  Text(5, 0, 'AGE_006'),\n",
       "  Text(6, 0, 'AGE_007'),\n",
       "  Text(7, 0, 'AGE_008')])"
      ]
     },
     "execution_count": 98,
     "metadata": {},
     "output_type": "execute_result"
    },
    {
     "data": {
      "image/png": "[encoded data removed]",
      "text/plain": [
       "<Figure size 432x288 with 1 Axes>"
      ]
     },
     "metadata": {
      "needs_background": "light"
     },
     "output_type": "display_data"
    }
   ],
   "source": [
    "sns.barplot(x='연령대코드', y='이용건수',data=bike_2020).set(title='나이대별 한 사람의 한달 평균 이용횟수')\n",
    "plt.xticks(rotation=30)"
   ]
  },
  {
   "cell_type": "markdown",
   "id": "4cd44a29",
   "metadata": {},
   "source": [
    "### 19) 월별 총 이용시간"
   ]
  },
  {
   "cell_type": "code",
   "execution_count": 103,
   "id": "4611636c",
   "metadata": {},
   "outputs": [
    {
     "data": {
      "text/plain": [
       "(array([ 0,  1,  2,  3,  4,  5,  6,  7,  8,  9, 10, 11]),\n",
       " [Text(0, 0, '20-Jan'),\n",
       "  Text(1, 0, '20-Feb'),\n",
       "  Text(2, 0, '20-Mar'),\n",
       "  Text(3, 0, '20-Apr'),\n",
       "  Text(4, 0, '20-May'),\n",
       "  Text(5, 0, '20-Jun'),\n",
       "  Text(6, 0, '20-Jul'),\n",
       "  Text(7, 0, '20-Aug'),\n",
       "  Text(8, 0, '20-Sep'),\n",
       "  Text(9, 0, '20-Oct'),\n",
       "  Text(10, 0, '20-Nov'),\n",
       "  Text(11, 0, '20-Dec')])"
      ]
     },
     "execution_count": 103,
     "metadata": {},
     "output_type": "execute_result"
    },
    {
     "data": {
      "image/png": "[encoded data removed]",
      "text/plain": [
       "<Figure size 432x288 with 1 Axes>"
      ]
     },
     "metadata": {
      "needs_background": "light"
     },
     "output_type": "display_data"
    }
   ],
   "source": [
    "bike_2020 = pd.read_csv('./data_set/공공자전거 이용정보(2020년 전월).csv', encoding = 'cp949')\n",
    "\n",
    "sns.countplot(x='대여일자', data=bike_2020).set_title('월별 공공 자전거 총 이용건수')\n",
    "plt.xticks(rotation=45)"
   ]
  },
  {
   "cell_type": "markdown",
   "id": "64e358f5",
   "metadata": {},
   "source": [
    "#### 19 결과) 잘못된 그래프, 이용자 수임. 한 이용자가 30번을 이용해도 1번으로 count됨."
   ]
  },
  {
   "cell_type": "markdown",
   "id": "6f334711",
   "metadata": {},
   "source": [
    "### 20) 월별 한 사람 평균 이용시간"
   ]
  },
  {
   "cell_type": "code",
   "execution_count": 104,
   "id": "190ffcbf",
   "metadata": {},
   "outputs": [
    {
     "data": {
      "text/plain": [
       "([0, 1, 2, 3, 4, 5, 6, 7, 8, 9, 10, 11],\n",
       " [Text(0, 0, ''),\n",
       "  Text(0, 0, ''),\n",
       "  Text(0, 0, ''),\n",
       "  Text(0, 0, ''),\n",
       "  Text(0, 0, ''),\n",
       "  Text(0, 0, ''),\n",
       "  Text(0, 0, ''),\n",
       "  Text(0, 0, ''),\n",
       "  Text(0, 0, ''),\n",
       "  Text(0, 0, ''),\n",
       "  Text(0, 0, ''),\n",
       "  Text(0, 0, '')])"
      ]
     },
     "execution_count": 104,
     "metadata": {},
     "output_type": "execute_result"
    },
    {
     "data": {
      "image/png": "[encoded data removed]",
      "text/plain": [
       "<Figure size 432x288 with 1 Axes>"
      ]
     },
     "metadata": {
      "needs_background": "light"
     },
     "output_type": "display_data"
    }
   ],
   "source": [
    "sns.lineplot(x='대여일자', y ='이용시간', data=bike_2020).set(title='한 사람당 월별 평균 이용시간')\n",
    "plt.xticks(rotation=45)"
   ]
  },
  {
   "cell_type": "markdown",
   "id": "143e0647",
   "metadata": {},
   "source": [
    "### 21) 월별 한 사람 평균 이동거리"
   ]
  },
  {
   "cell_type": "code",
   "execution_count": 105,
   "id": "4bd8b388",
   "metadata": {},
   "outputs": [
    {
     "data": {
      "text/plain": [
       "([0, 1, 2, 3, 4, 5, 6, 7, 8, 9, 10, 11],\n",
       " [Text(0, 0, ''),\n",
       "  Text(0, 0, ''),\n",
       "  Text(0, 0, ''),\n",
       "  Text(0, 0, ''),\n",
       "  Text(0, 0, ''),\n",
       "  Text(0, 0, ''),\n",
       "  Text(0, 0, ''),\n",
       "  Text(0, 0, ''),\n",
       "  Text(0, 0, ''),\n",
       "  Text(0, 0, ''),\n",
       "  Text(0, 0, ''),\n",
       "  Text(0, 0, '')])"
      ]
     },
     "execution_count": 105,
     "metadata": {},
     "output_type": "execute_result"
    },
    {
     "data": {
      "image/png": "[encoded data removed]",
      "text/plain": [
       "<Figure size 432x288 with 1 Axes>"
      ]
     },
     "metadata": {
      "needs_background": "light"
     },
     "output_type": "display_data"
    }
   ],
   "source": [
    "sns.lineplot(x='대여일자', y ='이동거리', data=bike_2020).set(title='한 사람당 월별 평균 이동거리')\n",
    "plt.xticks(rotation=45)"
   ]
  },
  {
   "cell_type": "code",
   "execution_count": null,
   "id": "f2863a8b",
   "metadata": {},
   "outputs": [],
   "source": []
  }
 ],
 "metadata": {
  "colab": {
   "collapsed_sections": [
    "3cde8b98",
    "74a61e9a",
    "e754f084",
    "898ee8a4",
    "26d0ad34",
    "041953d8",
    "9fce8be7",
    "5554a9e1",
    "7e8d416d",
    "17cae011",
    "0b6aa411",
    "e6a5abdd",
    "46934bbd"
   ],
   "name": "Team_PRJ[MAC].ipynb",
   "provenance": []
  },
  "kernelspec": {
   "display_name": "Python 3",
   "language": "python",
   "name": "python3"
  },
  "language_info": {
   "codemirror_mode": {
    "name": "ipython",
    "version": 3
   },
   "file_extension": ".py",
   "mimetype": "text/x-python",
   "name": "python",
   "nbconvert_exporter": "python",
   "pygments_lexer": "ipython3",
   "version": "3.8.8"
  }
 },
 "nbformat": 4,
 "nbformat_minor": 5
}
