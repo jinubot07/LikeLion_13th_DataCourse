{
 "cells": [
  {
   "cell_type": "markdown",
   "id": "ed697b03",
   "metadata": {},
   "source": [
    "# 팀 프로젝트 : 코로나 시국에 따른 서울 시민 소비문화 변화 추이"
   ]
  },
  {
   "cell_type": "code",
   "execution_count": 61,
   "id": "c486a010",
   "metadata": {},
   "outputs": [],
   "source": [
    "import pandas as pd\n",
    "import seaborn as sns\n",
    "\n",
    "import matplotlib.pyplot as plt\n",
    "import matplotlib\n",
    "from matplotlib import font_manager, rc\n",
    "import platform\n",
    "\n",
    "import numpy as np\n",
    "import time"
   ]
  },
  {
   "cell_type": "code",
   "execution_count": 62,
   "id": "4293122e",
   "metadata": {},
   "outputs": [],
   "source": [
    "path = \"C:/Windows/Fonts/malgun.ttf\"\n",
    "if platform.system() == \"Windows\":\n",
    "    \n",
    "    font_name = font_manager.FontProperties(fname=path).get_name()\n",
    "    rc('font', family=font_name)\n",
    "elif platform.system()==\"Darwin\":\n",
    "    rc('font', family='AppleGothic')\n",
    "else:\n",
    "    print(\"Unknown System\")\n",
    "    \n",
    "matplotlib.rcParams['axes.unicode_minus'] = False"
   ]
  },
  {
   "cell_type": "markdown",
   "id": "99576865",
   "metadata": {},
   "source": [
    "### 01) 이용건수 소계 데이터 셋 불러오기"
   ]
  },
  {
   "cell_type": "code",
   "execution_count": 63,
   "id": "d237b610",
   "metadata": {},
   "outputs": [
    {
     "data": {
      "text/html": [
       "<div>\n",
       "<style scoped>\n",
       "    .dataframe tbody tr th:only-of-type {\n",
       "        vertical-align: middle;\n",
       "    }\n",
       "\n",
       "    .dataframe tbody tr th {\n",
       "        vertical-align: top;\n",
       "    }\n",
       "\n",
       "    .dataframe thead th {\n",
       "        text-align: right;\n",
       "    }\n",
       "</style>\n",
       "<table border=\"1\" class=\"dataframe\">\n",
       "  <thead>\n",
       "    <tr style=\"text-align: right;\">\n",
       "      <th></th>\n",
       "      <th>대여일자</th>\n",
       "      <th>여성</th>\n",
       "      <th>남성</th>\n",
       "      <th>미상</th>\n",
       "      <th>총 이용건수</th>\n",
       "      <th>AGE_001</th>\n",
       "      <th>AGE_002</th>\n",
       "      <th>AGE_003</th>\n",
       "      <th>AGE_004</th>\n",
       "      <th>AGE_005</th>\n",
       "      <th>AGE_006</th>\n",
       "      <th>AGE_007</th>\n",
       "      <th>AGE_008</th>\n",
       "      <th>AGE_009</th>\n",
       "    </tr>\n",
       "  </thead>\n",
       "  <tbody>\n",
       "    <tr>\n",
       "      <th>0</th>\n",
       "      <td>Jan-20</td>\n",
       "      <td>113769</td>\n",
       "      <td>258052</td>\n",
       "      <td>422341</td>\n",
       "      <td>794162</td>\n",
       "      <td>28787</td>\n",
       "      <td>326277</td>\n",
       "      <td>187520</td>\n",
       "      <td>127519</td>\n",
       "      <td>79939</td>\n",
       "      <td>23260</td>\n",
       "      <td>5060</td>\n",
       "      <td>15800</td>\n",
       "      <td>0</td>\n",
       "    </tr>\n",
       "    <tr>\n",
       "      <th>1</th>\n",
       "      <td>Feb-20</td>\n",
       "      <td>119053</td>\n",
       "      <td>249361</td>\n",
       "      <td>393860</td>\n",
       "      <td>762274</td>\n",
       "      <td>29083</td>\n",
       "      <td>317169</td>\n",
       "      <td>176534</td>\n",
       "      <td>121663</td>\n",
       "      <td>75398</td>\n",
       "      <td>21048</td>\n",
       "      <td>4586</td>\n",
       "      <td>16793</td>\n",
       "      <td>0</td>\n",
       "    </tr>\n",
       "    <tr>\n",
       "      <th>2</th>\n",
       "      <td>Mar-20</td>\n",
       "      <td>264416</td>\n",
       "      <td>392151</td>\n",
       "      <td>876968</td>\n",
       "      <td>1533535</td>\n",
       "      <td>76255</td>\n",
       "      <td>704244</td>\n",
       "      <td>333664</td>\n",
       "      <td>215159</td>\n",
       "      <td>122946</td>\n",
       "      <td>32372</td>\n",
       "      <td>6520</td>\n",
       "      <td>42375</td>\n",
       "      <td>0</td>\n",
       "    </tr>\n",
       "    <tr>\n",
       "      <th>3</th>\n",
       "      <td>Apr-20</td>\n",
       "      <td>356697</td>\n",
       "      <td>498752</td>\n",
       "      <td>1301941</td>\n",
       "      <td>2157390</td>\n",
       "      <td>119026</td>\n",
       "      <td>995677</td>\n",
       "      <td>485148</td>\n",
       "      <td>299685</td>\n",
       "      <td>161736</td>\n",
       "      <td>39643</td>\n",
       "      <td>7573</td>\n",
       "      <td>48902</td>\n",
       "      <td>0</td>\n",
       "    </tr>\n",
       "    <tr>\n",
       "      <th>4</th>\n",
       "      <td>May-20</td>\n",
       "      <td>373831</td>\n",
       "      <td>531646</td>\n",
       "      <td>1574853</td>\n",
       "      <td>2480330</td>\n",
       "      <td>136688</td>\n",
       "      <td>1164916</td>\n",
       "      <td>559575</td>\n",
       "      <td>335044</td>\n",
       "      <td>179794</td>\n",
       "      <td>44223</td>\n",
       "      <td>8235</td>\n",
       "      <td>51855</td>\n",
       "      <td>0</td>\n",
       "    </tr>\n",
       "  </tbody>\n",
       "</table>\n",
       "</div>"
      ],
      "text/plain": [
       "     대여일자      여성      남성       미상   총 이용건수  AGE_001  AGE_002  AGE_003  \\\n",
       "0  Jan-20  113769  258052   422341   794162    28787   326277   187520   \n",
       "1  Feb-20  119053  249361   393860   762274    29083   317169   176534   \n",
       "2  Mar-20  264416  392151   876968  1533535    76255   704244   333664   \n",
       "3  Apr-20  356697  498752  1301941  2157390   119026   995677   485148   \n",
       "4  May-20  373831  531646  1574853  2480330   136688  1164916   559575   \n",
       "\n",
       "   AGE_004  AGE_005  AGE_006  AGE_007  AGE_008  AGE_009  \n",
       "0   127519    79939    23260     5060    15800        0  \n",
       "1   121663    75398    21048     4586    16793        0  \n",
       "2   215159   122946    32372     6520    42375        0  \n",
       "3   299685   161736    39643     7573    48902        0  \n",
       "4   335044   179794    44223     8235    51855        0  "
      ]
     },
     "execution_count": 63,
     "metadata": {},
     "output_type": "execute_result"
    }
   ],
   "source": [
    "bike_sum = pd.read_csv('./data_set/공공자전거_이용건수_소계.csv')\n",
    "bike_sum.head()"
   ]
  },
  {
   "cell_type": "markdown",
   "id": "af1e5a97",
   "metadata": {},
   "source": [
    "### 02) 월별 공공 자전거 이용 건수"
   ]
  },
  {
   "cell_type": "code",
   "execution_count": 64,
   "id": "e85caede",
   "metadata": {},
   "outputs": [
    {
     "data": {
      "text/plain": [
       "(array([ 0,  1,  2,  3,  4,  5,  6,  7,  8,  9, 10, 11, 12, 13, 14, 15, 16,\n",
       "        17]),\n",
       " [Text(0, 0, 'Jan-20'),\n",
       "  Text(1, 0, 'Feb-20'),\n",
       "  Text(2, 0, 'Mar-20'),\n",
       "  Text(3, 0, 'Apr-20'),\n",
       "  Text(4, 0, 'May-20'),\n",
       "  Text(5, 0, 'Jun-20'),\n",
       "  Text(6, 0, 'Jul-20'),\n",
       "  Text(7, 0, 'Aug-20'),\n",
       "  Text(8, 0, 'Sep-20'),\n",
       "  Text(9, 0, 'Oct-20'),\n",
       "  Text(10, 0, 'Nov-20'),\n",
       "  Text(11, 0, 'Dec-20'),\n",
       "  Text(12, 0, 'Jan-21'),\n",
       "  Text(13, 0, 'Feb-21'),\n",
       "  Text(14, 0, 'Mar-21'),\n",
       "  Text(15, 0, 'Apr-21'),\n",
       "  Text(16, 0, 'May-21'),\n",
       "  Text(17, 0, 'Jun-21')])"
      ]
     },
     "execution_count": 64,
     "metadata": {},
     "output_type": "execute_result"
    },
    {
     "data": {
      "image/png": "[encoded data removed]",
      "text/plain": [
       "<Figure size 432x288 with 1 Axes>"
      ]
     },
     "metadata": {
      "needs_background": "light"
     },
     "output_type": "display_data"
    }
   ],
   "source": [
    "sns.countplot(x='대여일자', data=bike_sum)\n",
    "plt.xticks(rotation=45)\n",
    "# 소계 데이터셋으로 카운트플롯 사용하는 것은 잘못된 접근"
   ]
  },
  {
   "cell_type": "markdown",
   "id": "ce02a9c0",
   "metadata": {},
   "source": [
    "### 03) 월별 공공 자전거 남성 이용 건수 ( 선 그래프 )"
   ]
  },
  {
   "cell_type": "code",
   "execution_count": 65,
   "id": "1647747a",
   "metadata": {},
   "outputs": [
    {
     "data": {
      "text/plain": [
       "([0, 1, 2, 3, 4, 5, 6, 7, 8, 9, 10, 11, 12, 13, 14, 15, 16, 17],\n",
       " [Text(0, 0, ''),\n",
       "  Text(0, 0, ''),\n",
       "  Text(0, 0, ''),\n",
       "  Text(0, 0, ''),\n",
       "  Text(0, 0, ''),\n",
       "  Text(0, 0, ''),\n",
       "  Text(0, 0, ''),\n",
       "  Text(0, 0, ''),\n",
       "  Text(0, 0, ''),\n",
       "  Text(0, 0, ''),\n",
       "  Text(0, 0, ''),\n",
       "  Text(0, 0, ''),\n",
       "  Text(0, 0, ''),\n",
       "  Text(0, 0, ''),\n",
       "  Text(0, 0, ''),\n",
       "  Text(0, 0, ''),\n",
       "  Text(0, 0, ''),\n",
       "  Text(0, 0, '')])"
      ]
     },
     "execution_count": 65,
     "metadata": {},
     "output_type": "execute_result"
    },
    {
     "data": {
      "image/png": "[encoded data removed]",
      "text/plain": [
       "<Figure size 432x288 with 1 Axes>"
      ]
     },
     "metadata": {
      "needs_background": "light"
     },
     "output_type": "display_data"
    }
   ],
   "source": [
    "# 남성 이용객의 대여일자별 이용건수\n",
    "sns.lineplot(x='대여일자', y='남성', data=bike_sum)\n",
    "plt.xticks(rotation=45)"
   ]
  },
  {
   "cell_type": "markdown",
   "id": "a1b10cc3",
   "metadata": {},
   "source": [
    "### 03) 월별 공공 자전거 남성 이용 건수( 막대그래프 )"
   ]
  },
  {
   "cell_type": "code",
   "execution_count": 66,
   "id": "dca99570",
   "metadata": {},
   "outputs": [
    {
     "data": {
      "text/plain": [
       "(array([ 0,  1,  2,  3,  4,  5,  6,  7,  8,  9, 10, 11, 12, 13, 14, 15, 16,\n",
       "        17]),\n",
       " [Text(0, 0, 'Jan-20'),\n",
       "  Text(1, 0, 'Feb-20'),\n",
       "  Text(2, 0, 'Mar-20'),\n",
       "  Text(3, 0, 'Apr-20'),\n",
       "  Text(4, 0, 'May-20'),\n",
       "  Text(5, 0, 'Jun-20'),\n",
       "  Text(6, 0, 'Jul-20'),\n",
       "  Text(7, 0, 'Aug-20'),\n",
       "  Text(8, 0, 'Sep-20'),\n",
       "  Text(9, 0, 'Oct-20'),\n",
       "  Text(10, 0, 'Nov-20'),\n",
       "  Text(11, 0, 'Dec-20'),\n",
       "  Text(12, 0, 'Jan-21'),\n",
       "  Text(13, 0, 'Feb-21'),\n",
       "  Text(14, 0, 'Mar-21'),\n",
       "  Text(15, 0, 'Apr-21'),\n",
       "  Text(16, 0, 'May-21'),\n",
       "  Text(17, 0, 'Jun-21')])"
      ]
     },
     "execution_count": 66,
     "metadata": {},
     "output_type": "execute_result"
    },
    {
     "data": {
      "image/png": "[encoded data removed]",
      "text/plain": [
       "<Figure size 432x288 with 1 Axes>"
      ]
     },
     "metadata": {
      "needs_background": "light"
     },
     "output_type": "display_data"
    }
   ],
   "source": [
    "sns.barplot(x='대여일자', y='남성', data=bike_sum)\n",
    "plt.xticks(rotation=45)"
   ]
  },
  {
   "cell_type": "markdown",
   "id": "684deab8",
   "metadata": {},
   "source": [
    "### 04) 2020년 공공자전거 이용정보 데이터셋 불러오기"
   ]
  },
  {
   "cell_type": "code",
   "execution_count": 78,
   "id": "7c53f01f",
   "metadata": {},
   "outputs": [
    {
     "data": {
      "text/plain": [
       "Index(['대여일자', '대여소번호', '대여소명', '대여구분코드', '성별', '연령대코드', '이용건수', '운동량', '탄소량',\n",
       "       '이동거리', '이용시간', '여성', '남성', '미상', '총 이용건수', 'AGE_001', 'AGE_002',\n",
       "       'AGE_003', 'AGE_004', 'AGE_005', 'AGE_006', 'AGE_007', 'AGE_008',\n",
       "       'AGE_009'],\n",
       "      dtype='object')"
      ]
     },
     "execution_count": 78,
     "metadata": {},
     "output_type": "execute_result"
    }
   ],
   "source": [
    "bike_2020 = pd.read_csv('./data_set/공공자전거 이용정보(2020년 전월).csv', encoding = 'cp949')\n",
    "bike_2020.columns"
   ]
  },
  {
   "cell_type": "markdown",
   "id": "0c995802",
   "metadata": {},
   "source": [
    "### 05) 2020년 공공자전거 이용정보 데이터셋 전처리 (필요없는 컬럼 삭제)"
   ]
  },
  {
   "cell_type": "code",
   "execution_count": 79,
   "id": "93645062",
   "metadata": {},
   "outputs": [
    {
     "data": {
      "text/html": [
       "<div>\n",
       "<style scoped>\n",
       "    .dataframe tbody tr th:only-of-type {\n",
       "        vertical-align: middle;\n",
       "    }\n",
       "\n",
       "    .dataframe tbody tr th {\n",
       "        vertical-align: top;\n",
       "    }\n",
       "\n",
       "    .dataframe thead th {\n",
       "        text-align: right;\n",
       "    }\n",
       "</style>\n",
       "<table border=\"1\" class=\"dataframe\">\n",
       "  <thead>\n",
       "    <tr style=\"text-align: right;\">\n",
       "      <th></th>\n",
       "      <th>대여일자</th>\n",
       "      <th>대여소번호</th>\n",
       "      <th>대여소명</th>\n",
       "      <th>대여구분코드</th>\n",
       "      <th>성별</th>\n",
       "      <th>연령대코드</th>\n",
       "      <th>이용건수</th>\n",
       "      <th>운동량</th>\n",
       "      <th>탄소량</th>\n",
       "      <th>이동거리</th>\n",
       "      <th>이용시간</th>\n",
       "    </tr>\n",
       "  </thead>\n",
       "  <tbody>\n",
       "    <tr>\n",
       "      <th>0</th>\n",
       "      <td>20-Jan</td>\n",
       "      <td>3.0</td>\n",
       "      <td>중랑센터</td>\n",
       "      <td>일일(회원)</td>\n",
       "      <td>M</td>\n",
       "      <td>AGE_003</td>\n",
       "      <td>3.0</td>\n",
       "      <td>61.82</td>\n",
       "      <td>0.52</td>\n",
       "      <td>2230.0</td>\n",
       "      <td>75.0</td>\n",
       "    </tr>\n",
       "    <tr>\n",
       "      <th>1</th>\n",
       "      <td>20-Jan</td>\n",
       "      <td>3.0</td>\n",
       "      <td>중랑센터</td>\n",
       "      <td>일일(회원)</td>\n",
       "      <td>M</td>\n",
       "      <td>AGE_004</td>\n",
       "      <td>1.0</td>\n",
       "      <td>39.62</td>\n",
       "      <td>0.28</td>\n",
       "      <td>1220.0</td>\n",
       "      <td>15.0</td>\n",
       "    </tr>\n",
       "    <tr>\n",
       "      <th>2</th>\n",
       "      <td>20-Jan</td>\n",
       "      <td>3.0</td>\n",
       "      <td>중랑센터</td>\n",
       "      <td>정기</td>\n",
       "      <td>M</td>\n",
       "      <td>AGE_005</td>\n",
       "      <td>3.0</td>\n",
       "      <td>430.85</td>\n",
       "      <td>4.01</td>\n",
       "      <td>17270.0</td>\n",
       "      <td>53.0</td>\n",
       "    </tr>\n",
       "    <tr>\n",
       "      <th>3</th>\n",
       "      <td>20-Jan</td>\n",
       "      <td>5.0</td>\n",
       "      <td>상암센터 정비실</td>\n",
       "      <td>일일(회원)</td>\n",
       "      <td>\\N</td>\n",
       "      <td>AGE_005</td>\n",
       "      <td>2.0</td>\n",
       "      <td>1.79</td>\n",
       "      <td>0.02</td>\n",
       "      <td>90.0</td>\n",
       "      <td>33.0</td>\n",
       "    </tr>\n",
       "    <tr>\n",
       "      <th>4</th>\n",
       "      <td>20-Jan</td>\n",
       "      <td>5.0</td>\n",
       "      <td>상암센터 정비실</td>\n",
       "      <td>정기</td>\n",
       "      <td>F</td>\n",
       "      <td>AGE_003</td>\n",
       "      <td>1.0</td>\n",
       "      <td>4501.96</td>\n",
       "      <td>45.47</td>\n",
       "      <td>196010.0</td>\n",
       "      <td>64.0</td>\n",
       "    </tr>\n",
       "    <tr>\n",
       "      <th>...</th>\n",
       "      <td>...</td>\n",
       "      <td>...</td>\n",
       "      <td>...</td>\n",
       "      <td>...</td>\n",
       "      <td>...</td>\n",
       "      <td>...</td>\n",
       "      <td>...</td>\n",
       "      <td>...</td>\n",
       "      <td>...</td>\n",
       "      <td>...</td>\n",
       "      <td>...</td>\n",
       "    </tr>\n",
       "    <tr>\n",
       "      <th>948883</th>\n",
       "      <td>20-Dec</td>\n",
       "      <td>9999.0</td>\n",
       "      <td>시스템관리팀</td>\n",
       "      <td>정기</td>\n",
       "      <td>M</td>\n",
       "      <td>AGE_003</td>\n",
       "      <td>2.0</td>\n",
       "      <td>0</td>\n",
       "      <td>0</td>\n",
       "      <td>0.0</td>\n",
       "      <td>76.0</td>\n",
       "    </tr>\n",
       "    <tr>\n",
       "      <th>948884</th>\n",
       "      <td>20-Dec</td>\n",
       "      <td>9999.0</td>\n",
       "      <td>시스템관리팀</td>\n",
       "      <td>정기</td>\n",
       "      <td>M</td>\n",
       "      <td>AGE_004</td>\n",
       "      <td>1.0</td>\n",
       "      <td>\\N</td>\n",
       "      <td>\\N</td>\n",
       "      <td>0.0</td>\n",
       "      <td>15.0</td>\n",
       "    </tr>\n",
       "    <tr>\n",
       "      <th>948885</th>\n",
       "      <td>20-Dec</td>\n",
       "      <td>99999.0</td>\n",
       "      <td>99999. 영남단말기정비</td>\n",
       "      <td>정기</td>\n",
       "      <td>\\N</td>\n",
       "      <td>AGE_008</td>\n",
       "      <td>7.0</td>\n",
       "      <td>0</td>\n",
       "      <td>0</td>\n",
       "      <td>0.0</td>\n",
       "      <td>18.0</td>\n",
       "    </tr>\n",
       "    <tr>\n",
       "      <th>948886</th>\n",
       "      <td>20-Dec</td>\n",
       "      <td>99999.0</td>\n",
       "      <td>99999. 영남단말기정비</td>\n",
       "      <td>정기</td>\n",
       "      <td>M</td>\n",
       "      <td>AGE_004</td>\n",
       "      <td>3.0</td>\n",
       "      <td>0</td>\n",
       "      <td>0</td>\n",
       "      <td>0.0</td>\n",
       "      <td>15.0</td>\n",
       "    </tr>\n",
       "    <tr>\n",
       "      <th>948887</th>\n",
       "      <td>NaN</td>\n",
       "      <td>NaN</td>\n",
       "      <td>NaN</td>\n",
       "      <td>NaN</td>\n",
       "      <td>NaN</td>\n",
       "      <td>NaN</td>\n",
       "      <td>NaN</td>\n",
       "      <td>NaN</td>\n",
       "      <td>NaN</td>\n",
       "      <td>NaN</td>\n",
       "      <td>NaN</td>\n",
       "    </tr>\n",
       "  </tbody>\n",
       "</table>\n",
       "<p>948888 rows × 11 columns</p>\n",
       "</div>"
      ],
      "text/plain": [
       "          대여일자    대여소번호            대여소명  대여구분코드   성별    연령대코드  이용건수      운동량  \\\n",
       "0       20-Jan      3.0            중랑센터  일일(회원)    M  AGE_003   3.0    61.82   \n",
       "1       20-Jan      3.0            중랑센터  일일(회원)    M  AGE_004   1.0    39.62   \n",
       "2       20-Jan      3.0            중랑센터      정기    M  AGE_005   3.0   430.85   \n",
       "3       20-Jan      5.0        상암센터 정비실  일일(회원)   \\N  AGE_005   2.0     1.79   \n",
       "4       20-Jan      5.0        상암센터 정비실      정기    F  AGE_003   1.0  4501.96   \n",
       "...        ...      ...             ...     ...  ...      ...   ...      ...   \n",
       "948883  20-Dec   9999.0          시스템관리팀      정기    M  AGE_003   2.0        0   \n",
       "948884  20-Dec   9999.0          시스템관리팀      정기    M  AGE_004   1.0       \\N   \n",
       "948885  20-Dec  99999.0  99999. 영남단말기정비      정기   \\N  AGE_008   7.0        0   \n",
       "948886  20-Dec  99999.0  99999. 영남단말기정비      정기    M  AGE_004   3.0        0   \n",
       "948887     NaN      NaN             NaN     NaN  NaN      NaN   NaN      NaN   \n",
       "\n",
       "          탄소량      이동거리  이용시간  \n",
       "0        0.52    2230.0  75.0  \n",
       "1        0.28    1220.0  15.0  \n",
       "2        4.01   17270.0  53.0  \n",
       "3        0.02      90.0  33.0  \n",
       "4       45.47  196010.0  64.0  \n",
       "...       ...       ...   ...  \n",
       "948883      0       0.0  76.0  \n",
       "948884     \\N       0.0  15.0  \n",
       "948885      0       0.0  18.0  \n",
       "948886      0       0.0  15.0  \n",
       "948887    NaN       NaN   NaN  \n",
       "\n",
       "[948888 rows x 11 columns]"
      ]
     },
     "execution_count": 79,
     "metadata": {},
     "output_type": "execute_result"
    }
   ],
   "source": [
    "bike_2020.drop(['여성', '남성', '미상', '총 이용건수', 'AGE_001', 'AGE_002',\n",
    "       'AGE_003', 'AGE_004', 'AGE_005', 'AGE_006', 'AGE_007', 'AGE_008',\n",
    "       'AGE_009'],axis=1)"
   ]
  },
  {
   "cell_type": "markdown",
   "id": "8e627edf",
   "metadata": {},
   "source": [
    "### 06) 월별 공공 자전거 이용건수 ( 데이터 셋: 2020년 )"
   ]
  },
  {
   "cell_type": "code",
   "execution_count": 80,
   "id": "1d367d78",
   "metadata": {},
   "outputs": [
    {
     "data": {
      "text/plain": [
       "(array([ 0,  1,  2,  3,  4,  5,  6,  7,  8,  9, 10, 11]),\n",
       " [Text(0, 0, '20-Jan'),\n",
       "  Text(1, 0, '20-Feb'),\n",
       "  Text(2, 0, '20-Mar'),\n",
       "  Text(3, 0, '20-Apr'),\n",
       "  Text(4, 0, '20-May'),\n",
       "  Text(5, 0, '20-Jun'),\n",
       "  Text(6, 0, '20-Jul'),\n",
       "  Text(7, 0, '20-Aug'),\n",
       "  Text(8, 0, '20-Sep'),\n",
       "  Text(9, 0, '20-Oct'),\n",
       "  Text(10, 0, '20-Nov'),\n",
       "  Text(11, 0, '20-Dec')])"
      ]
     },
     "execution_count": 80,
     "metadata": {},
     "output_type": "execute_result"
    },
    {
     "data": {
      "image/png": "[encoded data removed]",
      "text/plain": [
       "<Figure size 432x288 with 1 Axes>"
      ]
     },
     "metadata": {
      "needs_background": "light"
     },
     "output_type": "display_data"
    }
   ],
   "source": [
    "sns.countplot(x='대여일자', data=bike_2020)\n",
    "plt.xticks(rotation=45)"
   ]
  },
  {
   "cell_type": "markdown",
   "id": "5878d8f9",
   "metadata": {},
   "source": [
    "### 07) 성별에 따른 월별 공공 자전거 이용건수 ( 데이터 셋 : 2020년 )"
   ]
  },
  {
   "cell_type": "code",
   "execution_count": 81,
   "id": "ac6937a5",
   "metadata": {},
   "outputs": [
    {
     "data": {
      "text/plain": [
       "(array([ 0,  1,  2,  3,  4,  5,  6,  7,  8,  9, 10, 11]),\n",
       " [Text(0, 0, '20-Jan'),\n",
       "  Text(1, 0, '20-Feb'),\n",
       "  Text(2, 0, '20-Mar'),\n",
       "  Text(3, 0, '20-Apr'),\n",
       "  Text(4, 0, '20-May'),\n",
       "  Text(5, 0, '20-Jun'),\n",
       "  Text(6, 0, '20-Jul'),\n",
       "  Text(7, 0, '20-Aug'),\n",
       "  Text(8, 0, '20-Sep'),\n",
       "  Text(9, 0, '20-Oct'),\n",
       "  Text(10, 0, '20-Nov'),\n",
       "  Text(11, 0, '20-Dec')])"
      ]
     },
     "execution_count": 81,
     "metadata": {},
     "output_type": "execute_result"
    },
    {
     "data": {
      "image/png": "[encoded data removed]",
      "text/plain": [
       "<Figure size 432x288 with 1 Axes>"
      ]
     },
     "metadata": {
      "needs_background": "light"
     },
     "output_type": "display_data"
    }
   ],
   "source": [
    "sns.countplot(x='대여일자', hue='성별',data=bike_2020)\n",
    "plt.xticks(rotation=45)"
   ]
  },
  {
   "cell_type": "markdown",
   "id": "9401df7b",
   "metadata": {},
   "source": [
    "##### 07 결론) 성별을 알수없는 이용객이 2배이상 많아서 성별로 구분하는 것은 어려울 듯 하다."
   ]
  },
  {
   "cell_type": "markdown",
   "id": "cf5b3a89",
   "metadata": {},
   "source": [
    "### 08) 성별에 따른 이용시간"
   ]
  },
  {
   "cell_type": "code",
   "execution_count": 89,
   "id": "8490255c",
   "metadata": {},
   "outputs": [
    {
     "data": {
      "text/plain": [
       "<AxesSubplot:xlabel='성별', ylabel='이용시간'>"
      ]
     },
     "execution_count": 89,
     "metadata": {},
     "output_type": "execute_result"
    },
    {
     "data": {
      "image/png": "[encoded data removed]",
      "text/plain": [
       "<Figure size 432x288 with 1 Axes>"
      ]
     },
     "metadata": {
      "needs_background": "light"
     },
     "output_type": "display_data"
    }
   ],
   "source": [
    "sns.barplot(x='성별', y='이용시간',data=bike_2020)"
   ]
  },
  {
   "cell_type": "markdown",
   "id": "7d1fea1b",
   "metadata": {},
   "source": [
    "##### 08) 성별에 M,F,m,f,\\N 다섯가지로 구분이 되어있어서 M과 m을 F와 f를 통일 시켜야함"
   ]
  },
  {
   "cell_type": "code",
   "execution_count": 76,
   "id": "81de5a63",
   "metadata": {},
   "outputs": [],
   "source": [
    "bike_2020['성별'] =  bike_2020['성별'].map({'f':'F','m':'M'})"
   ]
  },
  {
   "cell_type": "markdown",
   "id": "4b2ee558",
   "metadata": {},
   "source": [
    "##### 08) 위 코드는 모든 성별의 요소값을 'NaN'으로 만들어버리는 오류가 생김. 따라서, 여자는 0, 남자는 1, 알수없음은 3으로 표시"
   ]
  },
  {
   "cell_type": "code",
   "execution_count": 88,
   "id": "5789ed9b",
   "metadata": {},
   "outputs": [
    {
     "ename": "SyntaxError",
     "evalue": "(unicode error) 'unicodeescape' codec can't decode bytes in position 0-1: malformed \\N character escape (<ipython-input-88-38d71e520607>, line 1)",
     "output_type": "error",
     "traceback": [
      "\u001b[0;36m  File \u001b[0;32m\"<ipython-input-88-38d71e520607>\"\u001b[0;36m, line \u001b[0;32m1\u001b[0m\n\u001b[0;31m    bike_2020['성별'] =  bike_2020['성별'].map({'F':0, 'f':0, 'M':1, 'm':1, '\\N':3}).astype('int16')\u001b[0m\n\u001b[0m                                                                                ^\u001b[0m\n\u001b[0;31mSyntaxError\u001b[0m\u001b[0;31m:\u001b[0m (unicode error) 'unicodeescape' codec can't decode bytes in position 0-1: malformed \\N character escape\n"
     ]
    }
   ],
   "source": [
    "bike_2020['성별'] =  bike_2020['성별'].map({'F':0, 'f':0, 'M':1, 'm':1, '\\N':3}).astype('int16')\n",
    "bike_2020.head(10)"
   ]
  },
  {
   "cell_type": "code",
   "execution_count": 34,
   "id": "29ff3172",
   "metadata": {},
   "outputs": [
    {
     "name": "stdout",
     "output_type": "stream",
     "text": [
      "<class 'pandas.core.frame.DataFrame'>\n",
      "RangeIndex: 948888 entries, 0 to 948887\n",
      "Data columns (total 24 columns):\n",
      " #   Column   Non-Null Count   Dtype  \n",
      "---  ------   --------------   -----  \n",
      " 0   대여일자     948887 non-null  object \n",
      " 1   대여소번호    948887 non-null  float64\n",
      " 2   대여소명     948887 non-null  object \n",
      " 3   대여구분코드   948887 non-null  object \n",
      " 4   성별       948887 non-null  object \n",
      " 5   연령대코드    948887 non-null  object \n",
      " 6   이용건수     948887 non-null  float64\n",
      " 7   운동량      948887 non-null  object \n",
      " 8   탄소량      948887 non-null  object \n",
      " 9   이동거리     948887 non-null  float64\n",
      " 10  이용시간     948887 non-null  float64\n",
      " 11  여성       13 non-null      float64\n",
      " 12  남성       13 non-null      float64\n",
      " 13  미상       13 non-null      float64\n",
      " 14  총 이용건수   13 non-null      float64\n",
      " 15  AGE_001  13 non-null      float64\n",
      " 16  AGE_002  13 non-null      float64\n",
      " 17  AGE_003  13 non-null      float64\n",
      " 18  AGE_004  13 non-null      float64\n",
      " 19  AGE_005  13 non-null      float64\n",
      " 20  AGE_006  13 non-null      float64\n",
      " 21  AGE_007  13 non-null      float64\n",
      " 22  AGE_008  13 non-null      float64\n",
      " 23  AGE_009  13 non-null      float64\n",
      "dtypes: float64(17), object(7)\n",
      "memory usage: 173.7+ MB\n"
     ]
    },
    {
     "ename": "ValueError",
     "evalue": "could not convert string to float: '\\\\N'",
     "output_type": "error",
     "traceback": [
      "\u001b[0;31m---------------------------------------------------------------------------\u001b[0m",
      "\u001b[0;31mValueError\u001b[0m                                Traceback (most recent call last)",
      "\u001b[0;32m<ipython-input-34-37b7c4bb53bf>\u001b[0m in \u001b[0;36m<module>\u001b[0;34m\u001b[0m\n\u001b[1;32m      5\u001b[0m \u001b[0;34m\u001b[0m\u001b[0m\n\u001b[1;32m      6\u001b[0m \u001b[0;31m# 자료형변환\u001b[0m\u001b[0;34m\u001b[0m\u001b[0;34m\u001b[0m\u001b[0;34m\u001b[0m\u001b[0m\n\u001b[0;32m----> 7\u001b[0;31m \u001b[0mbike_2020\u001b[0m\u001b[0;34m[\u001b[0m\u001b[0;34m'운동량'\u001b[0m\u001b[0;34m]\u001b[0m\u001b[0;34m=\u001b[0m  \u001b[0mbike_2020\u001b[0m\u001b[0;34m[\u001b[0m\u001b[0;34m'운동량'\u001b[0m\u001b[0;34m]\u001b[0m\u001b[0;34m.\u001b[0m\u001b[0mastype\u001b[0m\u001b[0;34m(\u001b[0m\u001b[0;34m'float64'\u001b[0m\u001b[0;34m)\u001b[0m\u001b[0;34m\u001b[0m\u001b[0;34m\u001b[0m\u001b[0m\n\u001b[0m\u001b[1;32m      8\u001b[0m \u001b[0;34m\u001b[0m\u001b[0m\n\u001b[1;32m      9\u001b[0m \u001b[0msns\u001b[0m\u001b[0;34m.\u001b[0m\u001b[0mbarplot\u001b[0m\u001b[0;34m(\u001b[0m\u001b[0mx\u001b[0m\u001b[0;34m=\u001b[0m\u001b[0;34m'성별'\u001b[0m\u001b[0;34m,\u001b[0m \u001b[0my\u001b[0m\u001b[0;34m=\u001b[0m\u001b[0;34m'운동량'\u001b[0m\u001b[0;34m/\u001b[0m\u001b[0;34m'이용시간'\u001b[0m\u001b[0;34m,\u001b[0m\u001b[0mdata\u001b[0m\u001b[0;34m=\u001b[0m\u001b[0mbike_2020\u001b[0m\u001b[0;34m)\u001b[0m\u001b[0;34m\u001b[0m\u001b[0;34m\u001b[0m\u001b[0m\n",
      "\u001b[0;32m~/opt/anaconda3/lib/python3.8/site-packages/pandas/core/generic.py\u001b[0m in \u001b[0;36mastype\u001b[0;34m(self, dtype, copy, errors)\u001b[0m\n\u001b[1;32m   5875\u001b[0m         \u001b[0;32melse\u001b[0m\u001b[0;34m:\u001b[0m\u001b[0;34m\u001b[0m\u001b[0;34m\u001b[0m\u001b[0m\n\u001b[1;32m   5876\u001b[0m             \u001b[0;31m# else, only a single dtype is given\u001b[0m\u001b[0;34m\u001b[0m\u001b[0;34m\u001b[0m\u001b[0;34m\u001b[0m\u001b[0m\n\u001b[0;32m-> 5877\u001b[0;31m             \u001b[0mnew_data\u001b[0m \u001b[0;34m=\u001b[0m \u001b[0mself\u001b[0m\u001b[0;34m.\u001b[0m\u001b[0m_mgr\u001b[0m\u001b[0;34m.\u001b[0m\u001b[0mastype\u001b[0m\u001b[0;34m(\u001b[0m\u001b[0mdtype\u001b[0m\u001b[0;34m=\u001b[0m\u001b[0mdtype\u001b[0m\u001b[0;34m,\u001b[0m \u001b[0mcopy\u001b[0m\u001b[0;34m=\u001b[0m\u001b[0mcopy\u001b[0m\u001b[0;34m,\u001b[0m \u001b[0merrors\u001b[0m\u001b[0;34m=\u001b[0m\u001b[0merrors\u001b[0m\u001b[0;34m)\u001b[0m\u001b[0;34m\u001b[0m\u001b[0;34m\u001b[0m\u001b[0m\n\u001b[0m\u001b[1;32m   5878\u001b[0m             \u001b[0;32mreturn\u001b[0m \u001b[0mself\u001b[0m\u001b[0;34m.\u001b[0m\u001b[0m_constructor\u001b[0m\u001b[0;34m(\u001b[0m\u001b[0mnew_data\u001b[0m\u001b[0;34m)\u001b[0m\u001b[0;34m.\u001b[0m\u001b[0m__finalize__\u001b[0m\u001b[0;34m(\u001b[0m\u001b[0mself\u001b[0m\u001b[0;34m,\u001b[0m \u001b[0mmethod\u001b[0m\u001b[0;34m=\u001b[0m\u001b[0;34m\"astype\"\u001b[0m\u001b[0;34m)\u001b[0m\u001b[0;34m\u001b[0m\u001b[0;34m\u001b[0m\u001b[0m\n\u001b[1;32m   5879\u001b[0m \u001b[0;34m\u001b[0m\u001b[0m\n",
      "\u001b[0;32m~/opt/anaconda3/lib/python3.8/site-packages/pandas/core/internals/managers.py\u001b[0m in \u001b[0;36mastype\u001b[0;34m(self, dtype, copy, errors)\u001b[0m\n\u001b[1;32m    629\u001b[0m         \u001b[0mself\u001b[0m\u001b[0;34m,\u001b[0m \u001b[0mdtype\u001b[0m\u001b[0;34m,\u001b[0m \u001b[0mcopy\u001b[0m\u001b[0;34m:\u001b[0m \u001b[0mbool\u001b[0m \u001b[0;34m=\u001b[0m \u001b[0;32mFalse\u001b[0m\u001b[0;34m,\u001b[0m \u001b[0merrors\u001b[0m\u001b[0;34m:\u001b[0m \u001b[0mstr\u001b[0m \u001b[0;34m=\u001b[0m \u001b[0;34m\"raise\"\u001b[0m\u001b[0;34m\u001b[0m\u001b[0;34m\u001b[0m\u001b[0m\n\u001b[1;32m    630\u001b[0m     ) -> \"BlockManager\":\n\u001b[0;32m--> 631\u001b[0;31m         \u001b[0;32mreturn\u001b[0m \u001b[0mself\u001b[0m\u001b[0;34m.\u001b[0m\u001b[0mapply\u001b[0m\u001b[0;34m(\u001b[0m\u001b[0;34m\"astype\"\u001b[0m\u001b[0;34m,\u001b[0m \u001b[0mdtype\u001b[0m\u001b[0;34m=\u001b[0m\u001b[0mdtype\u001b[0m\u001b[0;34m,\u001b[0m \u001b[0mcopy\u001b[0m\u001b[0;34m=\u001b[0m\u001b[0mcopy\u001b[0m\u001b[0;34m,\u001b[0m \u001b[0merrors\u001b[0m\u001b[0;34m=\u001b[0m\u001b[0merrors\u001b[0m\u001b[0;34m)\u001b[0m\u001b[0;34m\u001b[0m\u001b[0;34m\u001b[0m\u001b[0m\n\u001b[0m\u001b[1;32m    632\u001b[0m \u001b[0;34m\u001b[0m\u001b[0m\n\u001b[1;32m    633\u001b[0m     def convert(\n",
      "\u001b[0;32m~/opt/anaconda3/lib/python3.8/site-packages/pandas/core/internals/managers.py\u001b[0m in \u001b[0;36mapply\u001b[0;34m(self, f, align_keys, ignore_failures, **kwargs)\u001b[0m\n\u001b[1;32m    425\u001b[0m                     \u001b[0mapplied\u001b[0m \u001b[0;34m=\u001b[0m \u001b[0mb\u001b[0m\u001b[0;34m.\u001b[0m\u001b[0mapply\u001b[0m\u001b[0;34m(\u001b[0m\u001b[0mf\u001b[0m\u001b[0;34m,\u001b[0m \u001b[0;34m**\u001b[0m\u001b[0mkwargs\u001b[0m\u001b[0;34m)\u001b[0m\u001b[0;34m\u001b[0m\u001b[0;34m\u001b[0m\u001b[0m\n\u001b[1;32m    426\u001b[0m                 \u001b[0;32melse\u001b[0m\u001b[0;34m:\u001b[0m\u001b[0;34m\u001b[0m\u001b[0;34m\u001b[0m\u001b[0m\n\u001b[0;32m--> 427\u001b[0;31m                     \u001b[0mapplied\u001b[0m \u001b[0;34m=\u001b[0m \u001b[0mgetattr\u001b[0m\u001b[0;34m(\u001b[0m\u001b[0mb\u001b[0m\u001b[0;34m,\u001b[0m \u001b[0mf\u001b[0m\u001b[0;34m)\u001b[0m\u001b[0;34m(\u001b[0m\u001b[0;34m**\u001b[0m\u001b[0mkwargs\u001b[0m\u001b[0;34m)\u001b[0m\u001b[0;34m\u001b[0m\u001b[0;34m\u001b[0m\u001b[0m\n\u001b[0m\u001b[1;32m    428\u001b[0m             \u001b[0;32mexcept\u001b[0m \u001b[0;34m(\u001b[0m\u001b[0mTypeError\u001b[0m\u001b[0;34m,\u001b[0m \u001b[0mNotImplementedError\u001b[0m\u001b[0;34m)\u001b[0m\u001b[0;34m:\u001b[0m\u001b[0;34m\u001b[0m\u001b[0;34m\u001b[0m\u001b[0m\n\u001b[1;32m    429\u001b[0m                 \u001b[0;32mif\u001b[0m \u001b[0;32mnot\u001b[0m \u001b[0mignore_failures\u001b[0m\u001b[0;34m:\u001b[0m\u001b[0;34m\u001b[0m\u001b[0;34m\u001b[0m\u001b[0m\n",
      "\u001b[0;32m~/opt/anaconda3/lib/python3.8/site-packages/pandas/core/internals/blocks.py\u001b[0m in \u001b[0;36mastype\u001b[0;34m(self, dtype, copy, errors)\u001b[0m\n\u001b[1;32m    671\u001b[0m             \u001b[0mvals1d\u001b[0m \u001b[0;34m=\u001b[0m \u001b[0mvalues\u001b[0m\u001b[0;34m.\u001b[0m\u001b[0mravel\u001b[0m\u001b[0;34m(\u001b[0m\u001b[0;34m)\u001b[0m\u001b[0;34m\u001b[0m\u001b[0;34m\u001b[0m\u001b[0m\n\u001b[1;32m    672\u001b[0m             \u001b[0;32mtry\u001b[0m\u001b[0;34m:\u001b[0m\u001b[0;34m\u001b[0m\u001b[0;34m\u001b[0m\u001b[0m\n\u001b[0;32m--> 673\u001b[0;31m                 \u001b[0mvalues\u001b[0m \u001b[0;34m=\u001b[0m \u001b[0mastype_nansafe\u001b[0m\u001b[0;34m(\u001b[0m\u001b[0mvals1d\u001b[0m\u001b[0;34m,\u001b[0m \u001b[0mdtype\u001b[0m\u001b[0;34m,\u001b[0m \u001b[0mcopy\u001b[0m\u001b[0;34m=\u001b[0m\u001b[0;32mTrue\u001b[0m\u001b[0;34m)\u001b[0m\u001b[0;34m\u001b[0m\u001b[0;34m\u001b[0m\u001b[0m\n\u001b[0m\u001b[1;32m    674\u001b[0m             \u001b[0;32mexcept\u001b[0m \u001b[0;34m(\u001b[0m\u001b[0mValueError\u001b[0m\u001b[0;34m,\u001b[0m \u001b[0mTypeError\u001b[0m\u001b[0;34m)\u001b[0m\u001b[0;34m:\u001b[0m\u001b[0;34m\u001b[0m\u001b[0;34m\u001b[0m\u001b[0m\n\u001b[1;32m    675\u001b[0m                 \u001b[0;31m# e.g. astype_nansafe can fail on object-dtype of strings\u001b[0m\u001b[0;34m\u001b[0m\u001b[0;34m\u001b[0m\u001b[0;34m\u001b[0m\u001b[0m\n",
      "\u001b[0;32m~/opt/anaconda3/lib/python3.8/site-packages/pandas/core/dtypes/cast.py\u001b[0m in \u001b[0;36mastype_nansafe\u001b[0;34m(arr, dtype, copy, skipna)\u001b[0m\n\u001b[1;32m   1095\u001b[0m     \u001b[0;32mif\u001b[0m \u001b[0mcopy\u001b[0m \u001b[0;32mor\u001b[0m \u001b[0mis_object_dtype\u001b[0m\u001b[0;34m(\u001b[0m\u001b[0marr\u001b[0m\u001b[0;34m)\u001b[0m \u001b[0;32mor\u001b[0m \u001b[0mis_object_dtype\u001b[0m\u001b[0;34m(\u001b[0m\u001b[0mdtype\u001b[0m\u001b[0;34m)\u001b[0m\u001b[0;34m:\u001b[0m\u001b[0;34m\u001b[0m\u001b[0;34m\u001b[0m\u001b[0m\n\u001b[1;32m   1096\u001b[0m         \u001b[0;31m# Explicit copy, or required since NumPy can't view from / to object.\u001b[0m\u001b[0;34m\u001b[0m\u001b[0;34m\u001b[0m\u001b[0;34m\u001b[0m\u001b[0m\n\u001b[0;32m-> 1097\u001b[0;31m         \u001b[0;32mreturn\u001b[0m \u001b[0marr\u001b[0m\u001b[0;34m.\u001b[0m\u001b[0mastype\u001b[0m\u001b[0;34m(\u001b[0m\u001b[0mdtype\u001b[0m\u001b[0;34m,\u001b[0m \u001b[0mcopy\u001b[0m\u001b[0;34m=\u001b[0m\u001b[0;32mTrue\u001b[0m\u001b[0;34m)\u001b[0m\u001b[0;34m\u001b[0m\u001b[0;34m\u001b[0m\u001b[0m\n\u001b[0m\u001b[1;32m   1098\u001b[0m \u001b[0;34m\u001b[0m\u001b[0m\n\u001b[1;32m   1099\u001b[0m     \u001b[0;32mreturn\u001b[0m \u001b[0marr\u001b[0m\u001b[0;34m.\u001b[0m\u001b[0mview\u001b[0m\u001b[0;34m(\u001b[0m\u001b[0mdtype\u001b[0m\u001b[0;34m)\u001b[0m\u001b[0;34m\u001b[0m\u001b[0;34m\u001b[0m\u001b[0m\n",
      "\u001b[0;31mValueError\u001b[0m: could not convert string to float: '\\\\N'"
     ]
    }
   ],
   "source": [
    "# 남녀 성별에 따른 이용시간 대비 운동량\n",
    "\n",
    "# 컬럼명'운동량'은 object로서 str 자료형이고, 컬럼 '운동시간' 은 float64이다. 따라서 계산을 위해서는 float64로 자료형 통일해줘야한다.\n",
    "bike_2020.info()  \n",
    "\n",
    "# 자료형변환\n",
    "bike_2020['운동량']=  bike_2020['운동량'].astype('float64')\n",
    "\n",
    "sns.barplot(x='성별', y='운동량'/'이용시간',data=bike_2020)"
   ]
  },
  {
   "cell_type": "code",
   "execution_count": 32,
   "id": "fb989a58",
   "metadata": {},
   "outputs": [
    {
     "name": "stdout",
     "output_type": "stream",
     "text": [
      "<class 'pandas.core.frame.DataFrame'>\n",
      "RangeIndex: 948888 entries, 0 to 948887\n",
      "Data columns (total 24 columns):\n",
      " #   Column   Non-Null Count   Dtype  \n",
      "---  ------   --------------   -----  \n",
      " 0   대여일자     948887 non-null  object \n",
      " 1   대여소번호    948887 non-null  float64\n",
      " 2   대여소명     948887 non-null  object \n",
      " 3   대여구분코드   948887 non-null  object \n",
      " 4   성별       948887 non-null  object \n",
      " 5   연령대코드    948887 non-null  object \n",
      " 6   이용건수     948887 non-null  float64\n",
      " 7   운동량      948887 non-null  object \n",
      " 8   탄소량      948887 non-null  object \n",
      " 9   이동거리     948887 non-null  float64\n",
      " 10  이용시간     948887 non-null  float64\n",
      " 11  여성       13 non-null      float64\n",
      " 12  남성       13 non-null      float64\n",
      " 13  미상       13 non-null      float64\n",
      " 14  총 이용건수   13 non-null      float64\n",
      " 15  AGE_001  13 non-null      float64\n",
      " 16  AGE_002  13 non-null      float64\n",
      " 17  AGE_003  13 non-null      float64\n",
      " 18  AGE_004  13 non-null      float64\n",
      " 19  AGE_005  13 non-null      float64\n",
      " 20  AGE_006  13 non-null      float64\n",
      " 21  AGE_007  13 non-null      float64\n",
      " 22  AGE_008  13 non-null      float64\n",
      " 23  AGE_009  13 non-null      float64\n",
      "dtypes: float64(17), object(7)\n",
      "memory usage: 173.7+ MB\n"
     ]
    }
   ],
   "source": [
    "bike_2020.info()"
   ]
  },
  {
   "cell_type": "code",
   "execution_count": 35,
   "id": "d619aa89",
   "metadata": {},
   "outputs": [
    {
     "ename": "KeyError",
     "evalue": "'\\\\N'",
     "output_type": "error",
     "traceback": [
      "\u001b[0;31m---------------------------------------------------------------------------\u001b[0m",
      "\u001b[0;31mKeyError\u001b[0m                                  Traceback (most recent call last)",
      "\u001b[0;32m~/opt/anaconda3/lib/python3.8/site-packages/pandas/core/indexes/base.py\u001b[0m in \u001b[0;36mget_loc\u001b[0;34m(self, key, method, tolerance)\u001b[0m\n\u001b[1;32m   3079\u001b[0m             \u001b[0;32mtry\u001b[0m\u001b[0;34m:\u001b[0m\u001b[0;34m\u001b[0m\u001b[0;34m\u001b[0m\u001b[0m\n\u001b[0;32m-> 3080\u001b[0;31m                 \u001b[0;32mreturn\u001b[0m \u001b[0mself\u001b[0m\u001b[0;34m.\u001b[0m\u001b[0m_engine\u001b[0m\u001b[0;34m.\u001b[0m\u001b[0mget_loc\u001b[0m\u001b[0;34m(\u001b[0m\u001b[0mcasted_key\u001b[0m\u001b[0;34m)\u001b[0m\u001b[0;34m\u001b[0m\u001b[0;34m\u001b[0m\u001b[0m\n\u001b[0m\u001b[1;32m   3081\u001b[0m             \u001b[0;32mexcept\u001b[0m \u001b[0mKeyError\u001b[0m \u001b[0;32mas\u001b[0m \u001b[0merr\u001b[0m\u001b[0;34m:\u001b[0m\u001b[0;34m\u001b[0m\u001b[0;34m\u001b[0m\u001b[0m\n",
      "\u001b[0;32mpandas/_libs/index.pyx\u001b[0m in \u001b[0;36mpandas._libs.index.IndexEngine.get_loc\u001b[0;34m()\u001b[0m\n",
      "\u001b[0;32mpandas/_libs/index.pyx\u001b[0m in \u001b[0;36mpandas._libs.index.IndexEngine.get_loc\u001b[0;34m()\u001b[0m\n",
      "\u001b[0;32mpandas/_libs/hashtable_class_helper.pxi\u001b[0m in \u001b[0;36mpandas._libs.hashtable.PyObjectHashTable.get_item\u001b[0;34m()\u001b[0m\n",
      "\u001b[0;32mpandas/_libs/hashtable_class_helper.pxi\u001b[0m in \u001b[0;36mpandas._libs.hashtable.PyObjectHashTable.get_item\u001b[0;34m()\u001b[0m\n",
      "\u001b[0;31mKeyError\u001b[0m: '\\\\N'",
      "\nThe above exception was the direct cause of the following exception:\n",
      "\u001b[0;31mKeyError\u001b[0m                                  Traceback (most recent call last)",
      "\u001b[0;32m<ipython-input-35-37fbb848db3c>\u001b[0m in \u001b[0;36m<module>\u001b[0;34m\u001b[0m\n\u001b[0;32m----> 1\u001b[0;31m \u001b[0mbike_2020\u001b[0m\u001b[0;34m[\u001b[0m\u001b[0;34m'\\\\N'\u001b[0m\u001b[0;34m]\u001b[0m\u001b[0;34m\u001b[0m\u001b[0;34m\u001b[0m\u001b[0m\n\u001b[0m",
      "\u001b[0;32m~/opt/anaconda3/lib/python3.8/site-packages/pandas/core/frame.py\u001b[0m in \u001b[0;36m__getitem__\u001b[0;34m(self, key)\u001b[0m\n\u001b[1;32m   3022\u001b[0m             \u001b[0;32mif\u001b[0m \u001b[0mself\u001b[0m\u001b[0;34m.\u001b[0m\u001b[0mcolumns\u001b[0m\u001b[0;34m.\u001b[0m\u001b[0mnlevels\u001b[0m \u001b[0;34m>\u001b[0m \u001b[0;36m1\u001b[0m\u001b[0;34m:\u001b[0m\u001b[0;34m\u001b[0m\u001b[0;34m\u001b[0m\u001b[0m\n\u001b[1;32m   3023\u001b[0m                 \u001b[0;32mreturn\u001b[0m \u001b[0mself\u001b[0m\u001b[0;34m.\u001b[0m\u001b[0m_getitem_multilevel\u001b[0m\u001b[0;34m(\u001b[0m\u001b[0mkey\u001b[0m\u001b[0;34m)\u001b[0m\u001b[0;34m\u001b[0m\u001b[0;34m\u001b[0m\u001b[0m\n\u001b[0;32m-> 3024\u001b[0;31m             \u001b[0mindexer\u001b[0m \u001b[0;34m=\u001b[0m \u001b[0mself\u001b[0m\u001b[0;34m.\u001b[0m\u001b[0mcolumns\u001b[0m\u001b[0;34m.\u001b[0m\u001b[0mget_loc\u001b[0m\u001b[0;34m(\u001b[0m\u001b[0mkey\u001b[0m\u001b[0;34m)\u001b[0m\u001b[0;34m\u001b[0m\u001b[0;34m\u001b[0m\u001b[0m\n\u001b[0m\u001b[1;32m   3025\u001b[0m             \u001b[0;32mif\u001b[0m \u001b[0mis_integer\u001b[0m\u001b[0;34m(\u001b[0m\u001b[0mindexer\u001b[0m\u001b[0;34m)\u001b[0m\u001b[0;34m:\u001b[0m\u001b[0;34m\u001b[0m\u001b[0;34m\u001b[0m\u001b[0m\n\u001b[1;32m   3026\u001b[0m                 \u001b[0mindexer\u001b[0m \u001b[0;34m=\u001b[0m \u001b[0;34m[\u001b[0m\u001b[0mindexer\u001b[0m\u001b[0;34m]\u001b[0m\u001b[0;34m\u001b[0m\u001b[0;34m\u001b[0m\u001b[0m\n",
      "\u001b[0;32m~/opt/anaconda3/lib/python3.8/site-packages/pandas/core/indexes/base.py\u001b[0m in \u001b[0;36mget_loc\u001b[0;34m(self, key, method, tolerance)\u001b[0m\n\u001b[1;32m   3080\u001b[0m                 \u001b[0;32mreturn\u001b[0m \u001b[0mself\u001b[0m\u001b[0;34m.\u001b[0m\u001b[0m_engine\u001b[0m\u001b[0;34m.\u001b[0m\u001b[0mget_loc\u001b[0m\u001b[0;34m(\u001b[0m\u001b[0mcasted_key\u001b[0m\u001b[0;34m)\u001b[0m\u001b[0;34m\u001b[0m\u001b[0;34m\u001b[0m\u001b[0m\n\u001b[1;32m   3081\u001b[0m             \u001b[0;32mexcept\u001b[0m \u001b[0mKeyError\u001b[0m \u001b[0;32mas\u001b[0m \u001b[0merr\u001b[0m\u001b[0;34m:\u001b[0m\u001b[0;34m\u001b[0m\u001b[0;34m\u001b[0m\u001b[0m\n\u001b[0;32m-> 3082\u001b[0;31m                 \u001b[0;32mraise\u001b[0m \u001b[0mKeyError\u001b[0m\u001b[0;34m(\u001b[0m\u001b[0mkey\u001b[0m\u001b[0;34m)\u001b[0m \u001b[0;32mfrom\u001b[0m \u001b[0merr\u001b[0m\u001b[0;34m\u001b[0m\u001b[0;34m\u001b[0m\u001b[0m\n\u001b[0m\u001b[1;32m   3083\u001b[0m \u001b[0;34m\u001b[0m\u001b[0m\n\u001b[1;32m   3084\u001b[0m         \u001b[0;32mif\u001b[0m \u001b[0mtolerance\u001b[0m \u001b[0;32mis\u001b[0m \u001b[0;32mnot\u001b[0m \u001b[0;32mNone\u001b[0m\u001b[0;34m:\u001b[0m\u001b[0;34m\u001b[0m\u001b[0;34m\u001b[0m\u001b[0m\n",
      "\u001b[0;31mKeyError\u001b[0m: '\\\\N'"
     ]
    }
   ],
   "source": []
  },
  {
   "cell_type": "code",
   "execution_count": null,
   "id": "bf3c7835",
   "metadata": {},
   "outputs": [],
   "source": []
  }
 ],
 "metadata": {
  "kernelspec": {
   "display_name": "Python 3",
   "language": "python",
   "name": "python3"
  },
  "language_info": {
   "codemirror_mode": {
    "name": "ipython",
    "version": 3
   },
   "file_extension": ".py",
   "mimetype": "text/x-python",
   "name": "python",
   "nbconvert_exporter": "python",
   "pygments_lexer": "ipython3",
   "version": "3.8.8"
  }
 },
 "nbformat": 4,
 "nbformat_minor": 5
}
