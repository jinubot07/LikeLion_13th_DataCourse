{
 "cells": [
  {
   "cell_type": "markdown",
   "id": "5f67812b",
   "metadata": {},
   "source": [
    "# 팀 프로젝트 : 코로나 시국에 따른 서울 시민 소비문화 변화 추이"
   ]
  },
  {
   "cell_type": "code",
   "execution_count": 327,
   "id": "caf57c3e",
   "metadata": {},
   "outputs": [],
   "source": [
    "import pandas as pd\n",
    "import seaborn as sns\n",
    "\n",
    "import matplotlib.pyplot as plt\n",
    "import matplotlib\n",
    "from matplotlib import font_manager, rc\n",
    "import platform\n",
    "\n",
    "import numpy as np\n",
    "import time"
   ]
  },
  {
   "cell_type": "code",
   "execution_count": 328,
   "id": "4293122e",
   "metadata": {},
   "outputs": [],
   "source": [
    "path = \"C:/Windows/Fonts/malgun.ttf\"\n",
    "if platform.system() == \"Windows\":\n",
    "    \n",
    "    font_name = font_manager.FontProperties(fname=path).get_name()\n",
    "    rc('font', family=font_name)\n",
    "elif platform.system()==\"Darwin\":\n",
    "    rc('font', family='AppleGothic')\n",
    "else:\n",
    "    print(\"Unknown System\")\n",
    "    \n",
    "matplotlib.rcParams['axes.unicode_minus'] = False"
   ]
  },
  {
   "cell_type": "markdown",
   "id": "73361083",
   "metadata": {},
   "source": [
    "### 01) 이용건수 소계 데이터 셋 불러오기"
   ]
  },
  {
   "cell_type": "code",
   "execution_count": 329,
   "id": "d237b610",
   "metadata": {},
   "outputs": [
    {
     "data": {
      "text/html": [
       "<div>\n",
       "<style scoped>\n",
       "    .dataframe tbody tr th:only-of-type {\n",
       "        vertical-align: middle;\n",
       "    }\n",
       "\n",
       "    .dataframe tbody tr th {\n",
       "        vertical-align: top;\n",
       "    }\n",
       "\n",
       "    .dataframe thead th {\n",
       "        text-align: right;\n",
       "    }\n",
       "</style>\n",
       "<table border=\"1\" class=\"dataframe\">\n",
       "  <thead>\n",
       "    <tr style=\"text-align: right;\">\n",
       "      <th></th>\n",
       "      <th>대여일자</th>\n",
       "      <th>여성</th>\n",
       "      <th>남성</th>\n",
       "      <th>미상</th>\n",
       "      <th>총 이용건수</th>\n",
       "      <th>AGE_001</th>\n",
       "      <th>AGE_002</th>\n",
       "      <th>AGE_003</th>\n",
       "      <th>AGE_004</th>\n",
       "      <th>AGE_005</th>\n",
       "      <th>AGE_006</th>\n",
       "      <th>AGE_007</th>\n",
       "      <th>AGE_008</th>\n",
       "      <th>AGE_009</th>\n",
       "    </tr>\n",
       "  </thead>\n",
       "  <tbody>\n",
       "    <tr>\n",
       "      <th>0</th>\n",
       "      <td>Jan-20</td>\n",
       "      <td>113769</td>\n",
       "      <td>258052</td>\n",
       "      <td>422341</td>\n",
       "      <td>794162</td>\n",
       "      <td>28787</td>\n",
       "      <td>326277</td>\n",
       "      <td>187520</td>\n",
       "      <td>127519</td>\n",
       "      <td>79939</td>\n",
       "      <td>23260</td>\n",
       "      <td>5060</td>\n",
       "      <td>15800</td>\n",
       "      <td>0</td>\n",
       "    </tr>\n",
       "    <tr>\n",
       "      <th>1</th>\n",
       "      <td>Feb-20</td>\n",
       "      <td>119053</td>\n",
       "      <td>249361</td>\n",
       "      <td>393860</td>\n",
       "      <td>762274</td>\n",
       "      <td>29083</td>\n",
       "      <td>317169</td>\n",
       "      <td>176534</td>\n",
       "      <td>121663</td>\n",
       "      <td>75398</td>\n",
       "      <td>21048</td>\n",
       "      <td>4586</td>\n",
       "      <td>16793</td>\n",
       "      <td>0</td>\n",
       "    </tr>\n",
       "    <tr>\n",
       "      <th>2</th>\n",
       "      <td>Mar-20</td>\n",
       "      <td>264416</td>\n",
       "      <td>392151</td>\n",
       "      <td>876968</td>\n",
       "      <td>1533535</td>\n",
       "      <td>76255</td>\n",
       "      <td>704244</td>\n",
       "      <td>333664</td>\n",
       "      <td>215159</td>\n",
       "      <td>122946</td>\n",
       "      <td>32372</td>\n",
       "      <td>6520</td>\n",
       "      <td>42375</td>\n",
       "      <td>0</td>\n",
       "    </tr>\n",
       "    <tr>\n",
       "      <th>3</th>\n",
       "      <td>Apr-20</td>\n",
       "      <td>356697</td>\n",
       "      <td>498752</td>\n",
       "      <td>1301941</td>\n",
       "      <td>2157390</td>\n",
       "      <td>119026</td>\n",
       "      <td>995677</td>\n",
       "      <td>485148</td>\n",
       "      <td>299685</td>\n",
       "      <td>161736</td>\n",
       "      <td>39643</td>\n",
       "      <td>7573</td>\n",
       "      <td>48902</td>\n",
       "      <td>0</td>\n",
       "    </tr>\n",
       "    <tr>\n",
       "      <th>4</th>\n",
       "      <td>May-20</td>\n",
       "      <td>373831</td>\n",
       "      <td>531646</td>\n",
       "      <td>1574853</td>\n",
       "      <td>2480330</td>\n",
       "      <td>136688</td>\n",
       "      <td>1164916</td>\n",
       "      <td>559575</td>\n",
       "      <td>335044</td>\n",
       "      <td>179794</td>\n",
       "      <td>44223</td>\n",
       "      <td>8235</td>\n",
       "      <td>51855</td>\n",
       "      <td>0</td>\n",
       "    </tr>\n",
       "  </tbody>\n",
       "</table>\n",
       "</div>"
      ],
      "text/plain": [
       "     대여일자      여성      남성       미상   총 이용건수  AGE_001  AGE_002  AGE_003  \\\n",
       "0  Jan-20  113769  258052   422341   794162    28787   326277   187520   \n",
       "1  Feb-20  119053  249361   393860   762274    29083   317169   176534   \n",
       "2  Mar-20  264416  392151   876968  1533535    76255   704244   333664   \n",
       "3  Apr-20  356697  498752  1301941  2157390   119026   995677   485148   \n",
       "4  May-20  373831  531646  1574853  2480330   136688  1164916   559575   \n",
       "\n",
       "   AGE_004  AGE_005  AGE_006  AGE_007  AGE_008  AGE_009  \n",
       "0   127519    79939    23260     5060    15800        0  \n",
       "1   121663    75398    21048     4586    16793        0  \n",
       "2   215159   122946    32372     6520    42375        0  \n",
       "3   299685   161736    39643     7573    48902        0  \n",
       "4   335044   179794    44223     8235    51855        0  "
      ]
     },
     "execution_count": 329,
     "metadata": {},
     "output_type": "execute_result"
    }
   ],
   "source": [
    "bike_sum = pd.read_csv('./data_set/공공자전거_이용건수_소계.csv')\n",
    "bike_sum.head()"
   ]
  },
  {
   "cell_type": "markdown",
   "id": "2bb3f337",
   "metadata": {},
   "source": [
    "### 02) 월별 공공 자전거 이용 건수"
   ]
  },
  {
   "cell_type": "code",
   "execution_count": 330,
   "id": "e85caede",
   "metadata": {},
   "outputs": [
    {
     "data": {
      "text/plain": [
       "(array([ 0,  1,  2,  3,  4,  5,  6,  7,  8,  9, 10, 11, 12, 13, 14, 15, 16,\n",
       "        17]),\n",
       " [Text(0, 0, 'Jan-20'),\n",
       "  Text(1, 0, 'Feb-20'),\n",
       "  Text(2, 0, 'Mar-20'),\n",
       "  Text(3, 0, 'Apr-20'),\n",
       "  Text(4, 0, 'May-20'),\n",
       "  Text(5, 0, 'Jun-20'),\n",
       "  Text(6, 0, 'Jul-20'),\n",
       "  Text(7, 0, 'Aug-20'),\n",
       "  Text(8, 0, 'Sep-20'),\n",
       "  Text(9, 0, 'Oct-20'),\n",
       "  Text(10, 0, 'Nov-20'),\n",
       "  Text(11, 0, 'Dec-20'),\n",
       "  Text(12, 0, 'Jan-21'),\n",
       "  Text(13, 0, 'Feb-21'),\n",
       "  Text(14, 0, 'Mar-21'),\n",
       "  Text(15, 0, 'Apr-21'),\n",
       "  Text(16, 0, 'May-21'),\n",
       "  Text(17, 0, 'Jun-21')])"
      ]
     },
     "execution_count": 330,
     "metadata": {},
     "output_type": "execute_result"
    },
    {
     "data": {
      "image/png": "[encoded data removed]",
      "text/plain": [
       "<Figure size 432x288 with 1 Axes>"
      ]
     },
     "metadata": {
      "needs_background": "light"
     },
     "output_type": "display_data"
    }
   ],
   "source": [
    "sns.countplot(x='대여일자', data=bike_sum)\n",
    "plt.xticks(rotation=45)"
   ]
  },
  {
   "cell_type": "markdown",
   "id": "aef73b61",
   "metadata": {},
   "source": [
    "##### 02) 소계 데이터셋으로 카운트플롯 사용하는 것은 잘못된 접근"
   ]
  },
  {
   "cell_type": "markdown",
   "id": "8c0881bf",
   "metadata": {},
   "source": [
    "### 03) 월별 공공 자전거 남성 이용 건수 ( 선 그래프 )"
   ]
  },
  {
   "cell_type": "code",
   "execution_count": 331,
   "id": "1647747a",
   "metadata": {},
   "outputs": [
    {
     "data": {
      "text/plain": [
       "([0, 1, 2, 3, 4, 5, 6, 7, 8, 9, 10, 11, 12, 13, 14, 15, 16, 17],\n",
       " [Text(0, 0, ''),\n",
       "  Text(0, 0, ''),\n",
       "  Text(0, 0, ''),\n",
       "  Text(0, 0, ''),\n",
       "  Text(0, 0, ''),\n",
       "  Text(0, 0, ''),\n",
       "  Text(0, 0, ''),\n",
       "  Text(0, 0, ''),\n",
       "  Text(0, 0, ''),\n",
       "  Text(0, 0, ''),\n",
       "  Text(0, 0, ''),\n",
       "  Text(0, 0, ''),\n",
       "  Text(0, 0, ''),\n",
       "  Text(0, 0, ''),\n",
       "  Text(0, 0, ''),\n",
       "  Text(0, 0, ''),\n",
       "  Text(0, 0, ''),\n",
       "  Text(0, 0, '')])"
      ]
     },
     "execution_count": 331,
     "metadata": {},
     "output_type": "execute_result"
    },
    {
     "data": {
      "image/png": "[encoded data removed]",
      "text/plain": [
       "<Figure size 432x288 with 1 Axes>"
      ]
     },
     "metadata": {
      "needs_background": "light"
     },
     "output_type": "display_data"
    }
   ],
   "source": [
    "# 남성 이용객의 대여일자별 이용건수\n",
    "sns.lineplot(x='대여일자', y='남성', data=bike_sum)\n",
    "plt.xticks(rotation=45)"
   ]
  },
  {
   "cell_type": "markdown",
   "id": "fcbc196e",
   "metadata": {},
   "source": [
    "### 03) 월별 공공 자전거 남성 이용 건수( 막대그래프 )"
   ]
  },
  {
   "cell_type": "code",
   "execution_count": 332,
   "id": "dca99570",
   "metadata": {},
   "outputs": [
    {
     "data": {
      "text/plain": [
       "(array([ 0,  1,  2,  3,  4,  5,  6,  7,  8,  9, 10, 11, 12, 13, 14, 15, 16,\n",
       "        17]),\n",
       " [Text(0, 0, 'Jan-20'),\n",
       "  Text(1, 0, 'Feb-20'),\n",
       "  Text(2, 0, 'Mar-20'),\n",
       "  Text(3, 0, 'Apr-20'),\n",
       "  Text(4, 0, 'May-20'),\n",
       "  Text(5, 0, 'Jun-20'),\n",
       "  Text(6, 0, 'Jul-20'),\n",
       "  Text(7, 0, 'Aug-20'),\n",
       "  Text(8, 0, 'Sep-20'),\n",
       "  Text(9, 0, 'Oct-20'),\n",
       "  Text(10, 0, 'Nov-20'),\n",
       "  Text(11, 0, 'Dec-20'),\n",
       "  Text(12, 0, 'Jan-21'),\n",
       "  Text(13, 0, 'Feb-21'),\n",
       "  Text(14, 0, 'Mar-21'),\n",
       "  Text(15, 0, 'Apr-21'),\n",
       "  Text(16, 0, 'May-21'),\n",
       "  Text(17, 0, 'Jun-21')])"
      ]
     },
     "execution_count": 332,
     "metadata": {},
     "output_type": "execute_result"
    },
    {
     "data": {
      "image/png": "[encoded data removed]",
      "text/plain": [
       "<Figure size 432x288 with 1 Axes>"
      ]
     },
     "metadata": {
      "needs_background": "light"
     },
     "output_type": "display_data"
    }
   ],
   "source": [
    "sns.barplot(x='대여일자', y='남성', data=bike_sum)\n",
    "plt.xticks(rotation=45)"
   ]
  },
  {
   "cell_type": "markdown",
   "id": "3cde8b98",
   "metadata": {},
   "source": [
    "### 04 )데이터 셋 불러오기 : 2020년 공공자전거 이용정보"
   ]
  },
  {
   "cell_type": "code",
   "execution_count": 342,
   "id": "7c53f01f",
   "metadata": {},
   "outputs": [
    {
     "data": {
      "text/plain": [
       "Index(['대여일자', '대여소번호', '대여소명', '대여구분코드', '성별', '연령대코드', '이용건수', '운동량', '탄소량',\n",
       "       '이동거리', '이용시간', '여성', '남성', '미상', '총 이용건수', 'AGE_001', 'AGE_002',\n",
       "       'AGE_003', 'AGE_004', 'AGE_005', 'AGE_006', 'AGE_007', 'AGE_008',\n",
       "       'AGE_009'],\n",
       "      dtype='object')"
      ]
     },
     "execution_count": 342,
     "metadata": {},
     "output_type": "execute_result"
    }
   ],
   "source": [
    "bike_2020 = pd.read_csv('./data_set/공공자전거 이용정보(2020년 전월).csv', encoding = 'cp949')\n",
    "bike_2020.columns"
   ]
  },
  {
   "cell_type": "markdown",
   "id": "74a61e9a",
   "metadata": {},
   "source": [
    "### 05) 데이터 전처리 : 필요없는 컬럼 삭제"
   ]
  },
  {
   "cell_type": "code",
   "execution_count": 343,
   "id": "93645062",
   "metadata": {},
   "outputs": [
    {
     "data": {
      "text/html": [
       "<div>\n",
       "<style scoped>\n",
       "    .dataframe tbody tr th:only-of-type {\n",
       "        vertical-align: middle;\n",
       "    }\n",
       "\n",
       "    .dataframe tbody tr th {\n",
       "        vertical-align: top;\n",
       "    }\n",
       "\n",
       "    .dataframe thead th {\n",
       "        text-align: right;\n",
       "    }\n",
       "</style>\n",
       "<table border=\"1\" class=\"dataframe\">\n",
       "  <thead>\n",
       "    <tr style=\"text-align: right;\">\n",
       "      <th></th>\n",
       "      <th>대여일자</th>\n",
       "      <th>대여소번호</th>\n",
       "      <th>대여소명</th>\n",
       "      <th>대여구분코드</th>\n",
       "      <th>성별</th>\n",
       "      <th>연령대코드</th>\n",
       "      <th>이용건수</th>\n",
       "      <th>운동량</th>\n",
       "      <th>탄소량</th>\n",
       "      <th>이동거리</th>\n",
       "      <th>이용시간</th>\n",
       "    </tr>\n",
       "  </thead>\n",
       "  <tbody>\n",
       "    <tr>\n",
       "      <th>0</th>\n",
       "      <td>20-Jan</td>\n",
       "      <td>3</td>\n",
       "      <td>중랑센터</td>\n",
       "      <td>일일(회원)</td>\n",
       "      <td>M</td>\n",
       "      <td>AGE_003</td>\n",
       "      <td>3</td>\n",
       "      <td>61.82</td>\n",
       "      <td>0.52</td>\n",
       "      <td>2230.0</td>\n",
       "      <td>75</td>\n",
       "    </tr>\n",
       "    <tr>\n",
       "      <th>1</th>\n",
       "      <td>20-Jan</td>\n",
       "      <td>3</td>\n",
       "      <td>중랑센터</td>\n",
       "      <td>일일(회원)</td>\n",
       "      <td>M</td>\n",
       "      <td>AGE_004</td>\n",
       "      <td>1</td>\n",
       "      <td>39.62</td>\n",
       "      <td>0.28</td>\n",
       "      <td>1220.0</td>\n",
       "      <td>15</td>\n",
       "    </tr>\n",
       "    <tr>\n",
       "      <th>2</th>\n",
       "      <td>20-Jan</td>\n",
       "      <td>3</td>\n",
       "      <td>중랑센터</td>\n",
       "      <td>정기</td>\n",
       "      <td>M</td>\n",
       "      <td>AGE_005</td>\n",
       "      <td>3</td>\n",
       "      <td>430.85</td>\n",
       "      <td>4.01</td>\n",
       "      <td>17270.0</td>\n",
       "      <td>53</td>\n",
       "    </tr>\n",
       "    <tr>\n",
       "      <th>3</th>\n",
       "      <td>20-Jan</td>\n",
       "      <td>5</td>\n",
       "      <td>상암센터 정비실</td>\n",
       "      <td>일일(회원)</td>\n",
       "      <td>\\N</td>\n",
       "      <td>AGE_005</td>\n",
       "      <td>2</td>\n",
       "      <td>1.79</td>\n",
       "      <td>0.02</td>\n",
       "      <td>90.0</td>\n",
       "      <td>33</td>\n",
       "    </tr>\n",
       "    <tr>\n",
       "      <th>4</th>\n",
       "      <td>20-Jan</td>\n",
       "      <td>5</td>\n",
       "      <td>상암센터 정비실</td>\n",
       "      <td>정기</td>\n",
       "      <td>F</td>\n",
       "      <td>AGE_003</td>\n",
       "      <td>1</td>\n",
       "      <td>4501.96</td>\n",
       "      <td>45.47</td>\n",
       "      <td>196010.0</td>\n",
       "      <td>64</td>\n",
       "    </tr>\n",
       "    <tr>\n",
       "      <th>...</th>\n",
       "      <td>...</td>\n",
       "      <td>...</td>\n",
       "      <td>...</td>\n",
       "      <td>...</td>\n",
       "      <td>...</td>\n",
       "      <td>...</td>\n",
       "      <td>...</td>\n",
       "      <td>...</td>\n",
       "      <td>...</td>\n",
       "      <td>...</td>\n",
       "      <td>...</td>\n",
       "    </tr>\n",
       "    <tr>\n",
       "      <th>948882</th>\n",
       "      <td>20-Dec</td>\n",
       "      <td>9999</td>\n",
       "      <td>시스템관리팀</td>\n",
       "      <td>정기</td>\n",
       "      <td>F</td>\n",
       "      <td>AGE_006</td>\n",
       "      <td>1</td>\n",
       "      <td>0.00</td>\n",
       "      <td>0.00</td>\n",
       "      <td>0.0</td>\n",
       "      <td>0</td>\n",
       "    </tr>\n",
       "    <tr>\n",
       "      <th>948883</th>\n",
       "      <td>20-Dec</td>\n",
       "      <td>9999</td>\n",
       "      <td>시스템관리팀</td>\n",
       "      <td>정기</td>\n",
       "      <td>M</td>\n",
       "      <td>AGE_003</td>\n",
       "      <td>2</td>\n",
       "      <td>0.00</td>\n",
       "      <td>0.00</td>\n",
       "      <td>0.0</td>\n",
       "      <td>76</td>\n",
       "    </tr>\n",
       "    <tr>\n",
       "      <th>948884</th>\n",
       "      <td>20-Dec</td>\n",
       "      <td>9999</td>\n",
       "      <td>시스템관리팀</td>\n",
       "      <td>정기</td>\n",
       "      <td>M</td>\n",
       "      <td>AGE_004</td>\n",
       "      <td>1</td>\n",
       "      <td>0.00</td>\n",
       "      <td>0.00</td>\n",
       "      <td>0.0</td>\n",
       "      <td>15</td>\n",
       "    </tr>\n",
       "    <tr>\n",
       "      <th>948885</th>\n",
       "      <td>20-Dec</td>\n",
       "      <td>99999</td>\n",
       "      <td>99999. 영남단말기정비</td>\n",
       "      <td>정기</td>\n",
       "      <td>\\N</td>\n",
       "      <td>AGE_008</td>\n",
       "      <td>7</td>\n",
       "      <td>0.00</td>\n",
       "      <td>0.00</td>\n",
       "      <td>0.0</td>\n",
       "      <td>18</td>\n",
       "    </tr>\n",
       "    <tr>\n",
       "      <th>948886</th>\n",
       "      <td>20-Dec</td>\n",
       "      <td>99999</td>\n",
       "      <td>99999. 영남단말기정비</td>\n",
       "      <td>정기</td>\n",
       "      <td>M</td>\n",
       "      <td>AGE_004</td>\n",
       "      <td>3</td>\n",
       "      <td>0.00</td>\n",
       "      <td>0.00</td>\n",
       "      <td>0.0</td>\n",
       "      <td>15</td>\n",
       "    </tr>\n",
       "  </tbody>\n",
       "</table>\n",
       "<p>948887 rows × 11 columns</p>\n",
       "</div>"
      ],
      "text/plain": [
       "          대여일자  대여소번호            대여소명  대여구분코드  성별    연령대코드  이용건수      운동량  \\\n",
       "0       20-Jan      3            중랑센터  일일(회원)   M  AGE_003     3    61.82   \n",
       "1       20-Jan      3            중랑센터  일일(회원)   M  AGE_004     1    39.62   \n",
       "2       20-Jan      3            중랑센터      정기   M  AGE_005     3   430.85   \n",
       "3       20-Jan      5        상암센터 정비실  일일(회원)  \\N  AGE_005     2     1.79   \n",
       "4       20-Jan      5        상암센터 정비실      정기   F  AGE_003     1  4501.96   \n",
       "...        ...    ...             ...     ...  ..      ...   ...      ...   \n",
       "948882  20-Dec   9999          시스템관리팀      정기   F  AGE_006     1     0.00   \n",
       "948883  20-Dec   9999          시스템관리팀      정기   M  AGE_003     2     0.00   \n",
       "948884  20-Dec   9999          시스템관리팀      정기   M  AGE_004     1     0.00   \n",
       "948885  20-Dec  99999  99999. 영남단말기정비      정기  \\N  AGE_008     7     0.00   \n",
       "948886  20-Dec  99999  99999. 영남단말기정비      정기   M  AGE_004     3     0.00   \n",
       "\n",
       "          탄소량      이동거리  이용시간  \n",
       "0        0.52    2230.0    75  \n",
       "1        0.28    1220.0    15  \n",
       "2        4.01   17270.0    53  \n",
       "3        0.02      90.0    33  \n",
       "4       45.47  196010.0    64  \n",
       "...       ...       ...   ...  \n",
       "948882   0.00       0.0     0  \n",
       "948883   0.00       0.0    76  \n",
       "948884   0.00       0.0    15  \n",
       "948885   0.00       0.0    18  \n",
       "948886   0.00       0.0    15  \n",
       "\n",
       "[948887 rows x 11 columns]"
      ]
     },
     "execution_count": 343,
     "metadata": {},
     "output_type": "execute_result"
    }
   ],
   "source": [
    "bike_2020.drop(['여성', '남성', '미상', '총 이용건수', 'AGE_001', 'AGE_002',\n",
    "       'AGE_003', 'AGE_004', 'AGE_005', 'AGE_006', 'AGE_007', 'AGE_008',\n",
    "       'AGE_009'],axis=1)"
   ]
  },
  {
   "cell_type": "markdown",
   "id": "c924fe0b",
   "metadata": {},
   "source": [
    "### 06) 데이터 전처리 : 남녀 성별 컬럼의 결측치 처리 및 값 통일"
   ]
  },
  {
   "cell_type": "code",
   "execution_count": 347,
   "id": "7e862a4e",
   "metadata": {},
   "outputs": [
    {
     "data": {
      "text/plain": [
       "0"
      ]
     },
     "execution_count": 347,
     "metadata": {},
     "output_type": "execute_result"
    }
   ],
   "source": [
    "# NULL 값이 있으면 'Unknwon'으로 채워준다.\n",
    "bike_2020['성별'] = bike_2020['성별'].fillna('Unknown')\n",
    "bike_2020['성별'].isnull().sum()"
   ]
  },
  {
   "cell_type": "code",
   "execution_count": 348,
   "id": "91e92185",
   "metadata": {},
   "outputs": [
    {
     "data": {
      "text/plain": [
       "Unknown    472632\n",
       "M          251108\n",
       "F          225147\n",
       "Name: 성별, dtype: int64"
      ]
     },
     "execution_count": 348,
     "metadata": {},
     "output_type": "execute_result"
    }
   ],
   "source": [
    "# 컬럼의 각 요소값 별로 데이터 수 확인\n",
    "bike_2020['성별'].value_counts()"
   ]
  },
  {
   "cell_type": "code",
   "execution_count": 345,
   "id": "00f65e45",
   "metadata": {},
   "outputs": [
    {
     "name": "stdout",
     "output_type": "stream",
     "text": [
      "통일 전 <성별>컬럼에 있는 유니크 값 :  ['M' '\\\\N' 'F']\n",
      "통일 후 <성별>컬럼에 있는 유니크 값 :  ['M' 'Unknown' 'F']\n"
     ]
    }
   ],
   "source": [
    "# M과 m을 m으로, F와 f를 f로, Nan와 \\\\N를 nan으로 통합\n",
    "print('통일 전 <성별>컬럼에 있는 유니크 값 : ', bike_2020['성별'].unique())\n",
    "bike_2020['성별'] = bike_2020['성별'].map({'m':'M','M':'M',   'f':'F','F':\"F\",   '\\\\N':'Unknown'})\n",
    "print('통일 후 <성별>컬럼에 있는 유니크 값 : ', bike_2020['성별'].unique())"
   ]
  },
  {
   "cell_type": "code",
   "execution_count": null,
   "id": "c447d121",
   "metadata": {},
   "outputs": [],
   "source": [
    "# 여자-0, 남자-1, 알수없음-2\n",
    "#bike_2020['성별'] =  bike_2020['성별'].map({'F':0,'0':0,     'M':1,'1':1,      'Unknwon' :2})\n",
    "bike_2020['성별'].unique()"
   ]
  },
  {
   "cell_type": "code",
   "execution_count": 352,
   "id": "730710e8",
   "metadata": {},
   "outputs": [
    {
     "data": {
      "text/html": [
       "<div>\n",
       "<style scoped>\n",
       "    .dataframe tbody tr th:only-of-type {\n",
       "        vertical-align: middle;\n",
       "    }\n",
       "\n",
       "    .dataframe tbody tr th {\n",
       "        vertical-align: top;\n",
       "    }\n",
       "\n",
       "    .dataframe thead th {\n",
       "        text-align: right;\n",
       "    }\n",
       "</style>\n",
       "<table border=\"1\" class=\"dataframe\">\n",
       "  <thead>\n",
       "    <tr style=\"text-align: right;\">\n",
       "      <th></th>\n",
       "      <th>대여일자</th>\n",
       "      <th>성별</th>\n",
       "      <th>연령대코드</th>\n",
       "      <th>이용건수</th>\n",
       "      <th>운동량</th>\n",
       "      <th>이동거리</th>\n",
       "      <th>이용시간</th>\n",
       "    </tr>\n",
       "  </thead>\n",
       "  <tbody>\n",
       "    <tr>\n",
       "      <th>0</th>\n",
       "      <td>20-Jan</td>\n",
       "      <td>M</td>\n",
       "      <td>AGE_003</td>\n",
       "      <td>3</td>\n",
       "      <td>61.82</td>\n",
       "      <td>2230.0</td>\n",
       "      <td>75</td>\n",
       "    </tr>\n",
       "    <tr>\n",
       "      <th>1</th>\n",
       "      <td>20-Jan</td>\n",
       "      <td>M</td>\n",
       "      <td>AGE_004</td>\n",
       "      <td>1</td>\n",
       "      <td>39.62</td>\n",
       "      <td>1220.0</td>\n",
       "      <td>15</td>\n",
       "    </tr>\n",
       "    <tr>\n",
       "      <th>2</th>\n",
       "      <td>20-Jan</td>\n",
       "      <td>M</td>\n",
       "      <td>AGE_005</td>\n",
       "      <td>3</td>\n",
       "      <td>430.85</td>\n",
       "      <td>17270.0</td>\n",
       "      <td>53</td>\n",
       "    </tr>\n",
       "    <tr>\n",
       "      <th>3</th>\n",
       "      <td>20-Jan</td>\n",
       "      <td>Unknown</td>\n",
       "      <td>AGE_005</td>\n",
       "      <td>2</td>\n",
       "      <td>1.79</td>\n",
       "      <td>90.0</td>\n",
       "      <td>33</td>\n",
       "    </tr>\n",
       "    <tr>\n",
       "      <th>4</th>\n",
       "      <td>20-Jan</td>\n",
       "      <td>F</td>\n",
       "      <td>AGE_003</td>\n",
       "      <td>1</td>\n",
       "      <td>4501.96</td>\n",
       "      <td>196010.0</td>\n",
       "      <td>64</td>\n",
       "    </tr>\n",
       "    <tr>\n",
       "      <th>...</th>\n",
       "      <td>...</td>\n",
       "      <td>...</td>\n",
       "      <td>...</td>\n",
       "      <td>...</td>\n",
       "      <td>...</td>\n",
       "      <td>...</td>\n",
       "      <td>...</td>\n",
       "    </tr>\n",
       "    <tr>\n",
       "      <th>948882</th>\n",
       "      <td>20-Dec</td>\n",
       "      <td>F</td>\n",
       "      <td>AGE_006</td>\n",
       "      <td>1</td>\n",
       "      <td>0.00</td>\n",
       "      <td>0.0</td>\n",
       "      <td>0</td>\n",
       "    </tr>\n",
       "    <tr>\n",
       "      <th>948883</th>\n",
       "      <td>20-Dec</td>\n",
       "      <td>M</td>\n",
       "      <td>AGE_003</td>\n",
       "      <td>2</td>\n",
       "      <td>0.00</td>\n",
       "      <td>0.0</td>\n",
       "      <td>76</td>\n",
       "    </tr>\n",
       "    <tr>\n",
       "      <th>948884</th>\n",
       "      <td>20-Dec</td>\n",
       "      <td>M</td>\n",
       "      <td>AGE_004</td>\n",
       "      <td>1</td>\n",
       "      <td>0.00</td>\n",
       "      <td>0.0</td>\n",
       "      <td>15</td>\n",
       "    </tr>\n",
       "    <tr>\n",
       "      <th>948885</th>\n",
       "      <td>20-Dec</td>\n",
       "      <td>Unknown</td>\n",
       "      <td>AGE_008</td>\n",
       "      <td>7</td>\n",
       "      <td>0.00</td>\n",
       "      <td>0.0</td>\n",
       "      <td>18</td>\n",
       "    </tr>\n",
       "    <tr>\n",
       "      <th>948886</th>\n",
       "      <td>20-Dec</td>\n",
       "      <td>M</td>\n",
       "      <td>AGE_004</td>\n",
       "      <td>3</td>\n",
       "      <td>0.00</td>\n",
       "      <td>0.0</td>\n",
       "      <td>15</td>\n",
       "    </tr>\n",
       "  </tbody>\n",
       "</table>\n",
       "<p>948887 rows × 7 columns</p>\n",
       "</div>"
      ],
      "text/plain": [
       "          대여일자       성별    연령대코드  이용건수      운동량      이동거리  이용시간\n",
       "0       20-Jan        M  AGE_003     3    61.82    2230.0    75\n",
       "1       20-Jan        M  AGE_004     1    39.62    1220.0    15\n",
       "2       20-Jan        M  AGE_005     3   430.85   17270.0    53\n",
       "3       20-Jan  Unknown  AGE_005     2     1.79      90.0    33\n",
       "4       20-Jan        F  AGE_003     1  4501.96  196010.0    64\n",
       "...        ...      ...      ...   ...      ...       ...   ...\n",
       "948882  20-Dec        F  AGE_006     1     0.00       0.0     0\n",
       "948883  20-Dec        M  AGE_003     2     0.00       0.0    76\n",
       "948884  20-Dec        M  AGE_004     1     0.00       0.0    15\n",
       "948885  20-Dec  Unknown  AGE_008     7     0.00       0.0    18\n",
       "948886  20-Dec        M  AGE_004     3     0.00       0.0    15\n",
       "\n",
       "[948887 rows x 7 columns]"
      ]
     },
     "execution_count": 352,
     "metadata": {},
     "output_type": "execute_result"
    }
   ],
   "source": [
    "# 확인\n",
    "bike_2020[['대여일자','성별','연령대코드','이용건수','운동량','이동거리','이용시간']]"
   ]
  },
  {
   "cell_type": "markdown",
   "id": "e754f084",
   "metadata": {},
   "source": [
    "### 07) 월별 공공 자전거 총 이용건수 ( 데이터 셋: 2020년 )"
   ]
  },
  {
   "cell_type": "code",
   "execution_count": 353,
   "id": "3d585a50",
   "metadata": {},
   "outputs": [
    {
     "data": {
      "text/plain": [
       "(array([ 0,  1,  2,  3,  4,  5,  6,  7,  8,  9, 10, 11]),\n",
       " [Text(0, 0, '20-Jan'),\n",
       "  Text(1, 0, '20-Feb'),\n",
       "  Text(2, 0, '20-Mar'),\n",
       "  Text(3, 0, '20-Apr'),\n",
       "  Text(4, 0, '20-May'),\n",
       "  Text(5, 0, '20-Jun'),\n",
       "  Text(6, 0, '20-Jul'),\n",
       "  Text(7, 0, '20-Aug'),\n",
       "  Text(8, 0, '20-Sep'),\n",
       "  Text(9, 0, '20-Oct'),\n",
       "  Text(10, 0, '20-Nov'),\n",
       "  Text(11, 0, '20-Dec')])"
      ]
     },
     "execution_count": 353,
     "metadata": {},
     "output_type": "execute_result"
    },
    {
     "data": {
      "image/png": "[encoded data removed]",
      "text/plain": [
       "<Figure size 432x288 with 1 Axes>"
      ]
     },
     "metadata": {
      "needs_background": "light"
     },
     "output_type": "display_data"
    }
   ],
   "source": [
    "sns.countplot(x='대여일자', data=bike_2020)\n",
    "plt.xticks(rotation=45)"
   ]
  },
  {
   "cell_type": "markdown",
   "id": "898ee8a4",
   "metadata": {},
   "source": [
    "### 08) 성별 공공 자전거 총 이용건수 ( 데이터 셋: 2020년 )"
   ]
  },
  {
   "cell_type": "code",
   "execution_count": 357,
   "id": "d562ac58",
   "metadata": {},
   "outputs": [
    {
     "data": {
      "text/plain": [
       "<AxesSubplot:xlabel='성별', ylabel='count'>"
      ]
     },
     "execution_count": 357,
     "metadata": {},
     "output_type": "execute_result"
    },
    {
     "data": {
      "image/png": "[encoded data removed]",
      "text/plain": [
       "<Figure size 432x288 with 1 Axes>"
      ]
     },
     "metadata": {
      "needs_background": "light"
     },
     "output_type": "display_data"
    }
   ],
   "source": [
    "sns.countplot(x='성별',data=bike_2020)"
   ]
  },
  {
   "cell_type": "markdown",
   "id": "bb0beb74",
   "metadata": {},
   "source": [
    "##### 08 결론) 성별을 알수없는 이용객이 2배이상 많아서 성별로 구분하는 것은 어려울 듯 하다."
   ]
  },
  {
   "cell_type": "markdown",
   "id": "26d0ad34",
   "metadata": {},
   "source": [
    "### 08-2) 성별 공공 자전거 한 사람당 평균 이용건수 ( 데이터 셋: 2020년 )"
   ]
  },
  {
   "cell_type": "code",
   "execution_count": 358,
   "id": "c6809887",
   "metadata": {},
   "outputs": [
    {
     "data": {
      "text/plain": [
       "<AxesSubplot:xlabel='성별', ylabel='이용건수'>"
      ]
     },
     "execution_count": 358,
     "metadata": {},
     "output_type": "execute_result"
    },
    {
     "data": {
      "image/png": "[encoded data removed]",
      "text/plain": [
       "<Figure size 432x288 with 1 Axes>"
      ]
     },
     "metadata": {
      "needs_background": "light"
     },
     "output_type": "display_data"
    }
   ],
   "source": [
    "sns.barplot(x='성별', y='이용건수',data=bike_2020)"
   ]
  },
  {
   "cell_type": "markdown",
   "id": "041953d8",
   "metadata": {},
   "source": [
    "### 09) 성별에 따른 월별 공공 자전거 총 이용건수 ( 데이터 셋: 2020년 )"
   ]
  },
  {
   "cell_type": "code",
   "execution_count": 60,
   "id": "18e199b1",
   "metadata": {},
   "outputs": [
    {
     "data": {
      "text/plain": [
       "(array([ 0,  1,  2,  3,  4,  5,  6,  7,  8,  9, 10, 11]),\n",
       " [Text(0, 0, '20-Jan'),\n",
       "  Text(1, 0, '20-Feb'),\n",
       "  Text(2, 0, '20-Mar'),\n",
       "  Text(3, 0, '20-Apr'),\n",
       "  Text(4, 0, '20-May'),\n",
       "  Text(5, 0, '20-Jun'),\n",
       "  Text(6, 0, '20-Jul'),\n",
       "  Text(7, 0, '20-Aug'),\n",
       "  Text(8, 0, '20-Sep'),\n",
       "  Text(9, 0, '20-Oct'),\n",
       "  Text(10, 0, '20-Nov'),\n",
       "  Text(11, 0, '20-Dec')])"
      ]
     },
     "execution_count": 60,
     "metadata": {},
     "output_type": "execute_result"
    },
    {
     "data": {
      "image/png": "[encoded data removed]",
      "text/plain": [
       "<Figure size 432x288 with 1 Axes>"
      ]
     },
     "metadata": {
      "needs_background": "light"
     },
     "output_type": "display_data"
    }
   ],
   "source": [
    "sns.countplot(x='대여일자', hue='성별',data=bike_2020)\n",
    "plt.xticks(rotation=45)"
   ]
  },
  {
   "cell_type": "markdown",
   "id": "9fce8be7",
   "metadata": {},
   "source": [
    "### 10) 성별 이용시간 차이"
   ]
  },
  {
   "cell_type": "code",
   "execution_count": 359,
   "id": "c16bee82",
   "metadata": {},
   "outputs": [
    {
     "data": {
      "text/plain": [
       "<AxesSubplot:xlabel='성별', ylabel='이용시간'>"
      ]
     },
     "execution_count": 359,
     "metadata": {},
     "output_type": "execute_result"
    },
    {
     "data": {
      "image/png": "[encoded data removed]",
      "text/plain": [
       "<Figure size 432x288 with 1 Axes>"
      ]
     },
     "metadata": {
      "needs_background": "light"
     },
     "output_type": "display_data"
    }
   ],
   "source": [
    "sns.barplot(x='성별', y='이용시간',data=bike_2020)"
   ]
  },
  {
   "cell_type": "markdown",
   "id": "e647f115",
   "metadata": {},
   "source": [
    "##### 10 결론) 알수없는 성별의 케이스가 너무 많아서 부정확하다."
   ]
  },
  {
   "cell_type": "markdown",
   "id": "5554a9e1",
   "metadata": {},
   "source": [
    "### 10) 성별에 따른 운동량 데이터 전처리\n",
    "  * 운동량 컬럼의 결측치 처리\n",
    "  * 운동량 컬럼의 모든 요소 값을 숫자형태로 mapping\n",
    "  * 운동량 컬럼의 모든 요소 값을 숫자형태로 자료형변환"
   ]
  },
  {
   "cell_type": "code",
   "execution_count": 282,
   "id": "685f05d3",
   "metadata": {},
   "outputs": [
    {
     "data": {
      "text/html": [
       "<div>\n",
       "<style scoped>\n",
       "    .dataframe tbody tr th:only-of-type {\n",
       "        vertical-align: middle;\n",
       "    }\n",
       "\n",
       "    .dataframe tbody tr th {\n",
       "        vertical-align: top;\n",
       "    }\n",
       "\n",
       "    .dataframe thead th {\n",
       "        text-align: right;\n",
       "    }\n",
       "</style>\n",
       "<table border=\"1\" class=\"dataframe\">\n",
       "  <thead>\n",
       "    <tr style=\"text-align: right;\">\n",
       "      <th></th>\n",
       "      <th>대여일자</th>\n",
       "      <th>성별</th>\n",
       "      <th>연령대코드</th>\n",
       "      <th>이용건수</th>\n",
       "      <th>운동량</th>\n",
       "      <th>이동거리</th>\n",
       "      <th>이용시간</th>\n",
       "    </tr>\n",
       "  </thead>\n",
       "  <tbody>\n",
       "    <tr>\n",
       "      <th>0</th>\n",
       "      <td>20-Jan</td>\n",
       "      <td>M</td>\n",
       "      <td>AGE_003</td>\n",
       "      <td>3</td>\n",
       "      <td>61.82</td>\n",
       "      <td>2230.0</td>\n",
       "      <td>75</td>\n",
       "    </tr>\n",
       "    <tr>\n",
       "      <th>1</th>\n",
       "      <td>20-Jan</td>\n",
       "      <td>M</td>\n",
       "      <td>AGE_004</td>\n",
       "      <td>1</td>\n",
       "      <td>39.62</td>\n",
       "      <td>1220.0</td>\n",
       "      <td>15</td>\n",
       "    </tr>\n",
       "    <tr>\n",
       "      <th>2</th>\n",
       "      <td>20-Jan</td>\n",
       "      <td>M</td>\n",
       "      <td>AGE_005</td>\n",
       "      <td>3</td>\n",
       "      <td>430.85</td>\n",
       "      <td>17270.0</td>\n",
       "      <td>53</td>\n",
       "    </tr>\n",
       "    <tr>\n",
       "      <th>3</th>\n",
       "      <td>20-Jan</td>\n",
       "      <td>Unknown</td>\n",
       "      <td>AGE_005</td>\n",
       "      <td>2</td>\n",
       "      <td>1.79</td>\n",
       "      <td>90.0</td>\n",
       "      <td>33</td>\n",
       "    </tr>\n",
       "    <tr>\n",
       "      <th>4</th>\n",
       "      <td>20-Jan</td>\n",
       "      <td>F</td>\n",
       "      <td>AGE_003</td>\n",
       "      <td>1</td>\n",
       "      <td>4501.96</td>\n",
       "      <td>196010.0</td>\n",
       "      <td>64</td>\n",
       "    </tr>\n",
       "    <tr>\n",
       "      <th>...</th>\n",
       "      <td>...</td>\n",
       "      <td>...</td>\n",
       "      <td>...</td>\n",
       "      <td>...</td>\n",
       "      <td>...</td>\n",
       "      <td>...</td>\n",
       "      <td>...</td>\n",
       "    </tr>\n",
       "    <tr>\n",
       "      <th>948882</th>\n",
       "      <td>20-Dec</td>\n",
       "      <td>F</td>\n",
       "      <td>AGE_006</td>\n",
       "      <td>1</td>\n",
       "      <td>0.00</td>\n",
       "      <td>0.0</td>\n",
       "      <td>0</td>\n",
       "    </tr>\n",
       "    <tr>\n",
       "      <th>948883</th>\n",
       "      <td>20-Dec</td>\n",
       "      <td>M</td>\n",
       "      <td>AGE_003</td>\n",
       "      <td>2</td>\n",
       "      <td>0.00</td>\n",
       "      <td>0.0</td>\n",
       "      <td>76</td>\n",
       "    </tr>\n",
       "    <tr>\n",
       "      <th>948884</th>\n",
       "      <td>20-Dec</td>\n",
       "      <td>M</td>\n",
       "      <td>AGE_004</td>\n",
       "      <td>1</td>\n",
       "      <td>0.00</td>\n",
       "      <td>0.0</td>\n",
       "      <td>15</td>\n",
       "    </tr>\n",
       "    <tr>\n",
       "      <th>948885</th>\n",
       "      <td>20-Dec</td>\n",
       "      <td>Unknown</td>\n",
       "      <td>AGE_008</td>\n",
       "      <td>7</td>\n",
       "      <td>0.00</td>\n",
       "      <td>0.0</td>\n",
       "      <td>18</td>\n",
       "    </tr>\n",
       "    <tr>\n",
       "      <th>948886</th>\n",
       "      <td>20-Dec</td>\n",
       "      <td>M</td>\n",
       "      <td>AGE_004</td>\n",
       "      <td>3</td>\n",
       "      <td>0.00</td>\n",
       "      <td>0.0</td>\n",
       "      <td>15</td>\n",
       "    </tr>\n",
       "  </tbody>\n",
       "</table>\n",
       "<p>948887 rows × 7 columns</p>\n",
       "</div>"
      ],
      "text/plain": [
       "          대여일자       성별    연령대코드  이용건수      운동량      이동거리  이용시간\n",
       "0       20-Jan        M  AGE_003     3    61.82    2230.0    75\n",
       "1       20-Jan        M  AGE_004     1    39.62    1220.0    15\n",
       "2       20-Jan        M  AGE_005     3   430.85   17270.0    53\n",
       "3       20-Jan  Unknown  AGE_005     2     1.79      90.0    33\n",
       "4       20-Jan        F  AGE_003     1  4501.96  196010.0    64\n",
       "...        ...      ...      ...   ...      ...       ...   ...\n",
       "948882  20-Dec        F  AGE_006     1     0.00       0.0     0\n",
       "948883  20-Dec        M  AGE_003     2     0.00       0.0    76\n",
       "948884  20-Dec        M  AGE_004     1     0.00       0.0    15\n",
       "948885  20-Dec  Unknown  AGE_008     7     0.00       0.0    18\n",
       "948886  20-Dec        M  AGE_004     3     0.00       0.0    15\n",
       "\n",
       "[948887 rows x 7 columns]"
      ]
     },
     "execution_count": 282,
     "metadata": {},
     "output_type": "execute_result"
    }
   ],
   "source": [
    "bike_2020 = pd.read_csv('./data_set/공공자전거 이용정보(2020년 전월).csv', encoding = 'cp949')\n",
    "bike_2020['성별'] = bike_2020['성별'].map({'m':'M','M':'M',   'f':'F','F':\"F\",   '\\\\N':'Unknown'})\n",
    "bike_2020[['대여일자','성별','연령대코드','이용건수','운동량','이동거리','이용시간']]"
   ]
  },
  {
   "cell_type": "code",
   "execution_count": 274,
   "id": "debab630",
   "metadata": {},
   "outputs": [
    {
     "name": "stdout",
     "output_type": "stream",
     "text": [
      "<class 'pandas.core.frame.DataFrame'>\n",
      "RangeIndex: 948887 entries, 0 to 948886\n",
      "Data columns (total 24 columns):\n",
      " #   Column   Non-Null Count   Dtype  \n",
      "---  ------   --------------   -----  \n",
      " 0   대여일자     948887 non-null  object \n",
      " 1   대여소번호    948887 non-null  int64  \n",
      " 2   대여소명     948887 non-null  object \n",
      " 3   대여구분코드   948887 non-null  object \n",
      " 4   성별       948887 non-null  object \n",
      " 5   연령대코드    948887 non-null  object \n",
      " 6   이용건수     948887 non-null  int64  \n",
      " 7   운동량      948887 non-null  float64\n",
      " 8   탄소량      948887 non-null  float64\n",
      " 9   이동거리     948887 non-null  float64\n",
      " 10  이용시간     948887 non-null  int64  \n",
      " 11  여성       12 non-null      float64\n",
      " 12  남성       12 non-null      float64\n",
      " 13  미상       12 non-null      float64\n",
      " 14  총 이용건수   12 non-null      float64\n",
      " 15  AGE_001  12 non-null      float64\n",
      " 16  AGE_002  12 non-null      float64\n",
      " 17  AGE_003  12 non-null      float64\n",
      " 18  AGE_004  12 non-null      float64\n",
      " 19  AGE_005  12 non-null      float64\n",
      " 20  AGE_006  12 non-null      float64\n",
      " 21  AGE_007  12 non-null      float64\n",
      " 22  AGE_008  12 non-null      float64\n",
      " 23  AGE_009  12 non-null      float64\n",
      "dtypes: float64(16), int64(3), object(5)\n",
      "memory usage: 173.7+ MB\n"
     ]
    }
   ],
   "source": [
    "bike_2020.info()"
   ]
  },
  {
   "cell_type": "markdown",
   "id": "5f07182c",
   "metadata": {},
   "source": [
    "* 운동량의 non-null을 보아 null값이 없다는 걸 알 수 있다.\n",
    "* 즉, \\N은 NULL이 아니라 문자열로 들어가있다는 것을 알 수있다.\n",
    "* 또한, bike_2020['운동량'] = bike_2020['운동량'].fillna('0') 을 굳이 해 줄 필요가 없다.\n",
    "* 애초에 NULL값이 없으니까!"
   ]
  },
  {
   "cell_type": "code",
   "execution_count": 275,
   "id": "6f800223",
   "metadata": {},
   "outputs": [
    {
     "data": {
      "text/plain": [
       "array([3.39170e+02, 0.00000e+00, 3.79500e+02, 4.48600e+01, 2.60000e-01,\n",
       "       2.28900e+01, 6.20000e-01, 2.13408e+03])"
      ]
     },
     "execution_count": 275,
     "metadata": {},
     "output_type": "execute_result"
    }
   ],
   "source": [
    "bike_2020['운동량'].tail(20).unique()"
   ]
  },
  {
   "cell_type": "markdown",
   "id": "9f50ba98",
   "metadata": {},
   "source": [
    "* \\N로 표시된 값이 실제로 작은 따옴표로 '\\\\N'으로 표시되어있는 걸로 보아, NULL값이 아니라 문자열로 저장되어있음을 알 수 있다."
   ]
  },
  {
   "cell_type": "code",
   "execution_count": 276,
   "id": "4ec1b4d2",
   "metadata": {},
   "outputs": [
    {
     "data": {
      "text/plain": [
       "0.00        292258\n",
       "43.24          147\n",
       "46.33          138\n",
       "36.04          130\n",
       "21.62          126\n",
       "             ...  \n",
       "5793.66          1\n",
       "2517.05          1\n",
       "8107.41          1\n",
       "7835.99          1\n",
       "21061.22         1\n",
       "Name: 운동량, Length: 279971, dtype: int64"
      ]
     },
     "execution_count": 276,
     "metadata": {},
     "output_type": "execute_result"
    }
   ],
   "source": [
    "bike_2020['운동량'].value_counts()"
   ]
  },
  {
   "cell_type": "markdown",
   "id": "7e8d416d",
   "metadata": {},
   "source": [
    "# map 이용시 주의 사항!!!!!!!!!\n",
    " * \\N이 있는 칸은 0으로 바꾸기 위해 dataframe_name['column_name']map({'\\\\N':0})을 사용하게 되면,\n",
    " * 해당 컬럼의 값이 '\\\\N'인 자료들은 모두 0 으로 바뀌지만,\n",
    " * map에 따로 정의하지 않았던 자료들이 모두 nan으로 바뀌는 부작용이 생긴다.\n",
    " * 즉, map을 통해 요소값을 바꿔주려면, 수정하고 싶지 않은 데이터에 대해서도 모두 정의해주어야한다.\n",
    " * ex) dataframe_name['column_name']map({'\\\\N':0, '0':'0', '43.21':'43.21','339.17':'339.17', '379.5':'379.5'})\n",
    " * 그래서 unique()값이 다양하면 다양할수록 map하는데 어려움이있다."
   ]
  },
  {
   "cell_type": "code",
   "execution_count": 360,
   "id": "f93090f5",
   "metadata": {},
   "outputs": [
    {
     "data": {
      "text/html": [
       "<div>\n",
       "<style scoped>\n",
       "    .dataframe tbody tr th:only-of-type {\n",
       "        vertical-align: middle;\n",
       "    }\n",
       "\n",
       "    .dataframe tbody tr th {\n",
       "        vertical-align: top;\n",
       "    }\n",
       "\n",
       "    .dataframe thead th {\n",
       "        text-align: right;\n",
       "    }\n",
       "</style>\n",
       "<table border=\"1\" class=\"dataframe\">\n",
       "  <thead>\n",
       "    <tr style=\"text-align: right;\">\n",
       "      <th></th>\n",
       "      <th>대여일자</th>\n",
       "      <th>성별</th>\n",
       "      <th>연령대코드</th>\n",
       "      <th>이용건수</th>\n",
       "      <th>운동량</th>\n",
       "      <th>이동거리</th>\n",
       "      <th>이용시간</th>\n",
       "    </tr>\n",
       "  </thead>\n",
       "  <tbody>\n",
       "    <tr>\n",
       "      <th>0</th>\n",
       "      <td>20-Jan</td>\n",
       "      <td>M</td>\n",
       "      <td>AGE_003</td>\n",
       "      <td>3</td>\n",
       "      <td>61.82</td>\n",
       "      <td>2230.0</td>\n",
       "      <td>75</td>\n",
       "    </tr>\n",
       "    <tr>\n",
       "      <th>1</th>\n",
       "      <td>20-Jan</td>\n",
       "      <td>M</td>\n",
       "      <td>AGE_004</td>\n",
       "      <td>1</td>\n",
       "      <td>39.62</td>\n",
       "      <td>1220.0</td>\n",
       "      <td>15</td>\n",
       "    </tr>\n",
       "    <tr>\n",
       "      <th>2</th>\n",
       "      <td>20-Jan</td>\n",
       "      <td>M</td>\n",
       "      <td>AGE_005</td>\n",
       "      <td>3</td>\n",
       "      <td>430.85</td>\n",
       "      <td>17270.0</td>\n",
       "      <td>53</td>\n",
       "    </tr>\n",
       "    <tr>\n",
       "      <th>3</th>\n",
       "      <td>20-Jan</td>\n",
       "      <td>Unknown</td>\n",
       "      <td>AGE_005</td>\n",
       "      <td>2</td>\n",
       "      <td>1.79</td>\n",
       "      <td>90.0</td>\n",
       "      <td>33</td>\n",
       "    </tr>\n",
       "    <tr>\n",
       "      <th>4</th>\n",
       "      <td>20-Jan</td>\n",
       "      <td>F</td>\n",
       "      <td>AGE_003</td>\n",
       "      <td>1</td>\n",
       "      <td>4501.96</td>\n",
       "      <td>196010.0</td>\n",
       "      <td>64</td>\n",
       "    </tr>\n",
       "    <tr>\n",
       "      <th>...</th>\n",
       "      <td>...</td>\n",
       "      <td>...</td>\n",
       "      <td>...</td>\n",
       "      <td>...</td>\n",
       "      <td>...</td>\n",
       "      <td>...</td>\n",
       "      <td>...</td>\n",
       "    </tr>\n",
       "    <tr>\n",
       "      <th>948882</th>\n",
       "      <td>20-Dec</td>\n",
       "      <td>F</td>\n",
       "      <td>AGE_006</td>\n",
       "      <td>1</td>\n",
       "      <td>0.00</td>\n",
       "      <td>0.0</td>\n",
       "      <td>0</td>\n",
       "    </tr>\n",
       "    <tr>\n",
       "      <th>948883</th>\n",
       "      <td>20-Dec</td>\n",
       "      <td>M</td>\n",
       "      <td>AGE_003</td>\n",
       "      <td>2</td>\n",
       "      <td>0.00</td>\n",
       "      <td>0.0</td>\n",
       "      <td>76</td>\n",
       "    </tr>\n",
       "    <tr>\n",
       "      <th>948884</th>\n",
       "      <td>20-Dec</td>\n",
       "      <td>M</td>\n",
       "      <td>AGE_004</td>\n",
       "      <td>1</td>\n",
       "      <td>0.00</td>\n",
       "      <td>0.0</td>\n",
       "      <td>15</td>\n",
       "    </tr>\n",
       "    <tr>\n",
       "      <th>948885</th>\n",
       "      <td>20-Dec</td>\n",
       "      <td>Unknown</td>\n",
       "      <td>AGE_008</td>\n",
       "      <td>7</td>\n",
       "      <td>0.00</td>\n",
       "      <td>0.0</td>\n",
       "      <td>18</td>\n",
       "    </tr>\n",
       "    <tr>\n",
       "      <th>948886</th>\n",
       "      <td>20-Dec</td>\n",
       "      <td>M</td>\n",
       "      <td>AGE_004</td>\n",
       "      <td>3</td>\n",
       "      <td>0.00</td>\n",
       "      <td>0.0</td>\n",
       "      <td>15</td>\n",
       "    </tr>\n",
       "  </tbody>\n",
       "</table>\n",
       "<p>948887 rows × 7 columns</p>\n",
       "</div>"
      ],
      "text/plain": [
       "          대여일자       성별    연령대코드  이용건수      운동량      이동거리  이용시간\n",
       "0       20-Jan        M  AGE_003     3    61.82    2230.0    75\n",
       "1       20-Jan        M  AGE_004     1    39.62    1220.0    15\n",
       "2       20-Jan        M  AGE_005     3   430.85   17270.0    53\n",
       "3       20-Jan  Unknown  AGE_005     2     1.79      90.0    33\n",
       "4       20-Jan        F  AGE_003     1  4501.96  196010.0    64\n",
       "...        ...      ...      ...   ...      ...       ...   ...\n",
       "948882  20-Dec        F  AGE_006     1     0.00       0.0     0\n",
       "948883  20-Dec        M  AGE_003     2     0.00       0.0    76\n",
       "948884  20-Dec        M  AGE_004     1     0.00       0.0    15\n",
       "948885  20-Dec  Unknown  AGE_008     7     0.00       0.0    18\n",
       "948886  20-Dec        M  AGE_004     3     0.00       0.0    15\n",
       "\n",
       "[948887 rows x 7 columns]"
      ]
     },
     "execution_count": 360,
     "metadata": {},
     "output_type": "execute_result"
    }
   ],
   "source": [
    "# 운동량 컬럼에 \\N이 있는 칸은 0으로 바꾼다.\n",
    "# print('값 변환 전 :',bike_2020['운동량'].unique())\n",
    "# bike_2020['운동량'] = bike_2020['운동량'].map({'\\\\N':0, '0':0})\n",
    "\n",
    "# print('값 변환 후 :',bike_2020['운동량'].unique())\n",
    "bike_2020[['대여일자','성별','연령대코드','이용건수','운동량','이동거리','이용시간']]"
   ]
  },
  {
   "cell_type": "code",
   "execution_count": 283,
   "id": "37698b6d",
   "metadata": {},
   "outputs": [
    {
     "name": "stdout",
     "output_type": "stream",
     "text": [
      "자료형 변환 전 : float64\n",
      "자료형 변환 후 : float64\n"
     ]
    }
   ],
   "source": [
    "print('자료형 변환 전 :', bike_2020['운동량'].dtypes)\n",
    "bike_2020['운동량'] = bike_2020['운동량'].astype('float64')\n",
    "print('자료형 변환 후 :',bike_2020['운동량'].dtypes)"
   ]
  },
  {
   "cell_type": "markdown",
   "id": "17cae011",
   "metadata": {},
   "source": [
    "### 10) 성별에 따른 운동량 차이 그래프 시각화"
   ]
  },
  {
   "cell_type": "code",
   "execution_count": 284,
   "id": "ba31c425",
   "metadata": {},
   "outputs": [
    {
     "data": {
      "text/plain": [
       "<AxesSubplot:xlabel='성별', ylabel='운동량'>"
      ]
     },
     "execution_count": 284,
     "metadata": {},
     "output_type": "execute_result"
    },
    {
     "data": {
      "image/png": "[encoded data removed]",
      "text/plain": [
       "<Figure size 432x288 with 1 Axes>"
      ]
     },
     "metadata": {
      "needs_background": "light"
     },
     "output_type": "display_data"
    }
   ],
   "source": [
    "sns.barplot(x='성별', y='운동량',data=bike_2020)"
   ]
  },
  {
   "cell_type": "markdown",
   "id": "0b6aa411",
   "metadata": {},
   "source": [
    "### 11) 성별에 따른 이용시간 대비 운동량 : 운동량 / 이용시간\n",
    "  * bike_2020.loc[2,['운동량']]만 쓰면 Series형태로 인덱스값과 같이 추출 되기 때문에\n",
    "  * .values를 통해 숫자값만 추출해야한다."
   ]
  },
  {
   "cell_type": "code",
   "execution_count": 324,
   "id": "094f1368",
   "metadata": {},
   "outputs": [
    {
     "data": {
      "text/plain": [
       "array([ True])"
      ]
     },
     "execution_count": 324,
     "metadata": {},
     "output_type": "execute_result"
    }
   ],
   "source": [
    "bike_2020.loc[1,['이용시간']].values == 15"
   ]
  },
  {
   "cell_type": "code",
   "execution_count": 320,
   "id": "c9eb7062",
   "metadata": {},
   "outputs": [
    {
     "ename": "ValueError",
     "evalue": "The truth value of an array with more than one element is ambiguous. Use a.any() or a.all()",
     "output_type": "error",
     "traceback": [
      "\u001b[0;31m---------------------------------------------------------------------------\u001b[0m",
      "\u001b[0;31mValueError\u001b[0m                                Traceback (most recent call last)",
      "\u001b[0;32m<ipython-input-320-7f6f075cfaf7>\u001b[0m in \u001b[0;36m<module>\u001b[0;34m\u001b[0m\n\u001b[0;32m----> 1\u001b[0;31m \u001b[0;32mif\u001b[0m \u001b[0mbike_2020\u001b[0m\u001b[0;34m[\u001b[0m\u001b[0;34m'이용시간'\u001b[0m\u001b[0;34m]\u001b[0m\u001b[0;34m.\u001b[0m\u001b[0mvalues\u001b[0m \u001b[0;34m==\u001b[0m \u001b[0;36m0\u001b[0m\u001b[0;34m:\u001b[0m\u001b[0;34m\u001b[0m\u001b[0;34m\u001b[0m\u001b[0m\n\u001b[0m\u001b[1;32m      2\u001b[0m     \u001b[0mbike_2020\u001b[0m\u001b[0;34m[\u001b[0m\u001b[0;34m'운동강도'\u001b[0m\u001b[0;34m]\u001b[0m \u001b[0;34m=\u001b[0m \u001b[0;36m0\u001b[0m\u001b[0;34m\u001b[0m\u001b[0;34m\u001b[0m\u001b[0m\n\u001b[1;32m      3\u001b[0m \u001b[0;32melse\u001b[0m \u001b[0;34m:\u001b[0m\u001b[0;34m\u001b[0m\u001b[0;34m\u001b[0m\u001b[0m\n\u001b[1;32m      4\u001b[0m     \u001b[0mbike_2020\u001b[0m\u001b[0;34m[\u001b[0m\u001b[0;34m'운동강도'\u001b[0m\u001b[0;34m]\u001b[0m \u001b[0;34m=\u001b[0m \u001b[0mbike_2020\u001b[0m\u001b[0;34m[\u001b[0m\u001b[0;34m'운동량'\u001b[0m\u001b[0;34m]\u001b[0m\u001b[0;34m.\u001b[0m\u001b[0mvalues\u001b[0m\u001b[0;34m/\u001b[0m \u001b[0mbike_2020\u001b[0m\u001b[0;34m[\u001b[0m\u001b[0;34m'이용시간'\u001b[0m\u001b[0;34m]\u001b[0m\u001b[0;34m.\u001b[0m\u001b[0mvalues\u001b[0m\u001b[0;34m\u001b[0m\u001b[0;34m\u001b[0m\u001b[0m\n",
      "\u001b[0;31mValueError\u001b[0m: The truth value of an array with more than one element is ambiguous. Use a.any() or a.all()"
     ]
    }
   ],
   "source": [
    "if bike_2020['이용시간'].values == 0:\n",
    "    bike_2020['운동강도'].values = 0\n",
    "else :\n",
    "    bike_2020['운동강도'].values = bike_2020['운동량'].values/ bike_2020['이용시간'].values"
   ]
  },
  {
   "cell_type": "code",
   "execution_count": 325,
   "id": "c1287726",
   "metadata": {},
   "outputs": [
    {
     "ename": "AttributeError",
     "evalue": "can't set attribute",
     "output_type": "error",
     "traceback": [
      "\u001b[0;31m---------------------------------------------------------------------------\u001b[0m",
      "\u001b[0;31mAttributeError\u001b[0m                            Traceback (most recent call last)",
      "\u001b[0;32m~/opt/anaconda3/lib/python3.8/site-packages/pandas/core/generic.py\u001b[0m in \u001b[0;36m__setattr__\u001b[0;34m(self, name, value)\u001b[0m\n\u001b[1;32m   5495\u001b[0m                 \u001b[0;32melse\u001b[0m\u001b[0;34m:\u001b[0m\u001b[0;34m\u001b[0m\u001b[0;34m\u001b[0m\u001b[0m\n\u001b[0;32m-> 5496\u001b[0;31m                     \u001b[0mobject\u001b[0m\u001b[0;34m.\u001b[0m\u001b[0m__setattr__\u001b[0m\u001b[0;34m(\u001b[0m\u001b[0mself\u001b[0m\u001b[0;34m,\u001b[0m \u001b[0mname\u001b[0m\u001b[0;34m,\u001b[0m \u001b[0mvalue\u001b[0m\u001b[0;34m)\u001b[0m\u001b[0;34m\u001b[0m\u001b[0;34m\u001b[0m\u001b[0m\n\u001b[0m\u001b[1;32m   5497\u001b[0m             \u001b[0;32mexcept\u001b[0m \u001b[0;34m(\u001b[0m\u001b[0mAttributeError\u001b[0m\u001b[0;34m,\u001b[0m \u001b[0mTypeError\u001b[0m\u001b[0;34m)\u001b[0m\u001b[0;34m:\u001b[0m\u001b[0;34m\u001b[0m\u001b[0;34m\u001b[0m\u001b[0m\n",
      "\u001b[0;31mAttributeError\u001b[0m: can't set attribute",
      "\nDuring handling of the above exception, another exception occurred:\n",
      "\u001b[0;31mAttributeError\u001b[0m                            Traceback (most recent call last)",
      "\u001b[0;32m<ipython-input-325-4d4db558514e>\u001b[0m in \u001b[0;36m<module>\u001b[0;34m\u001b[0m\n\u001b[1;32m      3\u001b[0m         \u001b[0mbike_2020\u001b[0m\u001b[0;34m.\u001b[0m\u001b[0mloc\u001b[0m\u001b[0;34m[\u001b[0m\u001b[0mi\u001b[0m\u001b[0;34m,\u001b[0m\u001b[0;34m[\u001b[0m\u001b[0;34m'운동강도'\u001b[0m\u001b[0;34m]\u001b[0m\u001b[0;34m]\u001b[0m\u001b[0;34m.\u001b[0m\u001b[0mvalues\u001b[0m \u001b[0;34m=\u001b[0m \u001b[0;36m0\u001b[0m\u001b[0;34m\u001b[0m\u001b[0;34m\u001b[0m\u001b[0m\n\u001b[1;32m      4\u001b[0m     \u001b[0;32melse\u001b[0m \u001b[0;34m:\u001b[0m\u001b[0;34m\u001b[0m\u001b[0;34m\u001b[0m\u001b[0m\n\u001b[0;32m----> 5\u001b[0;31m         \u001b[0mbike_2020\u001b[0m\u001b[0;34m.\u001b[0m\u001b[0mloc\u001b[0m\u001b[0;34m[\u001b[0m\u001b[0mi\u001b[0m\u001b[0;34m,\u001b[0m\u001b[0;34m[\u001b[0m\u001b[0;34m'운동강도'\u001b[0m\u001b[0;34m]\u001b[0m\u001b[0;34m]\u001b[0m\u001b[0;34m.\u001b[0m\u001b[0mvalues\u001b[0m \u001b[0;34m=\u001b[0m \u001b[0mbike_2020\u001b[0m\u001b[0;34m.\u001b[0m\u001b[0mloc\u001b[0m\u001b[0;34m[\u001b[0m\u001b[0mi\u001b[0m\u001b[0;34m,\u001b[0m\u001b[0;34m[\u001b[0m\u001b[0;34m'운동량'\u001b[0m\u001b[0;34m]\u001b[0m\u001b[0;34m]\u001b[0m\u001b[0;34m.\u001b[0m\u001b[0mvalues\u001b[0m\u001b[0;34m/\u001b[0m \u001b[0mbike_2020\u001b[0m\u001b[0;34m.\u001b[0m\u001b[0mloc\u001b[0m\u001b[0;34m[\u001b[0m\u001b[0mi\u001b[0m\u001b[0;34m,\u001b[0m\u001b[0;34m[\u001b[0m\u001b[0;34m'이용시간'\u001b[0m\u001b[0;34m]\u001b[0m\u001b[0;34m]\u001b[0m\u001b[0;34m.\u001b[0m\u001b[0mvalues\u001b[0m\u001b[0;34m\u001b[0m\u001b[0;34m\u001b[0m\u001b[0m\n\u001b[0m",
      "\u001b[0;32m~/opt/anaconda3/lib/python3.8/site-packages/pandas/core/generic.py\u001b[0m in \u001b[0;36m__setattr__\u001b[0;34m(self, name, value)\u001b[0m\n\u001b[1;32m   5504\u001b[0m                         \u001b[0mstacklevel\u001b[0m\u001b[0;34m=\u001b[0m\u001b[0;36m2\u001b[0m\u001b[0;34m,\u001b[0m\u001b[0;34m\u001b[0m\u001b[0;34m\u001b[0m\u001b[0m\n\u001b[1;32m   5505\u001b[0m                     )\n\u001b[0;32m-> 5506\u001b[0;31m                 \u001b[0mobject\u001b[0m\u001b[0;34m.\u001b[0m\u001b[0m__setattr__\u001b[0m\u001b[0;34m(\u001b[0m\u001b[0mself\u001b[0m\u001b[0;34m,\u001b[0m \u001b[0mname\u001b[0m\u001b[0;34m,\u001b[0m \u001b[0mvalue\u001b[0m\u001b[0;34m)\u001b[0m\u001b[0;34m\u001b[0m\u001b[0;34m\u001b[0m\u001b[0m\n\u001b[0m\u001b[1;32m   5507\u001b[0m \u001b[0;34m\u001b[0m\u001b[0m\n\u001b[1;32m   5508\u001b[0m     \u001b[0;34m@\u001b[0m\u001b[0mfinal\u001b[0m\u001b[0;34m\u001b[0m\u001b[0;34m\u001b[0m\u001b[0m\n",
      "\u001b[0;31mAttributeError\u001b[0m: can't set attribute"
     ]
    }
   ],
   "source": [
    "for i in range(948887):\n",
    "    if bike_2020.loc[i,['이용시간']].values == 0:\n",
    "        bike_2020.loc[i,['운동강도']].values = 0\n",
    "    else :\n",
    "        bike_2020.loc[i,['운동강도']].values = bike_2020.loc[i,['운동량']].values/ bike_2020.loc[i,['이용시간']].values"
   ]
  },
  {
   "cell_type": "code",
   "execution_count": 326,
   "id": "5ddb6e45",
   "metadata": {},
   "outputs": [
    {
     "name": "stderr",
     "output_type": "stream",
     "text": [
      "<ipython-input-326-3f99a598931f>:1: RuntimeWarning: divide by zero encountered in true_divide\n",
      "  sns.barplot(x='성별', y=bike_2020['운동량'].values/ bike_2020['이용시간'].values ,data=bike_2020)\n",
      "<ipython-input-326-3f99a598931f>:1: RuntimeWarning: invalid value encountered in true_divide\n",
      "  sns.barplot(x='성별', y=bike_2020['운동량'].values/ bike_2020['이용시간'].values ,data=bike_2020)\n",
      "/Users/works/opt/anaconda3/lib/python3.8/site-packages/numpy/lib/function_base.py:3961: RuntimeWarning: invalid value encountered in subtract\n",
      "  diff_b_a = subtract(b, a)\n"
     ]
    },
    {
     "data": {
      "text/plain": [
       "<AxesSubplot:xlabel='성별'>"
      ]
     },
     "execution_count": 326,
     "metadata": {},
     "output_type": "execute_result"
    },
    {
     "data": {
      "image/png": "[encoded data removed]",
      "text/plain": [
       "<Figure size 432x288 with 1 Axes>"
      ]
     },
     "metadata": {
      "needs_background": "light"
     },
     "output_type": "display_data"
    }
   ],
   "source": [
    "sns.barplot(x='성별', y=bike_2020['운동량'].values/ bike_2020['이용시간'].values ,data=bike_2020)"
   ]
  },
  {
   "cell_type": "markdown",
   "id": "e6a5abdd",
   "metadata": {},
   "source": [
    "### 12) 성별에 따른 이동거리 차이"
   ]
  },
  {
   "cell_type": "code",
   "execution_count": null,
   "id": "cdd97431",
   "metadata": {},
   "outputs": [],
   "source": []
  },
  {
   "cell_type": "code",
   "execution_count": null,
   "id": "4eab17f5",
   "metadata": {},
   "outputs": [],
   "source": []
  },
  {
   "cell_type": "code",
   "execution_count": null,
   "id": "ae0f7109",
   "metadata": {},
   "outputs": [],
   "source": []
  },
  {
   "cell_type": "markdown",
   "id": "9a814c28",
   "metadata": {},
   "source": [
    "### 13) 성별에 따른 주행속도 차이 : 이동거리 / 이용시간"
   ]
  },
  {
   "cell_type": "code",
   "execution_count": null,
   "id": "892bcb04",
   "metadata": {},
   "outputs": [],
   "source": [
    "sns.barplot(x)"
   ]
  },
  {
   "cell_type": "code",
   "execution_count": null,
   "id": "6196588b",
   "metadata": {},
   "outputs": [],
   "source": []
  },
  {
   "cell_type": "code",
   "execution_count": null,
   "id": "b78ff9cf",
   "metadata": {},
   "outputs": [],
   "source": []
  },
  {
   "cell_type": "markdown",
   "id": "047a6b94",
   "metadata": {},
   "source": [
    "### 14) 나이대별 총 이용건수"
   ]
  },
  {
   "cell_type": "code",
   "execution_count": 374,
   "id": "c20364c0",
   "metadata": {},
   "outputs": [
    {
     "data": {
      "text/plain": [
       "(array([0, 1, 2, 3, 4, 5, 6, 7]),\n",
       " [Text(0, 0, 'AGE_003'),\n",
       "  Text(1, 0, 'AGE_004'),\n",
       "  Text(2, 0, 'AGE_005'),\n",
       "  Text(3, 0, 'AGE_008'),\n",
       "  Text(4, 0, 'AGE_002'),\n",
       "  Text(5, 0, 'AGE_006'),\n",
       "  Text(6, 0, 'AGE_001'),\n",
       "  Text(7, 0, 'AGE_007')])"
      ]
     },
     "execution_count": 374,
     "metadata": {},
     "output_type": "execute_result"
    },
    {
     "data": {
      "image/png": "[encoded data removed]",
      "text/plain": [
       "<Figure size 432x288 with 1 Axes>"
      ]
     },
     "metadata": {
      "needs_background": "light"
     },
     "output_type": "display_data"
    }
   ],
   "source": [
    "sns.countplot(x='연령대코드',data=bike_2020)\n",
    "plt.xticks(rotation=30)"
   ]
  },
  {
   "cell_type": "markdown",
   "id": "46934bbd",
   "metadata": {},
   "source": [
    "#### 14) AGE_03부터 시작함. 따라서 AGE_01부터 AGE_09까지 sort_values 한 후 시각화하면 x labels이 정렬될듯?"
   ]
  },
  {
   "cell_type": "code",
   "execution_count": 377,
   "id": "3e43afcd",
   "metadata": {},
   "outputs": [
    {
     "data": {
      "text/plain": [
       "(array([0, 1, 2, 3, 4, 5, 6, 7]),\n",
       " [Text(0, 0, 'AGE_001'),\n",
       "  Text(1, 0, 'AGE_002'),\n",
       "  Text(2, 0, 'AGE_003'),\n",
       "  Text(3, 0, 'AGE_004'),\n",
       "  Text(4, 0, 'AGE_005'),\n",
       "  Text(5, 0, 'AGE_006'),\n",
       "  Text(6, 0, 'AGE_007'),\n",
       "  Text(7, 0, 'AGE_008')])"
      ]
     },
     "execution_count": 377,
     "metadata": {},
     "output_type": "execute_result"
    },
    {
     "data": {
      "image/png": "[encoded data removed]",
      "text/plain": [
       "<Figure size 432x288 with 1 Axes>"
      ]
     },
     "metadata": {
      "needs_background": "light"
     },
     "output_type": "display_data"
    }
   ],
   "source": [
    "bike_2020=bike_2020.sort_values(by='연령대코드', ascending=True)\n",
    "sns.countplot(x='연령대코드',data=bike_2020)\n",
    "plt.xticks(rotation=30)"
   ]
  },
  {
   "cell_type": "code",
   "execution_count": null,
   "id": "49e69be3",
   "metadata": {},
   "outputs": [],
   "source": []
  }
 ],
 "metadata": {
  "kernelspec": {
   "display_name": "Python 3",
   "language": "python",
   "name": "python3"
  },
  "language_info": {
   "codemirror_mode": {
    "name": "ipython",
    "version": 3
   },
   "file_extension": ".py",
   "mimetype": "text/x-python",
   "name": "python",
   "nbconvert_exporter": "python",
   "pygments_lexer": "ipython3",
   "version": "3.8.8"
  }
 },
 "nbformat": 4,
 "nbformat_minor": 5
}
