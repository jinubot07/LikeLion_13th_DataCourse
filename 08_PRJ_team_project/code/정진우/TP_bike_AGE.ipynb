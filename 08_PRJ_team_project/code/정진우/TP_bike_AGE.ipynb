{
 "cells": [
  {
   "cell_type": "markdown",
   "id": "2390b7b1",
   "metadata": {},
   "source": [
    "# 팀 프로젝트 : 연령별 서울 시민 공공 자전거 이용현황 비교"
   ]
  },
  {
   "cell_type": "code",
   "execution_count": 8,
   "id": "0f64a370",
   "metadata": {},
   "outputs": [],
   "source": [
    "import pandas as pd\n",
    "from numpy import nan"
   ]
  },
  {
   "cell_type": "code",
   "execution_count": 9,
   "id": "c6093698",
   "metadata": {},
   "outputs": [],
   "source": [
    "# 그래프 그리는 도구 1\n",
    "import matplotlib.pyplot as plt\n",
    "import matplotlib\n",
    "from matplotlib import font_manager, rc"
   ]
  },
  {
   "cell_type": "code",
   "execution_count": 10,
   "id": "9cb7b4f3",
   "metadata": {},
   "outputs": [],
   "source": [
    "# 그래프 그리는 도구 2 : sns.**plot(x='x축컬럼', y='y축컬럼', data=데이터프레임 형태로)\n",
    "import seaborn as sns\n",
    "# 단, 한글 표기시 깨지는 문제가 있어서 추가 작업이 필요함.( 한글 폰트 설정에 관한 코드라인 )\n",
    "import matplotlib.pyplot as plt\n",
    "from matplotlib import font_manager, rc\n",
    "import matplotlib\n",
    "import platform\n",
    "\n",
    "path = \"C:/Windows/Fonts/malgun.ttf\"\n",
    "if platform.system() == \"Windows\":\n",
    "    font_name = font_manager.FontProperties(fname=path).get_name()\n",
    "    rc('font', family=font_name)\n",
    "elif platform.system()==\"Darwin\":\n",
    "    rc('font', family='AppleGothic')\n",
    "else:\n",
    "    print(\"Unknown System\")\n",
    "    \n",
    "matplotlib.rcParams['axes.unicode_minus'] = False"
   ]
  },
  {
   "cell_type": "code",
   "execution_count": 11,
   "id": "ac3e038e",
   "metadata": {},
   "outputs": [],
   "source": [
    "# 그래프 그리는 도구 3 : 한글 표기가 용이한 대신, 다양한 형태의 그래프를 그리는데 제약이 따름 (ex. 꺽은 선그래프에 평균값, 중앙값, 최대최소 범위 등을 면적으로 나타내는 기능이 없음.)\n",
    "import plotly\n",
    "import cufflinks as cf"
   ]
  },
  {
   "cell_type": "code",
   "execution_count": 12,
   "id": "d58231f8",
   "metadata": {},
   "outputs": [
    {
     "data": {
      "text/html": [
       "        <script type=\"text/javascript\">\n",
       "        window.PlotlyConfig = {MathJaxConfig: 'local'};\n",
       "        if (window.MathJax) {MathJax.Hub.Config({SVG: {font: \"STIX-Web\"}});}\n",
       "        if (typeof require !== 'undefined') {\n",
       "        require.undef(\"plotly\");\n",
       "        requirejs.config({\n",
       "            paths: {\n",
       "                'plotly': ['https://cdn.plot.ly/plotly-2.4.2.min']\n",
       "            }\n",
       "        });\n",
       "        require(['plotly'], function(Plotly) {\n",
       "            window._Plotly = Plotly;\n",
       "        });\n",
       "        }\n",
       "        </script>\n",
       "        "
      ]
     },
     "metadata": {},
     "output_type": "display_data"
    },
    {
     "data": {
      "text/html": [
       "        <script type=\"text/javascript\">\n",
       "        window.PlotlyConfig = {MathJaxConfig: 'local'};\n",
       "        if (window.MathJax) {MathJax.Hub.Config({SVG: {font: \"STIX-Web\"}});}\n",
       "        if (typeof require !== 'undefined') {\n",
       "        require.undef(\"plotly\");\n",
       "        requirejs.config({\n",
       "            paths: {\n",
       "                'plotly': ['https://cdn.plot.ly/plotly-2.4.2.min']\n",
       "            }\n",
       "        });\n",
       "        require(['plotly'], function(Plotly) {\n",
       "            window._Plotly = Plotly;\n",
       "        });\n",
       "        }\n",
       "        </script>\n",
       "        "
      ]
     },
     "metadata": {},
     "output_type": "display_data"
    }
   ],
   "source": [
    "# 오프라인 환경에서도 작동할 수 있도록\n",
    "import pandas as pd\n",
    "import numpy as np  \n",
    "%matplotlib inline  \n",
    "from plotly import __version__ \n",
    "from plotly.offline import download_plotlyjs, init_notebook_mode, plot, iplot\n",
    "import cufflinks as cf\n",
    "init_notebook_mode(connected=True)\n",
    "cf.go_offline()"
   ]
  },
  {
   "cell_type": "markdown",
   "id": "16d56fab",
   "metadata": {},
   "source": [
    "## 01) 2018년 데이터셋 불러오기 및 전처리"
   ]
  },
  {
   "cell_type": "code",
   "execution_count": 6,
   "id": "c6d43a40",
   "metadata": {},
   "outputs": [
    {
     "name": "stderr",
     "output_type": "stream",
     "text": [
      "/Users/works/opt/anaconda3/lib/python3.8/site-packages/IPython/core/interactiveshell.py:3165: DtypeWarning:\n",
      "\n",
      "Columns (1,7,8) have mixed types.Specify dtype option on import or set low_memory=False.\n",
      "\n"
     ]
    },
    {
     "data": {
      "text/html": [
       "<div>\n",
       "<style scoped>\n",
       "    .dataframe tbody tr th:only-of-type {\n",
       "        vertical-align: middle;\n",
       "    }\n",
       "\n",
       "    .dataframe tbody tr th {\n",
       "        vertical-align: top;\n",
       "    }\n",
       "\n",
       "    .dataframe thead th {\n",
       "        text-align: right;\n",
       "    }\n",
       "</style>\n",
       "<table border=\"1\" class=\"dataframe\">\n",
       "  <thead>\n",
       "    <tr style=\"text-align: right;\">\n",
       "      <th></th>\n",
       "      <th>대여일자</th>\n",
       "      <th>대여소번호</th>\n",
       "      <th>대여소</th>\n",
       "      <th>대여구분코드</th>\n",
       "      <th>성별</th>\n",
       "      <th>연령대코드</th>\n",
       "      <th>이용건수</th>\n",
       "      <th>운동량</th>\n",
       "      <th>탄소량</th>\n",
       "      <th>이동거리(M)</th>\n",
       "      <th>이동시간(분)</th>\n",
       "      <th>주행속력</th>\n",
       "    </tr>\n",
       "  </thead>\n",
       "  <tbody>\n",
       "    <tr>\n",
       "      <th>0</th>\n",
       "      <td>2018_01</td>\n",
       "      <td>108</td>\n",
       "      <td>서교동 사거리</td>\n",
       "      <td>정기</td>\n",
       "      <td>F</td>\n",
       "      <td>10대이하</td>\n",
       "      <td>1</td>\n",
       "      <td>179.94</td>\n",
       "      <td>1.32</td>\n",
       "      <td>5680.0</td>\n",
       "      <td>36</td>\n",
       "      <td>9.466667</td>\n",
       "    </tr>\n",
       "    <tr>\n",
       "      <th>1</th>\n",
       "      <td>2018_01</td>\n",
       "      <td>1031</td>\n",
       "      <td>암사동 CBIS</td>\n",
       "      <td>정기</td>\n",
       "      <td>F</td>\n",
       "      <td>10대이하</td>\n",
       "      <td>4</td>\n",
       "      <td>194.39</td>\n",
       "      <td>1.93</td>\n",
       "      <td>8320.0</td>\n",
       "      <td>49</td>\n",
       "      <td>10.187755</td>\n",
       "    </tr>\n",
       "    <tr>\n",
       "      <th>2</th>\n",
       "      <td>2018_01</td>\n",
       "      <td>1032</td>\n",
       "      <td>선사고등학교</td>\n",
       "      <td>정기</td>\n",
       "      <td>F</td>\n",
       "      <td>10대이하</td>\n",
       "      <td>1</td>\n",
       "      <td>13.55</td>\n",
       "      <td>0.13</td>\n",
       "      <td>580.0</td>\n",
       "      <td>3</td>\n",
       "      <td>11.600000</td>\n",
       "    </tr>\n",
       "    <tr>\n",
       "      <th>3</th>\n",
       "      <td>2018_01</td>\n",
       "      <td>1033</td>\n",
       "      <td>고덕동 아남아파트</td>\n",
       "      <td>정기</td>\n",
       "      <td>F</td>\n",
       "      <td>10대이하</td>\n",
       "      <td>2</td>\n",
       "      <td>58.63</td>\n",
       "      <td>0.55</td>\n",
       "      <td>2390.0</td>\n",
       "      <td>15</td>\n",
       "      <td>9.560000</td>\n",
       "    </tr>\n",
       "    <tr>\n",
       "      <th>4</th>\n",
       "      <td>2018_01</td>\n",
       "      <td>1253</td>\n",
       "      <td>오금역 3번 출구 뒤</td>\n",
       "      <td>정기</td>\n",
       "      <td>F</td>\n",
       "      <td>10대이하</td>\n",
       "      <td>3</td>\n",
       "      <td>83.24</td>\n",
       "      <td>0.79</td>\n",
       "      <td>3390.0</td>\n",
       "      <td>26</td>\n",
       "      <td>7.823077</td>\n",
       "    </tr>\n",
       "  </tbody>\n",
       "</table>\n",
       "</div>"
      ],
      "text/plain": [
       "      대여일자 대여소번호           대여소 대여구분코드 성별  연령대코드  이용건수     운동량   탄소량  이동거리(M)  \\\n",
       "0  2018_01   108       서교동 사거리     정기  F  10대이하     1  179.94  1.32   5680.0   \n",
       "1  2018_01  1031      암사동 CBIS     정기  F  10대이하     4  194.39  1.93   8320.0   \n",
       "2  2018_01  1032        선사고등학교     정기  F  10대이하     1   13.55  0.13    580.0   \n",
       "3  2018_01  1033     고덕동 아남아파트     정기  F  10대이하     2   58.63  0.55   2390.0   \n",
       "4  2018_01  1253   오금역 3번 출구 뒤     정기  F  10대이하     3   83.24  0.79   3390.0   \n",
       "\n",
       "   이동시간(분)       주행속력  \n",
       "0       36   9.466667  \n",
       "1       49  10.187755  \n",
       "2        3  11.600000  \n",
       "3       15   9.560000  \n",
       "4       26   7.823077  "
      ]
     },
     "execution_count": 6,
     "metadata": {},
     "output_type": "execute_result"
    }
   ],
   "source": [
    "# 2018년 기본 데이터셋 \n",
    "bike18 = pd.read_csv('./data_set/서울특별시 공공자전거 이용정보(2018년 전월).csv',encoding='cp949')\n",
    "\n",
    "# 데이터 전처리(연령대코드)\n",
    "bike18['연령대코드'].unique()\n",
    "bike18['연령대코드'].value_counts()\n",
    "bike18['연령대코드'] = bike18['연령대코드'].map({'~10대':'10대이하','AGE_001':'10대이하',\n",
    "                                           'AGE_002':'20대', 'AGE_003':'30대',\n",
    "                                           'AGE_004':'40대', 'AGE_005':'50대',\n",
    "                                           'AGE_006':'60대', 'AGE_008':'80대이상',\n",
    "                                           '70대~'  :'70대' , 'AGE_007':'70대'})\n",
    "bike18['연령대코드'].unique()\n",
    "bike18['연령대코드'].value_counts()\n",
    "\n",
    "# 데이터 전처리(성별)\n",
    "bike18['성별'] = bike18['성별'].fillna('U')\n",
    "bike18['성별'] = bike18['성별'].str.replace(pat=r' ', repl=r'U', regex=True)\n",
    "bike18['성별'] = bike18['성별'].map({'m':'M','M':'M',   'f':'F','F':\"F\",   'U':'Unknown'})\n",
    "bike18['성별'].unique()\n",
    "\n",
    "# 주행속력 컬럼 추가하기 : 기존의 컬럼의 값으로 계산하고, 결측치 제거, 이상치 제거\n",
    "bike18['주행속력'] = ( bike18['이동거리(M)'] / 1000 ) / ( bike18['이동시간(분)'] / 60 )\n",
    "bike18['주행속력'] = bike18['주행속력'].replace([np.inf, -np.inf], np.nan)\n",
    "\n",
    "bike18.head()"
   ]
  },
  {
   "cell_type": "code",
   "execution_count": 24,
   "id": "c52d18f7",
   "metadata": {},
   "outputs": [
    {
     "data": {
      "text/html": [
       "<div>\n",
       "<style scoped>\n",
       "    .dataframe tbody tr th:only-of-type {\n",
       "        vertical-align: middle;\n",
       "    }\n",
       "\n",
       "    .dataframe tbody tr th {\n",
       "        vertical-align: top;\n",
       "    }\n",
       "\n",
       "    .dataframe thead th {\n",
       "        text-align: right;\n",
       "    }\n",
       "</style>\n",
       "<table border=\"1\" class=\"dataframe\">\n",
       "  <thead>\n",
       "    <tr style=\"text-align: right;\">\n",
       "      <th></th>\n",
       "      <th>대여일자</th>\n",
       "      <th>총 이용건수</th>\n",
       "      <th>총 이동거리</th>\n",
       "      <th>총 이용시간</th>\n",
       "    </tr>\n",
       "  </thead>\n",
       "  <tbody>\n",
       "    <tr>\n",
       "      <th>0</th>\n",
       "      <td>2018_07</td>\n",
       "      <td>521661</td>\n",
       "      <td>2.429009e+09</td>\n",
       "      <td>14275804</td>\n",
       "    </tr>\n",
       "    <tr>\n",
       "      <th>1</th>\n",
       "      <td>2018_08</td>\n",
       "      <td>505114</td>\n",
       "      <td>2.334464e+09</td>\n",
       "      <td>13680720</td>\n",
       "    </tr>\n",
       "    <tr>\n",
       "      <th>2</th>\n",
       "      <td>2018_09</td>\n",
       "      <td>733453</td>\n",
       "      <td>3.683949e+09</td>\n",
       "      <td>22864581</td>\n",
       "    </tr>\n",
       "    <tr>\n",
       "      <th>3</th>\n",
       "      <td>2018_10</td>\n",
       "      <td>693322</td>\n",
       "      <td>3.104524e+09</td>\n",
       "      <td>18300125</td>\n",
       "    </tr>\n",
       "    <tr>\n",
       "      <th>4</th>\n",
       "      <td>2018_11</td>\n",
       "      <td>445818</td>\n",
       "      <td>1.666214e+09</td>\n",
       "      <td>9261483</td>\n",
       "    </tr>\n",
       "    <tr>\n",
       "      <th>5</th>\n",
       "      <td>2018_12</td>\n",
       "      <td>213234</td>\n",
       "      <td>7.033877e+08</td>\n",
       "      <td>3799188</td>\n",
       "    </tr>\n",
       "  </tbody>\n",
       "</table>\n",
       "</div>"
      ],
      "text/plain": [
       "      대여일자  총 이용건수        총 이동거리    총 이용시간\n",
       "0  2018_07  521661  2.429009e+09  14275804\n",
       "1  2018_08  505114  2.334464e+09  13680720\n",
       "2  2018_09  733453  3.683949e+09  22864581\n",
       "3  2018_10  693322  3.104524e+09  18300125\n",
       "4  2018_11  445818  1.666214e+09   9261483\n",
       "5  2018_12  213234  7.033877e+08   3799188"
      ]
     },
     "execution_count": 24,
     "metadata": {},
     "output_type": "execute_result"
    }
   ],
   "source": [
    "# 2018년 20대 소계 데이터 셋\n",
    "bike18_sum_age02 = bike18[bike18['연령대코드']=='20대']\n",
    "\n",
    "bike18_sum_age02 = bike18_sum_age02[['대여일자','이용건수','이동거리(M)','이동시간(분)']].groupby(['대여일자']).sum()\n",
    "bike18_sum_age02 = pd.DataFrame({'대여일자'    : bike18_sum_age02.index, \n",
    "                                 '총 이용건수' : bike18_sum_age02['이용건수'], \n",
    "                                 '총 이동거리' : bike18_sum_age02['이동거리(M)'],\n",
    "                                 '총 이용시간' : bike18_sum_age02['이동시간(분)']})\n",
    "bike18_sum_age02 = bike18_sum_age02.reset_index(drop=True)\n",
    "bike18_sum_age02"
   ]
  },
  {
   "cell_type": "code",
   "execution_count": 25,
   "id": "fadccad7",
   "metadata": {},
   "outputs": [
    {
     "data": {
      "text/html": [
       "<div>\n",
       "<style scoped>\n",
       "    .dataframe tbody tr th:only-of-type {\n",
       "        vertical-align: middle;\n",
       "    }\n",
       "\n",
       "    .dataframe tbody tr th {\n",
       "        vertical-align: top;\n",
       "    }\n",
       "\n",
       "    .dataframe thead th {\n",
       "        text-align: right;\n",
       "    }\n",
       "</style>\n",
       "<table border=\"1\" class=\"dataframe\">\n",
       "  <thead>\n",
       "    <tr style=\"text-align: right;\">\n",
       "      <th></th>\n",
       "      <th>대여일자</th>\n",
       "      <th>평균 이용건수</th>\n",
       "      <th>평균 이동거리</th>\n",
       "      <th>평균 이용시간</th>\n",
       "      <th>평균 주행속력</th>\n",
       "    </tr>\n",
       "  </thead>\n",
       "  <tbody>\n",
       "    <tr>\n",
       "      <th>0</th>\n",
       "      <td>2018_07</td>\n",
       "      <td>56.869181</td>\n",
       "      <td>264799.811403</td>\n",
       "      <td>1556.285185</td>\n",
       "      <td>10.163078</td>\n",
       "    </tr>\n",
       "    <tr>\n",
       "      <th>1</th>\n",
       "      <td>2018_08</td>\n",
       "      <td>55.083315</td>\n",
       "      <td>254576.255180</td>\n",
       "      <td>1491.899673</td>\n",
       "      <td>10.337478</td>\n",
       "    </tr>\n",
       "    <tr>\n",
       "      <th>2</th>\n",
       "      <td>2018_09</td>\n",
       "      <td>72.893361</td>\n",
       "      <td>366124.906579</td>\n",
       "      <td>2272.369410</td>\n",
       "      <td>10.006232</td>\n",
       "    </tr>\n",
       "    <tr>\n",
       "      <th>3</th>\n",
       "      <td>2018_10</td>\n",
       "      <td>67.853005</td>\n",
       "      <td>303828.920532</td>\n",
       "      <td>1790.969368</td>\n",
       "      <td>10.732562</td>\n",
       "    </tr>\n",
       "    <tr>\n",
       "      <th>4</th>\n",
       "      <td>2018_11</td>\n",
       "      <td>45.570684</td>\n",
       "      <td>170317.276909</td>\n",
       "      <td>946.691506</td>\n",
       "      <td>11.107743</td>\n",
       "    </tr>\n",
       "    <tr>\n",
       "      <th>5</th>\n",
       "      <td>2018_12</td>\n",
       "      <td>23.758663</td>\n",
       "      <td>78371.891922</td>\n",
       "      <td>423.307855</td>\n",
       "      <td>11.388264</td>\n",
       "    </tr>\n",
       "  </tbody>\n",
       "</table>\n",
       "</div>"
      ],
      "text/plain": [
       "      대여일자    평균 이용건수        평균 이동거리      평균 이용시간    평균 주행속력\n",
       "0  2018_07  56.869181  264799.811403  1556.285185  10.163078\n",
       "1  2018_08  55.083315  254576.255180  1491.899673  10.337478\n",
       "2  2018_09  72.893361  366124.906579  2272.369410  10.006232\n",
       "3  2018_10  67.853005  303828.920532  1790.969368  10.732562\n",
       "4  2018_11  45.570684  170317.276909   946.691506  11.107743\n",
       "5  2018_12  23.758663   78371.891922   423.307855  11.388264"
      ]
     },
     "execution_count": 25,
     "metadata": {},
     "output_type": "execute_result"
    }
   ],
   "source": [
    "# 2018년 20대 평균 데이터셋\n",
    "bike18_mean_age02 = bike18[bike18['연령대코드']=='20대']\n",
    "\n",
    "bike18_mean_age02 = bike18_mean_age02[['대여일자','이용건수','이동거리(M)','이동시간(분)','주행속력']].groupby(['대여일자']).mean()\n",
    "bike18_mean_age02 = pd.DataFrame({'대여일자' : bike18_mean_age02.index, \n",
    "                                  '평균 이용건수' : bike18_mean_age02['이용건수'], \n",
    "                                  '평균 이동거리' : bike18_mean_age02['이동거리(M)'],\n",
    "                                  '평균 이용시간' : bike18_mean_age02['이동시간(분)'],\n",
    "                                  '평균 주행속력' : bike18_mean_age02['주행속력']})\n",
    "bike18_mean_age02 = bike18_mean_age02.reset_index(drop=True)\n",
    "bike18_mean_age02"
   ]
  },
  {
   "cell_type": "markdown",
   "id": "741081dd",
   "metadata": {},
   "source": [
    "## 02) 2019년 데이터셋 불러오기 및 전처리"
   ]
  },
  {
   "cell_type": "code",
   "execution_count": 26,
   "id": "74b44e55",
   "metadata": {},
   "outputs": [
    {
     "data": {
      "text/html": [
       "<div>\n",
       "<style scoped>\n",
       "    .dataframe tbody tr th:only-of-type {\n",
       "        vertical-align: middle;\n",
       "    }\n",
       "\n",
       "    .dataframe tbody tr th {\n",
       "        vertical-align: top;\n",
       "    }\n",
       "\n",
       "    .dataframe thead th {\n",
       "        text-align: right;\n",
       "    }\n",
       "</style>\n",
       "<table border=\"1\" class=\"dataframe\">\n",
       "  <thead>\n",
       "    <tr style=\"text-align: right;\">\n",
       "      <th></th>\n",
       "      <th>대여일자</th>\n",
       "      <th>대여소번호</th>\n",
       "      <th>대여소</th>\n",
       "      <th>대여구분코드</th>\n",
       "      <th>성별</th>\n",
       "      <th>연령대코드</th>\n",
       "      <th>이용건수</th>\n",
       "      <th>운동량</th>\n",
       "      <th>탄소량</th>\n",
       "      <th>이동거리(M)</th>\n",
       "      <th>이동시간(분)</th>\n",
       "      <th>주행속력</th>\n",
       "    </tr>\n",
       "  </thead>\n",
       "  <tbody>\n",
       "    <tr>\n",
       "      <th>0</th>\n",
       "      <td>2019_01</td>\n",
       "      <td>3</td>\n",
       "      <td>중랑센터</td>\n",
       "      <td>일일(회원)</td>\n",
       "      <td>M</td>\n",
       "      <td>30대</td>\n",
       "      <td>12</td>\n",
       "      <td>288.87</td>\n",
       "      <td>2.25</td>\n",
       "      <td>9690</td>\n",
       "      <td>117</td>\n",
       "      <td>4.969231</td>\n",
       "    </tr>\n",
       "    <tr>\n",
       "      <th>1</th>\n",
       "      <td>2019_01</td>\n",
       "      <td>3</td>\n",
       "      <td>중랑센터</td>\n",
       "      <td>일일(회원)</td>\n",
       "      <td>M</td>\n",
       "      <td>40대</td>\n",
       "      <td>8</td>\n",
       "      <td>424.63</td>\n",
       "      <td>3.32</td>\n",
       "      <td>14310</td>\n",
       "      <td>151</td>\n",
       "      <td>5.686093</td>\n",
       "    </tr>\n",
       "    <tr>\n",
       "      <th>2</th>\n",
       "      <td>2019_01</td>\n",
       "      <td>3</td>\n",
       "      <td>중랑센터</td>\n",
       "      <td>일일(회원)</td>\n",
       "      <td>M</td>\n",
       "      <td>50대</td>\n",
       "      <td>27</td>\n",
       "      <td>4579.48</td>\n",
       "      <td>41.29</td>\n",
       "      <td>177910</td>\n",
       "      <td>542</td>\n",
       "      <td>19.694834</td>\n",
       "    </tr>\n",
       "    <tr>\n",
       "      <th>3</th>\n",
       "      <td>2019_01</td>\n",
       "      <td>3</td>\n",
       "      <td>중랑센터</td>\n",
       "      <td>정기</td>\n",
       "      <td>M</td>\n",
       "      <td>30대</td>\n",
       "      <td>17</td>\n",
       "      <td>3438.8</td>\n",
       "      <td>33.58</td>\n",
       "      <td>144730</td>\n",
       "      <td>593</td>\n",
       "      <td>14.643845</td>\n",
       "    </tr>\n",
       "    <tr>\n",
       "      <th>4</th>\n",
       "      <td>2019_01</td>\n",
       "      <td>5</td>\n",
       "      <td>상암센터 정비실</td>\n",
       "      <td>일일(회원)</td>\n",
       "      <td>M</td>\n",
       "      <td>40대</td>\n",
       "      <td>1</td>\n",
       "      <td>78.31</td>\n",
       "      <td>0.72</td>\n",
       "      <td>3090</td>\n",
       "      <td>33</td>\n",
       "      <td>5.618182</td>\n",
       "    </tr>\n",
       "  </tbody>\n",
       "</table>\n",
       "</div>"
      ],
      "text/plain": [
       "      대여일자  대여소번호       대여소  대여구분코드 성별 연령대코드  이용건수      운동량    탄소량  이동거리(M)  \\\n",
       "0  2019_01      3      중랑센터  일일(회원)  M   30대    12   288.87   2.25     9690   \n",
       "1  2019_01      3      중랑센터  일일(회원)  M   40대     8   424.63   3.32    14310   \n",
       "2  2019_01      3      중랑센터  일일(회원)  M   50대    27  4579.48  41.29   177910   \n",
       "3  2019_01      3      중랑센터      정기  M   30대    17   3438.8  33.58   144730   \n",
       "4  2019_01      5  상암센터 정비실  일일(회원)  M   40대     1    78.31   0.72     3090   \n",
       "\n",
       "   이동시간(분)       주행속력  \n",
       "0      117   4.969231  \n",
       "1      151   5.686093  \n",
       "2      542  19.694834  \n",
       "3      593  14.643845  \n",
       "4       33   5.618182  "
      ]
     },
     "execution_count": 26,
     "metadata": {},
     "output_type": "execute_result"
    }
   ],
   "source": [
    "# 2019년 기본 데이터셋 \n",
    "bike19 = pd.read_csv('./data_set/서울특별시 공공자전거 이용정보(2019년 전월).csv')\n",
    "\n",
    "# 데이터 전처리(연령대코드)\n",
    "bike19['연령대코드'] = bike19['연령대코드'].map({'AGE_001':'10대이하','AGE_002':'20대',\n",
    "                                            'AGE_003':'30대',  'AGE_004':'40대',\n",
    "                                            'AGE_005':'50대',  'AGE_006':'60대',\n",
    "                                            'AGE_007':'70대',  'AGE_008':'80대이상'})\n",
    "\n",
    "# 데이터 전처리(성별)\n",
    "bike19['성별'] = bike19['성별'].fillna('U')\n",
    "bike19['성별'] = bike19['성별'].str.replace(pat=r'\\\\N', repl=r'U', regex=True)\n",
    "bike19['성별'] = bike19['성별'].str.replace(pat=r' ', repl=r'U', regex=True)\n",
    "bike19['성별'] = bike19['성별'].map({'m':'M','M':'M',   'f':'F','F':\"F\",   'U':'Unknown'})\n",
    "bike19['성별'].unique()\n",
    "\n",
    "# 주행속력 컬럼 추가하기 : 기존의 컬럼의 값으로 계산하고, 결측치 제거, 이상치 제거\n",
    "bike19['주행속력'] = ( bike19['이동거리(M)'] / 1000 ) / ( bike19['이동시간(분)'] / 60 )\n",
    "bike19['주행속력'] = bike19['주행속력'].replace([np.inf, -np.inf], np.nan)\n",
    "\n",
    "\n",
    "bike19.head()"
   ]
  },
  {
   "cell_type": "code",
   "execution_count": 27,
   "id": "7deb7d88",
   "metadata": {},
   "outputs": [
    {
     "data": {
      "text/html": [
       "<div>\n",
       "<style scoped>\n",
       "    .dataframe tbody tr th:only-of-type {\n",
       "        vertical-align: middle;\n",
       "    }\n",
       "\n",
       "    .dataframe tbody tr th {\n",
       "        vertical-align: top;\n",
       "    }\n",
       "\n",
       "    .dataframe thead th {\n",
       "        text-align: right;\n",
       "    }\n",
       "</style>\n",
       "<table border=\"1\" class=\"dataframe\">\n",
       "  <thead>\n",
       "    <tr style=\"text-align: right;\">\n",
       "      <th></th>\n",
       "      <th>대여일자</th>\n",
       "      <th>총 이용건수</th>\n",
       "      <th>총 이동거리</th>\n",
       "      <th>총 이용시간</th>\n",
       "    </tr>\n",
       "  </thead>\n",
       "  <tbody>\n",
       "    <tr>\n",
       "      <th>0</th>\n",
       "      <td>2019_01</td>\n",
       "      <td>201802</td>\n",
       "      <td>691614820</td>\n",
       "      <td>3679159</td>\n",
       "    </tr>\n",
       "    <tr>\n",
       "      <th>1</th>\n",
       "      <td>2019_02</td>\n",
       "      <td>201443</td>\n",
       "      <td>788315740</td>\n",
       "      <td>4330084</td>\n",
       "    </tr>\n",
       "    <tr>\n",
       "      <th>2</th>\n",
       "      <td>2019_03</td>\n",
       "      <td>421777</td>\n",
       "      <td>1718188060</td>\n",
       "      <td>9567755</td>\n",
       "    </tr>\n",
       "    <tr>\n",
       "      <th>3</th>\n",
       "      <td>2019_04</td>\n",
       "      <td>716136</td>\n",
       "      <td>3243287552</td>\n",
       "      <td>19310374</td>\n",
       "    </tr>\n",
       "    <tr>\n",
       "      <th>4</th>\n",
       "      <td>2019_05</td>\n",
       "      <td>1100571</td>\n",
       "      <td>5467285170</td>\n",
       "      <td>31170857</td>\n",
       "    </tr>\n",
       "    <tr>\n",
       "      <th>5</th>\n",
       "      <td>2019_06</td>\n",
       "      <td>1149248</td>\n",
       "      <td>5988014700</td>\n",
       "      <td>29915544</td>\n",
       "    </tr>\n",
       "    <tr>\n",
       "      <th>6</th>\n",
       "      <td>2019_07</td>\n",
       "      <td>1068924</td>\n",
       "      <td>5510300840</td>\n",
       "      <td>25890616</td>\n",
       "    </tr>\n",
       "    <tr>\n",
       "      <th>7</th>\n",
       "      <td>2019_08</td>\n",
       "      <td>1041427</td>\n",
       "      <td>5443505970</td>\n",
       "      <td>27113493</td>\n",
       "    </tr>\n",
       "    <tr>\n",
       "      <th>8</th>\n",
       "      <td>2019_09</td>\n",
       "      <td>1022525</td>\n",
       "      <td>5630820630</td>\n",
       "      <td>27646405</td>\n",
       "    </tr>\n",
       "    <tr>\n",
       "      <th>9</th>\n",
       "      <td>2019_10</td>\n",
       "      <td>1151041</td>\n",
       "      <td>6161908800</td>\n",
       "      <td>28418262</td>\n",
       "    </tr>\n",
       "    <tr>\n",
       "      <th>10</th>\n",
       "      <td>2019_11</td>\n",
       "      <td>685450</td>\n",
       "      <td>3091556950</td>\n",
       "      <td>13904926</td>\n",
       "    </tr>\n",
       "    <tr>\n",
       "      <th>11</th>\n",
       "      <td>2019_12</td>\n",
       "      <td>360026</td>\n",
       "      <td>1439257210</td>\n",
       "      <td>6426597</td>\n",
       "    </tr>\n",
       "  </tbody>\n",
       "</table>\n",
       "</div>"
      ],
      "text/plain": [
       "       대여일자   총 이용건수      총 이동거리    총 이용시간\n",
       "0   2019_01   201802   691614820   3679159\n",
       "1   2019_02   201443   788315740   4330084\n",
       "2   2019_03   421777  1718188060   9567755\n",
       "3   2019_04   716136  3243287552  19310374\n",
       "4   2019_05  1100571  5467285170  31170857\n",
       "5   2019_06  1149248  5988014700  29915544\n",
       "6   2019_07  1068924  5510300840  25890616\n",
       "7   2019_08  1041427  5443505970  27113493\n",
       "8   2019_09  1022525  5630820630  27646405\n",
       "9   2019_10  1151041  6161908800  28418262\n",
       "10  2019_11   685450  3091556950  13904926\n",
       "11  2019_12   360026  1439257210   6426597"
      ]
     },
     "execution_count": 27,
     "metadata": {},
     "output_type": "execute_result"
    }
   ],
   "source": [
    "# 2019년 20대 소계 데이터 셋\n",
    "bike19_sum_age02 = bike19[bike19['연령대코드']=='20대']\n",
    "\n",
    "bike19_sum_age02 = bike19_sum_age02[['대여일자','이용건수','이동거리(M)','이동시간(분)']].groupby(['대여일자']).sum()\n",
    "bike19_sum_age02 = pd.DataFrame({'대여일자'    : bike19_sum_age02.index, \n",
    "                                 '총 이용건수' : bike19_sum_age02['이용건수'], \n",
    "                                 '총 이동거리' : bike19_sum_age02['이동거리(M)'],\n",
    "                                 '총 이용시간' : bike19_sum_age02['이동시간(분)']})\n",
    "bike19_sum_age02 = bike19_sum_age02.reset_index(drop=True)\n",
    "bike19_sum_age02"
   ]
  },
  {
   "cell_type": "code",
   "execution_count": 28,
   "id": "e3eb7469",
   "metadata": {},
   "outputs": [
    {
     "data": {
      "text/html": [
       "<div>\n",
       "<style scoped>\n",
       "    .dataframe tbody tr th:only-of-type {\n",
       "        vertical-align: middle;\n",
       "    }\n",
       "\n",
       "    .dataframe tbody tr th {\n",
       "        vertical-align: top;\n",
       "    }\n",
       "\n",
       "    .dataframe thead th {\n",
       "        text-align: right;\n",
       "    }\n",
       "</style>\n",
       "<table border=\"1\" class=\"dataframe\">\n",
       "  <thead>\n",
       "    <tr style=\"text-align: right;\">\n",
       "      <th></th>\n",
       "      <th>대여일자</th>\n",
       "      <th>평균 이용건수</th>\n",
       "      <th>평균 이동거리</th>\n",
       "      <th>평균 이용시간</th>\n",
       "      <th>평균 주행속력</th>\n",
       "    </tr>\n",
       "  </thead>\n",
       "  <tbody>\n",
       "    <tr>\n",
       "      <th>0</th>\n",
       "      <td>2019_01</td>\n",
       "      <td>22.449883</td>\n",
       "      <td>76940.129047</td>\n",
       "      <td>409.295695</td>\n",
       "      <td>13.066209</td>\n",
       "    </tr>\n",
       "    <tr>\n",
       "      <th>1</th>\n",
       "      <td>2019_02</td>\n",
       "      <td>21.368728</td>\n",
       "      <td>83623.182349</td>\n",
       "      <td>459.327888</td>\n",
       "      <td>11.583223</td>\n",
       "    </tr>\n",
       "    <tr>\n",
       "      <th>2</th>\n",
       "      <td>2019_03</td>\n",
       "      <td>41.161023</td>\n",
       "      <td>167677.179662</td>\n",
       "      <td>933.712794</td>\n",
       "      <td>11.298554</td>\n",
       "    </tr>\n",
       "    <tr>\n",
       "      <th>3</th>\n",
       "      <td>2019_04</td>\n",
       "      <td>64.262024</td>\n",
       "      <td>291034.417803</td>\n",
       "      <td>1732.804559</td>\n",
       "      <td>10.294392</td>\n",
       "    </tr>\n",
       "    <tr>\n",
       "      <th>4</th>\n",
       "      <td>2019_05</td>\n",
       "      <td>94.122210</td>\n",
       "      <td>467569.072950</td>\n",
       "      <td>2665.770718</td>\n",
       "      <td>10.721522</td>\n",
       "    </tr>\n",
       "    <tr>\n",
       "      <th>5</th>\n",
       "      <td>2019_06</td>\n",
       "      <td>76.764946</td>\n",
       "      <td>399974.263576</td>\n",
       "      <td>1998.232850</td>\n",
       "      <td>11.960381</td>\n",
       "    </tr>\n",
       "    <tr>\n",
       "      <th>6</th>\n",
       "      <td>2019_07</td>\n",
       "      <td>72.493998</td>\n",
       "      <td>373706.398101</td>\n",
       "      <td>1755.891217</td>\n",
       "      <td>12.728430</td>\n",
       "    </tr>\n",
       "    <tr>\n",
       "      <th>7</th>\n",
       "      <td>2019_08</td>\n",
       "      <td>70.686690</td>\n",
       "      <td>369477.090206</td>\n",
       "      <td>1840.323967</td>\n",
       "      <td>12.198673</td>\n",
       "    </tr>\n",
       "    <tr>\n",
       "      <th>8</th>\n",
       "      <td>2019_09</td>\n",
       "      <td>69.697021</td>\n",
       "      <td>383806.191125</td>\n",
       "      <td>1884.425397</td>\n",
       "      <td>12.523935</td>\n",
       "    </tr>\n",
       "    <tr>\n",
       "      <th>9</th>\n",
       "      <td>2019_10</td>\n",
       "      <td>79.623755</td>\n",
       "      <td>426252.684007</td>\n",
       "      <td>1965.845462</td>\n",
       "      <td>13.763132</td>\n",
       "    </tr>\n",
       "    <tr>\n",
       "      <th>10</th>\n",
       "      <td>2019_11</td>\n",
       "      <td>51.398470</td>\n",
       "      <td>231820.407169</td>\n",
       "      <td>1042.660918</td>\n",
       "      <td>13.707306</td>\n",
       "    </tr>\n",
       "    <tr>\n",
       "      <th>11</th>\n",
       "      <td>2019_12</td>\n",
       "      <td>29.549081</td>\n",
       "      <td>118126.822882</td>\n",
       "      <td>527.461999</td>\n",
       "      <td>14.422387</td>\n",
       "    </tr>\n",
       "  </tbody>\n",
       "</table>\n",
       "</div>"
      ],
      "text/plain": [
       "       대여일자    평균 이용건수        평균 이동거리      평균 이용시간    평균 주행속력\n",
       "0   2019_01  22.449883   76940.129047   409.295695  13.066209\n",
       "1   2019_02  21.368728   83623.182349   459.327888  11.583223\n",
       "2   2019_03  41.161023  167677.179662   933.712794  11.298554\n",
       "3   2019_04  64.262024  291034.417803  1732.804559  10.294392\n",
       "4   2019_05  94.122210  467569.072950  2665.770718  10.721522\n",
       "5   2019_06  76.764946  399974.263576  1998.232850  11.960381\n",
       "6   2019_07  72.493998  373706.398101  1755.891217  12.728430\n",
       "7   2019_08  70.686690  369477.090206  1840.323967  12.198673\n",
       "8   2019_09  69.697021  383806.191125  1884.425397  12.523935\n",
       "9   2019_10  79.623755  426252.684007  1965.845462  13.763132\n",
       "10  2019_11  51.398470  231820.407169  1042.660918  13.707306\n",
       "11  2019_12  29.549081  118126.822882   527.461999  14.422387"
      ]
     },
     "execution_count": 28,
     "metadata": {},
     "output_type": "execute_result"
    }
   ],
   "source": [
    "# 2019년 20대 평균 데이터셋\n",
    "bike19_mean_age02 = bike19[bike19['연령대코드']=='20대']\n",
    "\n",
    "bike19_mean_age02 = bike19_mean_age02[['대여일자','이용건수','이동거리(M)','이동시간(분)','주행속력']].groupby(['대여일자']).mean()\n",
    "bike19_mean_age02 = pd.DataFrame({'대여일자' : bike19_mean_age02.index, \n",
    "                                  '평균 이용건수' : bike19_mean_age02['이용건수'], \n",
    "                                  '평균 이동거리' : bike19_mean_age02['이동거리(M)'],\n",
    "                                  '평균 이용시간' : bike19_mean_age02['이동시간(분)'],\n",
    "                                  '평균 주행속력' : bike19_mean_age02['주행속력']})\n",
    "bike19_mean_age02 = bike19_mean_age02.reset_index(drop=True)\n",
    "bike19_mean_age02"
   ]
  },
  {
   "cell_type": "code",
   "execution_count": 43,
   "id": "8bdd07c0",
   "metadata": {},
   "outputs": [
    {
     "data": {
      "text/html": [
       "<div>\n",
       "<style scoped>\n",
       "    .dataframe tbody tr th:only-of-type {\n",
       "        vertical-align: middle;\n",
       "    }\n",
       "\n",
       "    .dataframe tbody tr th {\n",
       "        vertical-align: top;\n",
       "    }\n",
       "\n",
       "    .dataframe thead th {\n",
       "        text-align: right;\n",
       "    }\n",
       "</style>\n",
       "<table border=\"1\" class=\"dataframe\">\n",
       "  <thead>\n",
       "    <tr style=\"text-align: right;\">\n",
       "      <th></th>\n",
       "      <th>대여일자</th>\n",
       "      <th>총 이용건수</th>\n",
       "      <th>총 이동거리</th>\n",
       "      <th>총 이용시간</th>\n",
       "    </tr>\n",
       "  </thead>\n",
       "  <tbody>\n",
       "    <tr>\n",
       "      <th>0</th>\n",
       "      <td>2019_01</td>\n",
       "      <td>126778</td>\n",
       "      <td>420613840</td>\n",
       "      <td>2257266</td>\n",
       "    </tr>\n",
       "    <tr>\n",
       "      <th>1</th>\n",
       "      <td>2019_02</td>\n",
       "      <td>115852</td>\n",
       "      <td>432389596</td>\n",
       "      <td>2335595</td>\n",
       "    </tr>\n",
       "    <tr>\n",
       "      <th>2</th>\n",
       "      <td>2019_03</td>\n",
       "      <td>212208</td>\n",
       "      <td>856384340</td>\n",
       "      <td>4630000</td>\n",
       "    </tr>\n",
       "    <tr>\n",
       "      <th>3</th>\n",
       "      <td>2019_04</td>\n",
       "      <td>344435</td>\n",
       "      <td>1569813123</td>\n",
       "      <td>8830362</td>\n",
       "    </tr>\n",
       "    <tr>\n",
       "      <th>4</th>\n",
       "      <td>2019_05</td>\n",
       "      <td>478704</td>\n",
       "      <td>2388444040</td>\n",
       "      <td>12883412</td>\n",
       "    </tr>\n",
       "    <tr>\n",
       "      <th>5</th>\n",
       "      <td>2019_06</td>\n",
       "      <td>514313</td>\n",
       "      <td>2768522620</td>\n",
       "      <td>13628937</td>\n",
       "    </tr>\n",
       "    <tr>\n",
       "      <th>6</th>\n",
       "      <td>2019_07</td>\n",
       "      <td>468794</td>\n",
       "      <td>2447692180</td>\n",
       "      <td>11321376</td>\n",
       "    </tr>\n",
       "    <tr>\n",
       "      <th>7</th>\n",
       "      <td>2019_08</td>\n",
       "      <td>449651</td>\n",
       "      <td>2360516520</td>\n",
       "      <td>11719521</td>\n",
       "    </tr>\n",
       "    <tr>\n",
       "      <th>8</th>\n",
       "      <td>2019_09</td>\n",
       "      <td>447686</td>\n",
       "      <td>2518756170</td>\n",
       "      <td>12367715</td>\n",
       "    </tr>\n",
       "    <tr>\n",
       "      <th>9</th>\n",
       "      <td>2019_10</td>\n",
       "      <td>528647</td>\n",
       "      <td>2941495750</td>\n",
       "      <td>13852973</td>\n",
       "    </tr>\n",
       "    <tr>\n",
       "      <th>10</th>\n",
       "      <td>2019_11</td>\n",
       "      <td>333202</td>\n",
       "      <td>1563986700</td>\n",
       "      <td>7179946</td>\n",
       "    </tr>\n",
       "    <tr>\n",
       "      <th>11</th>\n",
       "      <td>2019_12</td>\n",
       "      <td>206431</td>\n",
       "      <td>852000210</td>\n",
       "      <td>3913025</td>\n",
       "    </tr>\n",
       "  </tbody>\n",
       "</table>\n",
       "</div>"
      ],
      "text/plain": [
       "       대여일자  총 이용건수      총 이동거리    총 이용시간\n",
       "0   2019_01  126778   420613840   2257266\n",
       "1   2019_02  115852   432389596   2335595\n",
       "2   2019_03  212208   856384340   4630000\n",
       "3   2019_04  344435  1569813123   8830362\n",
       "4   2019_05  478704  2388444040  12883412\n",
       "5   2019_06  514313  2768522620  13628937\n",
       "6   2019_07  468794  2447692180  11321376\n",
       "7   2019_08  449651  2360516520  11719521\n",
       "8   2019_09  447686  2518756170  12367715\n",
       "9   2019_10  528647  2941495750  13852973\n",
       "10  2019_11  333202  1563986700   7179946\n",
       "11  2019_12  206431   852000210   3913025"
      ]
     },
     "execution_count": 43,
     "metadata": {},
     "output_type": "execute_result"
    }
   ],
   "source": [
    "# 2019년 30대 소계 데이터 셋\n",
    "bike19_sum_age03 = bike19[bike19['연령대코드']=='30대']\n",
    "\n",
    "bike19_sum_age03 = bike19_sum_age03[['대여일자','이용건수','이동거리(M)','이동시간(분)']].groupby(['대여일자']).sum()\n",
    "bike19_sum_age03 = pd.DataFrame({'대여일자'    : bike19_sum_age03.index, \n",
    "                                 '총 이용건수' : bike19_sum_age03['이용건수'], \n",
    "                                 '총 이동거리' : bike19_sum_age03['이동거리(M)'],\n",
    "                                 '총 이용시간' : bike19_sum_age03['이동시간(분)']})\n",
    "bike19_sum_age03 = bike19_sum_age03.reset_index(drop=True)\n",
    "bike19_sum_age03"
   ]
  },
  {
   "cell_type": "code",
   "execution_count": 44,
   "id": "9ff6c317",
   "metadata": {},
   "outputs": [
    {
     "data": {
      "text/html": [
       "<div>\n",
       "<style scoped>\n",
       "    .dataframe tbody tr th:only-of-type {\n",
       "        vertical-align: middle;\n",
       "    }\n",
       "\n",
       "    .dataframe tbody tr th {\n",
       "        vertical-align: top;\n",
       "    }\n",
       "\n",
       "    .dataframe thead th {\n",
       "        text-align: right;\n",
       "    }\n",
       "</style>\n",
       "<table border=\"1\" class=\"dataframe\">\n",
       "  <thead>\n",
       "    <tr style=\"text-align: right;\">\n",
       "      <th></th>\n",
       "      <th>대여일자</th>\n",
       "      <th>평균 이용건수</th>\n",
       "      <th>평균 이동거리</th>\n",
       "      <th>평균 이용시간</th>\n",
       "      <th>평균 주행속력</th>\n",
       "    </tr>\n",
       "  </thead>\n",
       "  <tbody>\n",
       "    <tr>\n",
       "      <th>0</th>\n",
       "      <td>2019_01</td>\n",
       "      <td>16.962537</td>\n",
       "      <td>56276.938721</td>\n",
       "      <td>302.015788</td>\n",
       "      <td>12.363414</td>\n",
       "    </tr>\n",
       "    <tr>\n",
       "      <th>1</th>\n",
       "      <td>2019_02</td>\n",
       "      <td>14.556100</td>\n",
       "      <td>54327.126021</td>\n",
       "      <td>293.453323</td>\n",
       "      <td>11.772716</td>\n",
       "    </tr>\n",
       "    <tr>\n",
       "      <th>2</th>\n",
       "      <td>2019_03</td>\n",
       "      <td>23.568192</td>\n",
       "      <td>95111.543758</td>\n",
       "      <td>514.215904</td>\n",
       "      <td>11.332084</td>\n",
       "    </tr>\n",
       "    <tr>\n",
       "      <th>3</th>\n",
       "      <td>2019_04</td>\n",
       "      <td>34.491789</td>\n",
       "      <td>157201.394252</td>\n",
       "      <td>884.274184</td>\n",
       "      <td>10.633553</td>\n",
       "    </tr>\n",
       "    <tr>\n",
       "      <th>4</th>\n",
       "      <td>2019_05</td>\n",
       "      <td>45.962938</td>\n",
       "      <td>229327.320211</td>\n",
       "      <td>1237.005473</td>\n",
       "      <td>11.065429</td>\n",
       "    </tr>\n",
       "    <tr>\n",
       "      <th>5</th>\n",
       "      <td>2019_06</td>\n",
       "      <td>39.450257</td>\n",
       "      <td>212358.872440</td>\n",
       "      <td>1045.404388</td>\n",
       "      <td>11.848971</td>\n",
       "    </tr>\n",
       "    <tr>\n",
       "      <th>6</th>\n",
       "      <td>2019_07</td>\n",
       "      <td>36.840393</td>\n",
       "      <td>192353.020039</td>\n",
       "      <td>889.695560</td>\n",
       "      <td>12.876685</td>\n",
       "    </tr>\n",
       "    <tr>\n",
       "      <th>7</th>\n",
       "      <td>2019_08</td>\n",
       "      <td>35.299969</td>\n",
       "      <td>185312.962789</td>\n",
       "      <td>920.044041</td>\n",
       "      <td>12.834465</td>\n",
       "    </tr>\n",
       "    <tr>\n",
       "      <th>8</th>\n",
       "      <td>2019_09</td>\n",
       "      <td>34.820409</td>\n",
       "      <td>195905.434394</td>\n",
       "      <td>961.944077</td>\n",
       "      <td>12.871793</td>\n",
       "    </tr>\n",
       "    <tr>\n",
       "      <th>9</th>\n",
       "      <td>2019_10</td>\n",
       "      <td>41.034464</td>\n",
       "      <td>228323.818210</td>\n",
       "      <td>1075.290926</td>\n",
       "      <td>13.280554</td>\n",
       "    </tr>\n",
       "    <tr>\n",
       "      <th>10</th>\n",
       "      <td>2019_11</td>\n",
       "      <td>28.578952</td>\n",
       "      <td>134144.154730</td>\n",
       "      <td>615.828630</td>\n",
       "      <td>14.063823</td>\n",
       "    </tr>\n",
       "    <tr>\n",
       "      <th>11</th>\n",
       "      <td>2019_12</td>\n",
       "      <td>20.143540</td>\n",
       "      <td>83138.193794</td>\n",
       "      <td>381.833041</td>\n",
       "      <td>14.497197</td>\n",
       "    </tr>\n",
       "  </tbody>\n",
       "</table>\n",
       "</div>"
      ],
      "text/plain": [
       "       대여일자    평균 이용건수        평균 이동거리      평균 이용시간    평균 주행속력\n",
       "0   2019_01  16.962537   56276.938721   302.015788  12.363414\n",
       "1   2019_02  14.556100   54327.126021   293.453323  11.772716\n",
       "2   2019_03  23.568192   95111.543758   514.215904  11.332084\n",
       "3   2019_04  34.491789  157201.394252   884.274184  10.633553\n",
       "4   2019_05  45.962938  229327.320211  1237.005473  11.065429\n",
       "5   2019_06  39.450257  212358.872440  1045.404388  11.848971\n",
       "6   2019_07  36.840393  192353.020039   889.695560  12.876685\n",
       "7   2019_08  35.299969  185312.962789   920.044041  12.834465\n",
       "8   2019_09  34.820409  195905.434394   961.944077  12.871793\n",
       "9   2019_10  41.034464  228323.818210  1075.290926  13.280554\n",
       "10  2019_11  28.578952  134144.154730   615.828630  14.063823\n",
       "11  2019_12  20.143540   83138.193794   381.833041  14.497197"
      ]
     },
     "execution_count": 44,
     "metadata": {},
     "output_type": "execute_result"
    }
   ],
   "source": [
    "# 2019년 30대 평균 데이터셋\n",
    "bike19_mean_age03 = bike19[bike19['연령대코드']=='30대']\n",
    "\n",
    "bike19_mean_age03 = bike19_mean_age03[['대여일자','이용건수','이동거리(M)','이동시간(분)','주행속력']].groupby(['대여일자']).mean()\n",
    "bike19_mean_age03 = pd.DataFrame({'대여일자' : bike19_mean_age03.index, \n",
    "                                  '평균 이용건수' : bike19_mean_age03['이용건수'], \n",
    "                                  '평균 이동거리' : bike19_mean_age03['이동거리(M)'],\n",
    "                                  '평균 이용시간' : bike19_mean_age03['이동시간(분)'],\n",
    "                                  '평균 주행속력' : bike19_mean_age03['주행속력']})\n",
    "bike19_mean_age03 = bike19_mean_age03.reset_index(drop=True)\n",
    "bike19_mean_age03"
   ]
  },
  {
   "cell_type": "code",
   "execution_count": null,
   "id": "458cf248",
   "metadata": {},
   "outputs": [],
   "source": [
    "# bike18.iloc[:,[0,5]].iplot(kind='bar',x='대여일자' ,theme='space')\n",
    "# bike18.iloc[:,[0,5]]  =  bike18.loc[:,['대여일자','연령대코드']]  =  bike18.loc[:,'대여일자':'연령대코드':5]"
   ]
  },
  {
   "cell_type": "markdown",
   "id": "e74d0f08",
   "metadata": {},
   "source": [
    "## 03) 2020년 데이터셋 불러오기 및 전처리"
   ]
  },
  {
   "cell_type": "code",
   "execution_count": 30,
   "id": "34fd7dbf",
   "metadata": {},
   "outputs": [
    {
     "data": {
      "text/html": [
       "<div>\n",
       "<style scoped>\n",
       "    .dataframe tbody tr th:only-of-type {\n",
       "        vertical-align: middle;\n",
       "    }\n",
       "\n",
       "    .dataframe tbody tr th {\n",
       "        vertical-align: top;\n",
       "    }\n",
       "\n",
       "    .dataframe thead th {\n",
       "        text-align: right;\n",
       "    }\n",
       "</style>\n",
       "<table border=\"1\" class=\"dataframe\">\n",
       "  <thead>\n",
       "    <tr style=\"text-align: right;\">\n",
       "      <th></th>\n",
       "      <th>대여일자</th>\n",
       "      <th>대여소번호</th>\n",
       "      <th>대여소명</th>\n",
       "      <th>대여구분코드</th>\n",
       "      <th>성별</th>\n",
       "      <th>연령대코드</th>\n",
       "      <th>이용건수</th>\n",
       "      <th>운동량</th>\n",
       "      <th>탄소량</th>\n",
       "      <th>이동거리</th>\n",
       "      <th>이용시간</th>\n",
       "      <th>주행속력</th>\n",
       "    </tr>\n",
       "  </thead>\n",
       "  <tbody>\n",
       "    <tr>\n",
       "      <th>0</th>\n",
       "      <td>2020_01</td>\n",
       "      <td>3</td>\n",
       "      <td>중랑센터</td>\n",
       "      <td>일일(회원)</td>\n",
       "      <td>M</td>\n",
       "      <td>30대</td>\n",
       "      <td>3</td>\n",
       "      <td>61.82</td>\n",
       "      <td>0.52</td>\n",
       "      <td>2230.0</td>\n",
       "      <td>75</td>\n",
       "      <td>1.784000</td>\n",
       "    </tr>\n",
       "    <tr>\n",
       "      <th>1</th>\n",
       "      <td>2020_01</td>\n",
       "      <td>3</td>\n",
       "      <td>중랑센터</td>\n",
       "      <td>일일(회원)</td>\n",
       "      <td>M</td>\n",
       "      <td>40대</td>\n",
       "      <td>1</td>\n",
       "      <td>39.62</td>\n",
       "      <td>0.28</td>\n",
       "      <td>1220.0</td>\n",
       "      <td>15</td>\n",
       "      <td>4.880000</td>\n",
       "    </tr>\n",
       "    <tr>\n",
       "      <th>2</th>\n",
       "      <td>2020_01</td>\n",
       "      <td>3</td>\n",
       "      <td>중랑센터</td>\n",
       "      <td>정기</td>\n",
       "      <td>M</td>\n",
       "      <td>50대</td>\n",
       "      <td>3</td>\n",
       "      <td>430.85</td>\n",
       "      <td>4.01</td>\n",
       "      <td>17270.0</td>\n",
       "      <td>53</td>\n",
       "      <td>19.550943</td>\n",
       "    </tr>\n",
       "    <tr>\n",
       "      <th>3</th>\n",
       "      <td>2020_01</td>\n",
       "      <td>5</td>\n",
       "      <td>상암센터 정비실</td>\n",
       "      <td>일일(회원)</td>\n",
       "      <td>Unknown</td>\n",
       "      <td>50대</td>\n",
       "      <td>2</td>\n",
       "      <td>1.79</td>\n",
       "      <td>0.02</td>\n",
       "      <td>90.0</td>\n",
       "      <td>33</td>\n",
       "      <td>0.163636</td>\n",
       "    </tr>\n",
       "    <tr>\n",
       "      <th>4</th>\n",
       "      <td>2020_01</td>\n",
       "      <td>5</td>\n",
       "      <td>상암센터 정비실</td>\n",
       "      <td>정기</td>\n",
       "      <td>F</td>\n",
       "      <td>30대</td>\n",
       "      <td>1</td>\n",
       "      <td>4501.96</td>\n",
       "      <td>45.47</td>\n",
       "      <td>196010.0</td>\n",
       "      <td>64</td>\n",
       "      <td>183.759375</td>\n",
       "    </tr>\n",
       "  </tbody>\n",
       "</table>\n",
       "</div>"
      ],
      "text/plain": [
       "      대여일자  대여소번호      대여소명  대여구분코드       성별 연령대코드  이용건수      운동량    탄소량  \\\n",
       "0  2020_01      3      중랑센터  일일(회원)        M   30대     3    61.82   0.52   \n",
       "1  2020_01      3      중랑센터  일일(회원)        M   40대     1    39.62   0.28   \n",
       "2  2020_01      3      중랑센터      정기        M   50대     3   430.85   4.01   \n",
       "3  2020_01      5  상암센터 정비실  일일(회원)  Unknown   50대     2     1.79   0.02   \n",
       "4  2020_01      5  상암센터 정비실      정기        F   30대     1  4501.96  45.47   \n",
       "\n",
       "       이동거리  이용시간        주행속력  \n",
       "0    2230.0    75    1.784000  \n",
       "1    1220.0    15    4.880000  \n",
       "2   17270.0    53   19.550943  \n",
       "3      90.0    33    0.163636  \n",
       "4  196010.0    64  183.759375  "
      ]
     },
     "execution_count": 30,
     "metadata": {},
     "output_type": "execute_result"
    }
   ],
   "source": [
    "# 2020년 기본 데이터 셋\n",
    "bike20 = pd.read_csv('./data_set/공공자전거 이용정보(2020년 전월).csv',encoding='cp949')\n",
    "\n",
    "# 데이터 전처리(연령대코드)\n",
    "bike20['연령대코드'] = bike20['연령대코드'].map({'AGE_001':'10대이하','AGE_002':'20대',\n",
    "                                            'AGE_003':'30대',  'AGE_004':'40대',\n",
    "                                            'AGE_005':'50대',  'AGE_006':'60대',\n",
    "                                            'AGE_007':'70대',  'AGE_008':'80대이상'})\n",
    "\n",
    "# 데이터 전처리(성별)\n",
    "bike20['성별'] = bike20['성별'].fillna('U')\n",
    "bike20['성별'] = bike20['성별'].str.replace(pat=r'\\\\N', repl=r'U', regex=True)\n",
    "bike20['성별'] = bike20['성별'].map({'m':'M','M':'M',   'f':'F','F':\"F\",   'U':'Unknown'})\n",
    "bike20['성별'].unique()\n",
    "\n",
    "# 주행속력 컬럼 추가하기 : 기존의 컬럼의 값으로 계산하고, 결측치 제거, 이상치 제거\n",
    "bike20['주행속력'] = ( bike20['이동거리'] / 1000 ) / ( bike20['이용시간'] / 60 )\n",
    "bike20['주행속력'] = bike20['주행속력'].replace([np.inf, -np.inf], np.nan)\n",
    "\n",
    "bike20.head()"
   ]
  },
  {
   "cell_type": "code",
   "execution_count": 33,
   "id": "c971ab53",
   "metadata": {},
   "outputs": [
    {
     "data": {
      "text/html": [
       "<div>\n",
       "<style scoped>\n",
       "    .dataframe tbody tr th:only-of-type {\n",
       "        vertical-align: middle;\n",
       "    }\n",
       "\n",
       "    .dataframe tbody tr th {\n",
       "        vertical-align: top;\n",
       "    }\n",
       "\n",
       "    .dataframe thead th {\n",
       "        text-align: right;\n",
       "    }\n",
       "</style>\n",
       "<table border=\"1\" class=\"dataframe\">\n",
       "  <thead>\n",
       "    <tr style=\"text-align: right;\">\n",
       "      <th></th>\n",
       "      <th>대여일자</th>\n",
       "      <th>총 이용건수</th>\n",
       "      <th>총 이동거리</th>\n",
       "      <th>총 이용시간</th>\n",
       "    </tr>\n",
       "  </thead>\n",
       "  <tbody>\n",
       "    <tr>\n",
       "      <th>0</th>\n",
       "      <td>2020_01</td>\n",
       "      <td>326277</td>\n",
       "      <td>1.306170e+09</td>\n",
       "      <td>6177108</td>\n",
       "    </tr>\n",
       "    <tr>\n",
       "      <th>1</th>\n",
       "      <td>2020_02</td>\n",
       "      <td>317169</td>\n",
       "      <td>1.398153e+09</td>\n",
       "      <td>6915634</td>\n",
       "    </tr>\n",
       "    <tr>\n",
       "      <th>2</th>\n",
       "      <td>2020_03</td>\n",
       "      <td>704244</td>\n",
       "      <td>4.180080e+09</td>\n",
       "      <td>24050027</td>\n",
       "    </tr>\n",
       "    <tr>\n",
       "      <th>3</th>\n",
       "      <td>2020_04</td>\n",
       "      <td>995677</td>\n",
       "      <td>4.580501e+09</td>\n",
       "      <td>33203710</td>\n",
       "    </tr>\n",
       "    <tr>\n",
       "      <th>4</th>\n",
       "      <td>2020_05</td>\n",
       "      <td>1164916</td>\n",
       "      <td>4.420488e+09</td>\n",
       "      <td>39021659</td>\n",
       "    </tr>\n",
       "    <tr>\n",
       "      <th>5</th>\n",
       "      <td>2020_06</td>\n",
       "      <td>1278029</td>\n",
       "      <td>8.333574e+09</td>\n",
       "      <td>37861731</td>\n",
       "    </tr>\n",
       "    <tr>\n",
       "      <th>6</th>\n",
       "      <td>2020_07</td>\n",
       "      <td>1184603</td>\n",
       "      <td>2.998039e+09</td>\n",
       "      <td>34969389</td>\n",
       "    </tr>\n",
       "    <tr>\n",
       "      <th>7</th>\n",
       "      <td>2020_08</td>\n",
       "      <td>786812</td>\n",
       "      <td>5.503126e+08</td>\n",
       "      <td>21358964</td>\n",
       "    </tr>\n",
       "    <tr>\n",
       "      <th>8</th>\n",
       "      <td>2020_09</td>\n",
       "      <td>1302676</td>\n",
       "      <td>1.114244e+09</td>\n",
       "      <td>43697421</td>\n",
       "    </tr>\n",
       "    <tr>\n",
       "      <th>9</th>\n",
       "      <td>2020_10</td>\n",
       "      <td>1286939</td>\n",
       "      <td>5.501886e+08</td>\n",
       "      <td>35566570</td>\n",
       "    </tr>\n",
       "    <tr>\n",
       "      <th>10</th>\n",
       "      <td>2020_11</td>\n",
       "      <td>851691</td>\n",
       "      <td>1.753968e+08</td>\n",
       "      <td>19251649</td>\n",
       "    </tr>\n",
       "    <tr>\n",
       "      <th>11</th>\n",
       "      <td>2020_12</td>\n",
       "      <td>473158</td>\n",
       "      <td>2.394424e+08</td>\n",
       "      <td>10575009</td>\n",
       "    </tr>\n",
       "  </tbody>\n",
       "</table>\n",
       "</div>"
      ],
      "text/plain": [
       "       대여일자   총 이용건수        총 이동거리    총 이용시간\n",
       "0   2020_01   326277  1.306170e+09   6177108\n",
       "1   2020_02   317169  1.398153e+09   6915634\n",
       "2   2020_03   704244  4.180080e+09  24050027\n",
       "3   2020_04   995677  4.580501e+09  33203710\n",
       "4   2020_05  1164916  4.420488e+09  39021659\n",
       "5   2020_06  1278029  8.333574e+09  37861731\n",
       "6   2020_07  1184603  2.998039e+09  34969389\n",
       "7   2020_08   786812  5.503126e+08  21358964\n",
       "8   2020_09  1302676  1.114244e+09  43697421\n",
       "9   2020_10  1286939  5.501886e+08  35566570\n",
       "10  2020_11   851691  1.753968e+08  19251649\n",
       "11  2020_12   473158  2.394424e+08  10575009"
      ]
     },
     "execution_count": 33,
     "metadata": {},
     "output_type": "execute_result"
    }
   ],
   "source": [
    "# 2020년 20대 소계 데이터 셋\n",
    "bike20_sum_age02 = bike20[bike20['연령대코드']=='20대']\n",
    "\n",
    "bike20_sum_age02 = bike20_sum_age02[['대여일자','이용건수','이동거리','이용시간']].groupby(['대여일자']).sum()\n",
    "bike20_sum_age02 = pd.DataFrame({'대여일자'    : bike20_sum_age02.index, \n",
    "                                 '총 이용건수' : bike20_sum_age02['이용건수'], \n",
    "                                 '총 이동거리' : bike20_sum_age02['이동거리'],\n",
    "                                 '총 이용시간' : bike20_sum_age02['이용시간']})\n",
    "bike20_sum_age02 = bike20_sum_age02.reset_index(drop=True)\n",
    "bike20_sum_age02"
   ]
  },
  {
   "cell_type": "code",
   "execution_count": 34,
   "id": "41ce6a2a",
   "metadata": {},
   "outputs": [
    {
     "data": {
      "text/html": [
       "<div>\n",
       "<style scoped>\n",
       "    .dataframe tbody tr th:only-of-type {\n",
       "        vertical-align: middle;\n",
       "    }\n",
       "\n",
       "    .dataframe tbody tr th {\n",
       "        vertical-align: top;\n",
       "    }\n",
       "\n",
       "    .dataframe thead th {\n",
       "        text-align: right;\n",
       "    }\n",
       "</style>\n",
       "<table border=\"1\" class=\"dataframe\">\n",
       "  <thead>\n",
       "    <tr style=\"text-align: right;\">\n",
       "      <th></th>\n",
       "      <th>대여일자</th>\n",
       "      <th>평균 이용건수</th>\n",
       "      <th>평균 이동거리</th>\n",
       "      <th>평균 이용시간</th>\n",
       "      <th>평균 주행속력</th>\n",
       "    </tr>\n",
       "  </thead>\n",
       "  <tbody>\n",
       "    <tr>\n",
       "      <th>0</th>\n",
       "      <td>2020_01</td>\n",
       "      <td>26.520117</td>\n",
       "      <td>106166.820288</td>\n",
       "      <td>502.081444</td>\n",
       "      <td>13.419372</td>\n",
       "    </tr>\n",
       "    <tr>\n",
       "      <th>1</th>\n",
       "      <td>2020_02</td>\n",
       "      <td>25.274444</td>\n",
       "      <td>111415.477727</td>\n",
       "      <td>551.090445</td>\n",
       "      <td>12.848209</td>\n",
       "    </tr>\n",
       "    <tr>\n",
       "      <th>2</th>\n",
       "      <td>2020_03</td>\n",
       "      <td>49.504007</td>\n",
       "      <td>293833.808754</td>\n",
       "      <td>1690.568466</td>\n",
       "      <td>11.387444</td>\n",
       "    </tr>\n",
       "    <tr>\n",
       "      <th>3</th>\n",
       "      <td>2020_04</td>\n",
       "      <td>67.867017</td>\n",
       "      <td>312214.652035</td>\n",
       "      <td>2263.220639</td>\n",
       "      <td>8.902060</td>\n",
       "    </tr>\n",
       "    <tr>\n",
       "      <th>4</th>\n",
       "      <td>2020_05</td>\n",
       "      <td>73.878488</td>\n",
       "      <td>280345.499120</td>\n",
       "      <td>2474.737380</td>\n",
       "      <td>7.565749</td>\n",
       "    </tr>\n",
       "    <tr>\n",
       "      <th>5</th>\n",
       "      <td>2020_06</td>\n",
       "      <td>70.136593</td>\n",
       "      <td>457335.855945</td>\n",
       "      <td>2077.803260</td>\n",
       "      <td>13.823240</td>\n",
       "    </tr>\n",
       "    <tr>\n",
       "      <th>6</th>\n",
       "      <td>2020_07</td>\n",
       "      <td>64.140073</td>\n",
       "      <td>162328.177596</td>\n",
       "      <td>1893.409984</td>\n",
       "      <td>4.975151</td>\n",
       "    </tr>\n",
       "    <tr>\n",
       "      <th>7</th>\n",
       "      <td>2020_08</td>\n",
       "      <td>44.945276</td>\n",
       "      <td>31435.658333</td>\n",
       "      <td>1220.093911</td>\n",
       "      <td>1.578806</td>\n",
       "    </tr>\n",
       "    <tr>\n",
       "      <th>8</th>\n",
       "      <td>2020_09</td>\n",
       "      <td>68.953843</td>\n",
       "      <td>58979.669817</td>\n",
       "      <td>2313.011910</td>\n",
       "      <td>1.553640</td>\n",
       "    </tr>\n",
       "    <tr>\n",
       "      <th>9</th>\n",
       "      <td>2020_10</td>\n",
       "      <td>69.365547</td>\n",
       "      <td>29654.969430</td>\n",
       "      <td>1917.025279</td>\n",
       "      <td>1.029069</td>\n",
       "    </tr>\n",
       "    <tr>\n",
       "      <th>10</th>\n",
       "      <td>2020_11</td>\n",
       "      <td>49.586109</td>\n",
       "      <td>10211.737486</td>\n",
       "      <td>1120.845890</td>\n",
       "      <td>0.612688</td>\n",
       "    </tr>\n",
       "    <tr>\n",
       "      <th>11</th>\n",
       "      <td>2020_12</td>\n",
       "      <td>29.274145</td>\n",
       "      <td>14814.227239</td>\n",
       "      <td>654.272660</td>\n",
       "      <td>1.497561</td>\n",
       "    </tr>\n",
       "  </tbody>\n",
       "</table>\n",
       "</div>"
      ],
      "text/plain": [
       "       대여일자    평균 이용건수        평균 이동거리      평균 이용시간    평균 주행속력\n",
       "0   2020_01  26.520117  106166.820288   502.081444  13.419372\n",
       "1   2020_02  25.274444  111415.477727   551.090445  12.848209\n",
       "2   2020_03  49.504007  293833.808754  1690.568466  11.387444\n",
       "3   2020_04  67.867017  312214.652035  2263.220639   8.902060\n",
       "4   2020_05  73.878488  280345.499120  2474.737380   7.565749\n",
       "5   2020_06  70.136593  457335.855945  2077.803260  13.823240\n",
       "6   2020_07  64.140073  162328.177596  1893.409984   4.975151\n",
       "7   2020_08  44.945276   31435.658333  1220.093911   1.578806\n",
       "8   2020_09  68.953843   58979.669817  2313.011910   1.553640\n",
       "9   2020_10  69.365547   29654.969430  1917.025279   1.029069\n",
       "10  2020_11  49.586109   10211.737486  1120.845890   0.612688\n",
       "11  2020_12  29.274145   14814.227239   654.272660   1.497561"
      ]
     },
     "execution_count": 34,
     "metadata": {},
     "output_type": "execute_result"
    }
   ],
   "source": [
    "# 2020년 20대 평균 데이터셋\n",
    "bike20_mean_age02 = bike20[bike20['연령대코드']=='20대']\n",
    "\n",
    "bike20_mean_age02 = bike20_mean_age02[['대여일자','이용건수','이동거리','이용시간','주행속력']].groupby(['대여일자']).mean()\n",
    "bike20_mean_age02 = pd.DataFrame({'대여일자'   : bike20_mean_age02.index, \n",
    "                                  '평균 이용건수' : bike20_mean_age02['이용건수'], \n",
    "                                  '평균 이동거리' : bike20_mean_age02['이동거리'],\n",
    "                                  '평균 이용시간' : bike20_mean_age02['이용시간'],\n",
    "                                  '평균 주행속력' : bike20_mean_age02['주행속력']})\n",
    "bike20_mean_age02 = bike20_mean_age02.reset_index(drop=True)\n",
    "bike20_mean_age02"
   ]
  },
  {
   "cell_type": "code",
   "execution_count": 45,
   "id": "b599ad6e",
   "metadata": {},
   "outputs": [
    {
     "data": {
      "text/html": [
       "<div>\n",
       "<style scoped>\n",
       "    .dataframe tbody tr th:only-of-type {\n",
       "        vertical-align: middle;\n",
       "    }\n",
       "\n",
       "    .dataframe tbody tr th {\n",
       "        vertical-align: top;\n",
       "    }\n",
       "\n",
       "    .dataframe thead th {\n",
       "        text-align: right;\n",
       "    }\n",
       "</style>\n",
       "<table border=\"1\" class=\"dataframe\">\n",
       "  <thead>\n",
       "    <tr style=\"text-align: right;\">\n",
       "      <th></th>\n",
       "      <th>대여일자</th>\n",
       "      <th>총 이용건수</th>\n",
       "      <th>총 이동거리</th>\n",
       "      <th>총 이용시간</th>\n",
       "    </tr>\n",
       "  </thead>\n",
       "  <tbody>\n",
       "    <tr>\n",
       "      <th>0</th>\n",
       "      <td>2020_01</td>\n",
       "      <td>187520</td>\n",
       "      <td>7.685220e+08</td>\n",
       "      <td>3651648</td>\n",
       "    </tr>\n",
       "    <tr>\n",
       "      <th>1</th>\n",
       "      <td>2020_02</td>\n",
       "      <td>176534</td>\n",
       "      <td>7.749327e+08</td>\n",
       "      <td>3727529</td>\n",
       "    </tr>\n",
       "    <tr>\n",
       "      <th>2</th>\n",
       "      <td>2020_03</td>\n",
       "      <td>333664</td>\n",
       "      <td>1.863423e+09</td>\n",
       "      <td>10381928</td>\n",
       "    </tr>\n",
       "    <tr>\n",
       "      <th>3</th>\n",
       "      <td>2020_04</td>\n",
       "      <td>485148</td>\n",
       "      <td>2.110685e+09</td>\n",
       "      <td>16003381</td>\n",
       "    </tr>\n",
       "    <tr>\n",
       "      <th>4</th>\n",
       "      <td>2020_05</td>\n",
       "      <td>559575</td>\n",
       "      <td>2.013647e+09</td>\n",
       "      <td>19183104</td>\n",
       "    </tr>\n",
       "    <tr>\n",
       "      <th>5</th>\n",
       "      <td>2020_06</td>\n",
       "      <td>642052</td>\n",
       "      <td>4.855228e+09</td>\n",
       "      <td>19824259</td>\n",
       "    </tr>\n",
       "    <tr>\n",
       "      <th>6</th>\n",
       "      <td>2020_07</td>\n",
       "      <td>576365</td>\n",
       "      <td>1.467906e+09</td>\n",
       "      <td>17554626</td>\n",
       "    </tr>\n",
       "    <tr>\n",
       "      <th>7</th>\n",
       "      <td>2020_08</td>\n",
       "      <td>383188</td>\n",
       "      <td>2.503796e+08</td>\n",
       "      <td>10758373</td>\n",
       "    </tr>\n",
       "    <tr>\n",
       "      <th>8</th>\n",
       "      <td>2020_09</td>\n",
       "      <td>623389</td>\n",
       "      <td>5.093593e+08</td>\n",
       "      <td>21056049</td>\n",
       "    </tr>\n",
       "    <tr>\n",
       "      <th>9</th>\n",
       "      <td>2020_10</td>\n",
       "      <td>647601</td>\n",
       "      <td>2.794585e+08</td>\n",
       "      <td>19438976</td>\n",
       "    </tr>\n",
       "    <tr>\n",
       "      <th>10</th>\n",
       "      <td>2020_11</td>\n",
       "      <td>442090</td>\n",
       "      <td>9.241985e+07</td>\n",
       "      <td>10850744</td>\n",
       "    </tr>\n",
       "    <tr>\n",
       "      <th>11</th>\n",
       "      <td>2020_12</td>\n",
       "      <td>272138</td>\n",
       "      <td>1.415985e+08</td>\n",
       "      <td>6446738</td>\n",
       "    </tr>\n",
       "  </tbody>\n",
       "</table>\n",
       "</div>"
      ],
      "text/plain": [
       "       대여일자  총 이용건수        총 이동거리    총 이용시간\n",
       "0   2020_01  187520  7.685220e+08   3651648\n",
       "1   2020_02  176534  7.749327e+08   3727529\n",
       "2   2020_03  333664  1.863423e+09  10381928\n",
       "3   2020_04  485148  2.110685e+09  16003381\n",
       "4   2020_05  559575  2.013647e+09  19183104\n",
       "5   2020_06  642052  4.855228e+09  19824259\n",
       "6   2020_07  576365  1.467906e+09  17554626\n",
       "7   2020_08  383188  2.503796e+08  10758373\n",
       "8   2020_09  623389  5.093593e+08  21056049\n",
       "9   2020_10  647601  2.794585e+08  19438976\n",
       "10  2020_11  442090  9.241985e+07  10850744\n",
       "11  2020_12  272138  1.415985e+08   6446738"
      ]
     },
     "execution_count": 45,
     "metadata": {},
     "output_type": "execute_result"
    }
   ],
   "source": [
    "# 2020년 30대 소계 데이터 셋\n",
    "bike20_sum_age03 = bike20[bike20['연령대코드']=='30대']\n",
    "\n",
    "bike20_sum_age03 = bike20_sum_age03[['대여일자','이용건수','이동거리','이용시간']].groupby(['대여일자']).sum()\n",
    "bike20_sum_age03 = pd.DataFrame({'대여일자'    : bike20_sum_age03.index, \n",
    "                                 '총 이용건수' : bike20_sum_age03['이용건수'], \n",
    "                                 '총 이동거리' : bike20_sum_age03['이동거리'],\n",
    "                                 '총 이용시간' : bike20_sum_age03['이용시간']})\n",
    "bike20_sum_age03 = bike20_sum_age03.reset_index(drop=True)\n",
    "bike20_sum_age03"
   ]
  },
  {
   "cell_type": "code",
   "execution_count": 42,
   "id": "9f0b0f33",
   "metadata": {},
   "outputs": [
    {
     "data": {
      "text/html": [
       "<div>\n",
       "<style scoped>\n",
       "    .dataframe tbody tr th:only-of-type {\n",
       "        vertical-align: middle;\n",
       "    }\n",
       "\n",
       "    .dataframe tbody tr th {\n",
       "        vertical-align: top;\n",
       "    }\n",
       "\n",
       "    .dataframe thead th {\n",
       "        text-align: right;\n",
       "    }\n",
       "</style>\n",
       "<table border=\"1\" class=\"dataframe\">\n",
       "  <thead>\n",
       "    <tr style=\"text-align: right;\">\n",
       "      <th></th>\n",
       "      <th>대여일자</th>\n",
       "      <th>평균 이용건수</th>\n",
       "      <th>평균 이동거리</th>\n",
       "      <th>평균 이용시간</th>\n",
       "      <th>평균 주행속력</th>\n",
       "    </tr>\n",
       "  </thead>\n",
       "  <tbody>\n",
       "    <tr>\n",
       "      <th>0</th>\n",
       "      <td>2020_01</td>\n",
       "      <td>18.235923</td>\n",
       "      <td>74737.138967</td>\n",
       "      <td>355.115044</td>\n",
       "      <td>14.578716</td>\n",
       "    </tr>\n",
       "    <tr>\n",
       "      <th>1</th>\n",
       "      <td>2020_02</td>\n",
       "      <td>17.243016</td>\n",
       "      <td>75691.808947</td>\n",
       "      <td>364.087615</td>\n",
       "      <td>13.383338</td>\n",
       "    </tr>\n",
       "    <tr>\n",
       "      <th>2</th>\n",
       "      <td>2020_03</td>\n",
       "      <td>27.149227</td>\n",
       "      <td>151621.060960</td>\n",
       "      <td>844.745972</td>\n",
       "      <td>11.374633</td>\n",
       "    </tr>\n",
       "    <tr>\n",
       "      <th>3</th>\n",
       "      <td>2020_04</td>\n",
       "      <td>37.119204</td>\n",
       "      <td>161490.818669</td>\n",
       "      <td>1224.436190</td>\n",
       "      <td>8.574749</td>\n",
       "    </tr>\n",
       "    <tr>\n",
       "      <th>4</th>\n",
       "      <td>2020_05</td>\n",
       "      <td>39.867127</td>\n",
       "      <td>143463.057875</td>\n",
       "      <td>1366.707324</td>\n",
       "      <td>6.360226</td>\n",
       "    </tr>\n",
       "    <tr>\n",
       "      <th>5</th>\n",
       "      <td>2020_06</td>\n",
       "      <td>40.048154</td>\n",
       "      <td>302846.074855</td>\n",
       "      <td>1236.543101</td>\n",
       "      <td>16.381645</td>\n",
       "    </tr>\n",
       "    <tr>\n",
       "      <th>6</th>\n",
       "      <td>2020_07</td>\n",
       "      <td>35.529836</td>\n",
       "      <td>90488.570742</td>\n",
       "      <td>1082.149303</td>\n",
       "      <td>4.889210</td>\n",
       "    </tr>\n",
       "    <tr>\n",
       "      <th>7</th>\n",
       "      <td>2020_08</td>\n",
       "      <td>25.163383</td>\n",
       "      <td>16442.056327</td>\n",
       "      <td>706.486275</td>\n",
       "      <td>1.683060</td>\n",
       "    </tr>\n",
       "    <tr>\n",
       "      <th>8</th>\n",
       "      <td>2020_09</td>\n",
       "      <td>37.203927</td>\n",
       "      <td>30398.618759</td>\n",
       "      <td>1256.627417</td>\n",
       "      <td>1.557517</td>\n",
       "    </tr>\n",
       "    <tr>\n",
       "      <th>9</th>\n",
       "      <td>2020_10</td>\n",
       "      <td>38.906639</td>\n",
       "      <td>16789.334484</td>\n",
       "      <td>1167.856774</td>\n",
       "      <td>0.877112</td>\n",
       "    </tr>\n",
       "    <tr>\n",
       "      <th>10</th>\n",
       "      <td>2020_11</td>\n",
       "      <td>29.033296</td>\n",
       "      <td>6069.471705</td>\n",
       "      <td>712.598936</td>\n",
       "      <td>0.560645</td>\n",
       "    </tr>\n",
       "    <tr>\n",
       "      <th>11</th>\n",
       "      <td>2020_12</td>\n",
       "      <td>19.419010</td>\n",
       "      <td>10104.074314</td>\n",
       "      <td>460.021264</td>\n",
       "      <td>1.461207</td>\n",
       "    </tr>\n",
       "  </tbody>\n",
       "</table>\n",
       "</div>"
      ],
      "text/plain": [
       "       대여일자    평균 이용건수        평균 이동거리      평균 이용시간    평균 주행속력\n",
       "0   2020_01  18.235923   74737.138967   355.115044  14.578716\n",
       "1   2020_02  17.243016   75691.808947   364.087615  13.383338\n",
       "2   2020_03  27.149227  151621.060960   844.745972  11.374633\n",
       "3   2020_04  37.119204  161490.818669  1224.436190   8.574749\n",
       "4   2020_05  39.867127  143463.057875  1366.707324   6.360226\n",
       "5   2020_06  40.048154  302846.074855  1236.543101  16.381645\n",
       "6   2020_07  35.529836   90488.570742  1082.149303   4.889210\n",
       "7   2020_08  25.163383   16442.056327   706.486275   1.683060\n",
       "8   2020_09  37.203927   30398.618759  1256.627417   1.557517\n",
       "9   2020_10  38.906639   16789.334484  1167.856774   0.877112\n",
       "10  2020_11  29.033296    6069.471705   712.598936   0.560645\n",
       "11  2020_12  19.419010   10104.074314   460.021264   1.461207"
      ]
     },
     "execution_count": 42,
     "metadata": {},
     "output_type": "execute_result"
    }
   ],
   "source": [
    "# 2020년 30대 평균 데이터셋\n",
    "bike20_mean_age03 = bike20[bike20['연령대코드']=='30대']\n",
    "\n",
    "bike20_mean_age03 = bike20_mean_age03[['대여일자','이용건수','이동거리','이용시간','주행속력']].groupby(['대여일자']).mean()\n",
    "bike20_mean_age03 = pd.DataFrame({'대여일자'   : bike20_mean_age03.index, \n",
    "                                  '평균 이용건수' : bike20_mean_age03['이용건수'], \n",
    "                                  '평균 이동거리' : bike20_mean_age03['이동거리'],\n",
    "                                  '평균 이용시간' : bike20_mean_age03['이용시간'],\n",
    "                                  '평균 주행속력' : bike20_mean_age03['주행속력']})\n",
    "bike20_mean_age03 = bike20_mean_age03.reset_index(drop=True)\n",
    "bike20_mean_age03"
   ]
  },
  {
   "cell_type": "markdown",
   "id": "4c632caf",
   "metadata": {},
   "source": [
    "## 04) 2018년 연령대별 총 이용건수"
   ]
  },
  {
   "cell_type": "code",
   "execution_count": 15,
   "id": "a19f2145",
   "metadata": {},
   "outputs": [
    {
     "data": {
      "text/plain": [
       "<AxesSubplot:xlabel='연령대코드', ylabel='count'>"
      ]
     },
     "execution_count": 15,
     "metadata": {},
     "output_type": "execute_result"
    },
    {
     "data": {
      "image/png": "[encoded data removed]",
      "text/plain": [
       "<Figure size 432x288 with 1 Axes>"
      ]
     },
     "metadata": {
      "needs_background": "light"
     },
     "output_type": "display_data"
    }
   ],
   "source": [
    "bike18 = bike18.sort_values(by='연령대코드', ascending=True)\n",
    "sns.countplot(x='연령대코드', data=bike18)"
   ]
  },
  {
   "cell_type": "markdown",
   "id": "db00480e",
   "metadata": {},
   "source": [
    "## 05) 2018년 월별 총 이용건수 연령대별로 비교"
   ]
  },
  {
   "cell_type": "code",
   "execution_count": 20,
   "id": "1beb9136",
   "metadata": {},
   "outputs": [
    {
     "data": {
      "text/plain": [
       "(array([ 0,  1,  2,  3,  4,  5,  6,  7,  8,  9, 10, 11]),\n",
       " [Text(0, 0, '2018_01'),\n",
       "  Text(1, 0, '2018_02'),\n",
       "  Text(2, 0, '2018_03'),\n",
       "  Text(3, 0, '2018_04'),\n",
       "  Text(4, 0, '2018_05'),\n",
       "  Text(5, 0, '2018_06'),\n",
       "  Text(6, 0, '2018_07'),\n",
       "  Text(7, 0, '2018_08'),\n",
       "  Text(8, 0, '2018_09'),\n",
       "  Text(9, 0, '2018_10'),\n",
       "  Text(10, 0, '2018_11'),\n",
       "  Text(11, 0, '2018_12')])"
      ]
     },
     "execution_count": 20,
     "metadata": {},
     "output_type": "execute_result"
    },
    {
     "data": {
      "image/png": "[encoded data removed]",
      "text/plain": [
       "<Figure size 432x288 with 1 Axes>"
      ]
     },
     "metadata": {
      "needs_background": "light"
     },
     "output_type": "display_data"
    }
   ],
   "source": [
    "bike18 = bike18.sort_values(by='대여일자', ascending=True)\n",
    "sns.countplot(x='대여일자',hue='연령대코드', data=bike18)\n",
    "plt.xticks(rotation=30)"
   ]
  },
  {
   "cell_type": "markdown",
   "id": "d5c006e5",
   "metadata": {},
   "source": [
    "## 06) 2019년 2020년 20대의 총 이용건수 비교"
   ]
  },
  {
   "cell_type": "code",
   "execution_count": 38,
   "id": "1cbb5b93",
   "metadata": {},
   "outputs": [
    {
     "data": {
      "text/html": [
       "<div>\n",
       "<style scoped>\n",
       "    .dataframe tbody tr th:only-of-type {\n",
       "        vertical-align: middle;\n",
       "    }\n",
       "\n",
       "    .dataframe tbody tr th {\n",
       "        vertical-align: top;\n",
       "    }\n",
       "\n",
       "    .dataframe thead th {\n",
       "        text-align: right;\n",
       "    }\n",
       "</style>\n",
       "<table border=\"1\" class=\"dataframe\">\n",
       "  <thead>\n",
       "    <tr style=\"text-align: right;\">\n",
       "      <th></th>\n",
       "      <th>Month</th>\n",
       "      <th>19년_20대 총 이용건수</th>\n",
       "      <th>20년_20대 총 이용건수</th>\n",
       "    </tr>\n",
       "  </thead>\n",
       "  <tbody>\n",
       "    <tr>\n",
       "      <th>0</th>\n",
       "      <td>Jan</td>\n",
       "      <td>201802</td>\n",
       "      <td>326277</td>\n",
       "    </tr>\n",
       "    <tr>\n",
       "      <th>1</th>\n",
       "      <td>Feb</td>\n",
       "      <td>201443</td>\n",
       "      <td>317169</td>\n",
       "    </tr>\n",
       "    <tr>\n",
       "      <th>2</th>\n",
       "      <td>Mar</td>\n",
       "      <td>421777</td>\n",
       "      <td>704244</td>\n",
       "    </tr>\n",
       "    <tr>\n",
       "      <th>3</th>\n",
       "      <td>Apr</td>\n",
       "      <td>716136</td>\n",
       "      <td>995677</td>\n",
       "    </tr>\n",
       "    <tr>\n",
       "      <th>4</th>\n",
       "      <td>May</td>\n",
       "      <td>1100571</td>\n",
       "      <td>1164916</td>\n",
       "    </tr>\n",
       "    <tr>\n",
       "      <th>5</th>\n",
       "      <td>Jun</td>\n",
       "      <td>1149248</td>\n",
       "      <td>1278029</td>\n",
       "    </tr>\n",
       "    <tr>\n",
       "      <th>6</th>\n",
       "      <td>Jul</td>\n",
       "      <td>1068924</td>\n",
       "      <td>1184603</td>\n",
       "    </tr>\n",
       "    <tr>\n",
       "      <th>7</th>\n",
       "      <td>Aug</td>\n",
       "      <td>1041427</td>\n",
       "      <td>786812</td>\n",
       "    </tr>\n",
       "    <tr>\n",
       "      <th>8</th>\n",
       "      <td>Sep</td>\n",
       "      <td>1022525</td>\n",
       "      <td>1302676</td>\n",
       "    </tr>\n",
       "    <tr>\n",
       "      <th>9</th>\n",
       "      <td>Oct</td>\n",
       "      <td>1151041</td>\n",
       "      <td>1286939</td>\n",
       "    </tr>\n",
       "    <tr>\n",
       "      <th>10</th>\n",
       "      <td>Nov</td>\n",
       "      <td>685450</td>\n",
       "      <td>851691</td>\n",
       "    </tr>\n",
       "    <tr>\n",
       "      <th>11</th>\n",
       "      <td>Dec</td>\n",
       "      <td>360026</td>\n",
       "      <td>473158</td>\n",
       "    </tr>\n",
       "  </tbody>\n",
       "</table>\n",
       "</div>"
      ],
      "text/plain": [
       "   Month  19년_20대 총 이용건수  20년_20대 총 이용건수\n",
       "0    Jan          201802          326277\n",
       "1    Feb          201443          317169\n",
       "2    Mar          421777          704244\n",
       "3    Apr          716136          995677\n",
       "4    May         1100571         1164916\n",
       "5    Jun         1149248         1278029\n",
       "6    Jul         1068924         1184603\n",
       "7    Aug         1041427          786812\n",
       "8    Sep         1022525         1302676\n",
       "9    Oct         1151041         1286939\n",
       "10   Nov          685450          851691\n",
       "11   Dec          360026          473158"
      ]
     },
     "execution_count": 38,
     "metadata": {},
     "output_type": "execute_result"
    }
   ],
   "source": [
    "# '2019년 20대의 총 이용건수'와 '2020년 20대의 총 이용건수'를 하나의 데이터 프레임으로 merge\n",
    "bike_merge_sum_age02 = pd.DataFrame({'Month'   : ['Jan','Feb','Mar','Apr','May','Jun','Jul','Aug','Sep','Oct','Nov','Dec'], \n",
    "                               '19년_20대 총 이용건수' : bike19_sum_age02['총 이용건수'], \n",
    "                               '20년_20대 총 이용건수' : bike20_sum_age02['총 이용건수']})\n",
    "bike_merge_sum_age02 = bike_merge_sum_age02.reset_index(drop=True)\n",
    "bike_merge_sum_age02"
   ]
  },
  {
   "cell_type": "code",
   "execution_count": 40,
   "id": "1ce766e0",
   "metadata": {},
   "outputs": [
    {
     "data": {
      "application/vnd.plotly.v1+json": {
       "config": {
        "linkText": "Export to plot.ly",
        "plotlyServerURL": "https://plot.ly",
        "showLink": true
       },
       "data": [
        {
         "line": {
          "color": "rgba(255, 153, 51, 1.0)",
          "dash": "solid",
          "shape": "linear",
          "width": 1.3
         },
         "mode": "lines",
         "name": "19년_20대 총 이용건수",
         "text": "",
         "type": "scatter",
         "x": [
          "Jan",
          "Feb",
          "Mar",
          "Apr",
          "May",
          "Jun",
          "Jul",
          "Aug",
          "Sep",
          "Oct",
          "Nov",
          "Dec"
         ],
         "y": [
          201802,
          201443,
          421777,
          716136,
          1100571,
          1149248,
          1068924,
          1041427,
          1022525,
          1151041,
          685450,
          360026
         ]
        },
        {
         "line": {
          "color": "rgba(55, 128, 191, 1.0)",
          "dash": "solid",
          "shape": "linear",
          "width": 1.3
         },
         "mode": "lines",
         "name": "20년_20대 총 이용건수",
         "text": "",
         "type": "scatter",
         "x": [
          "Jan",
          "Feb",
          "Mar",
          "Apr",
          "May",
          "Jun",
          "Jul",
          "Aug",
          "Sep",
          "Oct",
          "Nov",
          "Dec"
         ],
         "y": [
          326277,
          317169,
          704244,
          995677,
          1164916,
          1278029,
          1184603,
          786812,
          1302676,
          1286939,
          851691,
          473158
         ]
        }
       ],
       "layout": {
        "legend": {
         "bgcolor": "#1A1A1C",
         "font": {
          "color": "#D9D9D9"
         }
        },
        "paper_bgcolor": "#1A1A1C",
        "plot_bgcolor": "#1A1A1C",
        "template": {
         "data": {
          "bar": [
           {
            "error_x": {
             "color": "#2a3f5f"
            },
            "error_y": {
             "color": "#2a3f5f"
            },
            "marker": {
             "line": {
              "color": "#E5ECF6",
              "width": 0.5
             },
             "pattern": {
              "fillmode": "overlay",
              "size": 10,
              "solidity": 0.2
             }
            },
            "type": "bar"
           }
          ],
          "barpolar": [
           {
            "marker": {
             "line": {
              "color": "#E5ECF6",
              "width": 0.5
             },
             "pattern": {
              "fillmode": "overlay",
              "size": 10,
              "solidity": 0.2
             }
            },
            "type": "barpolar"
           }
          ],
          "carpet": [
           {
            "aaxis": {
             "endlinecolor": "#2a3f5f",
             "gridcolor": "white",
             "linecolor": "white",
             "minorgridcolor": "white",
             "startlinecolor": "#2a3f5f"
            },
            "baxis": {
             "endlinecolor": "#2a3f5f",
             "gridcolor": "white",
             "linecolor": "white",
             "minorgridcolor": "white",
             "startlinecolor": "#2a3f5f"
            },
            "type": "carpet"
           }
          ],
          "choropleth": [
           {
            "colorbar": {
             "outlinewidth": 0,
             "ticks": ""
            },
            "type": "choropleth"
           }
          ],
          "contour": [
           {
            "colorbar": {
             "outlinewidth": 0,
             "ticks": ""
            },
            "colorscale": [
             [
              0,
              "#0d0887"
             ],
             [
              0.1111111111111111,
              "#46039f"
             ],
             [
              0.2222222222222222,
              "#7201a8"
             ],
             [
              0.3333333333333333,
              "#9c179e"
             ],
             [
              0.4444444444444444,
              "#bd3786"
             ],
             [
              0.5555555555555556,
              "#d8576b"
             ],
             [
              0.6666666666666666,
              "#ed7953"
             ],
             [
              0.7777777777777778,
              "#fb9f3a"
             ],
             [
              0.8888888888888888,
              "#fdca26"
             ],
             [
              1,
              "#f0f921"
             ]
            ],
            "type": "contour"
           }
          ],
          "contourcarpet": [
           {
            "colorbar": {
             "outlinewidth": 0,
             "ticks": ""
            },
            "type": "contourcarpet"
           }
          ],
          "heatmap": [
           {
            "colorbar": {
             "outlinewidth": 0,
             "ticks": ""
            },
            "colorscale": [
             [
              0,
              "#0d0887"
             ],
             [
              0.1111111111111111,
              "#46039f"
             ],
             [
              0.2222222222222222,
              "#7201a8"
             ],
             [
              0.3333333333333333,
              "#9c179e"
             ],
             [
              0.4444444444444444,
              "#bd3786"
             ],
             [
              0.5555555555555556,
              "#d8576b"
             ],
             [
              0.6666666666666666,
              "#ed7953"
             ],
             [
              0.7777777777777778,
              "#fb9f3a"
             ],
             [
              0.8888888888888888,
              "#fdca26"
             ],
             [
              1,
              "#f0f921"
             ]
            ],
            "type": "heatmap"
           }
          ],
          "heatmapgl": [
           {
            "colorbar": {
             "outlinewidth": 0,
             "ticks": ""
            },
            "colorscale": [
             [
              0,
              "#0d0887"
             ],
             [
              0.1111111111111111,
              "#46039f"
             ],
             [
              0.2222222222222222,
              "#7201a8"
             ],
             [
              0.3333333333333333,
              "#9c179e"
             ],
             [
              0.4444444444444444,
              "#bd3786"
             ],
             [
              0.5555555555555556,
              "#d8576b"
             ],
             [
              0.6666666666666666,
              "#ed7953"
             ],
             [
              0.7777777777777778,
              "#fb9f3a"
             ],
             [
              0.8888888888888888,
              "#fdca26"
             ],
             [
              1,
              "#f0f921"
             ]
            ],
            "type": "heatmapgl"
           }
          ],
          "histogram": [
           {
            "marker": {
             "pattern": {
              "fillmode": "overlay",
              "size": 10,
              "solidity": 0.2
             }
            },
            "type": "histogram"
           }
          ],
          "histogram2d": [
           {
            "colorbar": {
             "outlinewidth": 0,
             "ticks": ""
            },
            "colorscale": [
             [
              0,
              "#0d0887"
             ],
             [
              0.1111111111111111,
              "#46039f"
             ],
             [
              0.2222222222222222,
              "#7201a8"
             ],
             [
              0.3333333333333333,
              "#9c179e"
             ],
             [
              0.4444444444444444,
              "#bd3786"
             ],
             [
              0.5555555555555556,
              "#d8576b"
             ],
             [
              0.6666666666666666,
              "#ed7953"
             ],
             [
              0.7777777777777778,
              "#fb9f3a"
             ],
             [
              0.8888888888888888,
              "#fdca26"
             ],
             [
              1,
              "#f0f921"
             ]
            ],
            "type": "histogram2d"
           }
          ],
          "histogram2dcontour": [
           {
            "colorbar": {
             "outlinewidth": 0,
             "ticks": ""
            },
            "colorscale": [
             [
              0,
              "#0d0887"
             ],
             [
              0.1111111111111111,
              "#46039f"
             ],
             [
              0.2222222222222222,
              "#7201a8"
             ],
             [
              0.3333333333333333,
              "#9c179e"
             ],
             [
              0.4444444444444444,
              "#bd3786"
             ],
             [
              0.5555555555555556,
              "#d8576b"
             ],
             [
              0.6666666666666666,
              "#ed7953"
             ],
             [
              0.7777777777777778,
              "#fb9f3a"
             ],
             [
              0.8888888888888888,
              "#fdca26"
             ],
             [
              1,
              "#f0f921"
             ]
            ],
            "type": "histogram2dcontour"
           }
          ],
          "mesh3d": [
           {
            "colorbar": {
             "outlinewidth": 0,
             "ticks": ""
            },
            "type": "mesh3d"
           }
          ],
          "parcoords": [
           {
            "line": {
             "colorbar": {
              "outlinewidth": 0,
              "ticks": ""
             }
            },
            "type": "parcoords"
           }
          ],
          "pie": [
           {
            "automargin": true,
            "type": "pie"
           }
          ],
          "scatter": [
           {
            "marker": {
             "colorbar": {
              "outlinewidth": 0,
              "ticks": ""
             }
            },
            "type": "scatter"
           }
          ],
          "scatter3d": [
           {
            "line": {
             "colorbar": {
              "outlinewidth": 0,
              "ticks": ""
             }
            },
            "marker": {
             "colorbar": {
              "outlinewidth": 0,
              "ticks": ""
             }
            },
            "type": "scatter3d"
           }
          ],
          "scattercarpet": [
           {
            "marker": {
             "colorbar": {
              "outlinewidth": 0,
              "ticks": ""
             }
            },
            "type": "scattercarpet"
           }
          ],
          "scattergeo": [
           {
            "marker": {
             "colorbar": {
              "outlinewidth": 0,
              "ticks": ""
             }
            },
            "type": "scattergeo"
           }
          ],
          "scattergl": [
           {
            "marker": {
             "colorbar": {
              "outlinewidth": 0,
              "ticks": ""
             }
            },
            "type": "scattergl"
           }
          ],
          "scattermapbox": [
           {
            "marker": {
             "colorbar": {
              "outlinewidth": 0,
              "ticks": ""
             }
            },
            "type": "scattermapbox"
           }
          ],
          "scatterpolar": [
           {
            "marker": {
             "colorbar": {
              "outlinewidth": 0,
              "ticks": ""
             }
            },
            "type": "scatterpolar"
           }
          ],
          "scatterpolargl": [
           {
            "marker": {
             "colorbar": {
              "outlinewidth": 0,
              "ticks": ""
             }
            },
            "type": "scatterpolargl"
           }
          ],
          "scatterternary": [
           {
            "marker": {
             "colorbar": {
              "outlinewidth": 0,
              "ticks": ""
             }
            },
            "type": "scatterternary"
           }
          ],
          "surface": [
           {
            "colorbar": {
             "outlinewidth": 0,
             "ticks": ""
            },
            "colorscale": [
             [
              0,
              "#0d0887"
             ],
             [
              0.1111111111111111,
              "#46039f"
             ],
             [
              0.2222222222222222,
              "#7201a8"
             ],
             [
              0.3333333333333333,
              "#9c179e"
             ],
             [
              0.4444444444444444,
              "#bd3786"
             ],
             [
              0.5555555555555556,
              "#d8576b"
             ],
             [
              0.6666666666666666,
              "#ed7953"
             ],
             [
              0.7777777777777778,
              "#fb9f3a"
             ],
             [
              0.8888888888888888,
              "#fdca26"
             ],
             [
              1,
              "#f0f921"
             ]
            ],
            "type": "surface"
           }
          ],
          "table": [
           {
            "cells": {
             "fill": {
              "color": "#EBF0F8"
             },
             "line": {
              "color": "white"
             }
            },
            "header": {
             "fill": {
              "color": "#C8D4E3"
             },
             "line": {
              "color": "white"
             }
            },
            "type": "table"
           }
          ]
         },
         "layout": {
          "annotationdefaults": {
           "arrowcolor": "#2a3f5f",
           "arrowhead": 0,
           "arrowwidth": 1
          },
          "autotypenumbers": "strict",
          "coloraxis": {
           "colorbar": {
            "outlinewidth": 0,
            "ticks": ""
           }
          },
          "colorscale": {
           "diverging": [
            [
             0,
             "#8e0152"
            ],
            [
             0.1,
             "#c51b7d"
            ],
            [
             0.2,
             "#de77ae"
            ],
            [
             0.3,
             "#f1b6da"
            ],
            [
             0.4,
             "#fde0ef"
            ],
            [
             0.5,
             "#f7f7f7"
            ],
            [
             0.6,
             "#e6f5d0"
            ],
            [
             0.7,
             "#b8e186"
            ],
            [
             0.8,
             "#7fbc41"
            ],
            [
             0.9,
             "#4d9221"
            ],
            [
             1,
             "#276419"
            ]
           ],
           "sequential": [
            [
             0,
             "#0d0887"
            ],
            [
             0.1111111111111111,
             "#46039f"
            ],
            [
             0.2222222222222222,
             "#7201a8"
            ],
            [
             0.3333333333333333,
             "#9c179e"
            ],
            [
             0.4444444444444444,
             "#bd3786"
            ],
            [
             0.5555555555555556,
             "#d8576b"
            ],
            [
             0.6666666666666666,
             "#ed7953"
            ],
            [
             0.7777777777777778,
             "#fb9f3a"
            ],
            [
             0.8888888888888888,
             "#fdca26"
            ],
            [
             1,
             "#f0f921"
            ]
           ],
           "sequentialminus": [
            [
             0,
             "#0d0887"
            ],
            [
             0.1111111111111111,
             "#46039f"
            ],
            [
             0.2222222222222222,
             "#7201a8"
            ],
            [
             0.3333333333333333,
             "#9c179e"
            ],
            [
             0.4444444444444444,
             "#bd3786"
            ],
            [
             0.5555555555555556,
             "#d8576b"
            ],
            [
             0.6666666666666666,
             "#ed7953"
            ],
            [
             0.7777777777777778,
             "#fb9f3a"
            ],
            [
             0.8888888888888888,
             "#fdca26"
            ],
            [
             1,
             "#f0f921"
            ]
           ]
          },
          "colorway": [
           "#636efa",
           "#EF553B",
           "#00cc96",
           "#ab63fa",
           "#FFA15A",
           "#19d3f3",
           "#FF6692",
           "#B6E880",
           "#FF97FF",
           "#FECB52"
          ],
          "font": {
           "color": "#2a3f5f"
          },
          "geo": {
           "bgcolor": "white",
           "lakecolor": "white",
           "landcolor": "#E5ECF6",
           "showlakes": true,
           "showland": true,
           "subunitcolor": "white"
          },
          "hoverlabel": {
           "align": "left"
          },
          "hovermode": "closest",
          "mapbox": {
           "style": "light"
          },
          "paper_bgcolor": "white",
          "plot_bgcolor": "#E5ECF6",
          "polar": {
           "angularaxis": {
            "gridcolor": "white",
            "linecolor": "white",
            "ticks": ""
           },
           "bgcolor": "#E5ECF6",
           "radialaxis": {
            "gridcolor": "white",
            "linecolor": "white",
            "ticks": ""
           }
          },
          "scene": {
           "xaxis": {
            "backgroundcolor": "#E5ECF6",
            "gridcolor": "white",
            "gridwidth": 2,
            "linecolor": "white",
            "showbackground": true,
            "ticks": "",
            "zerolinecolor": "white"
           },
           "yaxis": {
            "backgroundcolor": "#E5ECF6",
            "gridcolor": "white",
            "gridwidth": 2,
            "linecolor": "white",
            "showbackground": true,
            "ticks": "",
            "zerolinecolor": "white"
           },
           "zaxis": {
            "backgroundcolor": "#E5ECF6",
            "gridcolor": "white",
            "gridwidth": 2,
            "linecolor": "white",
            "showbackground": true,
            "ticks": "",
            "zerolinecolor": "white"
           }
          },
          "shapedefaults": {
           "line": {
            "color": "#2a3f5f"
           }
          },
          "ternary": {
           "aaxis": {
            "gridcolor": "white",
            "linecolor": "white",
            "ticks": ""
           },
           "baxis": {
            "gridcolor": "white",
            "linecolor": "white",
            "ticks": ""
           },
           "bgcolor": "#E5ECF6",
           "caxis": {
            "gridcolor": "white",
            "linecolor": "white",
            "ticks": ""
           }
          },
          "title": {
           "x": 0.05
          },
          "xaxis": {
           "automargin": true,
           "gridcolor": "white",
           "linecolor": "white",
           "ticks": "",
           "title": {
            "standoff": 15
           },
           "zerolinecolor": "white",
           "zerolinewidth": 2
          },
          "yaxis": {
           "automargin": true,
           "gridcolor": "white",
           "linecolor": "white",
           "ticks": "",
           "title": {
            "standoff": 15
           },
           "zerolinecolor": "white",
           "zerolinewidth": 2
          }
         }
        },
        "title": {
         "font": {
          "color": "#D9D9D9"
         }
        },
        "xaxis": {
         "gridcolor": "#434343",
         "showgrid": true,
         "tickfont": {
          "color": "#C2C2C2"
         },
         "title": {
          "font": {
           "color": "#D9D9D9"
          },
          "text": ""
         },
         "zerolinecolor": "#666570"
        },
        "yaxis": {
         "gridcolor": "#434343",
         "showgrid": true,
         "tickfont": {
          "color": "#C2C2C2"
         },
         "title": {
          "font": {
           "color": "#D9D9D9"
          },
          "text": ""
         },
         "zerolinecolor": "#666570"
        }
       }
      },
      "text/html": [
       "<div>                            <div id=\"85a64e96-4eb0-4a0b-a432-d6b51d9943ce\" class=\"plotly-graph-div\" style=\"height:525px; width:100%;\"></div>            <script type=\"text/javascript\">                require([\"plotly\"], function(Plotly) {                    window.PLOTLYENV=window.PLOTLYENV || {};\n",
       "                    window.PLOTLYENV.BASE_URL='https://plot.ly';                                    if (document.getElementById(\"85a64e96-4eb0-4a0b-a432-d6b51d9943ce\")) {                    Plotly.newPlot(                        \"85a64e96-4eb0-4a0b-a432-d6b51d9943ce\",                        [{\"line\":{\"color\":\"rgba(255, 153, 51, 1.0)\",\"dash\":\"solid\",\"shape\":\"linear\",\"width\":1.3},\"mode\":\"lines\",\"name\":\"19\\ub144_20\\ub300 \\ucd1d \\uc774\\uc6a9\\uac74\\uc218\",\"text\":\"\",\"type\":\"scatter\",\"x\":[\"Jan\",\"Feb\",\"Mar\",\"Apr\",\"May\",\"Jun\",\"Jul\",\"Aug\",\"Sep\",\"Oct\",\"Nov\",\"Dec\"],\"y\":[201802,201443,421777,716136,1100571,1149248,1068924,1041427,1022525,1151041,685450,360026]},{\"line\":{\"color\":\"rgba(55, 128, 191, 1.0)\",\"dash\":\"solid\",\"shape\":\"linear\",\"width\":1.3},\"mode\":\"lines\",\"name\":\"20\\ub144_20\\ub300 \\ucd1d \\uc774\\uc6a9\\uac74\\uc218\",\"text\":\"\",\"type\":\"scatter\",\"x\":[\"Jan\",\"Feb\",\"Mar\",\"Apr\",\"May\",\"Jun\",\"Jul\",\"Aug\",\"Sep\",\"Oct\",\"Nov\",\"Dec\"],\"y\":[326277,317169,704244,995677,1164916,1278029,1184603,786812,1302676,1286939,851691,473158]}],                        {\"legend\":{\"bgcolor\":\"#1A1A1C\",\"font\":{\"color\":\"#D9D9D9\"}},\"paper_bgcolor\":\"#1A1A1C\",\"plot_bgcolor\":\"#1A1A1C\",\"template\":{\"data\":{\"bar\":[{\"error_x\":{\"color\":\"#2a3f5f\"},\"error_y\":{\"color\":\"#2a3f5f\"},\"marker\":{\"line\":{\"color\":\"#E5ECF6\",\"width\":0.5},\"pattern\":{\"fillmode\":\"overlay\",\"size\":10,\"solidity\":0.2}},\"type\":\"bar\"}],\"barpolar\":[{\"marker\":{\"line\":{\"color\":\"#E5ECF6\",\"width\":0.5},\"pattern\":{\"fillmode\":\"overlay\",\"size\":10,\"solidity\":0.2}},\"type\":\"barpolar\"}],\"carpet\":[{\"aaxis\":{\"endlinecolor\":\"#2a3f5f\",\"gridcolor\":\"white\",\"linecolor\":\"white\",\"minorgridcolor\":\"white\",\"startlinecolor\":\"#2a3f5f\"},\"baxis\":{\"endlinecolor\":\"#2a3f5f\",\"gridcolor\":\"white\",\"linecolor\":\"white\",\"minorgridcolor\":\"white\",\"startlinecolor\":\"#2a3f5f\"},\"type\":\"carpet\"}],\"choropleth\":[{\"colorbar\":{\"outlinewidth\":0,\"ticks\":\"\"},\"type\":\"choropleth\"}],\"contour\":[{\"colorbar\":{\"outlinewidth\":0,\"ticks\":\"\"},\"colorscale\":[[0.0,\"#0d0887\"],[0.1111111111111111,\"#46039f\"],[0.2222222222222222,\"#7201a8\"],[0.3333333333333333,\"#9c179e\"],[0.4444444444444444,\"#bd3786\"],[0.5555555555555556,\"#d8576b\"],[0.6666666666666666,\"#ed7953\"],[0.7777777777777778,\"#fb9f3a\"],[0.8888888888888888,\"#fdca26\"],[1.0,\"#f0f921\"]],\"type\":\"contour\"}],\"contourcarpet\":[{\"colorbar\":{\"outlinewidth\":0,\"ticks\":\"\"},\"type\":\"contourcarpet\"}],\"heatmap\":[{\"colorbar\":{\"outlinewidth\":0,\"ticks\":\"\"},\"colorscale\":[[0.0,\"#0d0887\"],[0.1111111111111111,\"#46039f\"],[0.2222222222222222,\"#7201a8\"],[0.3333333333333333,\"#9c179e\"],[0.4444444444444444,\"#bd3786\"],[0.5555555555555556,\"#d8576b\"],[0.6666666666666666,\"#ed7953\"],[0.7777777777777778,\"#fb9f3a\"],[0.8888888888888888,\"#fdca26\"],[1.0,\"#f0f921\"]],\"type\":\"heatmap\"}],\"heatmapgl\":[{\"colorbar\":{\"outlinewidth\":0,\"ticks\":\"\"},\"colorscale\":[[0.0,\"#0d0887\"],[0.1111111111111111,\"#46039f\"],[0.2222222222222222,\"#7201a8\"],[0.3333333333333333,\"#9c179e\"],[0.4444444444444444,\"#bd3786\"],[0.5555555555555556,\"#d8576b\"],[0.6666666666666666,\"#ed7953\"],[0.7777777777777778,\"#fb9f3a\"],[0.8888888888888888,\"#fdca26\"],[1.0,\"#f0f921\"]],\"type\":\"heatmapgl\"}],\"histogram\":[{\"marker\":{\"pattern\":{\"fillmode\":\"overlay\",\"size\":10,\"solidity\":0.2}},\"type\":\"histogram\"}],\"histogram2d\":[{\"colorbar\":{\"outlinewidth\":0,\"ticks\":\"\"},\"colorscale\":[[0.0,\"#0d0887\"],[0.1111111111111111,\"#46039f\"],[0.2222222222222222,\"#7201a8\"],[0.3333333333333333,\"#9c179e\"],[0.4444444444444444,\"#bd3786\"],[0.5555555555555556,\"#d8576b\"],[0.6666666666666666,\"#ed7953\"],[0.7777777777777778,\"#fb9f3a\"],[0.8888888888888888,\"#fdca26\"],[1.0,\"#f0f921\"]],\"type\":\"histogram2d\"}],\"histogram2dcontour\":[{\"colorbar\":{\"outlinewidth\":0,\"ticks\":\"\"},\"colorscale\":[[0.0,\"#0d0887\"],[0.1111111111111111,\"#46039f\"],[0.2222222222222222,\"#7201a8\"],[0.3333333333333333,\"#9c179e\"],[0.4444444444444444,\"#bd3786\"],[0.5555555555555556,\"#d8576b\"],[0.6666666666666666,\"#ed7953\"],[0.7777777777777778,\"#fb9f3a\"],[0.8888888888888888,\"#fdca26\"],[1.0,\"#f0f921\"]],\"type\":\"histogram2dcontour\"}],\"mesh3d\":[{\"colorbar\":{\"outlinewidth\":0,\"ticks\":\"\"},\"type\":\"mesh3d\"}],\"parcoords\":[{\"line\":{\"colorbar\":{\"outlinewidth\":0,\"ticks\":\"\"}},\"type\":\"parcoords\"}],\"pie\":[{\"automargin\":true,\"type\":\"pie\"}],\"scatter\":[{\"marker\":{\"colorbar\":{\"outlinewidth\":0,\"ticks\":\"\"}},\"type\":\"scatter\"}],\"scatter3d\":[{\"line\":{\"colorbar\":{\"outlinewidth\":0,\"ticks\":\"\"}},\"marker\":{\"colorbar\":{\"outlinewidth\":0,\"ticks\":\"\"}},\"type\":\"scatter3d\"}],\"scattercarpet\":[{\"marker\":{\"colorbar\":{\"outlinewidth\":0,\"ticks\":\"\"}},\"type\":\"scattercarpet\"}],\"scattergeo\":[{\"marker\":{\"colorbar\":{\"outlinewidth\":0,\"ticks\":\"\"}},\"type\":\"scattergeo\"}],\"scattergl\":[{\"marker\":{\"colorbar\":{\"outlinewidth\":0,\"ticks\":\"\"}},\"type\":\"scattergl\"}],\"scattermapbox\":[{\"marker\":{\"colorbar\":{\"outlinewidth\":0,\"ticks\":\"\"}},\"type\":\"scattermapbox\"}],\"scatterpolar\":[{\"marker\":{\"colorbar\":{\"outlinewidth\":0,\"ticks\":\"\"}},\"type\":\"scatterpolar\"}],\"scatterpolargl\":[{\"marker\":{\"colorbar\":{\"outlinewidth\":0,\"ticks\":\"\"}},\"type\":\"scatterpolargl\"}],\"scatterternary\":[{\"marker\":{\"colorbar\":{\"outlinewidth\":0,\"ticks\":\"\"}},\"type\":\"scatterternary\"}],\"surface\":[{\"colorbar\":{\"outlinewidth\":0,\"ticks\":\"\"},\"colorscale\":[[0.0,\"#0d0887\"],[0.1111111111111111,\"#46039f\"],[0.2222222222222222,\"#7201a8\"],[0.3333333333333333,\"#9c179e\"],[0.4444444444444444,\"#bd3786\"],[0.5555555555555556,\"#d8576b\"],[0.6666666666666666,\"#ed7953\"],[0.7777777777777778,\"#fb9f3a\"],[0.8888888888888888,\"#fdca26\"],[1.0,\"#f0f921\"]],\"type\":\"surface\"}],\"table\":[{\"cells\":{\"fill\":{\"color\":\"#EBF0F8\"},\"line\":{\"color\":\"white\"}},\"header\":{\"fill\":{\"color\":\"#C8D4E3\"},\"line\":{\"color\":\"white\"}},\"type\":\"table\"}]},\"layout\":{\"annotationdefaults\":{\"arrowcolor\":\"#2a3f5f\",\"arrowhead\":0,\"arrowwidth\":1},\"autotypenumbers\":\"strict\",\"coloraxis\":{\"colorbar\":{\"outlinewidth\":0,\"ticks\":\"\"}},\"colorscale\":{\"diverging\":[[0,\"#8e0152\"],[0.1,\"#c51b7d\"],[0.2,\"#de77ae\"],[0.3,\"#f1b6da\"],[0.4,\"#fde0ef\"],[0.5,\"#f7f7f7\"],[0.6,\"#e6f5d0\"],[0.7,\"#b8e186\"],[0.8,\"#7fbc41\"],[0.9,\"#4d9221\"],[1,\"#276419\"]],\"sequential\":[[0.0,\"#0d0887\"],[0.1111111111111111,\"#46039f\"],[0.2222222222222222,\"#7201a8\"],[0.3333333333333333,\"#9c179e\"],[0.4444444444444444,\"#bd3786\"],[0.5555555555555556,\"#d8576b\"],[0.6666666666666666,\"#ed7953\"],[0.7777777777777778,\"#fb9f3a\"],[0.8888888888888888,\"#fdca26\"],[1.0,\"#f0f921\"]],\"sequentialminus\":[[0.0,\"#0d0887\"],[0.1111111111111111,\"#46039f\"],[0.2222222222222222,\"#7201a8\"],[0.3333333333333333,\"#9c179e\"],[0.4444444444444444,\"#bd3786\"],[0.5555555555555556,\"#d8576b\"],[0.6666666666666666,\"#ed7953\"],[0.7777777777777778,\"#fb9f3a\"],[0.8888888888888888,\"#fdca26\"],[1.0,\"#f0f921\"]]},\"colorway\":[\"#636efa\",\"#EF553B\",\"#00cc96\",\"#ab63fa\",\"#FFA15A\",\"#19d3f3\",\"#FF6692\",\"#B6E880\",\"#FF97FF\",\"#FECB52\"],\"font\":{\"color\":\"#2a3f5f\"},\"geo\":{\"bgcolor\":\"white\",\"lakecolor\":\"white\",\"landcolor\":\"#E5ECF6\",\"showlakes\":true,\"showland\":true,\"subunitcolor\":\"white\"},\"hoverlabel\":{\"align\":\"left\"},\"hovermode\":\"closest\",\"mapbox\":{\"style\":\"light\"},\"paper_bgcolor\":\"white\",\"plot_bgcolor\":\"#E5ECF6\",\"polar\":{\"angularaxis\":{\"gridcolor\":\"white\",\"linecolor\":\"white\",\"ticks\":\"\"},\"bgcolor\":\"#E5ECF6\",\"radialaxis\":{\"gridcolor\":\"white\",\"linecolor\":\"white\",\"ticks\":\"\"}},\"scene\":{\"xaxis\":{\"backgroundcolor\":\"#E5ECF6\",\"gridcolor\":\"white\",\"gridwidth\":2,\"linecolor\":\"white\",\"showbackground\":true,\"ticks\":\"\",\"zerolinecolor\":\"white\"},\"yaxis\":{\"backgroundcolor\":\"#E5ECF6\",\"gridcolor\":\"white\",\"gridwidth\":2,\"linecolor\":\"white\",\"showbackground\":true,\"ticks\":\"\",\"zerolinecolor\":\"white\"},\"zaxis\":{\"backgroundcolor\":\"#E5ECF6\",\"gridcolor\":\"white\",\"gridwidth\":2,\"linecolor\":\"white\",\"showbackground\":true,\"ticks\":\"\",\"zerolinecolor\":\"white\"}},\"shapedefaults\":{\"line\":{\"color\":\"#2a3f5f\"}},\"ternary\":{\"aaxis\":{\"gridcolor\":\"white\",\"linecolor\":\"white\",\"ticks\":\"\"},\"baxis\":{\"gridcolor\":\"white\",\"linecolor\":\"white\",\"ticks\":\"\"},\"bgcolor\":\"#E5ECF6\",\"caxis\":{\"gridcolor\":\"white\",\"linecolor\":\"white\",\"ticks\":\"\"}},\"title\":{\"x\":0.05},\"xaxis\":{\"automargin\":true,\"gridcolor\":\"white\",\"linecolor\":\"white\",\"ticks\":\"\",\"title\":{\"standoff\":15},\"zerolinecolor\":\"white\",\"zerolinewidth\":2},\"yaxis\":{\"automargin\":true,\"gridcolor\":\"white\",\"linecolor\":\"white\",\"ticks\":\"\",\"title\":{\"standoff\":15},\"zerolinecolor\":\"white\",\"zerolinewidth\":2}}},\"title\":{\"font\":{\"color\":\"#D9D9D9\"}},\"xaxis\":{\"gridcolor\":\"#434343\",\"showgrid\":true,\"tickfont\":{\"color\":\"#C2C2C2\"},\"title\":{\"font\":{\"color\":\"#D9D9D9\"},\"text\":\"\"},\"zerolinecolor\":\"#666570\"},\"yaxis\":{\"gridcolor\":\"#434343\",\"showgrid\":true,\"tickfont\":{\"color\":\"#C2C2C2\"},\"title\":{\"font\":{\"color\":\"#D9D9D9\"},\"text\":\"\"},\"zerolinecolor\":\"#666570\"}},                        {\"showLink\": true, \"linkText\": \"Export to plot.ly\", \"plotlyServerURL\": \"https://plot.ly\", \"responsive\": true}                    ).then(function(){\n",
       "                            \n",
       "var gd = document.getElementById('85a64e96-4eb0-4a0b-a432-d6b51d9943ce');\n",
       "var x = new MutationObserver(function (mutations, observer) {{\n",
       "        var display = window.getComputedStyle(gd).display;\n",
       "        if (!display || display === 'none') {{\n",
       "            console.log([gd, 'removed!']);\n",
       "            Plotly.purge(gd);\n",
       "            observer.disconnect();\n",
       "        }}\n",
       "}});\n",
       "\n",
       "// Listen for the removal of the full notebook cells\n",
       "var notebookContainer = gd.closest('#notebook-container');\n",
       "if (notebookContainer) {{\n",
       "    x.observe(notebookContainer, {childList: true});\n",
       "}}\n",
       "\n",
       "// Listen for the clearing of the current output cell\n",
       "var outputEl = gd.closest('.output');\n",
       "if (outputEl) {{\n",
       "    x.observe(outputEl, {childList: true});\n",
       "}}\n",
       "\n",
       "                        })                };                });            </script>        </div>"
      ]
     },
     "metadata": {},
     "output_type": "display_data"
    }
   ],
   "source": [
    "bike_merge_sum_age02.iplot(kind='line',x='Month',theme='space')"
   ]
  },
  {
   "cell_type": "markdown",
   "id": "ee30e5a0",
   "metadata": {},
   "source": [
    "## 07) 2019년 2020년 20대 총 이용시간 비교"
   ]
  },
  {
   "cell_type": "code",
   "execution_count": null,
   "id": "39f85de4",
   "metadata": {},
   "outputs": [],
   "source": []
  },
  {
   "cell_type": "markdown",
   "id": "20090e2f",
   "metadata": {},
   "source": [
    "## 08) 2019년 2020년 20대 총 이동거리비교"
   ]
  },
  {
   "cell_type": "code",
   "execution_count": null,
   "id": "53e1e82d",
   "metadata": {},
   "outputs": [],
   "source": []
  },
  {
   "cell_type": "markdown",
   "id": "945ac610",
   "metadata": {},
   "source": [
    "## 09) 2019년 2020년 20대 한 사람의 평균 이용건수 비교"
   ]
  },
  {
   "cell_type": "code",
   "execution_count": null,
   "id": "9ef72041",
   "metadata": {},
   "outputs": [],
   "source": []
  },
  {
   "cell_type": "markdown",
   "id": "2e99a584",
   "metadata": {},
   "source": [
    "## 10) 2019년 2020년 20대 한 사람의 평균 이용시간 비교"
   ]
  },
  {
   "cell_type": "code",
   "execution_count": null,
   "id": "76f547b0",
   "metadata": {},
   "outputs": [],
   "source": []
  },
  {
   "cell_type": "markdown",
   "id": "770492fa",
   "metadata": {},
   "source": [
    "## 11) 2019년 2020년 20대 한 사람의 평균 이동거리 비교\n"
   ]
  },
  {
   "cell_type": "code",
   "execution_count": null,
   "id": "46bf58b6",
   "metadata": {},
   "outputs": [],
   "source": []
  },
  {
   "cell_type": "markdown",
   "id": "45fab27e",
   "metadata": {},
   "source": [
    "## 12) 2019년 2020년 20대 한 사람의 평균 주행속력 비교\n"
   ]
  },
  {
   "cell_type": "code",
   "execution_count": null,
   "id": "9d69b206",
   "metadata": {},
   "outputs": [],
   "source": []
  },
  {
   "cell_type": "markdown",
   "id": "31d3fac8",
   "metadata": {},
   "source": [
    "## 13) 2019년 2020년 30대의 총 이용건수 비교"
   ]
  },
  {
   "cell_type": "code",
   "execution_count": 47,
   "id": "f71aef83",
   "metadata": {},
   "outputs": [
    {
     "data": {
      "application/vnd.plotly.v1+json": {
       "config": {
        "linkText": "Export to plot.ly",
        "plotlyServerURL": "https://plot.ly",
        "showLink": true
       },
       "data": [
        {
         "line": {
          "color": "rgba(255, 153, 51, 1.0)",
          "dash": "solid",
          "shape": "linear",
          "width": 1.3
         },
         "mode": "lines",
         "name": "19년_20대 총 이용건수",
         "text": "",
         "type": "scatter",
         "x": [
          "Jan",
          "Feb",
          "Mar",
          "Apr",
          "May",
          "Jun",
          "Jul",
          "Aug",
          "Sep",
          "Oct",
          "Nov",
          "Dec"
         ],
         "y": [
          126778,
          115852,
          212208,
          344435,
          478704,
          514313,
          468794,
          449651,
          447686,
          528647,
          333202,
          206431
         ]
        },
        {
         "line": {
          "color": "rgba(55, 128, 191, 1.0)",
          "dash": "solid",
          "shape": "linear",
          "width": 1.3
         },
         "mode": "lines",
         "name": "20년_20대 총 이용건수",
         "text": "",
         "type": "scatter",
         "x": [
          "Jan",
          "Feb",
          "Mar",
          "Apr",
          "May",
          "Jun",
          "Jul",
          "Aug",
          "Sep",
          "Oct",
          "Nov",
          "Dec"
         ],
         "y": [
          187520,
          176534,
          333664,
          485148,
          559575,
          642052,
          576365,
          383188,
          623389,
          647601,
          442090,
          272138
         ]
        }
       ],
       "layout": {
        "legend": {
         "bgcolor": "#1A1A1C",
         "font": {
          "color": "#D9D9D9"
         }
        },
        "paper_bgcolor": "#1A1A1C",
        "plot_bgcolor": "#1A1A1C",
        "template": {
         "data": {
          "bar": [
           {
            "error_x": {
             "color": "#2a3f5f"
            },
            "error_y": {
             "color": "#2a3f5f"
            },
            "marker": {
             "line": {
              "color": "#E5ECF6",
              "width": 0.5
             },
             "pattern": {
              "fillmode": "overlay",
              "size": 10,
              "solidity": 0.2
             }
            },
            "type": "bar"
           }
          ],
          "barpolar": [
           {
            "marker": {
             "line": {
              "color": "#E5ECF6",
              "width": 0.5
             },
             "pattern": {
              "fillmode": "overlay",
              "size": 10,
              "solidity": 0.2
             }
            },
            "type": "barpolar"
           }
          ],
          "carpet": [
           {
            "aaxis": {
             "endlinecolor": "#2a3f5f",
             "gridcolor": "white",
             "linecolor": "white",
             "minorgridcolor": "white",
             "startlinecolor": "#2a3f5f"
            },
            "baxis": {
             "endlinecolor": "#2a3f5f",
             "gridcolor": "white",
             "linecolor": "white",
             "minorgridcolor": "white",
             "startlinecolor": "#2a3f5f"
            },
            "type": "carpet"
           }
          ],
          "choropleth": [
           {
            "colorbar": {
             "outlinewidth": 0,
             "ticks": ""
            },
            "type": "choropleth"
           }
          ],
          "contour": [
           {
            "colorbar": {
             "outlinewidth": 0,
             "ticks": ""
            },
            "colorscale": [
             [
              0,
              "#0d0887"
             ],
             [
              0.1111111111111111,
              "#46039f"
             ],
             [
              0.2222222222222222,
              "#7201a8"
             ],
             [
              0.3333333333333333,
              "#9c179e"
             ],
             [
              0.4444444444444444,
              "#bd3786"
             ],
             [
              0.5555555555555556,
              "#d8576b"
             ],
             [
              0.6666666666666666,
              "#ed7953"
             ],
             [
              0.7777777777777778,
              "#fb9f3a"
             ],
             [
              0.8888888888888888,
              "#fdca26"
             ],
             [
              1,
              "#f0f921"
             ]
            ],
            "type": "contour"
           }
          ],
          "contourcarpet": [
           {
            "colorbar": {
             "outlinewidth": 0,
             "ticks": ""
            },
            "type": "contourcarpet"
           }
          ],
          "heatmap": [
           {
            "colorbar": {
             "outlinewidth": 0,
             "ticks": ""
            },
            "colorscale": [
             [
              0,
              "#0d0887"
             ],
             [
              0.1111111111111111,
              "#46039f"
             ],
             [
              0.2222222222222222,
              "#7201a8"
             ],
             [
              0.3333333333333333,
              "#9c179e"
             ],
             [
              0.4444444444444444,
              "#bd3786"
             ],
             [
              0.5555555555555556,
              "#d8576b"
             ],
             [
              0.6666666666666666,
              "#ed7953"
             ],
             [
              0.7777777777777778,
              "#fb9f3a"
             ],
             [
              0.8888888888888888,
              "#fdca26"
             ],
             [
              1,
              "#f0f921"
             ]
            ],
            "type": "heatmap"
           }
          ],
          "heatmapgl": [
           {
            "colorbar": {
             "outlinewidth": 0,
             "ticks": ""
            },
            "colorscale": [
             [
              0,
              "#0d0887"
             ],
             [
              0.1111111111111111,
              "#46039f"
             ],
             [
              0.2222222222222222,
              "#7201a8"
             ],
             [
              0.3333333333333333,
              "#9c179e"
             ],
             [
              0.4444444444444444,
              "#bd3786"
             ],
             [
              0.5555555555555556,
              "#d8576b"
             ],
             [
              0.6666666666666666,
              "#ed7953"
             ],
             [
              0.7777777777777778,
              "#fb9f3a"
             ],
             [
              0.8888888888888888,
              "#fdca26"
             ],
             [
              1,
              "#f0f921"
             ]
            ],
            "type": "heatmapgl"
           }
          ],
          "histogram": [
           {
            "marker": {
             "pattern": {
              "fillmode": "overlay",
              "size": 10,
              "solidity": 0.2
             }
            },
            "type": "histogram"
           }
          ],
          "histogram2d": [
           {
            "colorbar": {
             "outlinewidth": 0,
             "ticks": ""
            },
            "colorscale": [
             [
              0,
              "#0d0887"
             ],
             [
              0.1111111111111111,
              "#46039f"
             ],
             [
              0.2222222222222222,
              "#7201a8"
             ],
             [
              0.3333333333333333,
              "#9c179e"
             ],
             [
              0.4444444444444444,
              "#bd3786"
             ],
             [
              0.5555555555555556,
              "#d8576b"
             ],
             [
              0.6666666666666666,
              "#ed7953"
             ],
             [
              0.7777777777777778,
              "#fb9f3a"
             ],
             [
              0.8888888888888888,
              "#fdca26"
             ],
             [
              1,
              "#f0f921"
             ]
            ],
            "type": "histogram2d"
           }
          ],
          "histogram2dcontour": [
           {
            "colorbar": {
             "outlinewidth": 0,
             "ticks": ""
            },
            "colorscale": [
             [
              0,
              "#0d0887"
             ],
             [
              0.1111111111111111,
              "#46039f"
             ],
             [
              0.2222222222222222,
              "#7201a8"
             ],
             [
              0.3333333333333333,
              "#9c179e"
             ],
             [
              0.4444444444444444,
              "#bd3786"
             ],
             [
              0.5555555555555556,
              "#d8576b"
             ],
             [
              0.6666666666666666,
              "#ed7953"
             ],
             [
              0.7777777777777778,
              "#fb9f3a"
             ],
             [
              0.8888888888888888,
              "#fdca26"
             ],
             [
              1,
              "#f0f921"
             ]
            ],
            "type": "histogram2dcontour"
           }
          ],
          "mesh3d": [
           {
            "colorbar": {
             "outlinewidth": 0,
             "ticks": ""
            },
            "type": "mesh3d"
           }
          ],
          "parcoords": [
           {
            "line": {
             "colorbar": {
              "outlinewidth": 0,
              "ticks": ""
             }
            },
            "type": "parcoords"
           }
          ],
          "pie": [
           {
            "automargin": true,
            "type": "pie"
           }
          ],
          "scatter": [
           {
            "marker": {
             "colorbar": {
              "outlinewidth": 0,
              "ticks": ""
             }
            },
            "type": "scatter"
           }
          ],
          "scatter3d": [
           {
            "line": {
             "colorbar": {
              "outlinewidth": 0,
              "ticks": ""
             }
            },
            "marker": {
             "colorbar": {
              "outlinewidth": 0,
              "ticks": ""
             }
            },
            "type": "scatter3d"
           }
          ],
          "scattercarpet": [
           {
            "marker": {
             "colorbar": {
              "outlinewidth": 0,
              "ticks": ""
             }
            },
            "type": "scattercarpet"
           }
          ],
          "scattergeo": [
           {
            "marker": {
             "colorbar": {
              "outlinewidth": 0,
              "ticks": ""
             }
            },
            "type": "scattergeo"
           }
          ],
          "scattergl": [
           {
            "marker": {
             "colorbar": {
              "outlinewidth": 0,
              "ticks": ""
             }
            },
            "type": "scattergl"
           }
          ],
          "scattermapbox": [
           {
            "marker": {
             "colorbar": {
              "outlinewidth": 0,
              "ticks": ""
             }
            },
            "type": "scattermapbox"
           }
          ],
          "scatterpolar": [
           {
            "marker": {
             "colorbar": {
              "outlinewidth": 0,
              "ticks": ""
             }
            },
            "type": "scatterpolar"
           }
          ],
          "scatterpolargl": [
           {
            "marker": {
             "colorbar": {
              "outlinewidth": 0,
              "ticks": ""
             }
            },
            "type": "scatterpolargl"
           }
          ],
          "scatterternary": [
           {
            "marker": {
             "colorbar": {
              "outlinewidth": 0,
              "ticks": ""
             }
            },
            "type": "scatterternary"
           }
          ],
          "surface": [
           {
            "colorbar": {
             "outlinewidth": 0,
             "ticks": ""
            },
            "colorscale": [
             [
              0,
              "#0d0887"
             ],
             [
              0.1111111111111111,
              "#46039f"
             ],
             [
              0.2222222222222222,
              "#7201a8"
             ],
             [
              0.3333333333333333,
              "#9c179e"
             ],
             [
              0.4444444444444444,
              "#bd3786"
             ],
             [
              0.5555555555555556,
              "#d8576b"
             ],
             [
              0.6666666666666666,
              "#ed7953"
             ],
             [
              0.7777777777777778,
              "#fb9f3a"
             ],
             [
              0.8888888888888888,
              "#fdca26"
             ],
             [
              1,
              "#f0f921"
             ]
            ],
            "type": "surface"
           }
          ],
          "table": [
           {
            "cells": {
             "fill": {
              "color": "#EBF0F8"
             },
             "line": {
              "color": "white"
             }
            },
            "header": {
             "fill": {
              "color": "#C8D4E3"
             },
             "line": {
              "color": "white"
             }
            },
            "type": "table"
           }
          ]
         },
         "layout": {
          "annotationdefaults": {
           "arrowcolor": "#2a3f5f",
           "arrowhead": 0,
           "arrowwidth": 1
          },
          "autotypenumbers": "strict",
          "coloraxis": {
           "colorbar": {
            "outlinewidth": 0,
            "ticks": ""
           }
          },
          "colorscale": {
           "diverging": [
            [
             0,
             "#8e0152"
            ],
            [
             0.1,
             "#c51b7d"
            ],
            [
             0.2,
             "#de77ae"
            ],
            [
             0.3,
             "#f1b6da"
            ],
            [
             0.4,
             "#fde0ef"
            ],
            [
             0.5,
             "#f7f7f7"
            ],
            [
             0.6,
             "#e6f5d0"
            ],
            [
             0.7,
             "#b8e186"
            ],
            [
             0.8,
             "#7fbc41"
            ],
            [
             0.9,
             "#4d9221"
            ],
            [
             1,
             "#276419"
            ]
           ],
           "sequential": [
            [
             0,
             "#0d0887"
            ],
            [
             0.1111111111111111,
             "#46039f"
            ],
            [
             0.2222222222222222,
             "#7201a8"
            ],
            [
             0.3333333333333333,
             "#9c179e"
            ],
            [
             0.4444444444444444,
             "#bd3786"
            ],
            [
             0.5555555555555556,
             "#d8576b"
            ],
            [
             0.6666666666666666,
             "#ed7953"
            ],
            [
             0.7777777777777778,
             "#fb9f3a"
            ],
            [
             0.8888888888888888,
             "#fdca26"
            ],
            [
             1,
             "#f0f921"
            ]
           ],
           "sequentialminus": [
            [
             0,
             "#0d0887"
            ],
            [
             0.1111111111111111,
             "#46039f"
            ],
            [
             0.2222222222222222,
             "#7201a8"
            ],
            [
             0.3333333333333333,
             "#9c179e"
            ],
            [
             0.4444444444444444,
             "#bd3786"
            ],
            [
             0.5555555555555556,
             "#d8576b"
            ],
            [
             0.6666666666666666,
             "#ed7953"
            ],
            [
             0.7777777777777778,
             "#fb9f3a"
            ],
            [
             0.8888888888888888,
             "#fdca26"
            ],
            [
             1,
             "#f0f921"
            ]
           ]
          },
          "colorway": [
           "#636efa",
           "#EF553B",
           "#00cc96",
           "#ab63fa",
           "#FFA15A",
           "#19d3f3",
           "#FF6692",
           "#B6E880",
           "#FF97FF",
           "#FECB52"
          ],
          "font": {
           "color": "#2a3f5f"
          },
          "geo": {
           "bgcolor": "white",
           "lakecolor": "white",
           "landcolor": "#E5ECF6",
           "showlakes": true,
           "showland": true,
           "subunitcolor": "white"
          },
          "hoverlabel": {
           "align": "left"
          },
          "hovermode": "closest",
          "mapbox": {
           "style": "light"
          },
          "paper_bgcolor": "white",
          "plot_bgcolor": "#E5ECF6",
          "polar": {
           "angularaxis": {
            "gridcolor": "white",
            "linecolor": "white",
            "ticks": ""
           },
           "bgcolor": "#E5ECF6",
           "radialaxis": {
            "gridcolor": "white",
            "linecolor": "white",
            "ticks": ""
           }
          },
          "scene": {
           "xaxis": {
            "backgroundcolor": "#E5ECF6",
            "gridcolor": "white",
            "gridwidth": 2,
            "linecolor": "white",
            "showbackground": true,
            "ticks": "",
            "zerolinecolor": "white"
           },
           "yaxis": {
            "backgroundcolor": "#E5ECF6",
            "gridcolor": "white",
            "gridwidth": 2,
            "linecolor": "white",
            "showbackground": true,
            "ticks": "",
            "zerolinecolor": "white"
           },
           "zaxis": {
            "backgroundcolor": "#E5ECF6",
            "gridcolor": "white",
            "gridwidth": 2,
            "linecolor": "white",
            "showbackground": true,
            "ticks": "",
            "zerolinecolor": "white"
           }
          },
          "shapedefaults": {
           "line": {
            "color": "#2a3f5f"
           }
          },
          "ternary": {
           "aaxis": {
            "gridcolor": "white",
            "linecolor": "white",
            "ticks": ""
           },
           "baxis": {
            "gridcolor": "white",
            "linecolor": "white",
            "ticks": ""
           },
           "bgcolor": "#E5ECF6",
           "caxis": {
            "gridcolor": "white",
            "linecolor": "white",
            "ticks": ""
           }
          },
          "title": {
           "x": 0.05
          },
          "xaxis": {
           "automargin": true,
           "gridcolor": "white",
           "linecolor": "white",
           "ticks": "",
           "title": {
            "standoff": 15
           },
           "zerolinecolor": "white",
           "zerolinewidth": 2
          },
          "yaxis": {
           "automargin": true,
           "gridcolor": "white",
           "linecolor": "white",
           "ticks": "",
           "title": {
            "standoff": 15
           },
           "zerolinecolor": "white",
           "zerolinewidth": 2
          }
         }
        },
        "title": {
         "font": {
          "color": "#D9D9D9"
         }
        },
        "xaxis": {
         "gridcolor": "#434343",
         "showgrid": true,
         "tickfont": {
          "color": "#C2C2C2"
         },
         "title": {
          "font": {
           "color": "#D9D9D9"
          },
          "text": ""
         },
         "zerolinecolor": "#666570"
        },
        "yaxis": {
         "gridcolor": "#434343",
         "showgrid": true,
         "tickfont": {
          "color": "#C2C2C2"
         },
         "title": {
          "font": {
           "color": "#D9D9D9"
          },
          "text": ""
         },
         "zerolinecolor": "#666570"
        }
       }
      },
      "text/html": [
       "<div>                            <div id=\"8cbb6383-3289-4409-b20d-433210600031\" class=\"plotly-graph-div\" style=\"height:525px; width:100%;\"></div>            <script type=\"text/javascript\">                require([\"plotly\"], function(Plotly) {                    window.PLOTLYENV=window.PLOTLYENV || {};\n",
       "                    window.PLOTLYENV.BASE_URL='https://plot.ly';                                    if (document.getElementById(\"8cbb6383-3289-4409-b20d-433210600031\")) {                    Plotly.newPlot(                        \"8cbb6383-3289-4409-b20d-433210600031\",                        [{\"line\":{\"color\":\"rgba(255, 153, 51, 1.0)\",\"dash\":\"solid\",\"shape\":\"linear\",\"width\":1.3},\"mode\":\"lines\",\"name\":\"19\\ub144_20\\ub300 \\ucd1d \\uc774\\uc6a9\\uac74\\uc218\",\"text\":\"\",\"type\":\"scatter\",\"x\":[\"Jan\",\"Feb\",\"Mar\",\"Apr\",\"May\",\"Jun\",\"Jul\",\"Aug\",\"Sep\",\"Oct\",\"Nov\",\"Dec\"],\"y\":[126778,115852,212208,344435,478704,514313,468794,449651,447686,528647,333202,206431]},{\"line\":{\"color\":\"rgba(55, 128, 191, 1.0)\",\"dash\":\"solid\",\"shape\":\"linear\",\"width\":1.3},\"mode\":\"lines\",\"name\":\"20\\ub144_20\\ub300 \\ucd1d \\uc774\\uc6a9\\uac74\\uc218\",\"text\":\"\",\"type\":\"scatter\",\"x\":[\"Jan\",\"Feb\",\"Mar\",\"Apr\",\"May\",\"Jun\",\"Jul\",\"Aug\",\"Sep\",\"Oct\",\"Nov\",\"Dec\"],\"y\":[187520,176534,333664,485148,559575,642052,576365,383188,623389,647601,442090,272138]}],                        {\"legend\":{\"bgcolor\":\"#1A1A1C\",\"font\":{\"color\":\"#D9D9D9\"}},\"paper_bgcolor\":\"#1A1A1C\",\"plot_bgcolor\":\"#1A1A1C\",\"template\":{\"data\":{\"bar\":[{\"error_x\":{\"color\":\"#2a3f5f\"},\"error_y\":{\"color\":\"#2a3f5f\"},\"marker\":{\"line\":{\"color\":\"#E5ECF6\",\"width\":0.5},\"pattern\":{\"fillmode\":\"overlay\",\"size\":10,\"solidity\":0.2}},\"type\":\"bar\"}],\"barpolar\":[{\"marker\":{\"line\":{\"color\":\"#E5ECF6\",\"width\":0.5},\"pattern\":{\"fillmode\":\"overlay\",\"size\":10,\"solidity\":0.2}},\"type\":\"barpolar\"}],\"carpet\":[{\"aaxis\":{\"endlinecolor\":\"#2a3f5f\",\"gridcolor\":\"white\",\"linecolor\":\"white\",\"minorgridcolor\":\"white\",\"startlinecolor\":\"#2a3f5f\"},\"baxis\":{\"endlinecolor\":\"#2a3f5f\",\"gridcolor\":\"white\",\"linecolor\":\"white\",\"minorgridcolor\":\"white\",\"startlinecolor\":\"#2a3f5f\"},\"type\":\"carpet\"}],\"choropleth\":[{\"colorbar\":{\"outlinewidth\":0,\"ticks\":\"\"},\"type\":\"choropleth\"}],\"contour\":[{\"colorbar\":{\"outlinewidth\":0,\"ticks\":\"\"},\"colorscale\":[[0.0,\"#0d0887\"],[0.1111111111111111,\"#46039f\"],[0.2222222222222222,\"#7201a8\"],[0.3333333333333333,\"#9c179e\"],[0.4444444444444444,\"#bd3786\"],[0.5555555555555556,\"#d8576b\"],[0.6666666666666666,\"#ed7953\"],[0.7777777777777778,\"#fb9f3a\"],[0.8888888888888888,\"#fdca26\"],[1.0,\"#f0f921\"]],\"type\":\"contour\"}],\"contourcarpet\":[{\"colorbar\":{\"outlinewidth\":0,\"ticks\":\"\"},\"type\":\"contourcarpet\"}],\"heatmap\":[{\"colorbar\":{\"outlinewidth\":0,\"ticks\":\"\"},\"colorscale\":[[0.0,\"#0d0887\"],[0.1111111111111111,\"#46039f\"],[0.2222222222222222,\"#7201a8\"],[0.3333333333333333,\"#9c179e\"],[0.4444444444444444,\"#bd3786\"],[0.5555555555555556,\"#d8576b\"],[0.6666666666666666,\"#ed7953\"],[0.7777777777777778,\"#fb9f3a\"],[0.8888888888888888,\"#fdca26\"],[1.0,\"#f0f921\"]],\"type\":\"heatmap\"}],\"heatmapgl\":[{\"colorbar\":{\"outlinewidth\":0,\"ticks\":\"\"},\"colorscale\":[[0.0,\"#0d0887\"],[0.1111111111111111,\"#46039f\"],[0.2222222222222222,\"#7201a8\"],[0.3333333333333333,\"#9c179e\"],[0.4444444444444444,\"#bd3786\"],[0.5555555555555556,\"#d8576b\"],[0.6666666666666666,\"#ed7953\"],[0.7777777777777778,\"#fb9f3a\"],[0.8888888888888888,\"#fdca26\"],[1.0,\"#f0f921\"]],\"type\":\"heatmapgl\"}],\"histogram\":[{\"marker\":{\"pattern\":{\"fillmode\":\"overlay\",\"size\":10,\"solidity\":0.2}},\"type\":\"histogram\"}],\"histogram2d\":[{\"colorbar\":{\"outlinewidth\":0,\"ticks\":\"\"},\"colorscale\":[[0.0,\"#0d0887\"],[0.1111111111111111,\"#46039f\"],[0.2222222222222222,\"#7201a8\"],[0.3333333333333333,\"#9c179e\"],[0.4444444444444444,\"#bd3786\"],[0.5555555555555556,\"#d8576b\"],[0.6666666666666666,\"#ed7953\"],[0.7777777777777778,\"#fb9f3a\"],[0.8888888888888888,\"#fdca26\"],[1.0,\"#f0f921\"]],\"type\":\"histogram2d\"}],\"histogram2dcontour\":[{\"colorbar\":{\"outlinewidth\":0,\"ticks\":\"\"},\"colorscale\":[[0.0,\"#0d0887\"],[0.1111111111111111,\"#46039f\"],[0.2222222222222222,\"#7201a8\"],[0.3333333333333333,\"#9c179e\"],[0.4444444444444444,\"#bd3786\"],[0.5555555555555556,\"#d8576b\"],[0.6666666666666666,\"#ed7953\"],[0.7777777777777778,\"#fb9f3a\"],[0.8888888888888888,\"#fdca26\"],[1.0,\"#f0f921\"]],\"type\":\"histogram2dcontour\"}],\"mesh3d\":[{\"colorbar\":{\"outlinewidth\":0,\"ticks\":\"\"},\"type\":\"mesh3d\"}],\"parcoords\":[{\"line\":{\"colorbar\":{\"outlinewidth\":0,\"ticks\":\"\"}},\"type\":\"parcoords\"}],\"pie\":[{\"automargin\":true,\"type\":\"pie\"}],\"scatter\":[{\"marker\":{\"colorbar\":{\"outlinewidth\":0,\"ticks\":\"\"}},\"type\":\"scatter\"}],\"scatter3d\":[{\"line\":{\"colorbar\":{\"outlinewidth\":0,\"ticks\":\"\"}},\"marker\":{\"colorbar\":{\"outlinewidth\":0,\"ticks\":\"\"}},\"type\":\"scatter3d\"}],\"scattercarpet\":[{\"marker\":{\"colorbar\":{\"outlinewidth\":0,\"ticks\":\"\"}},\"type\":\"scattercarpet\"}],\"scattergeo\":[{\"marker\":{\"colorbar\":{\"outlinewidth\":0,\"ticks\":\"\"}},\"type\":\"scattergeo\"}],\"scattergl\":[{\"marker\":{\"colorbar\":{\"outlinewidth\":0,\"ticks\":\"\"}},\"type\":\"scattergl\"}],\"scattermapbox\":[{\"marker\":{\"colorbar\":{\"outlinewidth\":0,\"ticks\":\"\"}},\"type\":\"scattermapbox\"}],\"scatterpolar\":[{\"marker\":{\"colorbar\":{\"outlinewidth\":0,\"ticks\":\"\"}},\"type\":\"scatterpolar\"}],\"scatterpolargl\":[{\"marker\":{\"colorbar\":{\"outlinewidth\":0,\"ticks\":\"\"}},\"type\":\"scatterpolargl\"}],\"scatterternary\":[{\"marker\":{\"colorbar\":{\"outlinewidth\":0,\"ticks\":\"\"}},\"type\":\"scatterternary\"}],\"surface\":[{\"colorbar\":{\"outlinewidth\":0,\"ticks\":\"\"},\"colorscale\":[[0.0,\"#0d0887\"],[0.1111111111111111,\"#46039f\"],[0.2222222222222222,\"#7201a8\"],[0.3333333333333333,\"#9c179e\"],[0.4444444444444444,\"#bd3786\"],[0.5555555555555556,\"#d8576b\"],[0.6666666666666666,\"#ed7953\"],[0.7777777777777778,\"#fb9f3a\"],[0.8888888888888888,\"#fdca26\"],[1.0,\"#f0f921\"]],\"type\":\"surface\"}],\"table\":[{\"cells\":{\"fill\":{\"color\":\"#EBF0F8\"},\"line\":{\"color\":\"white\"}},\"header\":{\"fill\":{\"color\":\"#C8D4E3\"},\"line\":{\"color\":\"white\"}},\"type\":\"table\"}]},\"layout\":{\"annotationdefaults\":{\"arrowcolor\":\"#2a3f5f\",\"arrowhead\":0,\"arrowwidth\":1},\"autotypenumbers\":\"strict\",\"coloraxis\":{\"colorbar\":{\"outlinewidth\":0,\"ticks\":\"\"}},\"colorscale\":{\"diverging\":[[0,\"#8e0152\"],[0.1,\"#c51b7d\"],[0.2,\"#de77ae\"],[0.3,\"#f1b6da\"],[0.4,\"#fde0ef\"],[0.5,\"#f7f7f7\"],[0.6,\"#e6f5d0\"],[0.7,\"#b8e186\"],[0.8,\"#7fbc41\"],[0.9,\"#4d9221\"],[1,\"#276419\"]],\"sequential\":[[0.0,\"#0d0887\"],[0.1111111111111111,\"#46039f\"],[0.2222222222222222,\"#7201a8\"],[0.3333333333333333,\"#9c179e\"],[0.4444444444444444,\"#bd3786\"],[0.5555555555555556,\"#d8576b\"],[0.6666666666666666,\"#ed7953\"],[0.7777777777777778,\"#fb9f3a\"],[0.8888888888888888,\"#fdca26\"],[1.0,\"#f0f921\"]],\"sequentialminus\":[[0.0,\"#0d0887\"],[0.1111111111111111,\"#46039f\"],[0.2222222222222222,\"#7201a8\"],[0.3333333333333333,\"#9c179e\"],[0.4444444444444444,\"#bd3786\"],[0.5555555555555556,\"#d8576b\"],[0.6666666666666666,\"#ed7953\"],[0.7777777777777778,\"#fb9f3a\"],[0.8888888888888888,\"#fdca26\"],[1.0,\"#f0f921\"]]},\"colorway\":[\"#636efa\",\"#EF553B\",\"#00cc96\",\"#ab63fa\",\"#FFA15A\",\"#19d3f3\",\"#FF6692\",\"#B6E880\",\"#FF97FF\",\"#FECB52\"],\"font\":{\"color\":\"#2a3f5f\"},\"geo\":{\"bgcolor\":\"white\",\"lakecolor\":\"white\",\"landcolor\":\"#E5ECF6\",\"showlakes\":true,\"showland\":true,\"subunitcolor\":\"white\"},\"hoverlabel\":{\"align\":\"left\"},\"hovermode\":\"closest\",\"mapbox\":{\"style\":\"light\"},\"paper_bgcolor\":\"white\",\"plot_bgcolor\":\"#E5ECF6\",\"polar\":{\"angularaxis\":{\"gridcolor\":\"white\",\"linecolor\":\"white\",\"ticks\":\"\"},\"bgcolor\":\"#E5ECF6\",\"radialaxis\":{\"gridcolor\":\"white\",\"linecolor\":\"white\",\"ticks\":\"\"}},\"scene\":{\"xaxis\":{\"backgroundcolor\":\"#E5ECF6\",\"gridcolor\":\"white\",\"gridwidth\":2,\"linecolor\":\"white\",\"showbackground\":true,\"ticks\":\"\",\"zerolinecolor\":\"white\"},\"yaxis\":{\"backgroundcolor\":\"#E5ECF6\",\"gridcolor\":\"white\",\"gridwidth\":2,\"linecolor\":\"white\",\"showbackground\":true,\"ticks\":\"\",\"zerolinecolor\":\"white\"},\"zaxis\":{\"backgroundcolor\":\"#E5ECF6\",\"gridcolor\":\"white\",\"gridwidth\":2,\"linecolor\":\"white\",\"showbackground\":true,\"ticks\":\"\",\"zerolinecolor\":\"white\"}},\"shapedefaults\":{\"line\":{\"color\":\"#2a3f5f\"}},\"ternary\":{\"aaxis\":{\"gridcolor\":\"white\",\"linecolor\":\"white\",\"ticks\":\"\"},\"baxis\":{\"gridcolor\":\"white\",\"linecolor\":\"white\",\"ticks\":\"\"},\"bgcolor\":\"#E5ECF6\",\"caxis\":{\"gridcolor\":\"white\",\"linecolor\":\"white\",\"ticks\":\"\"}},\"title\":{\"x\":0.05},\"xaxis\":{\"automargin\":true,\"gridcolor\":\"white\",\"linecolor\":\"white\",\"ticks\":\"\",\"title\":{\"standoff\":15},\"zerolinecolor\":\"white\",\"zerolinewidth\":2},\"yaxis\":{\"automargin\":true,\"gridcolor\":\"white\",\"linecolor\":\"white\",\"ticks\":\"\",\"title\":{\"standoff\":15},\"zerolinecolor\":\"white\",\"zerolinewidth\":2}}},\"title\":{\"font\":{\"color\":\"#D9D9D9\"}},\"xaxis\":{\"gridcolor\":\"#434343\",\"showgrid\":true,\"tickfont\":{\"color\":\"#C2C2C2\"},\"title\":{\"font\":{\"color\":\"#D9D9D9\"},\"text\":\"\"},\"zerolinecolor\":\"#666570\"},\"yaxis\":{\"gridcolor\":\"#434343\",\"showgrid\":true,\"tickfont\":{\"color\":\"#C2C2C2\"},\"title\":{\"font\":{\"color\":\"#D9D9D9\"},\"text\":\"\"},\"zerolinecolor\":\"#666570\"}},                        {\"showLink\": true, \"linkText\": \"Export to plot.ly\", \"plotlyServerURL\": \"https://plot.ly\", \"responsive\": true}                    ).then(function(){\n",
       "                            \n",
       "var gd = document.getElementById('8cbb6383-3289-4409-b20d-433210600031');\n",
       "var x = new MutationObserver(function (mutations, observer) {{\n",
       "        var display = window.getComputedStyle(gd).display;\n",
       "        if (!display || display === 'none') {{\n",
       "            console.log([gd, 'removed!']);\n",
       "            Plotly.purge(gd);\n",
       "            observer.disconnect();\n",
       "        }}\n",
       "}});\n",
       "\n",
       "// Listen for the removal of the full notebook cells\n",
       "var notebookContainer = gd.closest('#notebook-container');\n",
       "if (notebookContainer) {{\n",
       "    x.observe(notebookContainer, {childList: true});\n",
       "}}\n",
       "\n",
       "// Listen for the clearing of the current output cell\n",
       "var outputEl = gd.closest('.output');\n",
       "if (outputEl) {{\n",
       "    x.observe(outputEl, {childList: true});\n",
       "}}\n",
       "\n",
       "                        })                };                });            </script>        </div>"
      ]
     },
     "metadata": {},
     "output_type": "display_data"
    }
   ],
   "source": [
    "# '2019년 30대의 총 이용건수'와 '2020년 30대의 총 이용건수'를 하나의 데이터 프레임으로 merge\n",
    "bike_merge_sum_age03 = pd.DataFrame({'Month'   : ['Jan','Feb','Mar','Apr','May','Jun','Jul','Aug','Sep','Oct','Nov','Dec'], \n",
    "                               '19년_20대 총 이용건수' : bike19_sum_age03['총 이용건수'], \n",
    "                               '20년_20대 총 이용건수' : bike20_sum_age03['총 이용건수']})\n",
    "bike_merge_sum_age03 = bike_merge_sum_age03.reset_index(drop=True)\n",
    "\n",
    "bike_merge_sum_age03.iplot(kind='line',x='Month',theme='space')"
   ]
  },
  {
   "cell_type": "code",
   "execution_count": null,
   "id": "fda507cf",
   "metadata": {},
   "outputs": [],
   "source": []
  },
  {
   "cell_type": "code",
   "execution_count": null,
   "id": "29ca41f5",
   "metadata": {},
   "outputs": [],
   "source": []
  }
 ],
 "metadata": {
  "kernelspec": {
   "display_name": "Python 3",
   "language": "python",
   "name": "python3"
  },
  "language_info": {
   "codemirror_mode": {
    "name": "ipython",
    "version": 3
   },
   "file_extension": ".py",
   "mimetype": "text/x-python",
   "name": "python",
   "nbconvert_exporter": "python",
   "pygments_lexer": "ipython3",
   "version": "3.8.8"
  }
 },
 "nbformat": 4,
 "nbformat_minor": 5
}
