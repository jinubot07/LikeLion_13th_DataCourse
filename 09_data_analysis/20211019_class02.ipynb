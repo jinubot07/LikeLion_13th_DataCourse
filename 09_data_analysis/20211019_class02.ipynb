{
 "cells": [
  {
   "cell_type": "markdown",
   "id": "d48241c4",
   "metadata": {},
   "source": [
    "### 나만의 모델 만들고 검증하기"
   ]
  },
  {
   "cell_type": "code",
   "execution_count": 3,
   "id": "2678a476",
   "metadata": {},
   "outputs": [
    {
     "name": "stdout",
     "output_type": "stream",
     "text": [
      "C:\\Users\\toto\\Documents\\Github\\MachineLearning_Basic_Class\\class_code\n"
     ]
    }
   ],
   "source": [
    "import os\n",
    "print(os.getcwd())"
   ]
  },
  {
   "cell_type": "markdown",
   "id": "e05d4856",
   "metadata": {},
   "source": [
    "### 학습내용\n",
    " * 다양한 데이터 셋 교차 검증 실시해 보기\n",
    "    * https://www.kaggle.com/varpit94/world-population-density"
   ]
  },
  {
   "cell_type": "code",
   "execution_count": 24,
   "id": "51f83679",
   "metadata": {},
   "outputs": [],
   "source": [
    "from sklearn.datasets import load_iris\n",
    "from sklearn.model_selection import cross_val_score\n",
    "from sklearn.neighbors import KNeighborsClassifier\n",
    "from sklearn.neighbors import KNeighborsRegressor\n",
    "from sklearn.model_selection import train_test_split\n",
    "import matplotlib.pyplot as plt\n",
    "import seaborn as sns\n",
    "import pandas as pd"
   ]
  },
  {
   "cell_type": "code",
   "execution_count": 11,
   "id": "7d5844e7",
   "metadata": {},
   "outputs": [],
   "source": [
    "dat = pd.read_csv(\"./data/csvData.csv\")"
   ]
  },
  {
   "cell_type": "code",
   "execution_count": 7,
   "id": "72c2260c",
   "metadata": {},
   "outputs": [
    {
     "data": {
      "text/html": [
       "<div>\n",
       "<style scoped>\n",
       "    .dataframe tbody tr th:only-of-type {\n",
       "        vertical-align: middle;\n",
       "    }\n",
       "\n",
       "    .dataframe tbody tr th {\n",
       "        vertical-align: top;\n",
       "    }\n",
       "\n",
       "    .dataframe thead th {\n",
       "        text-align: right;\n",
       "    }\n",
       "</style>\n",
       "<table border=\"1\" class=\"dataframe\">\n",
       "  <thead>\n",
       "    <tr style=\"text-align: right;\">\n",
       "      <th></th>\n",
       "      <th>rank</th>\n",
       "      <th>country</th>\n",
       "      <th>density</th>\n",
       "      <th>densityMi</th>\n",
       "      <th>pop2021</th>\n",
       "      <th>area</th>\n",
       "    </tr>\n",
       "  </thead>\n",
       "  <tbody>\n",
       "    <tr>\n",
       "      <th>0</th>\n",
       "      <td>1</td>\n",
       "      <td>Macau</td>\n",
       "      <td>21946.4667</td>\n",
       "      <td>56841.3487</td>\n",
       "      <td>658.394</td>\n",
       "      <td>30</td>\n",
       "    </tr>\n",
       "    <tr>\n",
       "      <th>1</th>\n",
       "      <td>2</td>\n",
       "      <td>Monaco</td>\n",
       "      <td>19755.5000</td>\n",
       "      <td>51166.7450</td>\n",
       "      <td>39.511</td>\n",
       "      <td>2</td>\n",
       "    </tr>\n",
       "    <tr>\n",
       "      <th>2</th>\n",
       "      <td>3</td>\n",
       "      <td>Singapore</td>\n",
       "      <td>8305.1915</td>\n",
       "      <td>21510.4461</td>\n",
       "      <td>5896.686</td>\n",
       "      <td>710</td>\n",
       "    </tr>\n",
       "    <tr>\n",
       "      <th>3</th>\n",
       "      <td>4</td>\n",
       "      <td>Hong Kong</td>\n",
       "      <td>6841.3134</td>\n",
       "      <td>17719.0017</td>\n",
       "      <td>7552.810</td>\n",
       "      <td>1104</td>\n",
       "    </tr>\n",
       "    <tr>\n",
       "      <th>4</th>\n",
       "      <td>5</td>\n",
       "      <td>Gibraltar</td>\n",
       "      <td>5616.3333</td>\n",
       "      <td>14546.3033</td>\n",
       "      <td>33.698</td>\n",
       "      <td>6</td>\n",
       "    </tr>\n",
       "  </tbody>\n",
       "</table>\n",
       "</div>"
      ],
      "text/plain": [
       "   rank    country     density   densityMi   pop2021  area\n",
       "0     1      Macau  21946.4667  56841.3487   658.394    30\n",
       "1     2     Monaco  19755.5000  51166.7450    39.511     2\n",
       "2     3  Singapore   8305.1915  21510.4461  5896.686   710\n",
       "3     4  Hong Kong   6841.3134  17719.0017  7552.810  1104\n",
       "4     5  Gibraltar   5616.3333  14546.3033    33.698     6"
      ]
     },
     "execution_count": 7,
     "metadata": {},
     "output_type": "execute_result"
    }
   ],
   "source": [
    "dat.head()"
   ]
  },
  {
   "cell_type": "code",
   "execution_count": 13,
   "id": "b4a5b888",
   "metadata": {},
   "outputs": [
    {
     "data": {
      "text/plain": [
       "<AxesSubplot:xlabel='density', ylabel='Count'>"
      ]
     },
     "execution_count": 13,
     "metadata": {},
     "output_type": "execute_result"
    },
    {
     "data": {
      "image/png": "[encoded data removed]",
      "text/plain": [
       "<Figure size 432x288 with 1 Axes>"
      ]
     },
     "metadata": {
      "needs_background": "light"
     },
     "output_type": "display_data"
    }
   ],
   "source": [
    "sns.histplot(x=\"density\", data=dat)"
   ]
  },
  {
   "cell_type": "code",
   "execution_count": 14,
   "id": "05dce312",
   "metadata": {},
   "outputs": [
    {
     "data": {
      "text/plain": [
       "Index(['rank', 'country', 'density', 'densityMi', 'pop2021', 'area'], dtype='object')"
      ]
     },
     "execution_count": 14,
     "metadata": {},
     "output_type": "execute_result"
    }
   ],
   "source": [
    "dat.columns"
   ]
  },
  {
   "cell_type": "code",
   "execution_count": 15,
   "id": "b0b9bd63",
   "metadata": {},
   "outputs": [],
   "source": [
    "X = dat[ ['densityMi', 'pop2021', 'area'] ]\n",
    "y = dat[ 'density' ]\n",
    "\n",
    "X_train, X_test, y_train, y_test = train_test_split(X, y)\n",
    "knn = KNeighborsClassifier()"
   ]
  },
  {
   "cell_type": "markdown",
   "id": "fbbfc788",
   "metadata": {},
   "source": [
    "### 데이터 셋\n",
    " * https://www.kaggle.com/fedesoriano/heart-failure-prediction\n",
    " * heart.csv \n"
   ]
  },
  {
   "cell_type": "code",
   "execution_count": 78,
   "id": "2845fa77",
   "metadata": {},
   "outputs": [],
   "source": [
    "dat = pd.read_csv(\"./data/heart.csv\")"
   ]
  },
  {
   "cell_type": "code",
   "execution_count": 79,
   "id": "851c959a",
   "metadata": {},
   "outputs": [
    {
     "name": "stdout",
     "output_type": "stream",
     "text": [
      "<class 'pandas.core.frame.DataFrame'>\n",
      "RangeIndex: 918 entries, 0 to 917\n",
      "Data columns (total 12 columns):\n",
      " #   Column          Non-Null Count  Dtype  \n",
      "---  ------          --------------  -----  \n",
      " 0   Age             918 non-null    int64  \n",
      " 1   Sex             918 non-null    object \n",
      " 2   ChestPainType   918 non-null    object \n",
      " 3   RestingBP       918 non-null    int64  \n",
      " 4   Cholesterol     918 non-null    int64  \n",
      " 5   FastingBS       918 non-null    int64  \n",
      " 6   RestingECG      918 non-null    object \n",
      " 7   MaxHR           918 non-null    int64  \n",
      " 8   ExerciseAngina  918 non-null    object \n",
      " 9   Oldpeak         918 non-null    float64\n",
      " 10  ST_Slope        918 non-null    object \n",
      " 11  HeartDisease    918 non-null    int64  \n",
      "dtypes: float64(1), int64(6), object(5)\n",
      "memory usage: 86.2+ KB\n"
     ]
    }
   ],
   "source": [
    "dat.info()"
   ]
  },
  {
   "cell_type": "code",
   "execution_count": 80,
   "id": "20197a11",
   "metadata": {},
   "outputs": [
    {
     "data": {
      "text/html": [
       "<div>\n",
       "<style scoped>\n",
       "    .dataframe tbody tr th:only-of-type {\n",
       "        vertical-align: middle;\n",
       "    }\n",
       "\n",
       "    .dataframe tbody tr th {\n",
       "        vertical-align: top;\n",
       "    }\n",
       "\n",
       "    .dataframe thead th {\n",
       "        text-align: right;\n",
       "    }\n",
       "</style>\n",
       "<table border=\"1\" class=\"dataframe\">\n",
       "  <thead>\n",
       "    <tr style=\"text-align: right;\">\n",
       "      <th></th>\n",
       "      <th>Age</th>\n",
       "      <th>Sex</th>\n",
       "      <th>ChestPainType</th>\n",
       "      <th>RestingBP</th>\n",
       "      <th>Cholesterol</th>\n",
       "      <th>FastingBS</th>\n",
       "      <th>RestingECG</th>\n",
       "      <th>MaxHR</th>\n",
       "      <th>ExerciseAngina</th>\n",
       "      <th>Oldpeak</th>\n",
       "      <th>ST_Slope</th>\n",
       "      <th>HeartDisease</th>\n",
       "    </tr>\n",
       "  </thead>\n",
       "  <tbody>\n",
       "    <tr>\n",
       "      <th>0</th>\n",
       "      <td>40</td>\n",
       "      <td>M</td>\n",
       "      <td>ATA</td>\n",
       "      <td>140</td>\n",
       "      <td>289</td>\n",
       "      <td>0</td>\n",
       "      <td>Normal</td>\n",
       "      <td>172</td>\n",
       "      <td>N</td>\n",
       "      <td>0.0</td>\n",
       "      <td>Up</td>\n",
       "      <td>0</td>\n",
       "    </tr>\n",
       "    <tr>\n",
       "      <th>1</th>\n",
       "      <td>49</td>\n",
       "      <td>F</td>\n",
       "      <td>NAP</td>\n",
       "      <td>160</td>\n",
       "      <td>180</td>\n",
       "      <td>0</td>\n",
       "      <td>Normal</td>\n",
       "      <td>156</td>\n",
       "      <td>N</td>\n",
       "      <td>1.0</td>\n",
       "      <td>Flat</td>\n",
       "      <td>1</td>\n",
       "    </tr>\n",
       "    <tr>\n",
       "      <th>2</th>\n",
       "      <td>37</td>\n",
       "      <td>M</td>\n",
       "      <td>ATA</td>\n",
       "      <td>130</td>\n",
       "      <td>283</td>\n",
       "      <td>0</td>\n",
       "      <td>ST</td>\n",
       "      <td>98</td>\n",
       "      <td>N</td>\n",
       "      <td>0.0</td>\n",
       "      <td>Up</td>\n",
       "      <td>0</td>\n",
       "    </tr>\n",
       "  </tbody>\n",
       "</table>\n",
       "</div>"
      ],
      "text/plain": [
       "   Age Sex ChestPainType  RestingBP  Cholesterol  FastingBS RestingECG  MaxHR  \\\n",
       "0   40   M           ATA        140          289          0     Normal    172   \n",
       "1   49   F           NAP        160          180          0     Normal    156   \n",
       "2   37   M           ATA        130          283          0         ST     98   \n",
       "\n",
       "  ExerciseAngina  Oldpeak ST_Slope  HeartDisease  \n",
       "0              N      0.0       Up             0  \n",
       "1              N      1.0     Flat             1  \n",
       "2              N      0.0       Up             0  "
      ]
     },
     "execution_count": 80,
     "metadata": {},
     "output_type": "execute_result"
    }
   ],
   "source": [
    "dat.head(3)"
   ]
  },
  {
   "cell_type": "code",
   "execution_count": 81,
   "id": "084db2df",
   "metadata": {},
   "outputs": [
    {
     "data": {
      "text/plain": [
       "KNeighborsClassifier()"
      ]
     },
     "execution_count": 81,
     "metadata": {},
     "output_type": "execute_result"
    }
   ],
   "source": [
    "X = dat[ ['RestingBP', 'MaxHR', 'Oldpeak'] ]\n",
    "y = dat[ 'HeartDisease' ]  # 0, 1 \n",
    "\n",
    "X_train, X_test, y_train, y_test = train_test_split(X, y)\n",
    "\n",
    "knn = KNeighborsClassifier()\n",
    "knn.fit(X_train, y_train)"
   ]
  },
  {
   "cell_type": "code",
   "execution_count": 82,
   "id": "c30d4dcc",
   "metadata": {},
   "outputs": [
    {
     "data": {
      "text/plain": [
       "array([0.58695652, 0.63043478, 0.65217391, 0.65217391, 0.56521739])"
      ]
     },
     "execution_count": 82,
     "metadata": {},
     "output_type": "execute_result"
    }
   ],
   "source": [
    "from sklearn.model_selection import cross_val_score, KFold\n",
    "\n",
    "kfold = KFold(n_splits=5, shuffle=True)\n",
    "scores = cross_val_score(knn, X_test, y_test, cv=kfold)\n",
    "scores"
   ]
  },
  {
   "cell_type": "markdown",
   "id": "04c097c8",
   "metadata": {},
   "source": [
    "### 데이터 셋 \n",
    " * https://www.kaggle.com/sashankpillai/spotify-top-200-charts-20202021\n",
    " * spotify_dataset.csv"
   ]
  },
  {
   "cell_type": "code",
   "execution_count": 83,
   "id": "6b89c418",
   "metadata": {},
   "outputs": [],
   "source": [
    "from sklearn.ensemble import RandomForestClassifier"
   ]
  },
  {
   "cell_type": "code",
   "execution_count": 96,
   "id": "964f8ed9",
   "metadata": {},
   "outputs": [
    {
     "name": "stdout",
     "output_type": "stream",
     "text": [
      "(1556, 23)\n"
     ]
    },
    {
     "data": {
      "text/html": [
       "<div>\n",
       "<style scoped>\n",
       "    .dataframe tbody tr th:only-of-type {\n",
       "        vertical-align: middle;\n",
       "    }\n",
       "\n",
       "    .dataframe tbody tr th {\n",
       "        vertical-align: top;\n",
       "    }\n",
       "\n",
       "    .dataframe thead th {\n",
       "        text-align: right;\n",
       "    }\n",
       "</style>\n",
       "<table border=\"1\" class=\"dataframe\">\n",
       "  <thead>\n",
       "    <tr style=\"text-align: right;\">\n",
       "      <th></th>\n",
       "      <th>Index</th>\n",
       "      <th>Highest Charting Position</th>\n",
       "      <th>Number of Times Charted</th>\n",
       "      <th>Week of Highest Charting</th>\n",
       "      <th>Song Name</th>\n",
       "      <th>Streams</th>\n",
       "      <th>Artist</th>\n",
       "      <th>Artist Followers</th>\n",
       "      <th>Song ID</th>\n",
       "      <th>Genre</th>\n",
       "      <th>...</th>\n",
       "      <th>Danceability</th>\n",
       "      <th>Energy</th>\n",
       "      <th>Loudness</th>\n",
       "      <th>Speechiness</th>\n",
       "      <th>Acousticness</th>\n",
       "      <th>Liveness</th>\n",
       "      <th>Tempo</th>\n",
       "      <th>Duration (ms)</th>\n",
       "      <th>Valence</th>\n",
       "      <th>Chord</th>\n",
       "    </tr>\n",
       "  </thead>\n",
       "  <tbody>\n",
       "    <tr>\n",
       "      <th>0</th>\n",
       "      <td>1</td>\n",
       "      <td>1</td>\n",
       "      <td>8</td>\n",
       "      <td>2021-07-23--2021-07-30</td>\n",
       "      <td>Beggin'</td>\n",
       "      <td>48,633,449</td>\n",
       "      <td>Måneskin</td>\n",
       "      <td>3377762</td>\n",
       "      <td>3Wrjm47oTz2sjIgck11l5e</td>\n",
       "      <td>['indie rock italiano', 'italian pop']</td>\n",
       "      <td>...</td>\n",
       "      <td>0.714</td>\n",
       "      <td>0.8</td>\n",
       "      <td>-4.808</td>\n",
       "      <td>0.0504</td>\n",
       "      <td>0.127</td>\n",
       "      <td>0.359</td>\n",
       "      <td>134.002</td>\n",
       "      <td>211560</td>\n",
       "      <td>0.589</td>\n",
       "      <td>B</td>\n",
       "    </tr>\n",
       "    <tr>\n",
       "      <th>1</th>\n",
       "      <td>2</td>\n",
       "      <td>2</td>\n",
       "      <td>3</td>\n",
       "      <td>2021-07-23--2021-07-30</td>\n",
       "      <td>STAY (with Justin Bieber)</td>\n",
       "      <td>47,248,719</td>\n",
       "      <td>The Kid LAROI</td>\n",
       "      <td>2230022</td>\n",
       "      <td>5HCyWlXZPP0y6Gqq8TgA20</td>\n",
       "      <td>['australian hip hop']</td>\n",
       "      <td>...</td>\n",
       "      <td>0.591</td>\n",
       "      <td>0.764</td>\n",
       "      <td>-5.484</td>\n",
       "      <td>0.0483</td>\n",
       "      <td>0.0383</td>\n",
       "      <td>0.103</td>\n",
       "      <td>169.928</td>\n",
       "      <td>141806</td>\n",
       "      <td>0.478</td>\n",
       "      <td>C#/Db</td>\n",
       "    </tr>\n",
       "    <tr>\n",
       "      <th>2</th>\n",
       "      <td>3</td>\n",
       "      <td>1</td>\n",
       "      <td>11</td>\n",
       "      <td>2021-06-25--2021-07-02</td>\n",
       "      <td>good 4 u</td>\n",
       "      <td>40,162,559</td>\n",
       "      <td>Olivia Rodrigo</td>\n",
       "      <td>6266514</td>\n",
       "      <td>4ZtFanR9U6ndgddUvNcjcG</td>\n",
       "      <td>['pop']</td>\n",
       "      <td>...</td>\n",
       "      <td>0.563</td>\n",
       "      <td>0.664</td>\n",
       "      <td>-5.044</td>\n",
       "      <td>0.154</td>\n",
       "      <td>0.335</td>\n",
       "      <td>0.0849</td>\n",
       "      <td>166.928</td>\n",
       "      <td>178147</td>\n",
       "      <td>0.688</td>\n",
       "      <td>A</td>\n",
       "    </tr>\n",
       "  </tbody>\n",
       "</table>\n",
       "<p>3 rows × 23 columns</p>\n",
       "</div>"
      ],
      "text/plain": [
       "   Index  Highest Charting Position  Number of Times Charted  \\\n",
       "0      1                          1                        8   \n",
       "1      2                          2                        3   \n",
       "2      3                          1                       11   \n",
       "\n",
       "  Week of Highest Charting                  Song Name     Streams  \\\n",
       "0   2021-07-23--2021-07-30                    Beggin'  48,633,449   \n",
       "1   2021-07-23--2021-07-30  STAY (with Justin Bieber)  47,248,719   \n",
       "2   2021-06-25--2021-07-02                   good 4 u  40,162,559   \n",
       "\n",
       "           Artist Artist Followers                 Song ID  \\\n",
       "0        Måneskin          3377762  3Wrjm47oTz2sjIgck11l5e   \n",
       "1   The Kid LAROI          2230022  5HCyWlXZPP0y6Gqq8TgA20   \n",
       "2  Olivia Rodrigo          6266514  4ZtFanR9U6ndgddUvNcjcG   \n",
       "\n",
       "                                    Genre  ... Danceability Energy Loudness  \\\n",
       "0  ['indie rock italiano', 'italian pop']  ...        0.714    0.8   -4.808   \n",
       "1                  ['australian hip hop']  ...        0.591  0.764   -5.484   \n",
       "2                                 ['pop']  ...        0.563  0.664   -5.044   \n",
       "\n",
       "  Speechiness Acousticness Liveness    Tempo Duration (ms) Valence  Chord  \n",
       "0      0.0504        0.127    0.359  134.002        211560   0.589      B  \n",
       "1      0.0483       0.0383    0.103  169.928        141806   0.478  C#/Db  \n",
       "2       0.154        0.335   0.0849  166.928        178147   0.688      A  \n",
       "\n",
       "[3 rows x 23 columns]"
      ]
     },
     "execution_count": 96,
     "metadata": {},
     "output_type": "execute_result"
    }
   ],
   "source": [
    "dat = pd.read_csv(\"./data/spotify_dataset.csv\")\n",
    "print(dat.shape)\n",
    "dat.head(3)"
   ]
  },
  {
   "cell_type": "code",
   "execution_count": 97,
   "id": "63cecfcd",
   "metadata": {},
   "outputs": [
    {
     "name": "stdout",
     "output_type": "stream",
     "text": [
      "<class 'pandas.core.frame.DataFrame'>\n",
      "RangeIndex: 1556 entries, 0 to 1555\n",
      "Data columns (total 23 columns):\n",
      " #   Column                     Non-Null Count  Dtype \n",
      "---  ------                     --------------  ----- \n",
      " 0   Index                      1556 non-null   int64 \n",
      " 1   Highest Charting Position  1556 non-null   int64 \n",
      " 2   Number of Times Charted    1556 non-null   int64 \n",
      " 3   Week of Highest Charting   1556 non-null   object\n",
      " 4   Song Name                  1556 non-null   object\n",
      " 5   Streams                    1556 non-null   object\n",
      " 6   Artist                     1556 non-null   object\n",
      " 7   Artist Followers           1556 non-null   object\n",
      " 8   Song ID                    1556 non-null   object\n",
      " 9   Genre                      1556 non-null   object\n",
      " 10  Release Date               1556 non-null   object\n",
      " 11  Weeks Charted              1556 non-null   object\n",
      " 12  Popularity                 1556 non-null   object\n",
      " 13  Danceability               1556 non-null   object\n",
      " 14  Energy                     1556 non-null   object\n",
      " 15  Loudness                   1556 non-null   object\n",
      " 16  Speechiness                1556 non-null   object\n",
      " 17  Acousticness               1556 non-null   object\n",
      " 18  Liveness                   1556 non-null   object\n",
      " 19  Tempo                      1556 non-null   object\n",
      " 20  Duration (ms)              1556 non-null   object\n",
      " 21  Valence                    1556 non-null   object\n",
      " 22  Chord                      1556 non-null   object\n",
      "dtypes: int64(3), object(20)\n",
      "memory usage: 279.7+ KB\n"
     ]
    }
   ],
   "source": [
    "dat.info()"
   ]
  },
  {
   "cell_type": "code",
   "execution_count": 98,
   "id": "342d46f3",
   "metadata": {},
   "outputs": [
    {
     "data": {
      "text/plain": [
       "array([  1,   2,   3,   5,   8,   4,   9,   7,  14,  20,  19,  22,  24,\n",
       "        12,  27,  18,  15,  32,  11,  10,  36,  39,  41,  17,  33,  46,\n",
       "        48,  29,  52,  40,  56,  57,  31,  34,  26,  35,  69,  71,  72,\n",
       "        74,  75,   6,  83,  76,  42,  78,  89,  23,  55,  94,  96,  97,\n",
       "        60,  99,  85, 103,  88,  45,  59, 109, 110, 113,  80, 116,  13,\n",
       "       126, 122, 128, 131, 135, 108, 138, 141,  81,  25,  90, 100, 147,\n",
       "       121, 153, 154, 142,  68, 120, 155, 144,  65, 149, 181, 183, 184,\n",
       "       191,  64, 194, 197,  58, 199, 172,  66,  87, 127, 129, 150, 159,\n",
       "       105, 180, 175, 193,  79,  28, 164, 169, 187,  95, 101, 132, 152,\n",
       "       189, 136, 117,  43,  47,  63,  73,  82, 165,  50, 176, 179, 146,\n",
       "       112, 170, 133, 119, 161,  84, 106, 124, 166,  54, 195, 134,  21,\n",
       "       200,  53, 118,  67, 137,  91, 198,  30,  92, 148, 182,  77,  38,\n",
       "        61, 115,  37,  62, 177, 107, 186, 104,  51,  93, 102, 114, 139,\n",
       "       192, 160, 140, 188,  49,  44, 168,  86, 157, 123, 158, 185, 173,\n",
       "       151, 143, 167, 162, 174, 190, 171,  16, 111, 145, 156,  70, 163,\n",
       "       196, 125,  98, 130, 178], dtype=int64)"
      ]
     },
     "execution_count": 98,
     "metadata": {},
     "output_type": "execute_result"
    }
   ],
   "source": [
    "dat[ 'Highest Charting Position' ].unique()"
   ]
  },
  {
   "cell_type": "code",
   "execution_count": 99,
   "id": "154f308f",
   "metadata": {},
   "outputs": [
    {
     "data": {
      "text/html": [
       "<div>\n",
       "<style scoped>\n",
       "    .dataframe tbody tr th:only-of-type {\n",
       "        vertical-align: middle;\n",
       "    }\n",
       "\n",
       "    .dataframe tbody tr th {\n",
       "        vertical-align: top;\n",
       "    }\n",
       "\n",
       "    .dataframe thead th {\n",
       "        text-align: right;\n",
       "    }\n",
       "</style>\n",
       "<table border=\"1\" class=\"dataframe\">\n",
       "  <thead>\n",
       "    <tr style=\"text-align: right;\">\n",
       "      <th></th>\n",
       "      <th>Index</th>\n",
       "      <th>Highest Charting Position</th>\n",
       "      <th>Number of Times Charted</th>\n",
       "      <th>Week of Highest Charting</th>\n",
       "      <th>Song Name</th>\n",
       "      <th>Streams</th>\n",
       "      <th>Artist</th>\n",
       "      <th>Artist Followers</th>\n",
       "      <th>Song ID</th>\n",
       "      <th>Genre</th>\n",
       "      <th>...</th>\n",
       "      <th>Danceability</th>\n",
       "      <th>Energy</th>\n",
       "      <th>Loudness</th>\n",
       "      <th>Speechiness</th>\n",
       "      <th>Acousticness</th>\n",
       "      <th>Liveness</th>\n",
       "      <th>Tempo</th>\n",
       "      <th>Duration (ms)</th>\n",
       "      <th>Valence</th>\n",
       "      <th>Chord</th>\n",
       "    </tr>\n",
       "  </thead>\n",
       "  <tbody>\n",
       "    <tr>\n",
       "      <th>35</th>\n",
       "      <td>36</td>\n",
       "      <td>36</td>\n",
       "      <td>1</td>\n",
       "      <td>2021-07-23--2021-07-30</td>\n",
       "      <td>NOT SOBER (feat. Polo G &amp; Stunna Gambino)</td>\n",
       "      <td>11,869,336</td>\n",
       "      <td>The Kid LAROI</td>\n",
       "      <td></td>\n",
       "      <td></td>\n",
       "      <td></td>\n",
       "      <td>...</td>\n",
       "      <td></td>\n",
       "      <td></td>\n",
       "      <td></td>\n",
       "      <td></td>\n",
       "      <td></td>\n",
       "      <td></td>\n",
       "      <td></td>\n",
       "      <td></td>\n",
       "      <td></td>\n",
       "      <td></td>\n",
       "    </tr>\n",
       "    <tr>\n",
       "      <th>163</th>\n",
       "      <td>164</td>\n",
       "      <td>5</td>\n",
       "      <td>39</td>\n",
       "      <td>2020-10-30--2020-11-06</td>\n",
       "      <td>34+35</td>\n",
       "      <td>5,453,159</td>\n",
       "      <td>Ariana Grande</td>\n",
       "      <td></td>\n",
       "      <td></td>\n",
       "      <td></td>\n",
       "      <td>...</td>\n",
       "      <td></td>\n",
       "      <td></td>\n",
       "      <td></td>\n",
       "      <td></td>\n",
       "      <td></td>\n",
       "      <td></td>\n",
       "      <td></td>\n",
       "      <td></td>\n",
       "      <td></td>\n",
       "      <td></td>\n",
       "    </tr>\n",
       "    <tr>\n",
       "      <th>464</th>\n",
       "      <td>465</td>\n",
       "      <td>118</td>\n",
       "      <td>1</td>\n",
       "      <td>2021-03-26--2021-04-02</td>\n",
       "      <td>Richer (feat. Polo G)</td>\n",
       "      <td>6,292,362</td>\n",
       "      <td>Rod Wave</td>\n",
       "      <td></td>\n",
       "      <td></td>\n",
       "      <td></td>\n",
       "      <td>...</td>\n",
       "      <td></td>\n",
       "      <td></td>\n",
       "      <td></td>\n",
       "      <td></td>\n",
       "      <td></td>\n",
       "      <td></td>\n",
       "      <td></td>\n",
       "      <td></td>\n",
       "      <td></td>\n",
       "      <td></td>\n",
       "    </tr>\n",
       "  </tbody>\n",
       "</table>\n",
       "<p>3 rows × 23 columns</p>\n",
       "</div>"
      ],
      "text/plain": [
       "     Index  Highest Charting Position  Number of Times Charted  \\\n",
       "35      36                         36                        1   \n",
       "163    164                          5                       39   \n",
       "464    465                        118                        1   \n",
       "\n",
       "    Week of Highest Charting                                  Song Name  \\\n",
       "35    2021-07-23--2021-07-30  NOT SOBER (feat. Polo G & Stunna Gambino)   \n",
       "163   2020-10-30--2020-11-06                                      34+35   \n",
       "464   2021-03-26--2021-04-02                      Richer (feat. Polo G)   \n",
       "\n",
       "        Streams         Artist Artist Followers Song ID Genre  ...  \\\n",
       "35   11,869,336  The Kid LAROI                                 ...   \n",
       "163   5,453,159  Ariana Grande                                 ...   \n",
       "464   6,292,362       Rod Wave                                 ...   \n",
       "\n",
       "    Danceability Energy Loudness Speechiness Acousticness Liveness Tempo  \\\n",
       "35                                                                         \n",
       "163                                                                        \n",
       "464                                                                        \n",
       "\n",
       "    Duration (ms) Valence Chord  \n",
       "35                               \n",
       "163                              \n",
       "464                              \n",
       "\n",
       "[3 rows x 23 columns]"
      ]
     },
     "execution_count": 99,
     "metadata": {},
     "output_type": "execute_result"
    }
   ],
   "source": [
    "dat[ dat['Tempo'] == ' '].head(3)"
   ]
  },
  {
   "cell_type": "code",
   "execution_count": 100,
   "id": "fd236659",
   "metadata": {},
   "outputs": [],
   "source": [
    "dat.loc[dat['Tempo']==' ',  'Tempo'] = 0\n",
    "dat.loc[dat['Artist Followers']==' ',  'Artist Followers'] = 0\n",
    "dat.loc[dat['Danceability']==' ',  'Danceability'] = 0\n",
    "dat.loc[dat['Energy']==' ',  'Energy'] = 0"
   ]
  },
  {
   "cell_type": "code",
   "execution_count": 101,
   "id": "eae6bf3a",
   "metadata": {},
   "outputs": [],
   "source": [
    "dat['Number of Times Charted'] = dat['Number of Times Charted'].astype(\"float32\")\n",
    "dat['Artist Followers'] = dat['Artist Followers'].astype(\"float32\")\n",
    "dat['Danceability'] = dat['Danceability'].astype(\"float32\")\n",
    "dat['Energy'] = dat['Energy'].astype(\"float32\")\n",
    "dat['Tempo'] = dat['Tempo'].astype(\"float32\")"
   ]
  },
  {
   "cell_type": "code",
   "execution_count": 102,
   "id": "408979fd",
   "metadata": {},
   "outputs": [
    {
     "data": {
      "text/plain": [
       "RandomForestClassifier()"
      ]
     },
     "execution_count": 102,
     "metadata": {},
     "output_type": "execute_result"
    }
   ],
   "source": [
    "X = dat[ ['Number of Times Charted', 'Artist Followers', \n",
    "          'Danceability', 'Energy', 'Tempo'] ]\n",
    "y = dat[ 'Highest Charting Position' ]\n",
    "\n",
    "X_train, X_test, y_train, y_test = train_test_split(X, y)\n",
    "\n",
    "rf = RandomForestClassifier()\n",
    "rf.fit(X_train, y_train)"
   ]
  },
  {
   "cell_type": "code",
   "execution_count": 103,
   "id": "36eadeb8",
   "metadata": {},
   "outputs": [
    {
     "data": {
      "text/plain": [
       "array([0.        , 0.        , 0.02564103, 0.        , 0.01298701])"
      ]
     },
     "execution_count": 103,
     "metadata": {},
     "output_type": "execute_result"
    }
   ],
   "source": [
    "from sklearn.model_selection import cross_val_score, KFold\n",
    "\n",
    "rf.fit(X_train, y_train)\n",
    "kfold = KFold(n_splits=5, shuffle=True)\n",
    "scores = cross_val_score(rf, X_test, y_test, cv=kfold)\n",
    "scores"
   ]
  },
  {
   "cell_type": "code",
   "execution_count": null,
   "id": "e3fccefb",
   "metadata": {},
   "outputs": [],
   "source": []
  }
 ],
 "metadata": {
  "kernelspec": {
   "display_name": "Python 3",
   "language": "python",
   "name": "python3"
  },
  "language_info": {
   "codemirror_mode": {
    "name": "ipython",
    "version": 3
   },
   "file_extension": ".py",
   "mimetype": "text/x-python",
   "name": "python",
   "nbconvert_exporter": "python",
   "pygments_lexer": "ipython3",
   "version": "3.8.8"
  }
 },
 "nbformat": 4,
 "nbformat_minor": 5
}
