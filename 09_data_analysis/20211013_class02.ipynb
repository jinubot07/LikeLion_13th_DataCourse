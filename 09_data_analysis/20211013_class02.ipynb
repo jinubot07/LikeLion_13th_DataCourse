{
  "nbformat": 4,
  "nbformat_minor": 0,
  "metadata": {
    "kernelspec": {
      "language": "python",
      "display_name": "Python 3",
      "name": "python3"
    },
    "language_info": {
      "pygments_lexer": "ipython3",
      "nbconvert_exporter": "python",
      "version": "3.6.4",
      "file_extension": ".py",
      "codemirror_mode": {
        "name": "ipython",
        "version": 3
      },
      "name": "python",
      "mimetype": "text/x-python"
    },
    "colab": {
      "name": "20211013-class02.ipynb",
      "provenance": []
    }
  },
  "cells": [
    {
      "cell_type": "code",
      "metadata": {
        "_uuid": "8f2839f25d086af736a60e9eeb907d3b93b6e0e5",
        "_cell_guid": "b1076dfc-b9ad-4769-8c92-a6c4dae69d19",
        "execution": {
          "iopub.status.busy": "2021-10-13T04:03:04.627241Z",
          "iopub.execute_input": "2021-10-13T04:03:04.629076Z",
          "iopub.status.idle": "2021-10-13T04:03:04.672627Z",
          "shell.execute_reply.started": "2021-10-13T04:03:04.628746Z",
          "shell.execute_reply": "2021-10-13T04:03:04.671038Z"
        },
        "trusted": true,
        "id": "ztONsZGN16n-"
      },
      "source": [
        "import numpy as np # linear algebra\n",
        "import pandas as pd # data processing, CSV file I/O (e.g. pd.read_csv)\n",
        "\n",
        "\n",
        "import os\n",
        "for dirname, _, filenames in os.walk('/kaggle/input'):\n",
        "    for filename in filenames:\n",
        "        print(os.path.join(dirname, filename))\n"
      ],
      "execution_count": null,
      "outputs": []
    },
    {
      "cell_type": "code",
      "metadata": {
        "execution": {
          "iopub.status.busy": "2021-10-13T04:03:04.884281Z",
          "iopub.execute_input": "2021-10-13T04:03:04.884619Z",
          "iopub.status.idle": "2021-10-13T04:03:04.981893Z",
          "shell.execute_reply.started": "2021-10-13T04:03:04.884586Z",
          "shell.execute_reply": "2021-10-13T04:03:04.980588Z"
        },
        "trusted": true,
        "id": "dJ-xxMUl16n_"
      },
      "source": [
        "trdata = pd.read_csv(\"/kaggle/input/2019-2nd-ml-month-with-kakr/train.csv\")\n",
        "trdata.shape"
      ],
      "execution_count": null,
      "outputs": []
    },
    {
      "cell_type": "code",
      "metadata": {
        "execution": {
          "iopub.status.busy": "2021-10-13T04:03:05.130076Z",
          "iopub.execute_input": "2021-10-13T04:03:05.130433Z",
          "iopub.status.idle": "2021-10-13T04:03:05.170351Z",
          "shell.execute_reply.started": "2021-10-13T04:03:05.13038Z",
          "shell.execute_reply": "2021-10-13T04:03:05.169454Z"
        },
        "trusted": true,
        "id": "c7-0gyhr16n_"
      },
      "source": [
        "trdata.info()"
      ],
      "execution_count": null,
      "outputs": []
    },
    {
      "cell_type": "code",
      "metadata": {
        "execution": {
          "iopub.status.busy": "2021-10-13T04:04:31.392432Z",
          "iopub.execute_input": "2021-10-13T04:04:31.393026Z",
          "iopub.status.idle": "2021-10-13T04:04:31.398649Z",
          "shell.execute_reply.started": "2021-10-13T04:04:31.392981Z",
          "shell.execute_reply": "2021-10-13T04:04:31.397351Z"
        },
        "trusted": true,
        "id": "K2ZhhVU816n_"
      },
      "source": [
        "from sklearn.model_selection import train_test_split\n",
        "from sklearn.linear_model import LinearRegression"
      ],
      "execution_count": null,
      "outputs": []
    },
    {
      "cell_type": "code",
      "metadata": {
        "execution": {
          "iopub.status.busy": "2021-10-13T04:04:31.655978Z",
          "iopub.execute_input": "2021-10-13T04:04:31.656303Z",
          "iopub.status.idle": "2021-10-13T04:04:31.670856Z",
          "shell.execute_reply.started": "2021-10-13T04:04:31.656273Z",
          "shell.execute_reply": "2021-10-13T04:04:31.669278Z"
        },
        "trusted": true,
        "id": "P2LgtUBv16n_"
      },
      "source": [
        "X = trdata[ ['bedrooms', 'bathrooms']]\n",
        "y = trdata['price']\n",
        "\n",
        "X_train, X_test, y_train, y_test = train_test_split(X, y, \n",
        "                                                   test_size=0.1,\n",
        "                                                   random_state=42)"
      ],
      "execution_count": null,
      "outputs": []
    },
    {
      "cell_type": "code",
      "metadata": {
        "execution": {
          "iopub.status.busy": "2021-10-13T04:04:31.891735Z",
          "iopub.execute_input": "2021-10-13T04:04:31.892199Z",
          "iopub.status.idle": "2021-10-13T04:04:31.930492Z",
          "shell.execute_reply.started": "2021-10-13T04:04:31.892156Z",
          "shell.execute_reply": "2021-10-13T04:04:31.929583Z"
        },
        "trusted": true,
        "id": "8bOU_FEh16oA"
      },
      "source": [
        "model = LinearRegression()\n",
        "model.fit(X_train, y_train)\n",
        "tr_score = model.score(X_train,y_train)\n",
        "test_score = model.score(X_test, y_test)\n",
        "print(\"학습용 :{}, 테스트용 :{}\".format(tr_score, test_score))"
      ],
      "execution_count": null,
      "outputs": []
    },
    {
      "cell_type": "code",
      "metadata": {
        "id": "r2c_BPHH16oA"
      },
      "source": [
        ""
      ],
      "execution_count": null,
      "outputs": []
    }
  ]
}