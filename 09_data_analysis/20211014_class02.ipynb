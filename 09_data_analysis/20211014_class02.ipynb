{
  "nbformat": 4,
  "nbformat_minor": 0,
  "metadata": {
    "kernelspec": {
      "language": "python",
      "display_name": "Python 3",
      "name": "python3"
    },
    "language_info": {
      "pygments_lexer": "ipython3",
      "nbconvert_exporter": "python",
      "version": "3.6.4",
      "file_extension": ".py",
      "codemirror_mode": {
        "name": "ipython",
        "version": 3
      },
      "name": "python",
      "mimetype": "text/x-python"
    },
    "colab": {
      "name": "20211014-class02.ipynb",
      "provenance": []
    }
  },
  "cells": [
    {
      "cell_type": "code",
      "metadata": {
        "_uuid": "8f2839f25d086af736a60e9eeb907d3b93b6e0e5",
        "_cell_guid": "b1076dfc-b9ad-4769-8c92-a6c4dae69d19",
        "execution": {
          "iopub.status.busy": "2021-10-14T04:05:03.377824Z",
          "iopub.execute_input": "2021-10-14T04:05:03.378182Z",
          "iopub.status.idle": "2021-10-14T04:05:03.406106Z",
          "shell.execute_reply.started": "2021-10-14T04:05:03.378083Z",
          "shell.execute_reply": "2021-10-14T04:05:03.40537Z"
        },
        "trusted": true,
        "id": "MjkCLPln17Ew"
      },
      "source": [
        "import numpy as np # linear algebra\n",
        "import pandas as pd # data processing, CSV file I/O (e.g. pd.read_csv)\n",
        "\n",
        "import os\n",
        "for dirname, _, filenames in os.walk('/kaggle/input'):\n",
        "    for filename in filenames:\n",
        "        print(os.path.join(dirname, filename))"
      ],
      "execution_count": null,
      "outputs": []
    },
    {
      "cell_type": "code",
      "metadata": {
        "execution": {
          "iopub.status.busy": "2021-10-14T05:01:32.08472Z",
          "iopub.execute_input": "2021-10-14T05:01:32.085437Z",
          "iopub.status.idle": "2021-10-14T05:01:32.113785Z",
          "shell.execute_reply.started": "2021-10-14T05:01:32.085387Z",
          "shell.execute_reply": "2021-10-14T05:01:32.112809Z"
        },
        "trusted": true,
        "id": "dEUd6H0a17Ex"
      },
      "source": [
        "train = pd.read_csv(\"/kaggle/input/titanic/train.csv\")\n",
        "test = pd.read_csv(\"/kaggle/input/titanic/test.csv\") \n",
        "sub = pd.read_csv(\"/kaggle/input/titanic/gender_submission.csv\") \n",
        "\n",
        "train.shape, test.shape, sub.shape"
      ],
      "execution_count": null,
      "outputs": []
    },
    {
      "cell_type": "code",
      "metadata": {
        "execution": {
          "iopub.status.busy": "2021-10-14T05:01:32.575137Z",
          "iopub.execute_input": "2021-10-14T05:01:32.575832Z",
          "iopub.status.idle": "2021-10-14T05:01:32.600332Z",
          "shell.execute_reply.started": "2021-10-14T05:01:32.575786Z",
          "shell.execute_reply": "2021-10-14T05:01:32.599717Z"
        },
        "trusted": true,
        "id": "c1McmwNz17Ey"
      },
      "source": [
        "train.info(), test.info()"
      ],
      "execution_count": null,
      "outputs": []
    },
    {
      "cell_type": "code",
      "metadata": {
        "execution": {
          "iopub.status.busy": "2021-10-14T05:01:33.014631Z",
          "iopub.execute_input": "2021-10-14T05:01:33.015451Z",
          "iopub.status.idle": "2021-10-14T05:01:33.034715Z",
          "shell.execute_reply.started": "2021-10-14T05:01:33.015395Z",
          "shell.execute_reply": "2021-10-14T05:01:33.03371Z"
        },
        "trusted": true,
        "id": "UMNDU9Mb17Ey"
      },
      "source": [
        "train.head()"
      ],
      "execution_count": null,
      "outputs": []
    },
    {
      "cell_type": "markdown",
      "metadata": {
        "id": "kVKN-EDN17Ey"
      },
      "source": [
        "### 결측치 처리\n",
        " * 결측치 : Age(train, test), Embarked(train), Fare(test)"
      ]
    },
    {
      "cell_type": "code",
      "metadata": {
        "execution": {
          "iopub.status.busy": "2021-10-14T05:01:35.096528Z",
          "iopub.execute_input": "2021-10-14T05:01:35.097445Z",
          "iopub.status.idle": "2021-10-14T05:01:35.109587Z",
          "shell.execute_reply.started": "2021-10-14T05:01:35.097384Z",
          "shell.execute_reply": "2021-10-14T05:01:35.108817Z"
        },
        "trusted": true,
        "id": "MHZ70YzD17Ez"
      },
      "source": [
        "train['Embarked'].value_counts()"
      ],
      "execution_count": null,
      "outputs": []
    },
    {
      "cell_type": "code",
      "metadata": {
        "execution": {
          "iopub.status.busy": "2021-10-14T05:01:37.833557Z",
          "iopub.execute_input": "2021-10-14T05:01:37.834399Z",
          "iopub.status.idle": "2021-10-14T05:01:37.844315Z",
          "shell.execute_reply.started": "2021-10-14T05:01:37.834357Z",
          "shell.execute_reply": "2021-10-14T05:01:37.843338Z"
        },
        "trusted": true,
        "id": "Q28YSWJt17Ez"
      },
      "source": [
        "train['Age'] = train['Age'].fillna( train['Age'].mean() )\n",
        "test['Age'] = test['Age'].fillna( test['Age'].mean() )\n",
        "\n",
        "train['Embarked'] = train['Embarked'].fillna('S')\n",
        "\n",
        "# train['Fare']\n",
        "test['Fare'] = test['Fare'].fillna( test['Fare'].mean() )"
      ],
      "execution_count": null,
      "outputs": []
    },
    {
      "cell_type": "code",
      "metadata": {
        "execution": {
          "iopub.status.busy": "2021-10-14T05:07:50.256086Z",
          "iopub.execute_input": "2021-10-14T05:07:50.256411Z",
          "iopub.status.idle": "2021-10-14T05:07:50.290494Z",
          "shell.execute_reply.started": "2021-10-14T05:07:50.25638Z",
          "shell.execute_reply": "2021-10-14T05:07:50.289454Z"
        },
        "trusted": true,
        "id": "1Wj2K2ii17Ez"
      },
      "source": [
        "mapping_sex = { 'female':1, 'male':2}\n",
        "train['Sex_n'] = train['Sex'].map(mapping_sex)\n",
        "test['Sex_n'] = test['Sex'].map(mapping_sex)\n",
        "\n",
        "mapping_E = { 'C':1, 'Q':2, 'S':3}\n",
        "train['Embarked_n'] = train['Embarked'].map(mapping_E)\n",
        "test['Embarked_n'] = test['Embarked'].map(mapping_E)\n",
        "train"
      ],
      "execution_count": null,
      "outputs": []
    },
    {
      "cell_type": "code",
      "metadata": {
        "id": "pr3FViZZ17E0"
      },
      "source": [
        ""
      ],
      "execution_count": null,
      "outputs": []
    },
    {
      "cell_type": "code",
      "metadata": {
        "execution": {
          "iopub.status.busy": "2021-10-14T04:43:14.041519Z",
          "iopub.execute_input": "2021-10-14T04:43:14.041883Z",
          "iopub.status.idle": "2021-10-14T04:43:14.059761Z",
          "shell.execute_reply.started": "2021-10-14T04:43:14.041846Z",
          "shell.execute_reply": "2021-10-14T04:43:14.058859Z"
        },
        "trusted": true,
        "id": "YxCophUt17E0"
      },
      "source": [
        "train.head()"
      ],
      "execution_count": null,
      "outputs": []
    },
    {
      "cell_type": "code",
      "metadata": {
        "execution": {
          "iopub.status.busy": "2021-10-14T04:22:28.315889Z",
          "iopub.execute_input": "2021-10-14T04:22:28.316268Z",
          "iopub.status.idle": "2021-10-14T04:22:28.321974Z",
          "shell.execute_reply.started": "2021-10-14T04:22:28.31623Z",
          "shell.execute_reply": "2021-10-14T04:22:28.320972Z"
        },
        "trusted": true,
        "id": "i7bpat1u17E0"
      },
      "source": [
        "from sklearn.model_selection import train_test_split\n",
        "from sklearn.tree import DecisionTreeClassifier"
      ],
      "execution_count": null,
      "outputs": []
    },
    {
      "cell_type": "code",
      "metadata": {
        "execution": {
          "iopub.status.busy": "2021-10-14T05:02:46.146294Z",
          "iopub.execute_input": "2021-10-14T05:02:46.147237Z",
          "iopub.status.idle": "2021-10-14T05:02:46.154711Z",
          "shell.execute_reply.started": "2021-10-14T05:02:46.147175Z",
          "shell.execute_reply": "2021-10-14T05:02:46.153897Z"
        },
        "trusted": true,
        "id": "FdahtLgd17E0"
      },
      "source": [
        "train.columns"
      ],
      "execution_count": null,
      "outputs": []
    },
    {
      "cell_type": "code",
      "metadata": {
        "execution": {
          "iopub.status.busy": "2021-10-14T05:03:10.248903Z",
          "iopub.execute_input": "2021-10-14T05:03:10.249919Z",
          "iopub.status.idle": "2021-10-14T05:03:10.261344Z",
          "shell.execute_reply.started": "2021-10-14T05:03:10.249857Z",
          "shell.execute_reply": "2021-10-14T05:03:10.260699Z"
        },
        "trusted": true,
        "id": "sb--G3Oh17E0"
      },
      "source": [
        "# sel = ['Pclass', 'SibSp', 'Parch']\n",
        "sel = ['Pclass', 'SibSp', 'Parch', 'Sex_n', 'Embarked_n']\n",
        "\n",
        "train_X = train[sel]\n",
        "train_y = train['Survived']\n",
        "\n",
        "test_X = test[sel]  # 최종 제출 \n",
        "X_train, X_test, y_train, y_test = train_test_split(train_X, train_y,\n",
        "                                                       test_size=0.3,\n",
        "                                                       random_state=42)\n"
      ],
      "execution_count": null,
      "outputs": []
    },
    {
      "cell_type": "code",
      "metadata": {
        "execution": {
          "iopub.status.busy": "2021-10-14T05:06:34.080885Z",
          "iopub.execute_input": "2021-10-14T05:06:34.081405Z",
          "iopub.status.idle": "2021-10-14T05:06:34.090461Z",
          "shell.execute_reply.started": "2021-10-14T05:06:34.08137Z",
          "shell.execute_reply": "2021-10-14T05:06:34.089763Z"
        },
        "trusted": true,
        "id": "CblMe_Ij17E0"
      },
      "source": [
        "model = DecisionTreeClassifier(max_depth=3, random_state=0).fit(X_train, y_train)\n",
        "pred = model.predict(X_test)"
      ],
      "execution_count": null,
      "outputs": []
    },
    {
      "cell_type": "code",
      "metadata": {
        "execution": {
          "iopub.status.busy": "2021-10-14T05:06:34.348881Z",
          "iopub.execute_input": "2021-10-14T05:06:34.349354Z",
          "iopub.status.idle": "2021-10-14T05:06:34.356095Z",
          "shell.execute_reply.started": "2021-10-14T05:06:34.349321Z",
          "shell.execute_reply": "2021-10-14T05:06:34.355284Z"
        },
        "trusted": true,
        "id": "y2BRri4B17E1"
      },
      "source": [
        "(pred == y_test).sum() / len(pred)"
      ],
      "execution_count": null,
      "outputs": []
    },
    {
      "cell_type": "code",
      "metadata": {
        "id": "TT0Oe9xC17E1"
      },
      "source": [
        ""
      ],
      "execution_count": null,
      "outputs": []
    },
    {
      "cell_type": "code",
      "metadata": {
        "id": "3pAa2lHm17E1"
      },
      "source": [
        "\n"
      ],
      "execution_count": null,
      "outputs": []
    }
  ]
}