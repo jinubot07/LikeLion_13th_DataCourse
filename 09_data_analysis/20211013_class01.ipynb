{
  "nbformat": 4,
  "nbformat_minor": 5,
  "metadata": {
    "kernelspec": {
      "display_name": "Python 3",
      "language": "python",
      "name": "python3"
    },
    "language_info": {
      "codemirror_mode": {
        "name": "ipython",
        "version": 3
      },
      "file_extension": ".py",
      "mimetype": "text/x-python",
      "name": "python",
      "nbconvert_exporter": "python",
      "pygments_lexer": "ipython3",
      "version": "3.8.8"
    },
    "colab": {
      "name": "20211013_class01.ipynb",
      "provenance": []
    }
  },
  "cells": [
    {
      "cell_type": "code",
      "metadata": {
        "id": "bf292814"
      },
      "source": [
        "from IPython.display import display, Image"
      ],
      "id": "bf292814",
      "execution_count": null,
      "outputs": []
    },
    {
      "cell_type": "code",
      "metadata": {
        "id": "05c1cc96"
      },
      "source": [
        "### 한글 폰트 설정\n",
        "import matplotlib\n",
        "from matplotlib import font_manager, rc\n",
        "import matplotlib.pyplot as plt\n",
        "import platform\n",
        "\n",
        "path = \"C:/Windows/Fonts/malgun.ttf\"\n",
        "if platform.system() == \"Windows\":\n",
        "    font_name = font_manager.FontProperties(fname=path).get_name()\n",
        "    rc('font', family=font_name)\n",
        "elif platform.system()==\"Darwin\":\n",
        "    rc('font', family='AppleGothic')\n",
        "else:\n",
        "    print(\"Unknown System\")\n",
        "    \n",
        "matplotlib.rcParams['axes.unicode_minus'] = False\n",
        "\n",
        "%matplotlib inline"
      ],
      "id": "05c1cc96",
      "execution_count": null,
      "outputs": []
    },
    {
      "cell_type": "code",
      "metadata": {
        "id": "325f3b8c",
        "outputId": "b39c6efc-eb09-454b-c342-b34990a01cd3"
      },
      "source": [
        "import numpy as np\n",
        "import matplotlib.pyplot as plt\n",
        "import matplotlib\n",
        "print(np.__version__)\n",
        "print(matplotlib.__version__)\n"
      ],
      "id": "325f3b8c",
      "execution_count": null,
      "outputs": [
        {
          "name": "stdout",
          "output_type": "stream",
          "text": [
            "1.20.1\n",
            "3.3.4\n"
          ]
        }
      ]
    },
    {
      "cell_type": "code",
      "metadata": {
        "id": "7a9ff9bd",
        "outputId": "2ad7f106-6624-4b76-9632-9de7529134e9"
      },
      "source": [
        "# 설치가 안되어 있을 경우, 설치 필요.\n",
        "import mglearn\n",
        "import sklearn\n",
        "print( sklearn.__version__)\n",
        "print( mglearn.__version__)\n",
        "\n",
        "from sklearn.model_selection import train_test_split\n",
        "from sklearn.linear_model import LinearRegression"
      ],
      "id": "7a9ff9bd",
      "execution_count": null,
      "outputs": [
        {
          "name": "stdout",
          "output_type": "stream",
          "text": [
            "0.24.1\n",
            "0.1.9\n"
          ]
        }
      ]
    },
    {
      "cell_type": "code",
      "metadata": {
        "id": "4a3a772b",
        "outputId": "2dd93aec-4865-401e-9d1a-8c850c82049e"
      },
      "source": [
        "mglearn.plots.plot_linear_regression_wave()"
      ],
      "id": "4a3a772b",
      "execution_count": null,
      "outputs": [
        {
          "name": "stdout",
          "output_type": "stream",
          "text": [
            "w[0]: 0.393906  b: -0.031804\n"
          ]
        },
        {
          "data": {
            "image/png": "[encoded data removed]",
            "text/plain": [
              "<Figure size 576x576 with 1 Axes>"
            ]
          },
          "metadata": {
            "needs_background": "light"
          },
          "output_type": "display_data"
        }
      ]
    },
    {
      "cell_type": "code",
      "metadata": {
        "id": "5c0ce6d0"
      },
      "source": [
        "from sklearn.datasets import load_boston\n",
        "from sklearn.linear_model import LinearRegression"
      ],
      "id": "5c0ce6d0",
      "execution_count": null,
      "outputs": []
    },
    {
      "cell_type": "code",
      "metadata": {
        "id": "ccbd7722"
      },
      "source": [
        "boston = load_boston()\n",
        "X = boston.data\n",
        "y = boston.target "
      ],
      "id": "ccbd7722",
      "execution_count": null,
      "outputs": []
    },
    {
      "cell_type": "code",
      "metadata": {
        "id": "9d70a34a",
        "outputId": "85a26dce-43ba-4959-f897-1f7691b41834"
      },
      "source": [
        "type(X), type(y)"
      ],
      "id": "9d70a34a",
      "execution_count": null,
      "outputs": [
        {
          "data": {
            "text/plain": [
              "(numpy.ndarray, numpy.ndarray)"
            ]
          },
          "execution_count": 8,
          "metadata": {},
          "output_type": "execute_result"
        }
      ]
    },
    {
      "cell_type": "code",
      "metadata": {
        "id": "338bc553",
        "outputId": "8855abff-9065-4c97-80ed-7c103d23b4ca"
      },
      "source": [
        "plt.hist(y)"
      ],
      "id": "338bc553",
      "execution_count": null,
      "outputs": [
        {
          "data": {
            "text/plain": [
              "(array([ 21.,  55.,  82., 154.,  84.,  41.,  30.,   8.,  10.,  21.]),\n",
              " array([ 5. ,  9.5, 14. , 18.5, 23. , 27.5, 32. , 36.5, 41. , 45.5, 50. ]),\n",
              " <BarContainer object of 10 artists>)"
            ]
          },
          "execution_count": 9,
          "metadata": {},
          "output_type": "execute_result"
        },
        {
          "data": {
            "image/png": "[encoded data removed]",
            "text/plain": [
              "<Figure size 432x288 with 1 Axes>"
            ]
          },
          "metadata": {
            "needs_background": "light"
          },
          "output_type": "display_data"
        }
      ]
    },
    {
      "cell_type": "code",
      "metadata": {
        "id": "062d74f0"
      },
      "source": [
        "X_train, X_test, y_train, y_test = train_test_split(X, y, random_state=42)"
      ],
      "id": "062d74f0",
      "execution_count": null,
      "outputs": []
    },
    {
      "cell_type": "code",
      "metadata": {
        "id": "41c0a22d",
        "outputId": "b84a8f2c-d7fd-41c6-fdc7-b3bdee4121eb"
      },
      "source": [
        "##  model = 모델명()\n",
        "##  model.fit(입력, 답)  # 답 - 레이블\n",
        "##  pred = model.predict(새로운 데이터 입력)\n",
        "model = LinearRegression()\n",
        "model.fit(X_train, y_train)\n",
        "pred = model.predict(X_test)\n",
        "pred[0:10]"
      ],
      "id": "41c0a22d",
      "execution_count": null,
      "outputs": [
        {
          "data": {
            "text/plain": [
              "array([28.83885359, 36.00783288, 15.08324755, 25.23090886, 18.87864064,\n",
              "       23.21398327, 17.5931124 , 14.30508093, 23.05438985, 20.62008346])"
            ]
          },
          "execution_count": 11,
          "metadata": {},
          "output_type": "execute_result"
        }
      ]
    },
    {
      "cell_type": "code",
      "metadata": {
        "id": "1a8525e0"
      },
      "source": [
        "import pandas as pd"
      ],
      "id": "1a8525e0",
      "execution_count": null,
      "outputs": []
    },
    {
      "cell_type": "code",
      "metadata": {
        "id": "826ad937",
        "outputId": "b847a99d-7948-4712-e3f3-68f7dd6ab871"
      },
      "source": [
        "dict_dat = {\"실제값\":y_test, \"예측값\":pred, \"오차\":y_test-pred}\n",
        "dat = pd.DataFrame(dict_dat)\n",
        "dat.head()"
      ],
      "id": "826ad937",
      "execution_count": null,
      "outputs": [
        {
          "data": {
            "text/html": [
              "<div>\n",
              "<style scoped>\n",
              "    .dataframe tbody tr th:only-of-type {\n",
              "        vertical-align: middle;\n",
              "    }\n",
              "\n",
              "    .dataframe tbody tr th {\n",
              "        vertical-align: top;\n",
              "    }\n",
              "\n",
              "    .dataframe thead th {\n",
              "        text-align: right;\n",
              "    }\n",
              "</style>\n",
              "<table border=\"1\" class=\"dataframe\">\n",
              "  <thead>\n",
              "    <tr style=\"text-align: right;\">\n",
              "      <th></th>\n",
              "      <th>실제값</th>\n",
              "      <th>예측값</th>\n",
              "      <th>오차</th>\n",
              "    </tr>\n",
              "  </thead>\n",
              "  <tbody>\n",
              "    <tr>\n",
              "      <th>0</th>\n",
              "      <td>23.6</td>\n",
              "      <td>28.838854</td>\n",
              "      <td>-5.238854</td>\n",
              "    </tr>\n",
              "    <tr>\n",
              "      <th>1</th>\n",
              "      <td>32.4</td>\n",
              "      <td>36.007833</td>\n",
              "      <td>-3.607833</td>\n",
              "    </tr>\n",
              "    <tr>\n",
              "      <th>2</th>\n",
              "      <td>13.6</td>\n",
              "      <td>15.083248</td>\n",
              "      <td>-1.483248</td>\n",
              "    </tr>\n",
              "    <tr>\n",
              "      <th>3</th>\n",
              "      <td>22.8</td>\n",
              "      <td>25.230909</td>\n",
              "      <td>-2.430909</td>\n",
              "    </tr>\n",
              "    <tr>\n",
              "      <th>4</th>\n",
              "      <td>16.1</td>\n",
              "      <td>18.878641</td>\n",
              "      <td>-2.778641</td>\n",
              "    </tr>\n",
              "  </tbody>\n",
              "</table>\n",
              "</div>"
            ],
            "text/plain": [
              "    실제값        예측값        오차\n",
              "0  23.6  28.838854 -5.238854\n",
              "1  32.4  36.007833 -3.607833\n",
              "2  13.6  15.083248 -1.483248\n",
              "3  22.8  25.230909 -2.430909\n",
              "4  16.1  18.878641 -2.778641"
            ]
          },
          "execution_count": 17,
          "metadata": {},
          "output_type": "execute_result"
        }
      ]
    },
    {
      "cell_type": "code",
      "metadata": {
        "id": "997c60f6",
        "outputId": "b8a87f4e-7619-4ecc-f09a-ae101328049b"
      },
      "source": [
        "dat.shape[0]"
      ],
      "id": "997c60f6",
      "execution_count": null,
      "outputs": [
        {
          "data": {
            "text/plain": [
              "127"
            ]
          },
          "execution_count": 15,
          "metadata": {},
          "output_type": "execute_result"
        }
      ]
    },
    {
      "cell_type": "code",
      "metadata": {
        "id": "c084ec87",
        "outputId": "44c236e7-c520-4590-b465-2aa37bdc537c"
      },
      "source": [
        "dat['오차제곱'] = dat['오차'] * dat['오차']\n",
        "mse_val = dat['오차제곱'].sum() / dat.shape[0]\n",
        "mse_val"
      ],
      "id": "c084ec87",
      "execution_count": null,
      "outputs": [
        {
          "data": {
            "text/plain": [
              "22.098694827098036"
            ]
          },
          "execution_count": 16,
          "metadata": {},
          "output_type": "execute_result"
        }
      ]
    },
    {
      "cell_type": "code",
      "metadata": {
        "id": "4bc05b00",
        "outputId": "ba0e0fb5-7842-4e84-bb7e-76821ed743d5"
      },
      "source": [
        "mae_val = np.abs( dat['오차'] ).sum()/dat.shape[0]\n",
        "mae_val"
      ],
      "id": "4bc05b00",
      "execution_count": null,
      "outputs": [
        {
          "data": {
            "text/plain": [
              "3.060939595437034"
            ]
          },
          "execution_count": 18,
          "metadata": {},
          "output_type": "execute_result"
        }
      ]
    },
    {
      "cell_type": "code",
      "metadata": {
        "id": "1838f296",
        "outputId": "675edb5c-bf08-4b15-f0f1-dec2d611a700"
      },
      "source": [
        "# rmse\n",
        "rmse_val = mse_val ** 0.5\n",
        "rmse_val"
      ],
      "id": "1838f296",
      "execution_count": null,
      "outputs": [
        {
          "data": {
            "text/plain": [
              "4.700924890603766"
            ]
          },
          "execution_count": 19,
          "metadata": {},
          "output_type": "execute_result"
        }
      ]
    },
    {
      "cell_type": "code",
      "metadata": {
        "id": "ba2935ca",
        "outputId": "b038bb98-a474-490b-e7bb-f3eaecc817a7"
      },
      "source": [
        "from sklearn.metrics import mean_squared_error\n",
        "mean_squared_error(y_test, pred)"
      ],
      "id": "ba2935ca",
      "execution_count": null,
      "outputs": [
        {
          "data": {
            "text/plain": [
              "22.098694827098036"
            ]
          },
          "execution_count": 20,
          "metadata": {},
          "output_type": "execute_result"
        }
      ]
    },
    {
      "cell_type": "code",
      "metadata": {
        "id": "8d816a30"
      },
      "source": [
        "## MSE :  (실제값 - 예측값)^2-전체합 / 데이터개수\n",
        "## RMSE :  MSE에 루트 씌운 것\n",
        "## MAE :  |실제값 - 예측값| 전체합 / 데이터 개수\n",
        "## RMLSE : RMSE에 실제값과 예측값을 log처리해 준것. \n",
        "## ( log(실제값+1) - log(예측값+1) )"
      ],
      "id": "8d816a30",
      "execution_count": null,
      "outputs": []
    },
    {
      "cell_type": "code",
      "metadata": {
        "id": "938e8930",
        "outputId": "a9dff8ed-f668-4e1c-f487-18cb745c17e9"
      },
      "source": [
        "print(\"학습용 데이터 결정 계수 : {:.2f}\".format(model.score(X_train, y_train)))\n",
        "print(\"테스트 데이터 결정 계수 : {:.2f}\".format(model.score(X_test, y_test)))\n"
      ],
      "id": "938e8930",
      "execution_count": null,
      "outputs": [
        {
          "name": "stdout",
          "output_type": "stream",
          "text": [
            "학습용 데이터에 대한 결정 계수 : 0.75\n",
            "테스트 데이터에 대한 결정 계수 : 0.68\n"
          ]
        }
      ]
    },
    {
      "cell_type": "code",
      "metadata": {
        "id": "d6c5ce28"
      },
      "source": [
        "## 75% - 25% \n",
        "## 70% - 30%\n",
        "X_train, X_test, y_train, y_test = train_test_split(X, y, \n",
        "                                                   test_size=0.1,\n",
        "                                                   random_state=42)"
      ],
      "id": "d6c5ce28",
      "execution_count": null,
      "outputs": []
    },
    {
      "cell_type": "code",
      "metadata": {
        "id": "169dad42",
        "outputId": "67eeec79-18a5-4a66-8991-3c5e5c1bccb5"
      },
      "source": [
        "model = LinearRegression()\n",
        "model.fit(X_train, y_train)\n",
        "tr_score = model.score(X_train,y_train)\n",
        "test_score = model.score(X_test, y_test)\n",
        "print(\"학습용 :{}, 테스트용 :{}\".format(tr_score, test_score))"
      ],
      "id": "169dad42",
      "execution_count": null,
      "outputs": [
        {
          "name": "stdout",
          "output_type": "stream",
          "text": [
            "학습용 :0.7375152736886281, 테스트용 :0.7598135533532498\n"
          ]
        }
      ]
    },
    {
      "cell_type": "code",
      "metadata": {
        "id": "e5c7a265",
        "outputId": "3680f2be-a5c6-44b7-d927-1394c2bf1514"
      },
      "source": [
        "## 9-1, 8-2, 7-3, 6-4, 5-5 \n",
        "for i in range(1, 6, 1):\n",
        "    X_train, X_test, y_train, y_test = train_test_split(X, y,\n",
        "                                                    test_size=(i/10),\n",
        "                                                    random_state=42)\n",
        "    model = LinearRegression().fit(X_train, y_train)\n",
        "\n",
        "    tr_score = model.score(X_train,y_train)\n",
        "    test_score = model.score(X_test, y_test)\n",
        "    print(f\"학습용 :{10-i}, 테스트용 :{i}\")\n",
        "    print(\"학습용 :{}, 테스트용 :{}\".format(tr_score, test_score))\n",
        "    \n",
        "    pred = model.predict(X_test)\n",
        "    mse_val = np.sum( (y_test - pred)**2 ) / len(pred)\n",
        "    print(\"mse value :{}\".format(mse_val))\n",
        "    rmse_val = mse_val ** 0.5\n",
        "    print(\"rmse value :{}\".format(rmse_val))"
      ],
      "id": "e5c7a265",
      "execution_count": null,
      "outputs": [
        {
          "name": "stdout",
          "output_type": "stream",
          "text": [
            "학습용 :9, 테스트용 :1\n",
            "학습용 :0.7375152736886281, 테스트용 :0.7598135533532498\n",
            "mse value :14.995852876582495\n",
            "rmse value :3.872447917865713\n",
            "학습용 :8, 테스트용 :2\n",
            "학습용 :0.7508856358979673, 테스트용 :0.6687594935356329\n",
            "mse value :24.291119474973456\n",
            "rmse value :4.928602182665331\n",
            "학습용 :7, 테스트용 :3\n",
            "학습용 :0.7434997532004697, 테스트용 :0.711226005748496\n",
            "mse value :21.517444231176995\n",
            "rmse value :4.638689926172797\n",
            "학습용 :6, 테스트용 :4\n",
            "학습용 :0.747199884740759, 테스트용 :0.7125140936111221\n",
            "mse value :21.832709989577456\n",
            "rmse value :4.6725485540096265\n",
            "학습용 :5, 테스트용 :5\n",
            "학습용 :0.7719887864238001, 테스트용 :0.6896917482875748\n",
            "mse value :25.175390536117014\n",
            "rmse value :5.017508399207421\n"
          ]
        }
      ]
    },
    {
      "cell_type": "code",
      "metadata": {
        "id": "ccccc70c"
      },
      "source": [
        "import mglearn"
      ],
      "id": "ccccc70c",
      "execution_count": null,
      "outputs": []
    },
    {
      "cell_type": "code",
      "metadata": {
        "id": "bf2e4431"
      },
      "source": [
        "from sklearn.datasets import load_boston\n",
        "from sklearn.model_selection import train_test_split\n",
        "from sklearn.preprocessing import MinMaxScaler, PolynomialFeatures\n",
        "from sklearn.linear_model import Lasso, Ridge\n",
        "import pandas as pd"
      ],
      "id": "bf2e4431",
      "execution_count": null,
      "outputs": []
    },
    {
      "cell_type": "code",
      "metadata": {
        "id": "b2659b5b"
      },
      "source": [
        "### 한글 폰트 설정\n",
        "import matplotlib\n",
        "from matplotlib import font_manager, rc\n",
        "import matplotlib.pyplot as plt\n",
        "import platform\n",
        "\n",
        "path = \"C:/Windows/Fonts/malgun.ttf\"\n",
        "if platform.system() == \"Windows\":\n",
        "    font_name = font_manager.FontProperties(fname=path).get_name()\n",
        "    rc('font', family=font_name)\n",
        "elif platform.system()==\"Darwin\":\n",
        "    rc('font', family='AppleGothic')\n",
        "else:\n",
        "    print(\"Unknown System\")\n",
        "    \n",
        "matplotlib.rcParams['axes.unicode_minus'] = False\n",
        "\n",
        "%matplotlib inline"
      ],
      "id": "b2659b5b",
      "execution_count": null,
      "outputs": []
    },
    {
      "cell_type": "code",
      "metadata": {
        "id": "f67b885e",
        "outputId": "27d5870c-8f34-42e2-9b05-e28cc8b75bf4"
      },
      "source": [
        "boston = load_boston()\n",
        "print(type(boston.data), type(boston.target))\n",
        "\n",
        "df_boston = pd.DataFrame(boston.data, columns=boston.feature_names)\n",
        "df_boston['price'] = pd.Series(boston.target)\n",
        "df_boston.head()"
      ],
      "id": "f67b885e",
      "execution_count": null,
      "outputs": [
        {
          "name": "stdout",
          "output_type": "stream",
          "text": [
            "<class 'numpy.ndarray'> <class 'numpy.ndarray'>\n"
          ]
        },
        {
          "data": {
            "text/html": [
              "<div>\n",
              "<style scoped>\n",
              "    .dataframe tbody tr th:only-of-type {\n",
              "        vertical-align: middle;\n",
              "    }\n",
              "\n",
              "    .dataframe tbody tr th {\n",
              "        vertical-align: top;\n",
              "    }\n",
              "\n",
              "    .dataframe thead th {\n",
              "        text-align: right;\n",
              "    }\n",
              "</style>\n",
              "<table border=\"1\" class=\"dataframe\">\n",
              "  <thead>\n",
              "    <tr style=\"text-align: right;\">\n",
              "      <th></th>\n",
              "      <th>CRIM</th>\n",
              "      <th>ZN</th>\n",
              "      <th>INDUS</th>\n",
              "      <th>CHAS</th>\n",
              "      <th>NOX</th>\n",
              "      <th>RM</th>\n",
              "      <th>AGE</th>\n",
              "      <th>DIS</th>\n",
              "      <th>RAD</th>\n",
              "      <th>TAX</th>\n",
              "      <th>PTRATIO</th>\n",
              "      <th>B</th>\n",
              "      <th>LSTAT</th>\n",
              "      <th>price</th>\n",
              "    </tr>\n",
              "  </thead>\n",
              "  <tbody>\n",
              "    <tr>\n",
              "      <th>0</th>\n",
              "      <td>0.00632</td>\n",
              "      <td>18.0</td>\n",
              "      <td>2.31</td>\n",
              "      <td>0.0</td>\n",
              "      <td>0.538</td>\n",
              "      <td>6.575</td>\n",
              "      <td>65.2</td>\n",
              "      <td>4.0900</td>\n",
              "      <td>1.0</td>\n",
              "      <td>296.0</td>\n",
              "      <td>15.3</td>\n",
              "      <td>396.90</td>\n",
              "      <td>4.98</td>\n",
              "      <td>24.0</td>\n",
              "    </tr>\n",
              "    <tr>\n",
              "      <th>1</th>\n",
              "      <td>0.02731</td>\n",
              "      <td>0.0</td>\n",
              "      <td>7.07</td>\n",
              "      <td>0.0</td>\n",
              "      <td>0.469</td>\n",
              "      <td>6.421</td>\n",
              "      <td>78.9</td>\n",
              "      <td>4.9671</td>\n",
              "      <td>2.0</td>\n",
              "      <td>242.0</td>\n",
              "      <td>17.8</td>\n",
              "      <td>396.90</td>\n",
              "      <td>9.14</td>\n",
              "      <td>21.6</td>\n",
              "    </tr>\n",
              "    <tr>\n",
              "      <th>2</th>\n",
              "      <td>0.02729</td>\n",
              "      <td>0.0</td>\n",
              "      <td>7.07</td>\n",
              "      <td>0.0</td>\n",
              "      <td>0.469</td>\n",
              "      <td>7.185</td>\n",
              "      <td>61.1</td>\n",
              "      <td>4.9671</td>\n",
              "      <td>2.0</td>\n",
              "      <td>242.0</td>\n",
              "      <td>17.8</td>\n",
              "      <td>392.83</td>\n",
              "      <td>4.03</td>\n",
              "      <td>34.7</td>\n",
              "    </tr>\n",
              "    <tr>\n",
              "      <th>3</th>\n",
              "      <td>0.03237</td>\n",
              "      <td>0.0</td>\n",
              "      <td>2.18</td>\n",
              "      <td>0.0</td>\n",
              "      <td>0.458</td>\n",
              "      <td>6.998</td>\n",
              "      <td>45.8</td>\n",
              "      <td>6.0622</td>\n",
              "      <td>3.0</td>\n",
              "      <td>222.0</td>\n",
              "      <td>18.7</td>\n",
              "      <td>394.63</td>\n",
              "      <td>2.94</td>\n",
              "      <td>33.4</td>\n",
              "    </tr>\n",
              "    <tr>\n",
              "      <th>4</th>\n",
              "      <td>0.06905</td>\n",
              "      <td>0.0</td>\n",
              "      <td>2.18</td>\n",
              "      <td>0.0</td>\n",
              "      <td>0.458</td>\n",
              "      <td>7.147</td>\n",
              "      <td>54.2</td>\n",
              "      <td>6.0622</td>\n",
              "      <td>3.0</td>\n",
              "      <td>222.0</td>\n",
              "      <td>18.7</td>\n",
              "      <td>396.90</td>\n",
              "      <td>5.33</td>\n",
              "      <td>36.2</td>\n",
              "    </tr>\n",
              "  </tbody>\n",
              "</table>\n",
              "</div>"
            ],
            "text/plain": [
              "      CRIM    ZN  INDUS  CHAS    NOX     RM   AGE     DIS  RAD    TAX  \\\n",
              "0  0.00632  18.0   2.31   0.0  0.538  6.575  65.2  4.0900  1.0  296.0   \n",
              "1  0.02731   0.0   7.07   0.0  0.469  6.421  78.9  4.9671  2.0  242.0   \n",
              "2  0.02729   0.0   7.07   0.0  0.469  7.185  61.1  4.9671  2.0  242.0   \n",
              "3  0.03237   0.0   2.18   0.0  0.458  6.998  45.8  6.0622  3.0  222.0   \n",
              "4  0.06905   0.0   2.18   0.0  0.458  7.147  54.2  6.0622  3.0  222.0   \n",
              "\n",
              "   PTRATIO       B  LSTAT  price  \n",
              "0     15.3  396.90   4.98   24.0  \n",
              "1     17.8  396.90   9.14   21.6  \n",
              "2     17.8  392.83   4.03   34.7  \n",
              "3     18.7  394.63   2.94   33.4  \n",
              "4     18.7  396.90   5.33   36.2  "
            ]
          },
          "execution_count": 36,
          "metadata": {},
          "output_type": "execute_result"
        }
      ]
    },
    {
      "cell_type": "code",
      "metadata": {
        "id": "24d593ab",
        "outputId": "a5fdda6a-3936-4496-a89b-42d933373931"
      },
      "source": [
        "df_boston.info()"
      ],
      "id": "24d593ab",
      "execution_count": null,
      "outputs": [
        {
          "name": "stdout",
          "output_type": "stream",
          "text": [
            "<class 'pandas.core.frame.DataFrame'>\n",
            "RangeIndex: 506 entries, 0 to 505\n",
            "Data columns (total 14 columns):\n",
            " #   Column   Non-Null Count  Dtype  \n",
            "---  ------   --------------  -----  \n",
            " 0   CRIM     506 non-null    float64\n",
            " 1   ZN       506 non-null    float64\n",
            " 2   INDUS    506 non-null    float64\n",
            " 3   CHAS     506 non-null    float64\n",
            " 4   NOX      506 non-null    float64\n",
            " 5   RM       506 non-null    float64\n",
            " 6   AGE      506 non-null    float64\n",
            " 7   DIS      506 non-null    float64\n",
            " 8   RAD      506 non-null    float64\n",
            " 9   TAX      506 non-null    float64\n",
            " 10  PTRATIO  506 non-null    float64\n",
            " 11  B        506 non-null    float64\n",
            " 12  LSTAT    506 non-null    float64\n",
            " 13  price    506 non-null    float64\n",
            "dtypes: float64(14)\n",
            "memory usage: 55.5 KB\n"
          ]
        }
      ]
    },
    {
      "cell_type": "code",
      "metadata": {
        "id": "5b2d7232",
        "outputId": "c49cfcab-5e4b-44d5-aa21-1f68a42848e0"
      },
      "source": [
        "df_boston.columns"
      ],
      "id": "5b2d7232",
      "execution_count": null,
      "outputs": [
        {
          "data": {
            "text/plain": [
              "Index(['CRIM', 'ZN', 'INDUS', 'CHAS', 'NOX', 'RM', 'AGE', 'DIS', 'RAD', 'TAX',\n",
              "       'PTRATIO', 'B', 'LSTAT', 'price'],\n",
              "      dtype='object')"
            ]
          },
          "execution_count": 38,
          "metadata": {},
          "output_type": "execute_result"
        }
      ]
    },
    {
      "cell_type": "code",
      "metadata": {
        "id": "0af30c96",
        "outputId": "df7f1802-0131-4ed3-a307-cefe3421a529"
      },
      "source": [
        "# 입력과 출력 - X, y\n",
        "X = df_boston.loc[ :, 'CRIM':'LSTAT']\n",
        "y = df_boston['price']\n",
        "\n",
        "print(X.shape, y.shape)\n",
        "print(df_boston['CRIM'].min(), df_boston['CRIM'].max())\n",
        "print(df_boston['NOX'].min(), df_boston['NOX'].max())\n",
        "print(df_boston['INDUS'].min(), df_boston['INDUS'].max())"
      ],
      "id": "0af30c96",
      "execution_count": null,
      "outputs": [
        {
          "name": "stdout",
          "output_type": "stream",
          "text": [
            "(506, 13) (506,)\n",
            "0.00632 88.9762\n",
            "0.385 0.871\n",
            "0.46 27.74\n"
          ]
        }
      ]
    },
    {
      "cell_type": "code",
      "metadata": {
        "id": "90c45260",
        "outputId": "5cfb2573-bbec-41fe-fd8e-815a7558e3c0"
      },
      "source": [
        "### 데이터 정규화 - 데이터의 값의 범위 0~... -> 0~1\n",
        "nor_X = MinMaxScaler().fit_transform(X)\n",
        "\n",
        "print(type(nor_X))\n",
        "print( np.min(nor_X[0]), np.max(nor_X[0]))\n",
        "print( np.min(nor_X[1]), np.max(nor_X[1]))"
      ],
      "id": "90c45260",
      "execution_count": null,
      "outputs": [
        {
          "name": "stdout",
          "output_type": "stream",
          "text": [
            "<class 'numpy.ndarray'>\n",
            "0.0 0.9999999999999999\n",
            "0.0 0.9999999999999999\n"
          ]
        }
      ]
    },
    {
      "cell_type": "code",
      "metadata": {
        "id": "59b5111a",
        "outputId": "2a029b8c-907a-4728-f1ff-7c0741f96a3a"
      },
      "source": [
        "print(X.shape, y.shape)\n",
        "\n",
        "ex_X = PolynomialFeatures(degree=2, include_bias=False).fit_transform(nor_X)\n",
        "\n",
        "print(ex_X.shape, y.shape)"
      ],
      "id": "59b5111a",
      "execution_count": null,
      "outputs": [
        {
          "name": "stdout",
          "output_type": "stream",
          "text": [
            "(506, 13) (506,)\n",
            "(506, 104) (506,)\n"
          ]
        }
      ]
    },
    {
      "cell_type": "code",
      "metadata": {
        "id": "6e774386"
      },
      "source": [
        "# a b c => a b c a**2 b**2 c**2 a*b a*c c*a ..."
      ],
      "id": "6e774386",
      "execution_count": null,
      "outputs": []
    },
    {
      "cell_type": "code",
      "metadata": {
        "id": "cdcfb71e",
        "outputId": "e1c8eab4-53ed-4d86-8804-1682294737b3"
      },
      "source": [
        "X_train, X_test, y_train, y_test = train_test_split(X, y, random_state=42)\n",
        "model = LinearRegression().fit(X_train, y_train)\n",
        "print(model.score(X_train, y_train), model.score(X_test, y_test))"
      ],
      "id": "cdcfb71e",
      "execution_count": null,
      "outputs": [
        {
          "name": "stdout",
          "output_type": "stream",
          "text": [
            "0.7480872598623441 0.6844267283527123\n"
          ]
        }
      ]
    },
    {
      "cell_type": "code",
      "metadata": {
        "id": "b7b10263"
      },
      "source": [
        "### feature를 많이 만든다음 계산한 것."
      ],
      "id": "b7b10263",
      "execution_count": null,
      "outputs": []
    },
    {
      "cell_type": "code",
      "metadata": {
        "id": "07f62512"
      },
      "source": [
        "X_train, X_test, y_train, y_test = train_test_split(ex_X, y, random_state=42)"
      ],
      "id": "07f62512",
      "execution_count": null,
      "outputs": []
    },
    {
      "cell_type": "code",
      "metadata": {
        "id": "5043b226",
        "outputId": "862a1709-1a42-4170-a009-31ce008173c1"
      },
      "source": [
        "ex_model = LinearRegression().fit(X_train, y_train)\n",
        "print(ex_model.score(X_train, y_train), ex_model.score(X_test, y_test))"
      ],
      "id": "5043b226",
      "execution_count": null,
      "outputs": [
        {
          "name": "stdout",
          "output_type": "stream",
          "text": [
            "0.9448313975211594 0.7758378393351691\n"
          ]
        }
      ]
    },
    {
      "cell_type": "code",
      "metadata": {
        "id": "b067e5dd"
      },
      "source": [
        "from sklearn.linear_model import Lasso, Ridge"
      ],
      "id": "b067e5dd",
      "execution_count": null,
      "outputs": []
    },
    {
      "cell_type": "code",
      "metadata": {
        "id": "8396e4da",
        "outputId": "657b5e62-519e-488c-fb7a-b818b52c502c"
      },
      "source": [
        "## 라소회귀\n",
        "lasso_m = Lasso(alpha=0.01).fit(X_train, y_train)\n",
        "print(lasso_m.score(X_train, y_train), lasso_m.score(X_test, y_test))"
      ],
      "id": "8396e4da",
      "execution_count": null,
      "outputs": [
        {
          "name": "stdout",
          "output_type": "stream",
          "text": [
            "0.8865033777946089 0.80359225764207\n"
          ]
        },
        {
          "name": "stderr",
          "output_type": "stream",
          "text": [
            "C:\\Users\\toto\\anaconda3\\lib\\site-packages\\sklearn\\linear_model\\_coordinate_descent.py:530: ConvergenceWarning: Objective did not converge. You might want to increase the number of iterations. Duality gap: 6.848133364149362, tolerance: 3.361037625329815\n",
            "  model = cd_fast.enet_coordinate_descent(\n"
          ]
        }
      ]
    },
    {
      "cell_type": "code",
      "metadata": {
        "id": "d9c66723",
        "outputId": "1b5884cd-594f-4326-d912-915ca8615696"
      },
      "source": [
        "## 리지회귀\n",
        "ridge_m = Ridge(alpha=0.01).fit(X_train, y_train)\n",
        "print(ridge_m.score(X_train, y_train), ridge_m.score(X_test, y_test))"
      ],
      "id": "d9c66723",
      "execution_count": null,
      "outputs": [
        {
          "name": "stdout",
          "output_type": "stream",
          "text": [
            "0.9357645261988872 0.8144760713008208\n"
          ]
        }
      ]
    },
    {
      "cell_type": "markdown",
      "metadata": {
        "id": "00e55185"
      },
      "source": [
        "### 라소회귀(L1) - w값을 0으로 만드는 것이 생긴다."
      ],
      "id": "00e55185"
    },
    {
      "cell_type": "code",
      "metadata": {
        "id": "011c7028",
        "outputId": "db737f88-9d0d-4fb2-d738-c9718637208a"
      },
      "source": [
        "lasso = Lasso(alpha=1).fit(X_train, y_train)\n",
        "print(\"학습용 데이터 세트 점수 : {:.2f}\".format(lasso.score(X_train, y_train)))\n",
        "print(\"테스트 데이터 세트 점수 : {:.2f}\".format(lasso.score(X_test, y_test)))"
      ],
      "id": "011c7028",
      "execution_count": null,
      "outputs": [
        {
          "name": "stdout",
          "output_type": "stream",
          "text": [
            "학습용 데이터 세트 점수 : 0.27\n",
            "테스트 데이터 세트 점수 : 0.26\n"
          ]
        }
      ]
    },
    {
      "cell_type": "code",
      "metadata": {
        "id": "42659598",
        "outputId": "34ccd493-091a-40ff-a744-dec426307d39"
      },
      "source": [
        "lasso00001 = Lasso(alpha=0.0001).fit(X_train, y_train)\n",
        "print(\"학습용 데이터 점수 : {:.2f}\".format(lasso00001.score(X_train, y_train)))\n",
        "print(\"테스트 데이터 점수 : {:.2f}\".format(lasso00001.score(X_test, y_test)))\n",
        "print(\"사용한 특성의 수 : \", np.sum(lasso00001.coef_ != 0))"
      ],
      "id": "42659598",
      "execution_count": null,
      "outputs": [
        {
          "name": "stdout",
          "output_type": "stream",
          "text": [
            "학습용 데이터 점수 : 0.94\n",
            "테스트 데이터 점수 : 0.78\n",
            "사용한 특성의 수 :  102\n"
          ]
        },
        {
          "name": "stderr",
          "output_type": "stream",
          "text": [
            "C:\\Users\\toto\\anaconda3\\lib\\site-packages\\sklearn\\linear_model\\_coordinate_descent.py:530: ConvergenceWarning: Objective did not converge. You might want to increase the number of iterations. Duality gap: 1061.5581359471444, tolerance: 3.361037625329815\n",
            "  model = cd_fast.enet_coordinate_descent(\n"
          ]
        }
      ]
    },
    {
      "cell_type": "code",
      "metadata": {
        "id": "d5df3626",
        "outputId": "aff29ef0-3a6c-4722-c496-28e884b3b67c"
      },
      "source": [
        "lasso001 = Lasso(alpha=0.01, max_iter=100000).fit(X_train, y_train)\n",
        "print(\"학습용 데이터 세트 점수 : \",lasso001.score(X_train, y_train))\n",
        "print(\"테스트 데이터 세트 점수 : \",lasso001.score(X_test, y_test))\n",
        "print(\"사용한 특성의 수 : \", np.sum(lasso001.coef_ != 0))"
      ],
      "id": "d5df3626",
      "execution_count": null,
      "outputs": [
        {
          "name": "stdout",
          "output_type": "stream",
          "text": [
            "학습용 데이터 세트 점수 :  0.8864717420585476\n",
            "테스트 데이터 세트 점수 :  0.8036004116583615\n",
            "사용한 특성의 수 :  34\n"
          ]
        }
      ]
    },
    {
      "cell_type": "code",
      "metadata": {
        "id": "5e76104d",
        "outputId": "ab560fab-ae6f-4faf-cecc-7b40c99f4f15"
      },
      "source": [
        "lasso01 = Lasso(alpha=0.1, max_iter=100000).fit(X_train, y_train)\n",
        "print(\"학습용 데이터 세트 점수 : \",lasso01.score(X_train, y_train))\n",
        "print(\"테스트 데이터 세트 점수 : \",lasso01.score(X_test, y_test))\n",
        "print(\"사용한 특성의 수 : \", np.sum(lasso01.coef_ != 0))"
      ],
      "id": "5e76104d",
      "execution_count": null,
      "outputs": [
        {
          "name": "stdout",
          "output_type": "stream",
          "text": [
            "학습용 데이터 세트 점수 :  0.7471467575228325\n",
            "테스트 데이터 세트 점수 :  0.6986891802234085\n",
            "사용한 특성의 수 :  12\n"
          ]
        }
      ]
    },
    {
      "cell_type": "code",
      "metadata": {
        "id": "e21b44d6",
        "outputId": "8d59e86f-53e3-4b22-9c2e-256f4f10e0e8"
      },
      "source": [
        "lasso10 = Lasso(alpha=10, max_iter=100000).fit(X_train, y_train)\n",
        "print(\"학습용 데이터 세트 점수 : \",lasso10.score(X_train, y_train))\n",
        "print(\"테스트 데이터 세트 점수 : \",lasso10.score(X_test, y_test))\n",
        "print(\"사용한 특성의 수 : \", np.sum(lasso10.coef_ != 0))"
      ],
      "id": "e21b44d6",
      "execution_count": null,
      "outputs": [
        {
          "name": "stdout",
          "output_type": "stream",
          "text": [
            "학습용 데이터 세트 점수 :  0.0\n",
            "테스트 데이터 세트 점수 :  -0.03189647654769301\n",
            "사용한 특성의 수 :  0\n"
          ]
        }
      ]
    },
    {
      "cell_type": "code",
      "metadata": {
        "id": "1b97d06a",
        "outputId": "94e9e129-24ac-4fe2-e26b-6d7e5f5c141e"
      },
      "source": [
        "lasso = Lasso(alpha=1).fit(X_train, y_train)\n",
        "\n",
        "plt.figure(figsize=(10,6))\n",
        "# plt.plot(lasso00001.coef_, \"r^\", label=\"Lasso alpha=0.0001\")\n",
        "plt.plot(lasso001.coef_, 'go', label=\"Lasso alpha=0.01\")\n",
        "plt.plot(lasso01.coef_, 'yv', label=\"Lasso alpha=0.1\")\n",
        "plt.plot(lasso.coef_, 'rv', label=\"Lasso alpha=1\")\n",
        "plt.plot(lasso10.coef_, \"bs\", label=\"Lasso alpha=10\")\n",
        "\n",
        "plt.xlabel(\"계수 목록\")\n",
        "plt.ylabel(\"계수 크기\")\n",
        "# plt.ylim(-25, 25)\n",
        "plt.legend(ncol=2, loc=(0,1.05))\n",
        "plt.show()"
      ],
      "id": "1b97d06a",
      "execution_count": null,
      "outputs": [
        {
          "data": {
            "image/png": "[encoded data removed]",
            "text/plain": [
              "<Figure size 720x432 with 1 Axes>"
            ]
          },
          "metadata": {
            "needs_background": "light"
          },
          "output_type": "display_data"
        }
      ]
    },
    {
      "cell_type": "markdown",
      "metadata": {
        "id": "e5715eb9"
      },
      "source": [
        "### 릿지 회귀(L2) - w값을 0으로 가깝게 하지만, 0으로 하는 것은 없다."
      ],
      "id": "e5715eb9"
    },
    {
      "cell_type": "code",
      "metadata": {
        "id": "b50912ee",
        "outputId": "9152f129-e27e-4887-fdbc-6f832e3bc83e"
      },
      "source": [
        "ridge00001 = Ridge(alpha=0.0001).fit(X_train, y_train)\n",
        "print(\"학습용 데이터 점수 : {:.2f}\".format(ridge00001.score(X_train, y_train)))\n",
        "print(\"테스트 데이터 점수 : {:.2f}\".format(ridge00001.score(X_test, y_test)))\n",
        "print(\"사용한 특성의 수 : \", np.sum(ridge00001.coef_ != 0))"
      ],
      "id": "b50912ee",
      "execution_count": null,
      "outputs": [
        {
          "name": "stdout",
          "output_type": "stream",
          "text": [
            "학습용 데이터 점수 : 0.94\n",
            "테스트 데이터 점수 : 0.79\n",
            "사용한 특성의 수 :  104\n"
          ]
        }
      ]
    },
    {
      "cell_type": "code",
      "metadata": {
        "id": "7c20d90a",
        "outputId": "6e2b3a37-fee7-404c-971a-a0707fe3c1bd"
      },
      "source": [
        "ridge0001 = Ridge(alpha=0.001).fit(X_train, y_train)\n",
        "print(\"학습용 데이터 점수 : {:.2f}\".format(ridge0001.score(X_train, y_train)))\n",
        "print(\"테스트 데이터 점수 : {:.2f}\".format(ridge0001.score(X_test, y_test)))\n",
        "print(\"사용한 특성의 수 : \", np.sum(ridge0001.coef_ != 0))"
      ],
      "id": "7c20d90a",
      "execution_count": null,
      "outputs": [
        {
          "name": "stdout",
          "output_type": "stream",
          "text": [
            "학습용 데이터 점수 : 0.94\n",
            "테스트 데이터 점수 : 0.81\n",
            "사용한 특성의 수 :  104\n"
          ]
        }
      ]
    },
    {
      "cell_type": "code",
      "metadata": {
        "id": "b1847828",
        "outputId": "d1aaff90-d4e9-4fc6-8fcb-f36b8e4f6cc6"
      },
      "source": [
        "ridge001 = Ridge(alpha=0.01).fit(X_train, y_train)\n",
        "print(\"학습용 데이터 점수 : {:.2f}\".format(ridge001.score(X_train, y_train)))\n",
        "print(\"테스트 데이터 점수 : {:.2f}\".format(ridge001.score(X_test, y_test)))\n",
        "print(\"사용한 특성의 수 : \", np.sum(ridge001.coef_ != 0))"
      ],
      "id": "b1847828",
      "execution_count": null,
      "outputs": [
        {
          "name": "stdout",
          "output_type": "stream",
          "text": [
            "학습용 데이터 점수 : 0.94\n",
            "테스트 데이터 점수 : 0.81\n",
            "사용한 특성의 수 :  104\n"
          ]
        }
      ]
    },
    {
      "cell_type": "code",
      "metadata": {
        "id": "4c4e87b6",
        "outputId": "e590bad0-aa13-4417-9d2c-58de338750ec"
      },
      "source": [
        "ridge01 = Ridge(alpha=0.1).fit(X_train, y_train)\n",
        "print(\"학습용 데이터 점수 : {:.2f}\".format(ridge01.score(X_train, y_train)))\n",
        "print(\"테스트 데이터 점수 : {:.2f}\".format(ridge01.score(X_test, y_test)))\n",
        "print(\"사용한 특성의 수 : \", np.sum(ridge01.coef_ != 0))"
      ],
      "id": "4c4e87b6",
      "execution_count": null,
      "outputs": [
        {
          "name": "stdout",
          "output_type": "stream",
          "text": [
            "학습용 데이터 점수 : 0.92\n",
            "테스트 데이터 점수 : 0.82\n",
            "사용한 특성의 수 :  104\n"
          ]
        }
      ]
    },
    {
      "cell_type": "code",
      "metadata": {
        "id": "16b1e028",
        "outputId": "b2754c09-d685-4343-aa00-4d0a97fb57b6"
      },
      "source": [
        "ridge1 = Ridge(alpha=1).fit(X_train, y_train)\n",
        "print(\"학습용 데이터 점수 : {:.2f}\".format(ridge1.score(X_train, y_train)))\n",
        "print(\"테스트 데이터 점수 : {:.2f}\".format(ridge1.score(X_test, y_test)))\n",
        "print(\"사용한 특성의 수 : \", np.sum(ridge1.coef_ != 0))"
      ],
      "id": "16b1e028",
      "execution_count": null,
      "outputs": [
        {
          "name": "stdout",
          "output_type": "stream",
          "text": [
            "학습용 데이터 점수 : 0.87\n",
            "테스트 데이터 점수 : 0.81\n",
            "사용한 특성의 수 :  104\n"
          ]
        }
      ]
    },
    {
      "cell_type": "code",
      "metadata": {
        "id": "ee59fec8",
        "outputId": "5df430c8-944c-466d-bed0-66fb3c8702b3"
      },
      "source": [
        "ridge10 = Ridge(alpha=10).fit(X_train, y_train)\n",
        "print(\"학습용 데이터 점수 : {:.2f}\".format(ridge10.score(X_train, y_train)))\n",
        "print(\"테스트 데이터 점수 : {:.2f}\".format(ridge10.score(X_test, y_test)))\n",
        "print(\"사용한 특성의 수 : \", np.sum(ridge10.coef_ != 0))"
      ],
      "id": "ee59fec8",
      "execution_count": null,
      "outputs": [
        {
          "name": "stdout",
          "output_type": "stream",
          "text": [
            "학습용 데이터 점수 : 0.77\n",
            "테스트 데이터 점수 : 0.73\n",
            "사용한 특성의 수 :  104\n"
          ]
        }
      ]
    },
    {
      "cell_type": "code",
      "metadata": {
        "id": "98490c23",
        "outputId": "2031b27a-948f-4351-8998-dd5afe106f79"
      },
      "source": [
        "plt.figure(figsize=(10,6))\n",
        "#plt.plot(ridge00001.coef_, \"r^\", label=\"ridge alpha=0.0001\")\n",
        "#plt.plot(ridge0001.coef_, \"g^\", label=\"ridge alpha=0.001\")\n",
        "plt.plot(ridge001.coef_, \"b^\", label=\"ridge alpha=0.01\")\n",
        "plt.plot(ridge01.coef_, 'yo', label=\"ridge alpha=0.1\")\n",
        "plt.plot(ridge1.coef_, 'rv', label=\"ridge alpha=1\")\n",
        "plt.plot(ridge10.coef_, \"gs\", label=\"ridge alpha=10\")\n",
        "\n",
        "plt.xlabel(\"계수 목록\")\n",
        "plt.ylabel(\"계수 크기\")\n",
        "# plt.ylim(-25, 25)\n",
        "plt.legend(ncol=2, loc=(0,1.05))\n",
        "plt.show()"
      ],
      "id": "98490c23",
      "execution_count": null,
      "outputs": [
        {
          "data": {
            "image/png": "[encoded data removed]",
            "text/plain": [
              "<Figure size 720x432 with 1 Axes>"
            ]
          },
          "metadata": {
            "needs_background": "light"
          },
          "output_type": "display_data"
        }
      ]
    },
    {
      "cell_type": "code",
      "metadata": {
        "id": "b97336ae"
      },
      "source": [
        ""
      ],
      "id": "b97336ae",
      "execution_count": null,
      "outputs": []
    }
  ]
}